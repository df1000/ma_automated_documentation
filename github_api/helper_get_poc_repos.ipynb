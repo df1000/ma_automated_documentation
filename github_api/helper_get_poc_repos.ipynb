{
 "cells": [
  {
   "cell_type": "markdown",
   "id": "89deacfa",
   "metadata": {},
   "source": [
    "**Author:** Lisa Wallner  \n",
    "**Description:** In this notebook the proof of concept GitHub repositories are downloaded a ZIP file and add to the other repository data for further processing.  "
   ]
  },
  {
   "cell_type": "code",
   "execution_count": null,
   "id": "e4ed479d",
   "metadata": {},
   "outputs": [],
   "source": [
    "# Hint: If lines are created with support of a Large Language Model or the code is taken from another source, you find following hint at the end of the line:\n",
    "#       (generated with Microsoft Copilot) or (source: link_to_source)"
   ]
  },
  {
   "cell_type": "code",
   "execution_count": null,
   "id": "a73c313f",
   "metadata": {},
   "outputs": [],
   "source": [
    "import requests # package for api requests\n",
    "import json # package to work with .json\n",
    "from datetime import datetime # package for timestamps\n",
    "import time # package to set time ranges\n",
    "import random # package to work with random numbers\n",
    "from dotenv import load_dotenv\n",
    "import os # package for using operating system"
   ]
  },
  {
   "cell_type": "code",
   "execution_count": 7,
   "id": "283d71ba",
   "metadata": {},
   "outputs": [],
   "source": [
    "# load .env file\n",
    "load_dotenv(override=True)\n",
    "\n",
    "# set credentials and parameters for api requests\n",
    "ACCESS_TOKEN = os.environ['GIT_TOKEN'] # get token from .env\n",
    "PAYLOAD = {}\n",
    "HEADERS = {\n",
    "  'Accept': 'application/vnd.github+json',\n",
    "  'X-GitHub-Api-Version': '2022-11-28',\n",
    "  'Authorization': f'Bearer {ACCESS_TOKEN}'\n",
    "}\n"
   ]
  },
  {
   "cell_type": "code",
   "execution_count": 8,
   "id": "11a76b74",
   "metadata": {},
   "outputs": [],
   "source": [
    "def set_sleeper(number=None):\n",
    "    '''\n",
    "    Function which pauses execution of script for a specified or random amount of time.\n",
    "\n",
    "    Args:\n",
    "        number (optional): The number of seconds to pause. Defaults to None.\n",
    "\n",
    "    Return:\n",
    "        None\n",
    "    '''\n",
    "    if number != None: # check if number is not None\n",
    "        time.sleep(number) # scrpipt pause for given number\n",
    "    random_number = random.randint(3,8) # if not set time to random number\n",
    "    time.sleep(random_number) # script pause for random number"
   ]
  },
  {
   "cell_type": "code",
   "execution_count": 10,
   "id": "858d1229",
   "metadata": {},
   "outputs": [],
   "source": [
    "def download_github_repo(repo_owner, repo_name, refs):\n",
    "    '''\n",
    "    Function which downloads the GitHub repository as ZIP file if the number of files is smaller than 1000.\n",
    "    https://docs.github.com/en/rest/repos/contents?apiVersion=2022-11-28#download-a-repository-archive-zip\n",
    "    The GitHub api has limit of 1000 files and 100 MB/file for a repository.\n",
    "    https://docs.github.com/en/rest/repos/contents?apiVersion=2022-11-28\n",
    "\n",
    "    Args:\n",
    "        repo_owner: Owner of the GitHub repository.\n",
    "        repo_name: Name of the GitHub repository.\n",
    "        refs: Name of branch.\n",
    "\n",
    "    Return:\n",
    "        None\n",
    "    '''  \n",
    "    url = f'https://api.github.com/repos/{repo_owner}/{repo_name}/zipball/{refs}' # url to download repo a zip file for specific branch (refs)\n",
    "    response = requests.get(url, stream=True, headers=HEADERS, data=PAYLOAD) # send GET request (generated with Microsoft Copilot)\n",
    "    if response.status_code == 200: # check if request was successful --> status_code == 200\n",
    "        timestamp = datetime.now(tz=None).strftime('%Y-%m-%d_%H-%M-%S') # set timestamp\n",
    "        with open(f\"../data/repo_data_zip/{repo_owner}_{repo_name}_{timestamp}.zip\", \"wb\") as file: # create zip file for repo\n",
    "            for chunk in response.iter_content(chunk_size=8192): # iterate over each chunk (chunk_size=8192) in response data to prevent memory constraints\n",
    "                file.write(chunk) # write chunk to zip file\n",
    "        print(f\"Repository '{repo_name}' has been downloaded as a ZIP file.\")\n",
    "    else:\n",
    "        if response.status_code != 200: # check if status_code is not 200 to prevent time outs and banning from api\n",
    "            print(f'Error with response. Check out status_code {response.status_code}!')\n",
    "            rate_limit_remaining = int(response.headers.get('X-RateLimit-Remaining')) # get remaining rate limit for requests\n",
    "            if rate_limit_remaining <= 1: # if rate limits are <= 1 call set_sleeper func and return None\n",
    "                set_sleeper(61)"
   ]
  },
  {
   "cell_type": "code",
   "execution_count": null,
   "id": "212966d6",
   "metadata": {},
   "outputs": [],
   "source": [
    "# list with sublists which contain necessary information to get ZIP files of proof of concept repositories\n",
    "repos = [['langchain-ai', 'local-deep-researcher', 'main'], ['Taniiishk', 'Rock-Paper-Scissors-Game', 'main']]"
   ]
  },
  {
   "cell_type": "code",
   "execution_count": 18,
   "id": "142187d5",
   "metadata": {},
   "outputs": [
    {
     "name": "stdout",
     "output_type": "stream",
     "text": [
      "Repository 'local-deep-researcher' has been downloaded as a ZIP file.\n"
     ]
    }
   ],
   "source": [
    "for repo in repos: # iterate through list repos\n",
    "    download_github_repo(repo_owner=repo[0], repo_name=repo[1], refs=repo[2]) # execute func download_github_repo"
   ]
  },
  {
   "cell_type": "markdown",
   "id": "a5ec2032",
   "metadata": {},
   "source": [
    "Load metadata of the two repositories."
   ]
  },
  {
   "cell_type": "code",
   "execution_count": null,
   "id": "25922a29",
   "metadata": {},
   "outputs": [],
   "source": []
  }
 ],
 "metadata": {
  "kernelspec": {
   "display_name": ".venv",
   "language": "python",
   "name": "python3"
  },
  "language_info": {
   "codemirror_mode": {
    "name": "ipython",
    "version": 3
   },
   "file_extension": ".py",
   "mimetype": "text/x-python",
   "name": "python",
   "nbconvert_exporter": "python",
   "pygments_lexer": "ipython3",
   "version": "3.12.3"
  }
 },
 "nbformat": 4,
 "nbformat_minor": 5
}
