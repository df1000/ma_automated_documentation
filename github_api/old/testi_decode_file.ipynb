{
 "cells": [
  {
   "cell_type": "code",
   "execution_count": null,
   "metadata": {},
   "outputs": [],
   "source": [
    "import requests\n",
    "import json\n",
    "import getpass\n",
    "import base64"
   ]
  },
  {
   "cell_type": "code",
   "execution_count": null,
   "metadata": {},
   "outputs": [
    {
     "name": "stdout",
     "output_type": "stream",
     "text": [
      "{\"name\":\"code_file.py\",\"path\":\"code_file.py\",\"sha\":\"ee15d676e980576746be8cbbe93779ddfd3c9187\",\"size\":2446,\"url\":\"https://api.github.com/repos/Taniiishk/Rock-Paper-Scissors-Game/contents/code_file.py?ref=main\",\"html_url\":\"https://github.com/Taniiishk/Rock-Paper-Scissors-Game/blob/main/code_file.py\",\"git_url\":\"https://api.github.com/repos/Taniiishk/Rock-Paper-Scissors-Game/git/blobs/ee15d676e980576746be8cbbe93779ddfd3c9187\",\"download_url\":\"https://raw.githubusercontent.com/Taniiishk/Rock-Paper-Scissors-Game/main/code_file.py\",\"type\":\"file\",\"content\":\"aW1wb3J0IHRraW50ZXIgYXMgdGsKZnJvbSB0a2ludGVyIGltcG9ydCBQaG90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\\ncm9vdC5tYWlubG9vcCgpCg==\\n\",\"encoding\":\"base64\",\"_links\":{\"self\":\"https://api.github.com/repos/Taniiishk/Rock-Paper-Scissors-Game/contents/code_file.py?ref=main\",\"git\":\"https://api.github.com/repos/Taniiishk/Rock-Paper-Scissors-Game/git/blobs/ee15d676e980576746be8cbbe93779ddfd3c9187\",\"html\":\"https://github.com/Taniiishk/Rock-Paper-Scissors-Game/blob/main/code_file.py\"}}\n"
     ]
    }
   ],
   "source": [
    "ACCESS_TOKEN = getpass.getpass()\n",
    "\n",
    "url = \"https://api.github.com/repos/taniiishk/rock-paper-scissors-game/contents/code_file.py\"\n",
    "\n",
    "payload = {}\n",
    "headers = {\n",
    "  'Accept': 'application/vnd.github+json',\n",
    "  'X-GitHub-Api-Version': '2022-11-28',\n",
    "  'Authorization': f'Bearer {ACCESS_TOKEN}'\n",
    "}\n",
    "\n",
    "response = requests.request(\"GET\", url, headers=headers, data=payload)\n",
    "\n",
    "print(response.text)\n"
   ]
  },
  {
   "cell_type": "code",
   "execution_count": null,
   "metadata": {},
   "outputs": [
    {
     "name": "stdout",
     "output_type": "stream",
     "text": [
      "import tkinter as tk\n",
      "from tkinter import PhotoImage\n",
      "import random\n",
      "\n",
      "root = tk.Tk()\n",
      "root.title(\"Rock Paper Scissors Game\")\n",
      "root.geometry(\"1980x1080\")\n",
      "root.configure(bg=\"#F0F8FF\")  # AliceBlue background\n",
      "\n",
      "# Heading at the top \n",
      "heading = tk.Label(root, text=\"Rock Paper Scissors Game\", font=(\"Helvetica\", 40, \"bold underline\"), fg=\"#2E8B57\", bg=\"#F0F8FF\") \n",
      "heading.place(relx=0.5, rely=0.05, anchor=\"center\")\n",
      "\n",
      "# Main Frame \n",
      "frame = tk.Frame(root, bg=\"#ADD8E6\")\n",
      "frame.place(relx=0.1, rely=0.17, relwidth=0.80, relheight=0.75)\n",
      "\n",
      "label = tk.Label(frame, text=\"Let's play! 🪨 📃 ✂️\", font=(\"Helvetica\", 35, \"bold\"), bg=\"#ADD8E6\", fg=\"black\")\n",
      "label.place(relx=0.33, rely=0.045)\n",
      "\n",
      "# Load the images\n",
      "image_rock = PhotoImage(file=\"C:\\\\Users\\\\tanis\\\\Downloads\\\\rock.png\")\n",
      "image_paper = PhotoImage(file=\"C:\\\\Users\\\\tanis\\\\Downloads\\\\paper.png\")\n",
      "image_scissors = PhotoImage(file=\"C:\\\\Users\\\\tanis\\\\Downloads\\\\scissors.png\")\n",
      "\n",
      "# Create buttons with images\n",
      "rock_button = tk.Button(frame, image=image_rock)\n",
      "rock_button.place(relx=0.20, rely=0.45, anchor=\"center\")\n",
      "\n",
      "paper_button = tk.Button(frame, image=image_paper)\n",
      "paper_button.place(relx=0.50, rely=0.45, anchor=\"center\")\n",
      "\n",
      "scissors_button = tk.Button(frame, image=image_scissors)\n",
      "scissors_button.place(relx=0.80, rely=0.45, anchor=\"center\")\n",
      "\n",
      "def get_computer_choice():\n",
      "    choices = [\"rock\", \"paper\", \"scissors\"]\n",
      "    return random.choice(choices)\n",
      "\n",
      "def determine_winner(user_choice, computer_choice):\n",
      "    if user_choice == computer_choice:\n",
      "        return \"It's a tie!\"\n",
      "    elif (user_choice == \"rock\" and computer_choice == \"scissors\") or \\\n",
      "         (user_choice == \"scissors\" and computer_choice == \"paper\") or \\\n",
      "         (user_choice == \"paper\" and computer_choice == \"rock\"):\n",
      "        return \"You win!\"\n",
      "    else:\n",
      "        return \"Computer wins!\"\n",
      "\n",
      "def on_button_click(user_choice):\n",
      "    computer_choice = get_computer_choice()\n",
      "    result = determine_winner(user_choice, computer_choice)\n",
      "    result_label.config(text=f\"Computer chose: {computer_choice}\\n{result}\")\n",
      "\n",
      "# Attach commands to buttons\n",
      "rock_button.config(command=lambda: on_button_click(\"rock\"))\n",
      "paper_button.config(command=lambda: on_button_click(\"paper\"))\n",
      "scissors_button.config(command=lambda: on_button_click(\"scissors\"))\n",
      "\n",
      "# Label to display the result\n",
      "result_label = tk.Label(root, text=\"\", bg=\"#F0F8FF\", font=(\"Arial\", 35,\"bold\"))  # AliceBlue background for result label\n",
      "result_label.place(relx=0.5, rely=0.8, anchor=\"center\")\n",
      "\n",
      "root.mainloop()\n",
      "\n"
     ]
    }
   ],
   "source": [
    "encoded_content = response.json().get(\"content\", \"\")\n",
    "decoded_content = base64.b64decode(encoded_content).decode(\"utf-8\")\n",
    "\n",
    "print(decoded_content)\n"
   ]
  }
 ],
 "metadata": {
  "kernelspec": {
   "display_name": ".venv",
   "language": "python",
   "name": "python3"
  },
  "language_info": {
   "codemirror_mode": {
    "name": "ipython",
    "version": 3
   },
   "file_extension": ".py",
   "mimetype": "text/x-python",
   "name": "python",
   "nbconvert_exporter": "python",
   "pygments_lexer": "ipython3",
   "version": "3.12.0"
  }
 },
 "nbformat": 4,
 "nbformat_minor": 2
}
