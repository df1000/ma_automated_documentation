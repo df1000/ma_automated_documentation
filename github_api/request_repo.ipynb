{
 "cells": [
  {
   "cell_type": "code",
   "execution_count": 1,
   "metadata": {},
   "outputs": [],
   "source": [
    "import requests\n",
    "import json\n",
    "from getpass import getpass\n",
    "import base64\n",
    "import pandas as pd\n"
   ]
  },
  {
   "cell_type": "markdown",
   "metadata": {},
   "source": []
  },
  {
   "cell_type": "code",
   "execution_count": 2,
   "metadata": {},
   "outputs": [],
   "source": [
    "# set credentials\n",
    "ACCESS_TOKEN = getpass()"
   ]
  },
  {
   "cell_type": "code",
   "execution_count": 3,
   "metadata": {},
   "outputs": [],
   "source": [
    "payload = {}\n",
    "headers = {\n",
    "  'Accept': 'application/vnd.github+json',\n",
    "  'X-GitHub-Api-Version': '2022-11-28',\n",
    "  'Authorization': f'Bearer {ACCESS_TOKEN}'\n",
    "}"
   ]
  },
  {
   "cell_type": "markdown",
   "metadata": {},
   "source": [
    "### list with mutiple repos"
   ]
  },
  {
   "cell_type": "code",
   "execution_count": 4,
   "metadata": {},
   "outputs": [],
   "source": [
    "url_multiple_repos = 'https://api.github.com/search/repositories?q=language:python&page=3'\n",
    "\n",
    "response = requests.request('GET', url=url_multiple_repos, headers=headers, data=payload)"
   ]
  },
  {
   "cell_type": "code",
   "execution_count": 5,
   "metadata": {},
   "outputs": [],
   "source": [
    "data = response.json()"
   ]
  },
  {
   "cell_type": "code",
   "execution_count": null,
   "metadata": {},
   "outputs": [],
   "source": [
    "with open('../data/multiple_github_repos.json', 'w') as file:\n",
    "    json.dump(data, file)"
   ]
  },
  {
   "cell_type": "markdown",
   "metadata": {},
   "source": [
    "### load data from file for preprocessing"
   ]
  },
  {
   "cell_type": "code",
   "execution_count": 55,
   "metadata": {},
   "outputs": [],
   "source": [
    "with open('../data/multiple_github_repos.json', 'r') as file:\n",
    "    loaded_data = json.load(file)"
   ]
  },
  {
   "cell_type": "code",
   "execution_count": 56,
   "metadata": {},
   "outputs": [],
   "source": [
    "data = loaded_data['items']"
   ]
  },
  {
   "cell_type": "code",
   "execution_count": null,
   "metadata": {},
   "outputs": [],
   "source": [
    "data"
   ]
  },
  {
   "cell_type": "code",
   "execution_count": 57,
   "metadata": {},
   "outputs": [],
   "source": [
    "# get keys of loaded_data as list\n",
    "keys = list(loaded_data['items'][0].keys())"
   ]
  },
  {
   "cell_type": "code",
   "execution_count": 58,
   "metadata": {},
   "outputs": [],
   "source": [
    "# create empty df with keys of loaded_data as columns\n",
    "df_repos = pd.DataFrame(columns=keys)"
   ]
  },
  {
   "cell_type": "code",
   "execution_count": 59,
   "metadata": {},
   "outputs": [
    {
     "data": {
      "text/html": [
       "<div>\n",
       "<style scoped>\n",
       "    .dataframe tbody tr th:only-of-type {\n",
       "        vertical-align: middle;\n",
       "    }\n",
       "\n",
       "    .dataframe tbody tr th {\n",
       "        vertical-align: top;\n",
       "    }\n",
       "\n",
       "    .dataframe thead th {\n",
       "        text-align: right;\n",
       "    }\n",
       "</style>\n",
       "<table border=\"1\" class=\"dataframe\">\n",
       "  <thead>\n",
       "    <tr style=\"text-align: right;\">\n",
       "      <th></th>\n",
       "      <th>id</th>\n",
       "      <th>node_id</th>\n",
       "      <th>name</th>\n",
       "      <th>full_name</th>\n",
       "      <th>private</th>\n",
       "      <th>owner</th>\n",
       "      <th>html_url</th>\n",
       "      <th>description</th>\n",
       "      <th>fork</th>\n",
       "      <th>url</th>\n",
       "      <th>...</th>\n",
       "      <th>is_template</th>\n",
       "      <th>web_commit_signoff_required</th>\n",
       "      <th>topics</th>\n",
       "      <th>visibility</th>\n",
       "      <th>forks</th>\n",
       "      <th>open_issues</th>\n",
       "      <th>watchers</th>\n",
       "      <th>default_branch</th>\n",
       "      <th>permissions</th>\n",
       "      <th>score</th>\n",
       "    </tr>\n",
       "  </thead>\n",
       "  <tbody>\n",
       "  </tbody>\n",
       "</table>\n",
       "<p>0 rows × 81 columns</p>\n",
       "</div>"
      ],
      "text/plain": [
       "Empty DataFrame\n",
       "Columns: [id, node_id, name, full_name, private, owner, html_url, description, fork, url, forks_url, keys_url, collaborators_url, teams_url, hooks_url, issue_events_url, events_url, assignees_url, branches_url, tags_url, blobs_url, git_tags_url, git_refs_url, trees_url, statuses_url, languages_url, stargazers_url, contributors_url, subscribers_url, subscription_url, commits_url, git_commits_url, comments_url, issue_comment_url, contents_url, compare_url, merges_url, archive_url, downloads_url, issues_url, pulls_url, milestones_url, notifications_url, labels_url, releases_url, deployments_url, created_at, updated_at, pushed_at, git_url, ssh_url, clone_url, svn_url, homepage, size, stargazers_count, watchers_count, language, has_issues, has_projects, has_downloads, has_wiki, has_pages, has_discussions, forks_count, mirror_url, archived, disabled, open_issues_count, license, allow_forking, is_template, web_commit_signoff_required, topics, visibility, forks, open_issues, watchers, default_branch, permissions, score]\n",
       "Index: []\n",
       "\n",
       "[0 rows x 81 columns]"
      ]
     },
     "execution_count": 59,
     "metadata": {},
     "output_type": "execute_result"
    }
   ],
   "source": [
    "df_repos"
   ]
  },
  {
   "cell_type": "code",
   "execution_count": 60,
   "metadata": {},
   "outputs": [
    {
     "name": "stderr",
     "output_type": "stream",
     "text": [
      "/tmp/ipykernel_23777/84623438.py:3: FutureWarning: The behavior of DataFrame concatenation with empty or all-NA entries is deprecated. In a future version, this will no longer exclude empty or all-NA columns when determining the result dtypes. To retain the old behavior, exclude the relevant entries before the concat operation.\n",
      "  df_repos = pd.concat([df_repos, df_repo], ignore_index=True)\n"
     ]
    }
   ],
   "source": [
    "for repo in data:\n",
    "    df_repo = pd.DataFrame(data=[repo], columns=keys)\n",
    "    df_repos = pd.concat([df_repos, df_repo], ignore_index=True)"
   ]
  },
  {
   "cell_type": "code",
   "execution_count": 61,
   "metadata": {},
   "outputs": [
    {
     "name": "stdout",
     "output_type": "stream",
     "text": [
      "<class 'pandas.core.frame.DataFrame'>\n",
      "RangeIndex: 30 entries, 0 to 29\n",
      "Data columns (total 81 columns):\n",
      " #   Column                       Non-Null Count  Dtype  \n",
      "---  ------                       --------------  -----  \n",
      " 0   id                           30 non-null     object \n",
      " 1   node_id                      30 non-null     object \n",
      " 2   name                         30 non-null     object \n",
      " 3   full_name                    30 non-null     object \n",
      " 4   private                      30 non-null     object \n",
      " 5   owner                        30 non-null     object \n",
      " 6   html_url                     30 non-null     object \n",
      " 7   description                  30 non-null     object \n",
      " 8   fork                         30 non-null     object \n",
      " 9   url                          30 non-null     object \n",
      " 10  forks_url                    30 non-null     object \n",
      " 11  keys_url                     30 non-null     object \n",
      " 12  collaborators_url            30 non-null     object \n",
      " 13  teams_url                    30 non-null     object \n",
      " 14  hooks_url                    30 non-null     object \n",
      " 15  issue_events_url             30 non-null     object \n",
      " 16  events_url                   30 non-null     object \n",
      " 17  assignees_url                30 non-null     object \n",
      " 18  branches_url                 30 non-null     object \n",
      " 19  tags_url                     30 non-null     object \n",
      " 20  blobs_url                    30 non-null     object \n",
      " 21  git_tags_url                 30 non-null     object \n",
      " 22  git_refs_url                 30 non-null     object \n",
      " 23  trees_url                    30 non-null     object \n",
      " 24  statuses_url                 30 non-null     object \n",
      " 25  languages_url                30 non-null     object \n",
      " 26  stargazers_url               30 non-null     object \n",
      " 27  contributors_url             30 non-null     object \n",
      " 28  subscribers_url              30 non-null     object \n",
      " 29  subscription_url             30 non-null     object \n",
      " 30  commits_url                  30 non-null     object \n",
      " 31  git_commits_url              30 non-null     object \n",
      " 32  comments_url                 30 non-null     object \n",
      " 33  issue_comment_url            30 non-null     object \n",
      " 34  contents_url                 30 non-null     object \n",
      " 35  compare_url                  30 non-null     object \n",
      " 36  merges_url                   30 non-null     object \n",
      " 37  archive_url                  30 non-null     object \n",
      " 38  downloads_url                30 non-null     object \n",
      " 39  issues_url                   30 non-null     object \n",
      " 40  pulls_url                    30 non-null     object \n",
      " 41  milestones_url               30 non-null     object \n",
      " 42  notifications_url            30 non-null     object \n",
      " 43  labels_url                   30 non-null     object \n",
      " 44  releases_url                 30 non-null     object \n",
      " 45  deployments_url              30 non-null     object \n",
      " 46  created_at                   30 non-null     object \n",
      " 47  updated_at                   30 non-null     object \n",
      " 48  pushed_at                    30 non-null     object \n",
      " 49  git_url                      30 non-null     object \n",
      " 50  ssh_url                      30 non-null     object \n",
      " 51  clone_url                    30 non-null     object \n",
      " 52  svn_url                      30 non-null     object \n",
      " 53  homepage                     29 non-null     object \n",
      " 54  size                         30 non-null     object \n",
      " 55  stargazers_count             30 non-null     object \n",
      " 56  watchers_count               30 non-null     object \n",
      " 57  language                     30 non-null     object \n",
      " 58  has_issues                   30 non-null     object \n",
      " 59  has_projects                 30 non-null     object \n",
      " 60  has_downloads                30 non-null     object \n",
      " 61  has_wiki                     30 non-null     object \n",
      " 62  has_pages                    30 non-null     object \n",
      " 63  has_discussions              30 non-null     object \n",
      " 64  forks_count                  30 non-null     object \n",
      " 65  mirror_url                   0 non-null      object \n",
      " 66  archived                     30 non-null     object \n",
      " 67  disabled                     30 non-null     object \n",
      " 68  open_issues_count            30 non-null     object \n",
      " 69  license                      27 non-null     object \n",
      " 70  allow_forking                30 non-null     object \n",
      " 71  is_template                  30 non-null     object \n",
      " 72  web_commit_signoff_required  30 non-null     object \n",
      " 73  topics                       30 non-null     object \n",
      " 74  visibility                   30 non-null     object \n",
      " 75  forks                        30 non-null     object \n",
      " 76  open_issues                  30 non-null     object \n",
      " 77  watchers                     30 non-null     object \n",
      " 78  default_branch               30 non-null     object \n",
      " 79  permissions                  30 non-null     object \n",
      " 80  score                        30 non-null     float64\n",
      "dtypes: float64(1), object(80)\n",
      "memory usage: 19.1+ KB\n"
     ]
    }
   ],
   "source": [
    "df_repos.info()"
   ]
  },
  {
   "cell_type": "markdown",
   "metadata": {},
   "source": [
    "### list with repo names - endpoint search"
   ]
  },
  {
   "cell_type": "code",
   "execution_count": null,
   "metadata": {},
   "outputs": [],
   "source": [
    "url_list = \"https://api.github.com/search/repositories?q=language:python\"\n",
    "\n",
    "\n",
    "response = requests.request(\"GET\", url_list, headers=headers, data=payload)\n",
    "\n",
    "print(response.text)"
   ]
  },
  {
   "cell_type": "markdown",
   "metadata": {},
   "source": [
    "### repo content"
   ]
  },
  {
   "cell_type": "code",
   "execution_count": null,
   "metadata": {},
   "outputs": [],
   "source": [
    "# url for repo content\n",
    "url = \"https://api.github.com/repos/taniiishk/rock-paper-scissors-game/contents/\""
   ]
  },
  {
   "cell_type": "code",
   "execution_count": 4,
   "metadata": {},
   "outputs": [
    {
     "name": "stdout",
     "output_type": "stream",
     "text": [
      "Request successful\n"
     ]
    }
   ],
   "source": [
    "response = requests.request(\"GET\", url, headers=headers, data=payload)\n",
    "if response.status_code == 200:\n",
    "    print('Request successful')\n",
    "else:\n",
    "    raise Exception(f\"Non-success status code: {response.status_code}\")"
   ]
  },
  {
   "cell_type": "code",
   "execution_count": 5,
   "metadata": {},
   "outputs": [
    {
     "data": {
      "text/plain": [
       "[{'name': 'README.md',\n",
       "  'path': 'README.md',\n",
       "  'sha': 'd1b07bc9e30f12188a6be5575fd4a27114cbf874',\n",
       "  'size': 3287,\n",
       "  'url': 'https://api.github.com/repos/Taniiishk/Rock-Paper-Scissors-Game/contents/README.md?ref=main',\n",
       "  'html_url': 'https://github.com/Taniiishk/Rock-Paper-Scissors-Game/blob/main/README.md',\n",
       "  'git_url': 'https://api.github.com/repos/Taniiishk/Rock-Paper-Scissors-Game/git/blobs/d1b07bc9e30f12188a6be5575fd4a27114cbf874',\n",
       "  'download_url': 'https://raw.githubusercontent.com/Taniiishk/Rock-Paper-Scissors-Game/main/README.md',\n",
       "  'type': 'file',\n",
       "  '_links': {'self': 'https://api.github.com/repos/Taniiishk/Rock-Paper-Scissors-Game/contents/README.md?ref=main',\n",
       "   'git': 'https://api.github.com/repos/Taniiishk/Rock-Paper-Scissors-Game/git/blobs/d1b07bc9e30f12188a6be5575fd4a27114cbf874',\n",
       "   'html': 'https://github.com/Taniiishk/Rock-Paper-Scissors-Game/blob/main/README.md'}},\n",
       " {'name': 'code_file.py',\n",
       "  'path': 'code_file.py',\n",
       "  'sha': 'ee15d676e980576746be8cbbe93779ddfd3c9187',\n",
       "  'size': 2446,\n",
       "  'url': 'https://api.github.com/repos/Taniiishk/Rock-Paper-Scissors-Game/contents/code_file.py?ref=main',\n",
       "  'html_url': 'https://github.com/Taniiishk/Rock-Paper-Scissors-Game/blob/main/code_file.py',\n",
       "  'git_url': 'https://api.github.com/repos/Taniiishk/Rock-Paper-Scissors-Game/git/blobs/ee15d676e980576746be8cbbe93779ddfd3c9187',\n",
       "  'download_url': 'https://raw.githubusercontent.com/Taniiishk/Rock-Paper-Scissors-Game/main/code_file.py',\n",
       "  'type': 'file',\n",
       "  '_links': {'self': 'https://api.github.com/repos/Taniiishk/Rock-Paper-Scissors-Game/contents/code_file.py?ref=main',\n",
       "   'git': 'https://api.github.com/repos/Taniiishk/Rock-Paper-Scissors-Game/git/blobs/ee15d676e980576746be8cbbe93779ddfd3c9187',\n",
       "   'html': 'https://github.com/Taniiishk/Rock-Paper-Scissors-Game/blob/main/code_file.py'}},\n",
       " {'name': 'paper.png',\n",
       "  'path': 'paper.png',\n",
       "  'sha': '7eb5b45125da510d6fe77be97f7054b26f376c38',\n",
       "  'size': 37754,\n",
       "  'url': 'https://api.github.com/repos/Taniiishk/Rock-Paper-Scissors-Game/contents/paper.png?ref=main',\n",
       "  'html_url': 'https://github.com/Taniiishk/Rock-Paper-Scissors-Game/blob/main/paper.png',\n",
       "  'git_url': 'https://api.github.com/repos/Taniiishk/Rock-Paper-Scissors-Game/git/blobs/7eb5b45125da510d6fe77be97f7054b26f376c38',\n",
       "  'download_url': 'https://raw.githubusercontent.com/Taniiishk/Rock-Paper-Scissors-Game/main/paper.png',\n",
       "  'type': 'file',\n",
       "  '_links': {'self': 'https://api.github.com/repos/Taniiishk/Rock-Paper-Scissors-Game/contents/paper.png?ref=main',\n",
       "   'git': 'https://api.github.com/repos/Taniiishk/Rock-Paper-Scissors-Game/git/blobs/7eb5b45125da510d6fe77be97f7054b26f376c38',\n",
       "   'html': 'https://github.com/Taniiishk/Rock-Paper-Scissors-Game/blob/main/paper.png'}},\n",
       " {'name': 'rock.png',\n",
       "  'path': 'rock.png',\n",
       "  'sha': '4909112d4f87c1500df5dbdebf8d8a3948e8bd9d',\n",
       "  'size': 28904,\n",
       "  'url': 'https://api.github.com/repos/Taniiishk/Rock-Paper-Scissors-Game/contents/rock.png?ref=main',\n",
       "  'html_url': 'https://github.com/Taniiishk/Rock-Paper-Scissors-Game/blob/main/rock.png',\n",
       "  'git_url': 'https://api.github.com/repos/Taniiishk/Rock-Paper-Scissors-Game/git/blobs/4909112d4f87c1500df5dbdebf8d8a3948e8bd9d',\n",
       "  'download_url': 'https://raw.githubusercontent.com/Taniiishk/Rock-Paper-Scissors-Game/main/rock.png',\n",
       "  'type': 'file',\n",
       "  '_links': {'self': 'https://api.github.com/repos/Taniiishk/Rock-Paper-Scissors-Game/contents/rock.png?ref=main',\n",
       "   'git': 'https://api.github.com/repos/Taniiishk/Rock-Paper-Scissors-Game/git/blobs/4909112d4f87c1500df5dbdebf8d8a3948e8bd9d',\n",
       "   'html': 'https://github.com/Taniiishk/Rock-Paper-Scissors-Game/blob/main/rock.png'}},\n",
       " {'name': 'sample_images',\n",
       "  'path': 'sample_images',\n",
       "  'sha': 'd0c1d7b8024ea3c0f86f682e0b185705f57e25e6',\n",
       "  'size': 0,\n",
       "  'url': 'https://api.github.com/repos/Taniiishk/Rock-Paper-Scissors-Game/contents/sample_images?ref=main',\n",
       "  'html_url': 'https://github.com/Taniiishk/Rock-Paper-Scissors-Game/tree/main/sample_images',\n",
       "  'git_url': 'https://api.github.com/repos/Taniiishk/Rock-Paper-Scissors-Game/git/trees/d0c1d7b8024ea3c0f86f682e0b185705f57e25e6',\n",
       "  'download_url': None,\n",
       "  'type': 'dir',\n",
       "  '_links': {'self': 'https://api.github.com/repos/Taniiishk/Rock-Paper-Scissors-Game/contents/sample_images?ref=main',\n",
       "   'git': 'https://api.github.com/repos/Taniiishk/Rock-Paper-Scissors-Game/git/trees/d0c1d7b8024ea3c0f86f682e0b185705f57e25e6',\n",
       "   'html': 'https://github.com/Taniiishk/Rock-Paper-Scissors-Game/tree/main/sample_images'}},\n",
       " {'name': 'scissors.png',\n",
       "  'path': 'scissors.png',\n",
       "  'sha': 'c91aa57d59707fd71796372c41b80eab32d273bc',\n",
       "  'size': 35050,\n",
       "  'url': 'https://api.github.com/repos/Taniiishk/Rock-Paper-Scissors-Game/contents/scissors.png?ref=main',\n",
       "  'html_url': 'https://github.com/Taniiishk/Rock-Paper-Scissors-Game/blob/main/scissors.png',\n",
       "  'git_url': 'https://api.github.com/repos/Taniiishk/Rock-Paper-Scissors-Game/git/blobs/c91aa57d59707fd71796372c41b80eab32d273bc',\n",
       "  'download_url': 'https://raw.githubusercontent.com/Taniiishk/Rock-Paper-Scissors-Game/main/scissors.png',\n",
       "  'type': 'file',\n",
       "  '_links': {'self': 'https://api.github.com/repos/Taniiishk/Rock-Paper-Scissors-Game/contents/scissors.png?ref=main',\n",
       "   'git': 'https://api.github.com/repos/Taniiishk/Rock-Paper-Scissors-Game/git/blobs/c91aa57d59707fd71796372c41b80eab32d273bc',\n",
       "   'html': 'https://github.com/Taniiishk/Rock-Paper-Scissors-Game/blob/main/scissors.png'}}]"
      ]
     },
     "execution_count": 5,
     "metadata": {},
     "output_type": "execute_result"
    }
   ],
   "source": [
    "data = response.json()\n",
    "data"
   ]
  },
  {
   "cell_type": "markdown",
   "metadata": {},
   "source": [
    "### one file"
   ]
  },
  {
   "cell_type": "code",
   "execution_count": 6,
   "metadata": {},
   "outputs": [],
   "source": [
    "url_file = \"https://api.github.com/repos/taniiishk/rock-paper-scissors-game/contents/code_file.py\"\n",
    "response = requests.request(\"GET\", url_file, headers=headers, data=payload)\n"
   ]
  },
  {
   "cell_type": "code",
   "execution_count": 7,
   "metadata": {},
   "outputs": [
    {
     "data": {
      "text/plain": [
       "{'name': 'code_file.py',\n",
       " 'path': 'code_file.py',\n",
       " 'sha': 'ee15d676e980576746be8cbbe93779ddfd3c9187',\n",
       " 'size': 2446,\n",
       " 'url': 'https://api.github.com/repos/Taniiishk/Rock-Paper-Scissors-Game/contents/code_file.py?ref=main',\n",
       " 'html_url': 'https://github.com/Taniiishk/Rock-Paper-Scissors-Game/blob/main/code_file.py',\n",
       " 'git_url': 'https://api.github.com/repos/Taniiishk/Rock-Paper-Scissors-Game/git/blobs/ee15d676e980576746be8cbbe93779ddfd3c9187',\n",
       " 'download_url': 'https://raw.githubusercontent.com/Taniiishk/Rock-Paper-Scissors-Game/main/code_file.py',\n",
       " 'type': 'file',\n",
       " 'content': 'aW1wb3J0IHRraW50ZXIgYXMgdGsKZnJvbSB0a2ludGVyIGltcG9ydCBQaG90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\\ncm9vdC5tYWlubG9vcCgpCg==\\n',\n",
       " 'encoding': 'base64',\n",
       " '_links': {'self': 'https://api.github.com/repos/Taniiishk/Rock-Paper-Scissors-Game/contents/code_file.py?ref=main',\n",
       "  'git': 'https://api.github.com/repos/Taniiishk/Rock-Paper-Scissors-Game/git/blobs/ee15d676e980576746be8cbbe93779ddfd3c9187',\n",
       "  'html': 'https://github.com/Taniiishk/Rock-Paper-Scissors-Game/blob/main/code_file.py'}}"
      ]
     },
     "execution_count": 7,
     "metadata": {},
     "output_type": "execute_result"
    }
   ],
   "source": [
    "data = response.json()\n",
    "data"
   ]
  },
  {
   "cell_type": "code",
   "execution_count": 8,
   "metadata": {},
   "outputs": [
    {
     "data": {
      "text/plain": [
       "'code_file.py'"
      ]
     },
     "execution_count": 8,
     "metadata": {},
     "output_type": "execute_result"
    }
   ],
   "source": [
    "data['name']"
   ]
  },
  {
   "cell_type": "markdown",
   "metadata": {},
   "source": [
    "### repo tree (not relevant?)"
   ]
  },
  {
   "cell_type": "code",
   "execution_count": null,
   "metadata": {},
   "outputs": [],
   "source": [
    "# tree_sha = 'd1b07bc9e30f12188a6be5575fd4a27114cbf874'\n",
    "# url_tree = f\"https://api.github.com/repos/taniiishk/rock-paper-scissors-game/git/trees/{tree_sha}\"\n",
    "\n",
    "# payload = {}\n",
    "# headers = {\n",
    "#   'Accept': 'application/vnd.github+json',\n",
    "#   'X-GitHub-Api-Version': '2022-11-28',\n",
    "#   'Authorization': f'Bearer {ACCESS_TOKEN}'\n",
    "# }"
   ]
  },
  {
   "cell_type": "code",
   "execution_count": null,
   "metadata": {},
   "outputs": [],
   "source": [
    "# response = requests.request(\"GET\", url_tree, headers=headers, data=payload)"
   ]
  },
  {
   "cell_type": "code",
   "execution_count": null,
   "metadata": {},
   "outputs": [
    {
     "data": {
      "text/plain": [
       "{'message': 'Invalid object requested. SHA must identify a commit or a tree.',\n",
       " 'documentation_url': 'https://docs.github.com/rest/git/trees#get-a-tree',\n",
       " 'status': '422'}"
      ]
     },
     "execution_count": 17,
     "metadata": {},
     "output_type": "execute_result"
    }
   ],
   "source": [
    "# response.json()"
   ]
  },
  {
   "cell_type": "markdown",
   "metadata": {},
   "source": []
  }
 ],
 "metadata": {
  "kernelspec": {
   "display_name": ".venv",
   "language": "python",
   "name": "python3"
  },
  "language_info": {
   "codemirror_mode": {
    "name": "ipython",
    "version": 3
   },
   "file_extension": ".py",
   "mimetype": "text/x-python",
   "name": "python",
   "nbconvert_exporter": "python",
   "pygments_lexer": "ipython3",
   "version": "3.12.3"
  }
 },
 "nbformat": 4,
 "nbformat_minor": 2
}
