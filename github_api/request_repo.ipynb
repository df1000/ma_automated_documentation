{
 "cells": [
  {
   "cell_type": "code",
   "execution_count": 2,
   "metadata": {},
   "outputs": [],
   "source": [
    "import requests\n",
    "import json\n",
    "from getpass import getpass\n",
    "import base64\n"
   ]
  },
  {
   "cell_type": "code",
   "execution_count": 3,
   "metadata": {},
   "outputs": [],
   "source": [
    "# set credentials\n",
    "ACCESS_TOKEN = getpass()"
   ]
  },
  {
   "cell_type": "markdown",
   "metadata": {},
   "source": [
    "### repo content"
   ]
  },
  {
   "cell_type": "code",
   "execution_count": 12,
   "metadata": {},
   "outputs": [],
   "source": [
    "# url for repo content\n",
    "url = \"https://api.github.com/repos/taniiishk/rock-paper-scissors-game/contents/\"\n",
    "\n",
    "payload = {}\n",
    "headers = {\n",
    "  'Accept': 'application/vnd.github+json',\n",
    "  'X-GitHub-Api-Version': '2022-11-28',\n",
    "  'Authorization': f'Bearer {ACCESS_TOKEN}'\n",
    "}"
   ]
  },
  {
   "cell_type": "code",
   "execution_count": 13,
   "metadata": {},
   "outputs": [
    {
     "name": "stdout",
     "output_type": "stream",
     "text": [
      "Request successful\n"
     ]
    }
   ],
   "source": [
    "response = requests.request(\"GET\", url, headers=headers, data=payload)\n",
    "if response.status_code == 200:\n",
    "    print('Request successful')\n",
    "else:\n",
    "    raise Exception(f\"Non-success status code: {response.status_code}\")"
   ]
  },
  {
   "cell_type": "code",
   "execution_count": 14,
   "metadata": {},
   "outputs": [
    {
     "data": {
      "text/plain": [
       "[{'name': 'README.md',\n",
       "  'path': 'README.md',\n",
       "  'sha': 'd1b07bc9e30f12188a6be5575fd4a27114cbf874',\n",
       "  'size': 3287,\n",
       "  'url': 'https://api.github.com/repos/Taniiishk/Rock-Paper-Scissors-Game/contents/README.md?ref=main',\n",
       "  'html_url': 'https://github.com/Taniiishk/Rock-Paper-Scissors-Game/blob/main/README.md',\n",
       "  'git_url': 'https://api.github.com/repos/Taniiishk/Rock-Paper-Scissors-Game/git/blobs/d1b07bc9e30f12188a6be5575fd4a27114cbf874',\n",
       "  'download_url': 'https://raw.githubusercontent.com/Taniiishk/Rock-Paper-Scissors-Game/main/README.md',\n",
       "  'type': 'file',\n",
       "  '_links': {'self': 'https://api.github.com/repos/Taniiishk/Rock-Paper-Scissors-Game/contents/README.md?ref=main',\n",
       "   'git': 'https://api.github.com/repos/Taniiishk/Rock-Paper-Scissors-Game/git/blobs/d1b07bc9e30f12188a6be5575fd4a27114cbf874',\n",
       "   'html': 'https://github.com/Taniiishk/Rock-Paper-Scissors-Game/blob/main/README.md'}},\n",
       " {'name': 'code_file.py',\n",
       "  'path': 'code_file.py',\n",
       "  'sha': 'ee15d676e980576746be8cbbe93779ddfd3c9187',\n",
       "  'size': 2446,\n",
       "  'url': 'https://api.github.com/repos/Taniiishk/Rock-Paper-Scissors-Game/contents/code_file.py?ref=main',\n",
       "  'html_url': 'https://github.com/Taniiishk/Rock-Paper-Scissors-Game/blob/main/code_file.py',\n",
       "  'git_url': 'https://api.github.com/repos/Taniiishk/Rock-Paper-Scissors-Game/git/blobs/ee15d676e980576746be8cbbe93779ddfd3c9187',\n",
       "  'download_url': 'https://raw.githubusercontent.com/Taniiishk/Rock-Paper-Scissors-Game/main/code_file.py',\n",
       "  'type': 'file',\n",
       "  '_links': {'self': 'https://api.github.com/repos/Taniiishk/Rock-Paper-Scissors-Game/contents/code_file.py?ref=main',\n",
       "   'git': 'https://api.github.com/repos/Taniiishk/Rock-Paper-Scissors-Game/git/blobs/ee15d676e980576746be8cbbe93779ddfd3c9187',\n",
       "   'html': 'https://github.com/Taniiishk/Rock-Paper-Scissors-Game/blob/main/code_file.py'}},\n",
       " {'name': 'paper.png',\n",
       "  'path': 'paper.png',\n",
       "  'sha': '7eb5b45125da510d6fe77be97f7054b26f376c38',\n",
       "  'size': 37754,\n",
       "  'url': 'https://api.github.com/repos/Taniiishk/Rock-Paper-Scissors-Game/contents/paper.png?ref=main',\n",
       "  'html_url': 'https://github.com/Taniiishk/Rock-Paper-Scissors-Game/blob/main/paper.png',\n",
       "  'git_url': 'https://api.github.com/repos/Taniiishk/Rock-Paper-Scissors-Game/git/blobs/7eb5b45125da510d6fe77be97f7054b26f376c38',\n",
       "  'download_url': 'https://raw.githubusercontent.com/Taniiishk/Rock-Paper-Scissors-Game/main/paper.png',\n",
       "  'type': 'file',\n",
       "  '_links': {'self': 'https://api.github.com/repos/Taniiishk/Rock-Paper-Scissors-Game/contents/paper.png?ref=main',\n",
       "   'git': 'https://api.github.com/repos/Taniiishk/Rock-Paper-Scissors-Game/git/blobs/7eb5b45125da510d6fe77be97f7054b26f376c38',\n",
       "   'html': 'https://github.com/Taniiishk/Rock-Paper-Scissors-Game/blob/main/paper.png'}},\n",
       " {'name': 'rock.png',\n",
       "  'path': 'rock.png',\n",
       "  'sha': '4909112d4f87c1500df5dbdebf8d8a3948e8bd9d',\n",
       "  'size': 28904,\n",
       "  'url': 'https://api.github.com/repos/Taniiishk/Rock-Paper-Scissors-Game/contents/rock.png?ref=main',\n",
       "  'html_url': 'https://github.com/Taniiishk/Rock-Paper-Scissors-Game/blob/main/rock.png',\n",
       "  'git_url': 'https://api.github.com/repos/Taniiishk/Rock-Paper-Scissors-Game/git/blobs/4909112d4f87c1500df5dbdebf8d8a3948e8bd9d',\n",
       "  'download_url': 'https://raw.githubusercontent.com/Taniiishk/Rock-Paper-Scissors-Game/main/rock.png',\n",
       "  'type': 'file',\n",
       "  '_links': {'self': 'https://api.github.com/repos/Taniiishk/Rock-Paper-Scissors-Game/contents/rock.png?ref=main',\n",
       "   'git': 'https://api.github.com/repos/Taniiishk/Rock-Paper-Scissors-Game/git/blobs/4909112d4f87c1500df5dbdebf8d8a3948e8bd9d',\n",
       "   'html': 'https://github.com/Taniiishk/Rock-Paper-Scissors-Game/blob/main/rock.png'}},\n",
       " {'name': 'sample_images',\n",
       "  'path': 'sample_images',\n",
       "  'sha': 'd0c1d7b8024ea3c0f86f682e0b185705f57e25e6',\n",
       "  'size': 0,\n",
       "  'url': 'https://api.github.com/repos/Taniiishk/Rock-Paper-Scissors-Game/contents/sample_images?ref=main',\n",
       "  'html_url': 'https://github.com/Taniiishk/Rock-Paper-Scissors-Game/tree/main/sample_images',\n",
       "  'git_url': 'https://api.github.com/repos/Taniiishk/Rock-Paper-Scissors-Game/git/trees/d0c1d7b8024ea3c0f86f682e0b185705f57e25e6',\n",
       "  'download_url': None,\n",
       "  'type': 'dir',\n",
       "  '_links': {'self': 'https://api.github.com/repos/Taniiishk/Rock-Paper-Scissors-Game/contents/sample_images?ref=main',\n",
       "   'git': 'https://api.github.com/repos/Taniiishk/Rock-Paper-Scissors-Game/git/trees/d0c1d7b8024ea3c0f86f682e0b185705f57e25e6',\n",
       "   'html': 'https://github.com/Taniiishk/Rock-Paper-Scissors-Game/tree/main/sample_images'}},\n",
       " {'name': 'scissors.png',\n",
       "  'path': 'scissors.png',\n",
       "  'sha': 'c91aa57d59707fd71796372c41b80eab32d273bc',\n",
       "  'size': 35050,\n",
       "  'url': 'https://api.github.com/repos/Taniiishk/Rock-Paper-Scissors-Game/contents/scissors.png?ref=main',\n",
       "  'html_url': 'https://github.com/Taniiishk/Rock-Paper-Scissors-Game/blob/main/scissors.png',\n",
       "  'git_url': 'https://api.github.com/repos/Taniiishk/Rock-Paper-Scissors-Game/git/blobs/c91aa57d59707fd71796372c41b80eab32d273bc',\n",
       "  'download_url': 'https://raw.githubusercontent.com/Taniiishk/Rock-Paper-Scissors-Game/main/scissors.png',\n",
       "  'type': 'file',\n",
       "  '_links': {'self': 'https://api.github.com/repos/Taniiishk/Rock-Paper-Scissors-Game/contents/scissors.png?ref=main',\n",
       "   'git': 'https://api.github.com/repos/Taniiishk/Rock-Paper-Scissors-Game/git/blobs/c91aa57d59707fd71796372c41b80eab32d273bc',\n",
       "   'html': 'https://github.com/Taniiishk/Rock-Paper-Scissors-Game/blob/main/scissors.png'}}]"
      ]
     },
     "execution_count": 14,
     "metadata": {},
     "output_type": "execute_result"
    }
   ],
   "source": [
    "data = response.json()\n",
    "data"
   ]
  },
  {
   "cell_type": "markdown",
   "metadata": {},
   "source": [
    "### one file"
   ]
  },
  {
   "cell_type": "code",
   "execution_count": 18,
   "metadata": {},
   "outputs": [],
   "source": [
    "url_file = \"https://api.github.com/repos/taniiishk/rock-paper-scissors-game/contents/code_file.py\"\n",
    "response = requests.request(\"GET\", url_file, headers=headers, data=payload)\n"
   ]
  },
  {
   "cell_type": "code",
   "execution_count": 22,
   "metadata": {},
   "outputs": [
    {
     "data": {
      "text/plain": [
       "{'name': 'code_file.py',\n",
       " 'path': 'code_file.py',\n",
       " 'sha': 'ee15d676e980576746be8cbbe93779ddfd3c9187',\n",
       " 'size': 2446,\n",
       " 'url': 'https://api.github.com/repos/Taniiishk/Rock-Paper-Scissors-Game/contents/code_file.py?ref=main',\n",
       " 'html_url': 'https://github.com/Taniiishk/Rock-Paper-Scissors-Game/blob/main/code_file.py',\n",
       " 'git_url': 'https://api.github.com/repos/Taniiishk/Rock-Paper-Scissors-Game/git/blobs/ee15d676e980576746be8cbbe93779ddfd3c9187',\n",
       " 'download_url': 'https://raw.githubusercontent.com/Taniiishk/Rock-Paper-Scissors-Game/main/code_file.py',\n",
       " 'type': 'file',\n",
       " 'content': 'aW1wb3J0IHRraW50ZXIgYXMgdGsKZnJvbSB0a2ludGVyIGltcG9ydCBQaG90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\\ncm9vdC5tYWlubG9vcCgpCg==\\n',\n",
       " 'encoding': 'base64',\n",
       " '_links': {'self': 'https://api.github.com/repos/Taniiishk/Rock-Paper-Scissors-Game/contents/code_file.py?ref=main',\n",
       "  'git': 'https://api.github.com/repos/Taniiishk/Rock-Paper-Scissors-Game/git/blobs/ee15d676e980576746be8cbbe93779ddfd3c9187',\n",
       "  'html': 'https://github.com/Taniiishk/Rock-Paper-Scissors-Game/blob/main/code_file.py'}}"
      ]
     },
     "execution_count": 22,
     "metadata": {},
     "output_type": "execute_result"
    }
   ],
   "source": [
    "data = response.json()\n",
    "data"
   ]
  },
  {
   "cell_type": "code",
   "execution_count": 23,
   "metadata": {},
   "outputs": [
    {
     "data": {
      "text/plain": [
       "'code_file.py'"
      ]
     },
     "execution_count": 23,
     "metadata": {},
     "output_type": "execute_result"
    }
   ],
   "source": [
    "data['name']"
   ]
  },
  {
   "cell_type": "markdown",
   "metadata": {},
   "source": [
    "### repo tree (not relevant?)"
   ]
  },
  {
   "cell_type": "code",
   "execution_count": null,
   "metadata": {},
   "outputs": [],
   "source": [
    "# tree_sha = 'd1b07bc9e30f12188a6be5575fd4a27114cbf874'\n",
    "# url_tree = f\"https://api.github.com/repos/taniiishk/rock-paper-scissors-game/git/trees/{tree_sha}\"\n",
    "\n",
    "# payload = {}\n",
    "# headers = {\n",
    "#   'Accept': 'application/vnd.github+json',\n",
    "#   'X-GitHub-Api-Version': '2022-11-28',\n",
    "#   'Authorization': f'Bearer {ACCESS_TOKEN}'\n",
    "# }"
   ]
  },
  {
   "cell_type": "code",
   "execution_count": null,
   "metadata": {},
   "outputs": [],
   "source": [
    "# response = requests.request(\"GET\", url_tree, headers=headers, data=payload)"
   ]
  },
  {
   "cell_type": "code",
   "execution_count": null,
   "metadata": {},
   "outputs": [
    {
     "data": {
      "text/plain": [
       "{'message': 'Invalid object requested. SHA must identify a commit or a tree.',\n",
       " 'documentation_url': 'https://docs.github.com/rest/git/trees#get-a-tree',\n",
       " 'status': '422'}"
      ]
     },
     "execution_count": 17,
     "metadata": {},
     "output_type": "execute_result"
    }
   ],
   "source": [
    "# response.json()"
   ]
  }
 ],
 "metadata": {
  "kernelspec": {
   "display_name": ".venv",
   "language": "python",
   "name": "python3"
  },
  "language_info": {
   "codemirror_mode": {
    "name": "ipython",
    "version": 3
   },
   "file_extension": ".py",
   "mimetype": "text/x-python",
   "name": "python",
   "nbconvert_exporter": "python",
   "pygments_lexer": "ipython3",
   "version": "3.12.0"
  }
 },
 "nbformat": 4,
 "nbformat_minor": 2
}
