{
 "cells": [
  {
   "cell_type": "code",
   "execution_count": null,
   "metadata": {},
   "outputs": [],
   "source": [
    "import requests\n",
    "import json\n",
    "from getpass import getpass\n",
    "import base64\n",
    "import pandas as pd\n",
    "from datetime import datetime\n"
   ]
  },
  {
   "cell_type": "code",
   "execution_count": 2,
   "metadata": {},
   "outputs": [],
   "source": [
    "# set credentials\n",
    "ACCESS_TOKEN = getpass()"
   ]
  },
  {
   "cell_type": "code",
   "execution_count": 3,
   "metadata": {},
   "outputs": [],
   "source": [
    "payload = {}\n",
    "headers = {\n",
    "  'Accept': 'application/vnd.github+json',\n",
    "  'X-GitHub-Api-Version': '2022-11-28',\n",
    "  'Authorization': f'Bearer {ACCESS_TOKEN}'\n",
    "}"
   ]
  },
  {
   "cell_type": "markdown",
   "metadata": {},
   "source": [
    "### list with multiple repos"
   ]
  },
  {
   "cell_type": "code",
   "execution_count": 4,
   "metadata": {},
   "outputs": [],
   "source": [
    "url_multiple_repos = 'https://api.github.com/search/repositories?q=language:python&page=3'\n",
    "\n",
    "response = requests.request('GET', url=url_multiple_repos, headers=headers, data=payload)"
   ]
  },
  {
   "cell_type": "code",
   "execution_count": 5,
   "metadata": {},
   "outputs": [],
   "source": [
    "data = response.json()"
   ]
  },
  {
   "cell_type": "code",
   "execution_count": null,
   "metadata": {},
   "outputs": [],
   "source": [
    "with open('../data/multiple_github_repos.json', 'w') as file:\n",
    "    json.dump(data, file)"
   ]
  },
  {
   "cell_type": "markdown",
   "metadata": {},
   "source": [
    "### load data from file for preprocessing"
   ]
  },
  {
   "cell_type": "code",
   "execution_count": 55,
   "metadata": {},
   "outputs": [],
   "source": [
    "with open('../data/multiple_github_repos.json', 'r') as file:\n",
    "    loaded_data = json.load(file)"
   ]
  },
  {
   "cell_type": "code",
   "execution_count": 56,
   "metadata": {},
   "outputs": [],
   "source": [
    "data = loaded_data['items']"
   ]
  },
  {
   "cell_type": "code",
   "execution_count": null,
   "metadata": {},
   "outputs": [],
   "source": [
    "data"
   ]
  },
  {
   "cell_type": "code",
   "execution_count": 57,
   "metadata": {},
   "outputs": [],
   "source": [
    "# get keys of loaded_data as list\n",
    "keys = list(loaded_data['items'][0].keys())"
   ]
  },
  {
   "cell_type": "code",
   "execution_count": 67,
   "metadata": {},
   "outputs": [
    {
     "name": "stdout",
     "output_type": "stream",
     "text": [
      "['id', 'node_id', 'name', 'full_name', 'private', 'owner', 'html_url', 'description', 'fork', 'url', 'forks_url', 'keys_url', 'collaborators_url', 'teams_url', 'hooks_url', 'issue_events_url', 'events_url', 'assignees_url', 'branches_url', 'tags_url', 'blobs_url', 'git_tags_url', 'git_refs_url', 'trees_url', 'statuses_url', 'languages_url', 'stargazers_url', 'contributors_url', 'subscribers_url', 'subscription_url', 'commits_url', 'git_commits_url', 'comments_url', 'issue_comment_url', 'contents_url', 'compare_url', 'merges_url', 'archive_url', 'downloads_url', 'issues_url', 'pulls_url', 'milestones_url', 'notifications_url', 'labels_url', 'releases_url', 'deployments_url', 'created_at', 'updated_at', 'pushed_at', 'git_url', 'ssh_url', 'clone_url', 'svn_url', 'homepage', 'size', 'stargazers_count', 'watchers_count', 'language', 'has_issues', 'has_projects', 'has_downloads', 'has_wiki', 'has_pages', 'has_discussions', 'forks_count', 'mirror_url', 'archived', 'disabled', 'open_issues_count', 'license', 'allow_forking', 'is_template', 'web_commit_signoff_required', 'topics', 'visibility', 'forks', 'open_issues', 'watchers', 'default_branch', 'permissions', 'score']\n"
     ]
    }
   ],
   "source": [
    "print(keys)"
   ]
  },
  {
   "cell_type": "code",
   "execution_count": 58,
   "metadata": {},
   "outputs": [],
   "source": [
    "# create empty df with keys of loaded_data as columns\n",
    "df_repos = pd.DataFrame(columns=keys)"
   ]
  },
  {
   "cell_type": "code",
   "execution_count": 59,
   "metadata": {},
   "outputs": [
    {
     "data": {
      "text/html": [
       "<div>\n",
       "<style scoped>\n",
       "    .dataframe tbody tr th:only-of-type {\n",
       "        vertical-align: middle;\n",
       "    }\n",
       "\n",
       "    .dataframe tbody tr th {\n",
       "        vertical-align: top;\n",
       "    }\n",
       "\n",
       "    .dataframe thead th {\n",
       "        text-align: right;\n",
       "    }\n",
       "</style>\n",
       "<table border=\"1\" class=\"dataframe\">\n",
       "  <thead>\n",
       "    <tr style=\"text-align: right;\">\n",
       "      <th></th>\n",
       "      <th>id</th>\n",
       "      <th>node_id</th>\n",
       "      <th>name</th>\n",
       "      <th>full_name</th>\n",
       "      <th>private</th>\n",
       "      <th>owner</th>\n",
       "      <th>html_url</th>\n",
       "      <th>description</th>\n",
       "      <th>fork</th>\n",
       "      <th>url</th>\n",
       "      <th>...</th>\n",
       "      <th>is_template</th>\n",
       "      <th>web_commit_signoff_required</th>\n",
       "      <th>topics</th>\n",
       "      <th>visibility</th>\n",
       "      <th>forks</th>\n",
       "      <th>open_issues</th>\n",
       "      <th>watchers</th>\n",
       "      <th>default_branch</th>\n",
       "      <th>permissions</th>\n",
       "      <th>score</th>\n",
       "    </tr>\n",
       "  </thead>\n",
       "  <tbody>\n",
       "  </tbody>\n",
       "</table>\n",
       "<p>0 rows × 81 columns</p>\n",
       "</div>"
      ],
      "text/plain": [
       "Empty DataFrame\n",
       "Columns: [id, node_id, name, full_name, private, owner, html_url, description, fork, url, forks_url, keys_url, collaborators_url, teams_url, hooks_url, issue_events_url, events_url, assignees_url, branches_url, tags_url, blobs_url, git_tags_url, git_refs_url, trees_url, statuses_url, languages_url, stargazers_url, contributors_url, subscribers_url, subscription_url, commits_url, git_commits_url, comments_url, issue_comment_url, contents_url, compare_url, merges_url, archive_url, downloads_url, issues_url, pulls_url, milestones_url, notifications_url, labels_url, releases_url, deployments_url, created_at, updated_at, pushed_at, git_url, ssh_url, clone_url, svn_url, homepage, size, stargazers_count, watchers_count, language, has_issues, has_projects, has_downloads, has_wiki, has_pages, has_discussions, forks_count, mirror_url, archived, disabled, open_issues_count, license, allow_forking, is_template, web_commit_signoff_required, topics, visibility, forks, open_issues, watchers, default_branch, permissions, score]\n",
       "Index: []\n",
       "\n",
       "[0 rows x 81 columns]"
      ]
     },
     "execution_count": 59,
     "metadata": {},
     "output_type": "execute_result"
    }
   ],
   "source": [
    "df_repos"
   ]
  },
  {
   "cell_type": "code",
   "execution_count": 60,
   "metadata": {},
   "outputs": [
    {
     "name": "stderr",
     "output_type": "stream",
     "text": [
      "/tmp/ipykernel_23777/84623438.py:3: FutureWarning: The behavior of DataFrame concatenation with empty or all-NA entries is deprecated. In a future version, this will no longer exclude empty or all-NA columns when determining the result dtypes. To retain the old behavior, exclude the relevant entries before the concat operation.\n",
      "  df_repos = pd.concat([df_repos, df_repo], ignore_index=True)\n"
     ]
    }
   ],
   "source": [
    "#  iterate through subdictionary in data and concatenate the content of the subdictionary to df_repos\n",
    "for repo in data:\n",
    "    # create tmp df_repo for each repo\n",
    "    df_repo = pd.DataFrame(data=[repo], columns=keys)\n",
    "    # concatenate df_repos with df_repo\n",
    "    df_repos = pd.concat([df_repos, df_repo], ignore_index=True)"
   ]
  },
  {
   "cell_type": "code",
   "execution_count": 77,
   "metadata": {},
   "outputs": [
    {
     "data": {
      "text/html": [
       "<div>\n",
       "<style scoped>\n",
       "    .dataframe tbody tr th:only-of-type {\n",
       "        vertical-align: middle;\n",
       "    }\n",
       "\n",
       "    .dataframe tbody tr th {\n",
       "        vertical-align: top;\n",
       "    }\n",
       "\n",
       "    .dataframe thead th {\n",
       "        text-align: right;\n",
       "    }\n",
       "</style>\n",
       "<table border=\"1\" class=\"dataframe\">\n",
       "  <thead>\n",
       "    <tr style=\"text-align: right;\">\n",
       "      <th></th>\n",
       "      <th>id</th>\n",
       "      <th>node_id</th>\n",
       "      <th>name</th>\n",
       "      <th>full_name</th>\n",
       "      <th>private</th>\n",
       "      <th>owner</th>\n",
       "      <th>html_url</th>\n",
       "      <th>description</th>\n",
       "      <th>fork</th>\n",
       "      <th>url</th>\n",
       "      <th>...</th>\n",
       "      <th>is_template</th>\n",
       "      <th>web_commit_signoff_required</th>\n",
       "      <th>topics</th>\n",
       "      <th>visibility</th>\n",
       "      <th>forks</th>\n",
       "      <th>open_issues</th>\n",
       "      <th>watchers</th>\n",
       "      <th>default_branch</th>\n",
       "      <th>permissions</th>\n",
       "      <th>score</th>\n",
       "    </tr>\n",
       "  </thead>\n",
       "  <tbody>\n",
       "    <tr>\n",
       "      <th>0</th>\n",
       "      <td>646410686</td>\n",
       "      <td>R_kgDOJodxvg</td>\n",
       "      <td>LLaMA-Factory</td>\n",
       "      <td>hiyouga/LLaMA-Factory</td>\n",
       "      <td>False</td>\n",
       "      <td>{'login': 'hiyouga', 'id': 16256802, 'node_id'...</td>\n",
       "      <td>https://github.com/hiyouga/LLaMA-Factory</td>\n",
       "      <td>Unified Efficient Fine-Tuning of 100+ LLMs &amp; V...</td>\n",
       "      <td>False</td>\n",
       "      <td>https://api.github.com/repos/hiyouga/LLaMA-Fac...</td>\n",
       "      <td>...</td>\n",
       "      <td>False</td>\n",
       "      <td>False</td>\n",
       "      <td>[agent, ai, chatglm, fine-tuning, gpt, instruc...</td>\n",
       "      <td>public</td>\n",
       "      <td>5638</td>\n",
       "      <td>431</td>\n",
       "      <td>46207</td>\n",
       "      <td>main</td>\n",
       "      <td>{'admin': False, 'maintain': False, 'push': Fa...</td>\n",
       "      <td>1.0</td>\n",
       "    </tr>\n",
       "  </tbody>\n",
       "</table>\n",
       "<p>1 rows × 81 columns</p>\n",
       "</div>"
      ],
      "text/plain": [
       "          id       node_id           name              full_name private  \\\n",
       "0  646410686  R_kgDOJodxvg  LLaMA-Factory  hiyouga/LLaMA-Factory   False   \n",
       "\n",
       "                                               owner  \\\n",
       "0  {'login': 'hiyouga', 'id': 16256802, 'node_id'...   \n",
       "\n",
       "                                   html_url  \\\n",
       "0  https://github.com/hiyouga/LLaMA-Factory   \n",
       "\n",
       "                                         description   fork  \\\n",
       "0  Unified Efficient Fine-Tuning of 100+ LLMs & V...  False   \n",
       "\n",
       "                                                 url  ... is_template  \\\n",
       "0  https://api.github.com/repos/hiyouga/LLaMA-Fac...  ...       False   \n",
       "\n",
       "  web_commit_signoff_required  \\\n",
       "0                       False   \n",
       "\n",
       "                                              topics visibility forks  \\\n",
       "0  [agent, ai, chatglm, fine-tuning, gpt, instruc...     public  5638   \n",
       "\n",
       "  open_issues watchers default_branch  \\\n",
       "0         431    46207           main   \n",
       "\n",
       "                                         permissions score  \n",
       "0  {'admin': False, 'maintain': False, 'push': Fa...   1.0  \n",
       "\n",
       "[1 rows x 81 columns]"
      ]
     },
     "execution_count": 77,
     "metadata": {},
     "output_type": "execute_result"
    }
   ],
   "source": [
    "df_repos.head(1)"
   ]
  },
  {
   "cell_type": "code",
   "execution_count": 78,
   "metadata": {},
   "outputs": [],
   "source": [
    "# columns which are requiered for preprocessing and fruther steps\n",
    "columns = ['id', 'name', 'full_name', 'html_url', 'description', 'url', 'labels_url', 'created_at', 'updated_at', 'pushed_at', 'size', 'stargazers_count', 'watchers_count', 'language', 'has_issues', 'has_projects', 'has_downloads', 'has_wiki', 'has_pages', 'has_discussions', 'forks_count', 'open_issues_count', 'license', 'allow_forking', 'topics', 'visibility', 'forks', 'open_issues', 'watchers', 'default_branch', 'score']"
   ]
  },
  {
   "cell_type": "code",
   "execution_count": 80,
   "metadata": {},
   "outputs": [],
   "source": [
    "for k in keys:\n",
    "    if k in columns:\n",
    "        continue\n",
    "    else:\n",
    "        df_repos = df_repos.drop([k], axis=1)"
   ]
  },
  {
   "cell_type": "code",
   "execution_count": 89,
   "metadata": {},
   "outputs": [
    {
     "data": {
      "text/html": [
       "<div>\n",
       "<style scoped>\n",
       "    .dataframe tbody tr th:only-of-type {\n",
       "        vertical-align: middle;\n",
       "    }\n",
       "\n",
       "    .dataframe tbody tr th {\n",
       "        vertical-align: top;\n",
       "    }\n",
       "\n",
       "    .dataframe thead th {\n",
       "        text-align: right;\n",
       "    }\n",
       "</style>\n",
       "<table border=\"1\" class=\"dataframe\">\n",
       "  <thead>\n",
       "    <tr style=\"text-align: right;\">\n",
       "      <th></th>\n",
       "      <th>forks</th>\n",
       "      <th>watchers</th>\n",
       "      <th>stargazers_count</th>\n",
       "    </tr>\n",
       "  </thead>\n",
       "  <tbody>\n",
       "    <tr>\n",
       "      <th>0</th>\n",
       "      <td>5638</td>\n",
       "      <td>46207</td>\n",
       "      <td>46207</td>\n",
       "    </tr>\n",
       "    <tr>\n",
       "      <th>1</th>\n",
       "      <td>8717</td>\n",
       "      <td>45652</td>\n",
       "      <td>45652</td>\n",
       "    </tr>\n",
       "    <tr>\n",
       "      <th>2</th>\n",
       "      <td>18413</td>\n",
       "      <td>45039</td>\n",
       "      <td>45039</td>\n",
       "    </tr>\n",
       "    <tr>\n",
       "      <th>3</th>\n",
       "      <td>6767</td>\n",
       "      <td>44187</td>\n",
       "      <td>44187</td>\n",
       "    </tr>\n",
       "    <tr>\n",
       "      <th>4</th>\n",
       "      <td>4866</td>\n",
       "      <td>43721</td>\n",
       "      <td>43721</td>\n",
       "    </tr>\n",
       "    <tr>\n",
       "      <th>5</th>\n",
       "      <td>6674</td>\n",
       "      <td>43677</td>\n",
       "      <td>43677</td>\n",
       "    </tr>\n",
       "    <tr>\n",
       "      <th>6</th>\n",
       "      <td>2063</td>\n",
       "      <td>43178</td>\n",
       "      <td>43178</td>\n",
       "    </tr>\n",
       "    <tr>\n",
       "      <th>7</th>\n",
       "      <td>5552</td>\n",
       "      <td>43089</td>\n",
       "      <td>43089</td>\n",
       "    </tr>\n",
       "    <tr>\n",
       "      <th>8</th>\n",
       "      <td>6406</td>\n",
       "      <td>42776</td>\n",
       "      <td>42776</td>\n",
       "    </tr>\n",
       "    <tr>\n",
       "      <th>9</th>\n",
       "      <td>7180</td>\n",
       "      <td>42154</td>\n",
       "      <td>42154</td>\n",
       "    </tr>\n",
       "    <tr>\n",
       "      <th>10</th>\n",
       "      <td>27167</td>\n",
       "      <td>42028</td>\n",
       "      <td>42028</td>\n",
       "    </tr>\n",
       "    <tr>\n",
       "      <th>11</th>\n",
       "      <td>6972</td>\n",
       "      <td>41192</td>\n",
       "      <td>41192</td>\n",
       "    </tr>\n",
       "    <tr>\n",
       "      <th>12</th>\n",
       "      <td>5230</td>\n",
       "      <td>41029</td>\n",
       "      <td>41029</td>\n",
       "    </tr>\n",
       "    <tr>\n",
       "      <th>13</th>\n",
       "      <td>4491</td>\n",
       "      <td>40732</td>\n",
       "      <td>40732</td>\n",
       "    </tr>\n",
       "    <tr>\n",
       "      <th>14</th>\n",
       "      <td>5802</td>\n",
       "      <td>40731</td>\n",
       "      <td>40731</td>\n",
       "    </tr>\n",
       "    <tr>\n",
       "      <th>15</th>\n",
       "      <td>5202</td>\n",
       "      <td>40703</td>\n",
       "      <td>40703</td>\n",
       "    </tr>\n",
       "    <tr>\n",
       "      <th>16</th>\n",
       "      <td>2600</td>\n",
       "      <td>40566</td>\n",
       "      <td>40566</td>\n",
       "    </tr>\n",
       "    <tr>\n",
       "      <th>17</th>\n",
       "      <td>6690</td>\n",
       "      <td>40508</td>\n",
       "      <td>40508</td>\n",
       "    </tr>\n",
       "    <tr>\n",
       "      <th>18</th>\n",
       "      <td>11536</td>\n",
       "      <td>40504</td>\n",
       "      <td>40504</td>\n",
       "    </tr>\n",
       "    <tr>\n",
       "      <th>19</th>\n",
       "      <td>4305</td>\n",
       "      <td>40498</td>\n",
       "      <td>40498</td>\n",
       "    </tr>\n",
       "    <tr>\n",
       "      <th>20</th>\n",
       "      <td>3582</td>\n",
       "      <td>40121</td>\n",
       "      <td>40121</td>\n",
       "    </tr>\n",
       "    <tr>\n",
       "      <th>21</th>\n",
       "      <td>2564</td>\n",
       "      <td>40011</td>\n",
       "      <td>40011</td>\n",
       "    </tr>\n",
       "    <tr>\n",
       "      <th>22</th>\n",
       "      <td>14849</td>\n",
       "      <td>39495</td>\n",
       "      <td>39495</td>\n",
       "    </tr>\n",
       "    <tr>\n",
       "      <th>23</th>\n",
       "      <td>1810</td>\n",
       "      <td>39206</td>\n",
       "      <td>39206</td>\n",
       "    </tr>\n",
       "    <tr>\n",
       "      <th>24</th>\n",
       "      <td>4932</td>\n",
       "      <td>39142</td>\n",
       "      <td>39142</td>\n",
       "    </tr>\n",
       "    <tr>\n",
       "      <th>25</th>\n",
       "      <td>7572</td>\n",
       "      <td>39044</td>\n",
       "      <td>39044</td>\n",
       "    </tr>\n",
       "    <tr>\n",
       "      <th>26</th>\n",
       "      <td>9670</td>\n",
       "      <td>38969</td>\n",
       "      <td>38969</td>\n",
       "    </tr>\n",
       "    <tr>\n",
       "      <th>27</th>\n",
       "      <td>7350</td>\n",
       "      <td>38915</td>\n",
       "      <td>38915</td>\n",
       "    </tr>\n",
       "    <tr>\n",
       "      <th>28</th>\n",
       "      <td>3370</td>\n",
       "      <td>38642</td>\n",
       "      <td>38642</td>\n",
       "    </tr>\n",
       "    <tr>\n",
       "      <th>29</th>\n",
       "      <td>4146</td>\n",
       "      <td>38613</td>\n",
       "      <td>38613</td>\n",
       "    </tr>\n",
       "  </tbody>\n",
       "</table>\n",
       "</div>"
      ],
      "text/plain": [
       "    forks watchers stargazers_count\n",
       "0    5638    46207            46207\n",
       "1    8717    45652            45652\n",
       "2   18413    45039            45039\n",
       "3    6767    44187            44187\n",
       "4    4866    43721            43721\n",
       "5    6674    43677            43677\n",
       "6    2063    43178            43178\n",
       "7    5552    43089            43089\n",
       "8    6406    42776            42776\n",
       "9    7180    42154            42154\n",
       "10  27167    42028            42028\n",
       "11   6972    41192            41192\n",
       "12   5230    41029            41029\n",
       "13   4491    40732            40732\n",
       "14   5802    40731            40731\n",
       "15   5202    40703            40703\n",
       "16   2600    40566            40566\n",
       "17   6690    40508            40508\n",
       "18  11536    40504            40504\n",
       "19   4305    40498            40498\n",
       "20   3582    40121            40121\n",
       "21   2564    40011            40011\n",
       "22  14849    39495            39495\n",
       "23   1810    39206            39206\n",
       "24   4932    39142            39142\n",
       "25   7572    39044            39044\n",
       "26   9670    38969            38969\n",
       "27   7350    38915            38915\n",
       "28   3370    38642            38642\n",
       "29   4146    38613            38613"
      ]
     },
     "execution_count": 89,
     "metadata": {},
     "output_type": "execute_result"
    }
   ],
   "source": [
    "df_repos[['forks', 'watchers', 'stargazers_count']]"
   ]
  },
  {
   "cell_type": "code",
   "execution_count": 90,
   "metadata": {},
   "outputs": [
    {
     "name": "stdout",
     "output_type": "stream",
     "text": [
      "1020\n"
     ]
    }
   ],
   "source": [
    "print(30*34)"
   ]
  },
  {
   "cell_type": "markdown",
   "metadata": {},
   "source": [
    "### list with repo names - endpoint search"
   ]
  },
  {
   "cell_type": "code",
   "execution_count": null,
   "metadata": {},
   "outputs": [],
   "source": [
    "url_list = \"https://api.github.com/search/repositories?q=language:python\"\n",
    "\n",
    "\n",
    "response = requests.request(\"GET\", url_list, headers=headers, data=payload)\n",
    "\n",
    "print(response.text)"
   ]
  },
  {
   "cell_type": "markdown",
   "metadata": {},
   "source": [
    "### repo content"
   ]
  },
  {
   "cell_type": "code",
   "execution_count": null,
   "metadata": {},
   "outputs": [],
   "source": [
    "# url for repo content\n",
    "url = \"https://api.github.com/repos/taniiishk/rock-paper-scissors-game/contents/\""
   ]
  },
  {
   "cell_type": "code",
   "execution_count": 4,
   "metadata": {},
   "outputs": [
    {
     "name": "stdout",
     "output_type": "stream",
     "text": [
      "Request successful\n"
     ]
    }
   ],
   "source": [
    "response = requests.request(\"GET\", url, headers=headers, data=payload)\n",
    "if response.status_code == 200:\n",
    "    print('Request successful')\n",
    "else:\n",
    "    raise Exception(f\"Non-success status code: {response.status_code}\")"
   ]
  },
  {
   "cell_type": "code",
   "execution_count": 5,
   "metadata": {},
   "outputs": [
    {
     "data": {
      "text/plain": [
       "[{'name': 'README.md',\n",
       "  'path': 'README.md',\n",
       "  'sha': 'd1b07bc9e30f12188a6be5575fd4a27114cbf874',\n",
       "  'size': 3287,\n",
       "  'url': 'https://api.github.com/repos/Taniiishk/Rock-Paper-Scissors-Game/contents/README.md?ref=main',\n",
       "  'html_url': 'https://github.com/Taniiishk/Rock-Paper-Scissors-Game/blob/main/README.md',\n",
       "  'git_url': 'https://api.github.com/repos/Taniiishk/Rock-Paper-Scissors-Game/git/blobs/d1b07bc9e30f12188a6be5575fd4a27114cbf874',\n",
       "  'download_url': 'https://raw.githubusercontent.com/Taniiishk/Rock-Paper-Scissors-Game/main/README.md',\n",
       "  'type': 'file',\n",
       "  '_links': {'self': 'https://api.github.com/repos/Taniiishk/Rock-Paper-Scissors-Game/contents/README.md?ref=main',\n",
       "   'git': 'https://api.github.com/repos/Taniiishk/Rock-Paper-Scissors-Game/git/blobs/d1b07bc9e30f12188a6be5575fd4a27114cbf874',\n",
       "   'html': 'https://github.com/Taniiishk/Rock-Paper-Scissors-Game/blob/main/README.md'}},\n",
       " {'name': 'code_file.py',\n",
       "  'path': 'code_file.py',\n",
       "  'sha': 'ee15d676e980576746be8cbbe93779ddfd3c9187',\n",
       "  'size': 2446,\n",
       "  'url': 'https://api.github.com/repos/Taniiishk/Rock-Paper-Scissors-Game/contents/code_file.py?ref=main',\n",
       "  'html_url': 'https://github.com/Taniiishk/Rock-Paper-Scissors-Game/blob/main/code_file.py',\n",
       "  'git_url': 'https://api.github.com/repos/Taniiishk/Rock-Paper-Scissors-Game/git/blobs/ee15d676e980576746be8cbbe93779ddfd3c9187',\n",
       "  'download_url': 'https://raw.githubusercontent.com/Taniiishk/Rock-Paper-Scissors-Game/main/code_file.py',\n",
       "  'type': 'file',\n",
       "  '_links': {'self': 'https://api.github.com/repos/Taniiishk/Rock-Paper-Scissors-Game/contents/code_file.py?ref=main',\n",
       "   'git': 'https://api.github.com/repos/Taniiishk/Rock-Paper-Scissors-Game/git/blobs/ee15d676e980576746be8cbbe93779ddfd3c9187',\n",
       "   'html': 'https://github.com/Taniiishk/Rock-Paper-Scissors-Game/blob/main/code_file.py'}},\n",
       " {'name': 'paper.png',\n",
       "  'path': 'paper.png',\n",
       "  'sha': '7eb5b45125da510d6fe77be97f7054b26f376c38',\n",
       "  'size': 37754,\n",
       "  'url': 'https://api.github.com/repos/Taniiishk/Rock-Paper-Scissors-Game/contents/paper.png?ref=main',\n",
       "  'html_url': 'https://github.com/Taniiishk/Rock-Paper-Scissors-Game/blob/main/paper.png',\n",
       "  'git_url': 'https://api.github.com/repos/Taniiishk/Rock-Paper-Scissors-Game/git/blobs/7eb5b45125da510d6fe77be97f7054b26f376c38',\n",
       "  'download_url': 'https://raw.githubusercontent.com/Taniiishk/Rock-Paper-Scissors-Game/main/paper.png',\n",
       "  'type': 'file',\n",
       "  '_links': {'self': 'https://api.github.com/repos/Taniiishk/Rock-Paper-Scissors-Game/contents/paper.png?ref=main',\n",
       "   'git': 'https://api.github.com/repos/Taniiishk/Rock-Paper-Scissors-Game/git/blobs/7eb5b45125da510d6fe77be97f7054b26f376c38',\n",
       "   'html': 'https://github.com/Taniiishk/Rock-Paper-Scissors-Game/blob/main/paper.png'}},\n",
       " {'name': 'rock.png',\n",
       "  'path': 'rock.png',\n",
       "  'sha': '4909112d4f87c1500df5dbdebf8d8a3948e8bd9d',\n",
       "  'size': 28904,\n",
       "  'url': 'https://api.github.com/repos/Taniiishk/Rock-Paper-Scissors-Game/contents/rock.png?ref=main',\n",
       "  'html_url': 'https://github.com/Taniiishk/Rock-Paper-Scissors-Game/blob/main/rock.png',\n",
       "  'git_url': 'https://api.github.com/repos/Taniiishk/Rock-Paper-Scissors-Game/git/blobs/4909112d4f87c1500df5dbdebf8d8a3948e8bd9d',\n",
       "  'download_url': 'https://raw.githubusercontent.com/Taniiishk/Rock-Paper-Scissors-Game/main/rock.png',\n",
       "  'type': 'file',\n",
       "  '_links': {'self': 'https://api.github.com/repos/Taniiishk/Rock-Paper-Scissors-Game/contents/rock.png?ref=main',\n",
       "   'git': 'https://api.github.com/repos/Taniiishk/Rock-Paper-Scissors-Game/git/blobs/4909112d4f87c1500df5dbdebf8d8a3948e8bd9d',\n",
       "   'html': 'https://github.com/Taniiishk/Rock-Paper-Scissors-Game/blob/main/rock.png'}},\n",
       " {'name': 'sample_images',\n",
       "  'path': 'sample_images',\n",
       "  'sha': 'd0c1d7b8024ea3c0f86f682e0b185705f57e25e6',\n",
       "  'size': 0,\n",
       "  'url': 'https://api.github.com/repos/Taniiishk/Rock-Paper-Scissors-Game/contents/sample_images?ref=main',\n",
       "  'html_url': 'https://github.com/Taniiishk/Rock-Paper-Scissors-Game/tree/main/sample_images',\n",
       "  'git_url': 'https://api.github.com/repos/Taniiishk/Rock-Paper-Scissors-Game/git/trees/d0c1d7b8024ea3c0f86f682e0b185705f57e25e6',\n",
       "  'download_url': None,\n",
       "  'type': 'dir',\n",
       "  '_links': {'self': 'https://api.github.com/repos/Taniiishk/Rock-Paper-Scissors-Game/contents/sample_images?ref=main',\n",
       "   'git': 'https://api.github.com/repos/Taniiishk/Rock-Paper-Scissors-Game/git/trees/d0c1d7b8024ea3c0f86f682e0b185705f57e25e6',\n",
       "   'html': 'https://github.com/Taniiishk/Rock-Paper-Scissors-Game/tree/main/sample_images'}},\n",
       " {'name': 'scissors.png',\n",
       "  'path': 'scissors.png',\n",
       "  'sha': 'c91aa57d59707fd71796372c41b80eab32d273bc',\n",
       "  'size': 35050,\n",
       "  'url': 'https://api.github.com/repos/Taniiishk/Rock-Paper-Scissors-Game/contents/scissors.png?ref=main',\n",
       "  'html_url': 'https://github.com/Taniiishk/Rock-Paper-Scissors-Game/blob/main/scissors.png',\n",
       "  'git_url': 'https://api.github.com/repos/Taniiishk/Rock-Paper-Scissors-Game/git/blobs/c91aa57d59707fd71796372c41b80eab32d273bc',\n",
       "  'download_url': 'https://raw.githubusercontent.com/Taniiishk/Rock-Paper-Scissors-Game/main/scissors.png',\n",
       "  'type': 'file',\n",
       "  '_links': {'self': 'https://api.github.com/repos/Taniiishk/Rock-Paper-Scissors-Game/contents/scissors.png?ref=main',\n",
       "   'git': 'https://api.github.com/repos/Taniiishk/Rock-Paper-Scissors-Game/git/blobs/c91aa57d59707fd71796372c41b80eab32d273bc',\n",
       "   'html': 'https://github.com/Taniiishk/Rock-Paper-Scissors-Game/blob/main/scissors.png'}}]"
      ]
     },
     "execution_count": 5,
     "metadata": {},
     "output_type": "execute_result"
    }
   ],
   "source": [
    "data = response.json()\n",
    "data"
   ]
  },
  {
   "cell_type": "markdown",
   "metadata": {},
   "source": [
    "### one file"
   ]
  },
  {
   "cell_type": "code",
   "execution_count": 6,
   "metadata": {},
   "outputs": [],
   "source": [
    "url_file = \"https://api.github.com/repos/taniiishk/rock-paper-scissors-game/contents/code_file.py\"\n",
    "response = requests.request(\"GET\", url_file, headers=headers, data=payload)\n"
   ]
  },
  {
   "cell_type": "code",
   "execution_count": 7,
   "metadata": {},
   "outputs": [
    {
     "data": {
      "text/plain": [
       "{'name': 'code_file.py',\n",
       " 'path': 'code_file.py',\n",
       " 'sha': 'ee15d676e980576746be8cbbe93779ddfd3c9187',\n",
       " 'size': 2446,\n",
       " 'url': 'https://api.github.com/repos/Taniiishk/Rock-Paper-Scissors-Game/contents/code_file.py?ref=main',\n",
       " 'html_url': 'https://github.com/Taniiishk/Rock-Paper-Scissors-Game/blob/main/code_file.py',\n",
       " 'git_url': 'https://api.github.com/repos/Taniiishk/Rock-Paper-Scissors-Game/git/blobs/ee15d676e980576746be8cbbe93779ddfd3c9187',\n",
       " 'download_url': 'https://raw.githubusercontent.com/Taniiishk/Rock-Paper-Scissors-Game/main/code_file.py',\n",
       " 'type': 'file',\n",
       " 'content': 'aW1wb3J0IHRraW50ZXIgYXMgdGsKZnJvbSB0a2ludGVyIGltcG9ydCBQaG90\\nb0ltYWdlCmltcG9ydCByYW5kb20KCnJvb3QgPSB0ay5UaygpCnJvb3QudGl0\\nbGUoIlJvY2sgUGFwZXIgU2Npc3NvcnMgR2FtZSIpCnJvb3QuZ2VvbWV0cnko\\nIjE5ODB4MTA4MCIpCnJvb3QuY29uZmlndXJlKGJnPSIjRjBGOEZGIikgICMg\\nQWxpY2VCbHVlIGJhY2tncm91bmQKCiMgSGVhZGluZyBhdCB0aGUgdG9wIApo\\nZWFkaW5nID0gdGsuTGFiZWwocm9vdCwgdGV4dD0iUm9jayBQYXBlciBTY2lz\\nc29ycyBHYW1lIiwgZm9udD0oIkhlbHZldGljYSIsIDQwLCAiYm9sZCB1bmRl\\ncmxpbmUiKSwgZmc9IiMyRThCNTciLCBiZz0iI0YwRjhGRiIpIApoZWFkaW5n\\nLnBsYWNlKHJlbHg9MC41LCByZWx5PTAuMDUsIGFuY2hvcj0iY2VudGVyIikK\\nCiMgTWFpbiBGcmFtZSAKZnJhbWUgPSB0ay5GcmFtZShyb290LCBiZz0iI0FE\\nRDhFNiIpCmZyYW1lLnBsYWNlKHJlbHg9MC4xLCByZWx5PTAuMTcsIHJlbHdp\\nZHRoPTAuODAsIHJlbGhlaWdodD0wLjc1KQoKbGFiZWwgPSB0ay5MYWJlbChm\\ncmFtZSwgdGV4dD0iTGV0J3MgcGxheSEg8J+qqCDwn5ODIOKcgu+4jyIsIGZv\\nbnQ9KCJIZWx2ZXRpY2EiLCAzNSwgImJvbGQiKSwgYmc9IiNBREQ4RTYiLCBm\\nZz0iYmxhY2siKQpsYWJlbC5wbGFjZShyZWx4PTAuMzMsIHJlbHk9MC4wNDUp\\nCgojIExvYWQgdGhlIGltYWdlcwppbWFnZV9yb2NrID0gUGhvdG9JbWFnZShm\\naWxlPSJDOlxcVXNlcnNcXHRhbmlzXFxEb3dubG9hZHNcXHJvY2sucG5nIikK\\naW1hZ2VfcGFwZXIgPSBQaG90b0ltYWdlKGZpbGU9IkM6XFxVc2Vyc1xcdGFu\\naXNcXERvd25sb2Fkc1xccGFwZXIucG5nIikKaW1hZ2Vfc2Npc3NvcnMgPSBQ\\naG90b0ltYWdlKGZpbGU9IkM6XFxVc2Vyc1xcdGFuaXNcXERvd25sb2Fkc1xc\\nc2Npc3NvcnMucG5nIikKCiMgQ3JlYXRlIGJ1dHRvbnMgd2l0aCBpbWFnZXMK\\ncm9ja19idXR0b24gPSB0ay5CdXR0b24oZnJhbWUsIGltYWdlPWltYWdlX3Jv\\nY2spCnJvY2tfYnV0dG9uLnBsYWNlKHJlbHg9MC4yMCwgcmVseT0wLjQ1LCBh\\nbmNob3I9ImNlbnRlciIpCgpwYXBlcl9idXR0b24gPSB0ay5CdXR0b24oZnJh\\nbWUsIGltYWdlPWltYWdlX3BhcGVyKQpwYXBlcl9idXR0b24ucGxhY2UocmVs\\neD0wLjUwLCByZWx5PTAuNDUsIGFuY2hvcj0iY2VudGVyIikKCnNjaXNzb3Jz\\nX2J1dHRvbiA9IHRrLkJ1dHRvbihmcmFtZSwgaW1hZ2U9aW1hZ2Vfc2Npc3Nv\\ncnMpCnNjaXNzb3JzX2J1dHRvbi5wbGFjZShyZWx4PTAuODAsIHJlbHk9MC40\\nNSwgYW5jaG9yPSJjZW50ZXIiKQoKZGVmIGdldF9jb21wdXRlcl9jaG9pY2Uo\\nKToKICAgIGNob2ljZXMgPSBbInJvY2siLCAicGFwZXIiLCAic2Npc3NvcnMi\\nXQogICAgcmV0dXJuIHJhbmRvbS5jaG9pY2UoY2hvaWNlcykKCmRlZiBkZXRl\\ncm1pbmVfd2lubmVyKHVzZXJfY2hvaWNlLCBjb21wdXRlcl9jaG9pY2UpOgog\\nICAgaWYgdXNlcl9jaG9pY2UgPT0gY29tcHV0ZXJfY2hvaWNlOgogICAgICAg\\nIHJldHVybiAiSXQncyBhIHRpZSEiCiAgICBlbGlmICh1c2VyX2Nob2ljZSA9\\nPSAicm9jayIgYW5kIGNvbXB1dGVyX2Nob2ljZSA9PSAic2Npc3NvcnMiKSBv\\nciBcCiAgICAgICAgICh1c2VyX2Nob2ljZSA9PSAic2Npc3NvcnMiIGFuZCBj\\nb21wdXRlcl9jaG9pY2UgPT0gInBhcGVyIikgb3IgXAogICAgICAgICAodXNl\\ncl9jaG9pY2UgPT0gInBhcGVyIiBhbmQgY29tcHV0ZXJfY2hvaWNlID09ICJy\\nb2NrIik6CiAgICAgICAgcmV0dXJuICJZb3Ugd2luISIKICAgIGVsc2U6CiAg\\nICAgICAgcmV0dXJuICJDb21wdXRlciB3aW5zISIKCmRlZiBvbl9idXR0b25f\\nY2xpY2sodXNlcl9jaG9pY2UpOgogICAgY29tcHV0ZXJfY2hvaWNlID0gZ2V0\\nX2NvbXB1dGVyX2Nob2ljZSgpCiAgICByZXN1bHQgPSBkZXRlcm1pbmVfd2lu\\nbmVyKHVzZXJfY2hvaWNlLCBjb21wdXRlcl9jaG9pY2UpCiAgICByZXN1bHRf\\nbGFiZWwuY29uZmlnKHRleHQ9ZiJDb21wdXRlciBjaG9zZToge2NvbXB1dGVy\\nX2Nob2ljZX1cbntyZXN1bHR9IikKCiMgQXR0YWNoIGNvbW1hbmRzIHRvIGJ1\\ndHRvbnMKcm9ja19idXR0b24uY29uZmlnKGNvbW1hbmQ9bGFtYmRhOiBvbl9i\\ndXR0b25fY2xpY2soInJvY2siKSkKcGFwZXJfYnV0dG9uLmNvbmZpZyhjb21t\\nYW5kPWxhbWJkYTogb25fYnV0dG9uX2NsaWNrKCJwYXBlciIpKQpzY2lzc29y\\nc19idXR0b24uY29uZmlnKGNvbW1hbmQ9bGFtYmRhOiBvbl9idXR0b25fY2xp\\nY2soInNjaXNzb3JzIikpCgojIExhYmVsIHRvIGRpc3BsYXkgdGhlIHJlc3Vs\\ndApyZXN1bHRfbGFiZWwgPSB0ay5MYWJlbChyb290LCB0ZXh0PSIiLCBiZz0i\\nI0YwRjhGRiIsIGZvbnQ9KCJBcmlhbCIsIDM1LCJib2xkIikpICAjIEFsaWNl\\nQmx1ZSBiYWNrZ3JvdW5kIGZvciByZXN1bHQgbGFiZWwKcmVzdWx0X2xhYmVs\\nLnBsYWNlKHJlbHg9MC41LCByZWx5PTAuOCwgYW5jaG9yPSJjZW50ZXIiKQoK\\ncm9vdC5tYWlubG9vcCgpCg==\\n',\n",
       " 'encoding': 'base64',\n",
       " '_links': {'self': 'https://api.github.com/repos/Taniiishk/Rock-Paper-Scissors-Game/contents/code_file.py?ref=main',\n",
       "  'git': 'https://api.github.com/repos/Taniiishk/Rock-Paper-Scissors-Game/git/blobs/ee15d676e980576746be8cbbe93779ddfd3c9187',\n",
       "  'html': 'https://github.com/Taniiishk/Rock-Paper-Scissors-Game/blob/main/code_file.py'}}"
      ]
     },
     "execution_count": 7,
     "metadata": {},
     "output_type": "execute_result"
    }
   ],
   "source": [
    "data = response.json()\n",
    "data"
   ]
  },
  {
   "cell_type": "code",
   "execution_count": 8,
   "metadata": {},
   "outputs": [
    {
     "data": {
      "text/plain": [
       "'code_file.py'"
      ]
     },
     "execution_count": 8,
     "metadata": {},
     "output_type": "execute_result"
    }
   ],
   "source": [
    "data['name']"
   ]
  },
  {
   "cell_type": "markdown",
   "metadata": {},
   "source": [
    "### repo tree (not relevant?)"
   ]
  },
  {
   "cell_type": "code",
   "execution_count": null,
   "metadata": {},
   "outputs": [],
   "source": [
    "# tree_sha = 'd1b07bc9e30f12188a6be5575fd4a27114cbf874'\n",
    "# url_tree = f\"https://api.github.com/repos/taniiishk/rock-paper-scissors-game/git/trees/{tree_sha}\"\n",
    "\n",
    "# payload = {}\n",
    "# headers = {\n",
    "#   'Accept': 'application/vnd.github+json',\n",
    "#   'X-GitHub-Api-Version': '2022-11-28',\n",
    "#   'Authorization': f'Bearer {ACCESS_TOKEN}'\n",
    "# }"
   ]
  },
  {
   "cell_type": "code",
   "execution_count": null,
   "metadata": {},
   "outputs": [],
   "source": [
    "# response = requests.request(\"GET\", url_tree, headers=headers, data=payload)"
   ]
  },
  {
   "cell_type": "code",
   "execution_count": null,
   "metadata": {},
   "outputs": [
    {
     "data": {
      "text/plain": [
       "{'message': 'Invalid object requested. SHA must identify a commit or a tree.',\n",
       " 'documentation_url': 'https://docs.github.com/rest/git/trees#get-a-tree',\n",
       " 'status': '422'}"
      ]
     },
     "execution_count": 17,
     "metadata": {},
     "output_type": "execute_result"
    }
   ],
   "source": [
    "# response.json()"
   ]
  },
  {
   "cell_type": "markdown",
   "metadata": {},
   "source": []
  }
 ],
 "metadata": {
  "kernelspec": {
   "display_name": ".venv",
   "language": "python",
   "name": "python3"
  },
  "language_info": {
   "codemirror_mode": {
    "name": "ipython",
    "version": 3
   },
   "file_extension": ".py",
   "mimetype": "text/x-python",
   "name": "python",
   "nbconvert_exporter": "python",
   "pygments_lexer": "ipython3",
   "version": "3.12.3"
  }
 },
 "nbformat": 4,
 "nbformat_minor": 2
}
