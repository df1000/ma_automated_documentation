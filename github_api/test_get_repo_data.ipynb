{
 "cells": [
  {
   "cell_type": "code",
   "execution_count": 5,
   "id": "42806736",
   "metadata": {},
   "outputs": [],
   "source": [
    "import requests # package for api requests\n",
    "import json # package to work with .json\n",
    "from getpass import getpass # package for handing over credentials\n",
    "from datetime import datetime # package for timestamps\n",
    "import time # package to set time ranges\n",
    "import random # package to work with random numbers\n",
    "from ratelimit import limits, sleep_and_retry # package for handling api requests\n",
    "from dotenv import load_dotenv\n",
    "import os"
   ]
  },
  {
   "cell_type": "code",
   "execution_count": 8,
   "id": "19d75df1",
   "metadata": {},
   "outputs": [
    {
     "data": {
      "text/plain": [
       "True"
      ]
     },
     "execution_count": 8,
     "metadata": {},
     "output_type": "execute_result"
    }
   ],
   "source": [
    "load_dotenv(override=True)\n"
   ]
  },
  {
   "cell_type": "code",
   "execution_count": 9,
   "id": "4970983a",
   "metadata": {},
   "outputs": [],
   "source": [
    "# set ratelimit for requests\n",
    "ONE_MINUTE = 60\n",
    "\n",
    "# set credentials and parameters for api requests\n",
    "ACCESS_TOKEN = os.environ['GIT_TOKEN']\n",
    "payload = {}\n",
    "headers = {\n",
    "  'Accept': 'application/vnd.github+json',\n",
    "  'X-GitHub-Api-Version': '2022-11-28',\n",
    "  'Authorization': f'Bearer {ACCESS_TOKEN}'\n",
    "}"
   ]
  },
  {
   "cell_type": "code",
   "execution_count": 14,
   "id": "328d45c4",
   "metadata": {},
   "outputs": [],
   "source": [
    "url = \"https://api.github.com/repos/yoyobabycool/python-github-action-twitter-bot/contents\"\n",
    "response = requests.request(\"GET\", url, headers=headers, data=payload)"
   ]
  },
  {
   "cell_type": "code",
   "execution_count": 15,
   "id": "26ff0720",
   "metadata": {},
   "outputs": [
    {
     "name": "stdout",
     "output_type": "stream",
     "text": [
      "Name: .github, Path: .github, Type: dir\n",
      "Name: README.md, Path: README.md, Type: file\n",
      "Name: emoji.py, Path: emoji.py, Type: file\n",
      "Name: last_tweet_index.txt, Path: last_tweet_index.txt, Type: file\n",
      "Name: main.py, Path: main.py, Type: file\n",
      "Name: quotes.json, Path: quotes.json, Type: file\n",
      "Name: requirements.txt, Path: requirements.txt, Type: file\n"
     ]
    }
   ],
   "source": [
    "files = response.json()\n",
    "for file in files:\n",
    "    print(f\"Name: {file['name']}, Path: {file['path']}, Type: {file['type']}\")"
   ]
  }
 ],
 "metadata": {
  "kernelspec": {
   "display_name": ".venv",
   "language": "python",
   "name": "python3"
  },
  "language_info": {
   "codemirror_mode": {
    "name": "ipython",
    "version": 3
   },
   "file_extension": ".py",
   "mimetype": "text/x-python",
   "name": "python",
   "nbconvert_exporter": "python",
   "pygments_lexer": "ipython3",
   "version": "3.12.3"
  }
 },
 "nbformat": 4,
 "nbformat_minor": 5
}
