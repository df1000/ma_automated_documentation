{
 "cells": [
  {
   "cell_type": "code",
   "execution_count": 1,
   "id": "42806736",
   "metadata": {},
   "outputs": [],
   "source": [
    "import requests # package for api requests\n",
    "import json # package to work with .json\n",
    "from getpass import getpass # package for handing over credentials\n",
    "from datetime import datetime # package for timestamps\n",
    "import time # package to set time ranges\n",
    "import random # package to work with random numbers\n",
    "from ratelimit import limits, sleep_and_retry # package for handling api requests\n",
    "from dotenv import load_dotenv\n",
    "import os"
   ]
  },
  {
   "cell_type": "code",
   "execution_count": 2,
   "id": "19d75df1",
   "metadata": {},
   "outputs": [
    {
     "data": {
      "text/plain": [
       "True"
      ]
     },
     "execution_count": 2,
     "metadata": {},
     "output_type": "execute_result"
    }
   ],
   "source": [
    "load_dotenv(override=True)\n"
   ]
  },
  {
   "cell_type": "code",
   "execution_count": 12,
   "id": "4970983a",
   "metadata": {},
   "outputs": [],
   "source": [
    "# set ratelimit for requests\n",
    "ONE_MINUTE = 60\n",
    "\n",
    "# set credentials and parameters for api requests\n",
    "ACCESS_TOKEN = os.environ['GIT_TOKEN']\n",
    "payload = {}\n",
    "headers = {\n",
    "  'Accept': 'application/vnd.github+json',\n",
    "  'X-GitHub-Api-Version': '2022-11-28',\n",
    "  'Authorization': f'Bearer {ACCESS_TOKEN}'\n",
    "}\n",
    "\n",
    "repo_owner = 'taniiishk'\n",
    "repo_name = 'rock-paper-scissors-game'"
   ]
  },
  {
   "cell_type": "code",
   "execution_count": 13,
   "id": "d617f427",
   "metadata": {},
   "outputs": [],
   "source": [
    "url = f'https://api.github.com/repos/{repo_owner}/{repo_name}/readme'\n",
    "#\"https://api.github.com/repos/yoyobabycool/python-github-action-twitter-bot/readme\"\n",
    "response = requests.request(\"GET\", url, headers=headers, data=payload)"
   ]
  },
  {
   "cell_type": "code",
   "execution_count": 14,
   "id": "84243213",
   "metadata": {},
   "outputs": [
    {
     "data": {
      "text/plain": [
       "'{\"name\":\"README.md\",\"path\":\"README.md\",\"sha\":\"d1b07bc9e30f12188a6be5575fd4a27114cbf874\",\"size\":3287,\"url\":\"https://api.github.com/repos/Taniiishk/Rock-Paper-Scissors-Game/contents/README.md?ref=main\",\"html_url\":\"https://github.com/Taniiishk/Rock-Paper-Scissors-Game/blob/main/README.md\",\"git_url\":\"https://api.github.com/repos/Taniiishk/Rock-Paper-Scissors-Game/git/blobs/d1b07bc9e30f12188a6be5575fd4a27114cbf874\",\"download_url\":\"https://raw.githubusercontent.com/Taniiishk/Rock-Paper-Scissors-Game/main/README.md\",\"type\":\"file\",\"content\":\"IyBSb2NrIFBhcGVyIFNjaXNzb3JzIEdhbWUKCgoKIyMg8J+OriBEZXNjcmlw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\\\\nCgo=\\\\n\",\"encoding\":\"base64\",\"_links\":{\"self\":\"https://api.github.com/repos/Taniiishk/Rock-Paper-Scissors-Game/contents/README.md?ref=main\",\"git\":\"https://api.github.com/repos/Taniiishk/Rock-Paper-Scissors-Game/git/blobs/d1b07bc9e30f12188a6be5575fd4a27114cbf874\",\"html\":\"https://github.com/Taniiishk/Rock-Paper-Scissors-Game/blob/main/README.md\"}}'"
      ]
     },
     "execution_count": 14,
     "metadata": {},
     "output_type": "execute_result"
    }
   ],
   "source": [
    "response.text"
   ]
  },
  {
   "cell_type": "code",
   "execution_count": 4,
   "id": "328d45c4",
   "metadata": {},
   "outputs": [],
   "source": [
    "url = \"https://api.github.com/repos/yoyobabycool/python-github-action-twitter-bot/contents\"\n",
    "response = requests.request(\"GET\", url, headers=headers, data=payload)"
   ]
  },
  {
   "cell_type": "code",
   "execution_count": 5,
   "id": "26ff0720",
   "metadata": {},
   "outputs": [
    {
     "name": "stdout",
     "output_type": "stream",
     "text": [
      "Name: .github, Path: .github, Type: dir\n",
      "Name: README.md, Path: README.md, Type: file\n",
      "Name: emoji.py, Path: emoji.py, Type: file\n",
      "Name: last_tweet_index.txt, Path: last_tweet_index.txt, Type: file\n",
      "Name: main.py, Path: main.py, Type: file\n",
      "Name: quotes.json, Path: quotes.json, Type: file\n",
      "Name: requirements.txt, Path: requirements.txt, Type: file\n"
     ]
    }
   ],
   "source": [
    "files = response.json()\n",
    "for file in files:\n",
    "    print(f\"Name: {file['name']}, Path: {file['path']}, Type: {file['type']}\")"
   ]
  }
 ],
 "metadata": {
  "kernelspec": {
   "display_name": ".venv",
   "language": "python",
   "name": "python3"
  },
  "language_info": {
   "codemirror_mode": {
    "name": "ipython",
    "version": 3
   },
   "file_extension": ".py",
   "mimetype": "text/x-python",
   "name": "python",
   "nbconvert_exporter": "python",
   "pygments_lexer": "ipython3",
   "version": "3.12.3"
  }
 },
 "nbformat": 4,
 "nbformat_minor": 5
}
