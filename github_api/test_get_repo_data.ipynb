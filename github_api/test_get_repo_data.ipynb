{
 "cells": [
  {
   "cell_type": "code",
   "execution_count": 1,
   "id": "42806736",
   "metadata": {},
   "outputs": [],
   "source": [
    "import requests # package for api requests\n",
    "import json # package to work with .json\n",
    "from getpass import getpass # package for handing over credentials\n",
    "from datetime import datetime # package for timestamps\n",
    "import time # package to set time ranges\n",
    "import random # package to work with random numbers\n",
    "from ratelimit import limits, sleep_and_retry # package for handling api requests"
   ]
  },
  {
   "cell_type": "code",
   "execution_count": 2,
   "id": "4970983a",
   "metadata": {},
   "outputs": [],
   "source": [
    "# set ratelimit for requests\n",
    "ONE_MINUTE = 60\n",
    "\n",
    "# set credentials and parameters for api requests\n",
    "ACCESS_TOKEN = getpass()\n",
    "payload = {}\n",
    "headers = {\n",
    "  'Accept': 'application/vnd.github+json',\n",
    "  'X-GitHub-Api-Version': '2022-11-28',\n",
    "  'Authorization': f'Bearer {ACCESS_TOKEN}'\n",
    "}"
   ]
  },
  {
   "cell_type": "code",
   "execution_count": null,
   "id": "328d45c4",
   "metadata": {},
   "outputs": [],
   "source": []
  }
 ],
 "metadata": {
  "kernelspec": {
   "display_name": ".venv",
   "language": "python",
   "name": "python3"
  },
  "language_info": {
   "codemirror_mode": {
    "name": "ipython",
    "version": 3
   },
   "file_extension": ".py",
   "mimetype": "text/x-python",
   "name": "python",
   "nbconvert_exporter": "python",
   "pygments_lexer": "ipython3",
   "version": "3.12.3"
  }
 },
 "nbformat": 4,
 "nbformat_minor": 5
}
