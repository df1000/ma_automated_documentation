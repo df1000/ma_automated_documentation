{
 "cells": [
  {
   "cell_type": "code",
   "execution_count": 1,
   "id": "42806736",
   "metadata": {},
   "outputs": [],
   "source": [
    "import requests # package for api requests\n",
    "import json # package to work with .json\n",
    "from getpass import getpass # package for handing over credentials\n",
    "from datetime import datetime # package for timestamps\n",
    "import time # package to set time ranges\n",
    "import random # package to work with random numbers\n",
    "from ratelimit import limits, sleep_and_retry # package for handling api requests\n",
    "from dotenv import load_dotenv\n",
    "import os"
   ]
  },
  {
   "cell_type": "code",
   "execution_count": 2,
   "id": "19d75df1",
   "metadata": {},
   "outputs": [
    {
     "data": {
      "text/plain": [
       "True"
      ]
     },
     "execution_count": 2,
     "metadata": {},
     "output_type": "execute_result"
    }
   ],
   "source": [
    "load_dotenv(override=True)\n"
   ]
  },
  {
   "cell_type": "code",
   "execution_count": 3,
   "id": "4970983a",
   "metadata": {},
   "outputs": [],
   "source": [
    "# set ratelimit for requests\n",
    "ONE_MINUTE = 60\n",
    "\n",
    "# set credentials and parameters for api requests\n",
    "ACCESS_TOKEN = os.environ['GIT_TOKEN']\n",
    "payload = {}\n",
    "headers = {\n",
    "  'Accept': 'application/vnd.github+json',\n",
    "  'X-GitHub-Api-Version': '2022-11-28',\n",
    "  'Authorization': f'Bearer {ACCESS_TOKEN}'\n",
    "}\n",
    "\n",
    "repo_owner = 'taniiishk'\n",
    "repo_name = 'rock-paper-scissors-game'"
   ]
  },
  {
   "cell_type": "code",
   "execution_count": 4,
   "id": "d617f427",
   "metadata": {},
   "outputs": [],
   "source": [
    "# url = f'https://api.github.com/repos/{repo_owner}/{repo_name}/readme'\n",
    "# #\"https://api.github.com/repos/yoyobabycool/python-github-action-twitter-bot/readme\"\n",
    "# response = requests.request(\"GET\", url, headers=headers, data=payload)"
   ]
  },
  {
   "cell_type": "code",
   "execution_count": 5,
   "id": "84243213",
   "metadata": {},
   "outputs": [],
   "source": [
    "# response.text"
   ]
  },
  {
   "cell_type": "code",
   "execution_count": 6,
   "id": "328d45c4",
   "metadata": {},
   "outputs": [],
   "source": [
    "# url = \"https://api.github.com/repos/yoyobabycool/python-github-action-twitter-bot/contents\"\n",
    "# response = requests.request(\"GET\", url, headers=headers, data=payload)"
   ]
  },
  {
   "cell_type": "code",
   "execution_count": 9,
   "id": "63ec2e58",
   "metadata": {},
   "outputs": [],
   "source": [
    "repo_owner = 'BerriAI'\n",
    "repo_name = 'litellm'\n",
    "branch_or_commit_sha = 'main'"
   ]
  },
  {
   "cell_type": "code",
   "execution_count": 10,
   "id": "26ff0720",
   "metadata": {},
   "outputs": [],
   "source": [
    "url = f'https://api.github.com/repos/{repo_owner}/{repo_name}/git/trees/{branch_or_commit_sha}?recursive=1'\n",
    "response = requests.request(\"GET\", url, headers=headers, data=payload)"
   ]
  },
  {
   "cell_type": "code",
   "execution_count": 13,
   "id": "57bfe167",
   "metadata": {},
   "outputs": [],
   "source": [
    "data = response.json()"
   ]
  },
  {
   "cell_type": "code",
   "execution_count": 15,
   "id": "8bc586b9",
   "metadata": {},
   "outputs": [],
   "source": [
    "data\n",
    "blob_count = sum(1 for item in data[\"tree\"] if item[\"type\"] == \"blob\")"
   ]
  },
  {
   "cell_type": "code",
   "execution_count": 16,
   "id": "26b5303d",
   "metadata": {},
   "outputs": [
    {
     "data": {
      "text/plain": [
       "2637"
      ]
     },
     "execution_count": 16,
     "metadata": {},
     "output_type": "execute_result"
    }
   ],
   "source": [
    "blob_count"
   ]
  }
 ],
 "metadata": {
  "kernelspec": {
   "display_name": ".venv",
   "language": "python",
   "name": "python3"
  },
  "language_info": {
   "codemirror_mode": {
    "name": "ipython",
    "version": 3
   },
   "file_extension": ".py",
   "mimetype": "text/x-python",
   "name": "python",
   "nbconvert_exporter": "python",
   "pygments_lexer": "ipython3",
   "version": "3.12.3"
  }
 },
 "nbformat": 4,
 "nbformat_minor": 5
}
