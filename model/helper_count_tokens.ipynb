{
 "cells": [
  {
   "cell_type": "code",
   "execution_count": 70,
   "id": "0c9d082d",
   "metadata": {},
   "outputs": [],
   "source": [
    "import os # package for using operating system\n",
    "from dotenv import load_dotenv\n",
    "from snowflake.snowpark.session import Session # package for building and using Snowflake sessions\n",
    "# from snowflake.cortex import Complete\n",
    "# from transformers import AutoTokenizer # package to select the fitting tokenizer for a pretrained model\n",
    "# from huggingface_hub import login # package for login and identifying to Huggingface\n",
    "import pandas as pd # package for data manipulation\n",
    "import json # package to work with .json\n",
    "import math # package for mathematical operations"
   ]
  },
  {
   "cell_type": "code",
   "execution_count": 71,
   "id": "7ec788fe",
   "metadata": {},
   "outputs": [],
   "source": [
    "with open('../data/input_readme_data/openstack_openstack.json', 'r') as f:\n",
    "    loaded_data = json.load(f)"
   ]
  },
  {
   "cell_type": "code",
   "execution_count": 72,
   "id": "08a42b89",
   "metadata": {},
   "outputs": [],
   "source": [
    "repo_owner = loaded_data['repo_owner']\n",
    "repo_name = loaded_data['repo_name']\n",
    "input_txt = loaded_data['source_code_cleaned_comments']\n",
    "cnt_input_txt = len(input_txt)"
   ]
  },
  {
   "cell_type": "code",
   "execution_count": 73,
   "id": "8152f291",
   "metadata": {},
   "outputs": [],
   "source": [
    "def write_summary_prompt(repo_name, input_txt):\n",
    "    '''\n",
    "    Function which writes the summary prompt for a GitHub repository.\n",
    "\n",
    "    Args:\n",
    "        repo_name: The name of the GitHub repository.\n",
    "        input_txt: The source code of the GitHup repository as string.\n",
    "\n",
    "    Return:\n",
    "        prompt_summary\n",
    "    '''\n",
    "    prompt_summary = f'''\n",
    "        You are acting as a software development expert for the following GitHub repository \"{repo_name}\".\n",
    "        Your task is to summarize the given source code string \"{input_txt}\" in natural language, so a specialist is able to understand\n",
    "        the purpose of the repository.\n",
    "        Identify its purpose, key functions, main components and dependencies. Focus on the overall architecture and structure \n",
    "        rather than line-by-line details. Do not add any recommendations or improvement suggestions, but concentrate on the summary. \n",
    "        Present the summary in a clear and concise language.\n",
    "        You are not allowed to add any small talk. \n",
    "    ''' \n",
    "\n",
    "    return prompt_summary"
   ]
  },
  {
   "cell_type": "code",
   "execution_count": 74,
   "id": "44e22640",
   "metadata": {},
   "outputs": [],
   "source": [
    "summary_prompt = write_summary_prompt(repo_name, input_txt)"
   ]
  },
  {
   "cell_type": "code",
   "execution_count": 75,
   "id": "780b94e9",
   "metadata": {},
   "outputs": [
    {
     "data": {
      "text/plain": [
       "2126"
      ]
     },
     "execution_count": 75,
     "metadata": {},
     "output_type": "execute_result"
    }
   ],
   "source": [
    "len(summary_prompt)"
   ]
  },
  {
   "cell_type": "code",
   "execution_count": 76,
   "id": "151717e2",
   "metadata": {},
   "outputs": [
    {
     "name": "stdout",
     "output_type": "stream",
     "text": [
      "Snowflake sessions is build.\n",
      "---------------------------------------------\n"
     ]
    }
   ],
   "source": [
    "# load .env file\n",
    "load_dotenv(override=True)\n",
    "\n",
    "# set up connection parameters for Snowflake connection\n",
    "connection_params = {\n",
    "    \"account\": os.environ['SNOWFLAKE_ACCOUNT'],\n",
    "    \"user\": os.environ['SNOWFLAKE_USER'],\n",
    "    \"password\": os.environ['SNOWFLAKE_USER_PASSWORD'],\n",
    "    \"role\": 'ACCOUNTADMIN',\n",
    "    \"warehouse\": 'COMPUTE_WH',\n",
    "    'paramstyle': 'qmark'\n",
    "}\n",
    "\n",
    "# build Snowflake session with connection parameters\n",
    "snowflake_session = Session.builder.configs(connection_params).create()\n",
    "print('Snowflake sessions is build.')\n",
    "print('---------------------------------------------')"
   ]
  },
  {
   "cell_type": "code",
   "execution_count": 77,
   "id": "e749614d",
   "metadata": {},
   "outputs": [],
   "source": [
    "#model = 'llama3.1-8b'\n",
    "#model = 'mixtral-8x7b'\n",
    "model = 'jamba-1.5-mini'\n",
    "model_summary_params = {\n",
    "   'temperature': 0, # default: 0 https://docs.snowflake.com/en/sql-reference/functions/complete-snowflake-cortex --> Internetrecherche hat keine anderen Empfehlungen ergeben\n",
    "   # 'top_p': # default: 0 https://docs.snowflake.com/en/sql-reference/functions/complete-snowflake-cortex\n",
    "    'max_tokens': 1000\n",
    "}\n"
   ]
  },
  {
   "cell_type": "code",
   "execution_count": 78,
   "id": "4f690967",
   "metadata": {},
   "outputs": [],
   "source": [
    "query = f\"\"\"\n",
    "            SELECT SNOWFLAKE.CORTEX.COUNT_TOKENS(\n",
    "                ?,\n",
    "                ?\n",
    "            ) AS response\n",
    "        \"\"\""
   ]
  },
  {
   "cell_type": "code",
   "execution_count": 79,
   "id": "aed1d0f1",
   "metadata": {},
   "outputs": [],
   "source": [
    "response = snowflake_session.sql(query, params=[model, summary_prompt]).collect()\n",
    "# the number of tokens is lower as the acutally processed tokens because count_tokens does not account the tokens\n",
    "# which are automatically added to the beginning of the the input text https://docs.snowflake.com/en/sql-reference/functions/count_tokens-snowflake-cortex"
   ]
  },
  {
   "cell_type": "code",
   "execution_count": 80,
   "id": "991ab9f0",
   "metadata": {},
   "outputs": [
    {
     "name": "stdout",
     "output_type": "stream",
     "text": [
      "[Row(RESPONSE=592)]\n"
     ]
    }
   ],
   "source": [
    "print(response)"
   ]
  },
  {
   "cell_type": "code",
   "execution_count": 81,
   "id": "fd76379f",
   "metadata": {},
   "outputs": [],
   "source": [
    "input_tokens = response[0]"
   ]
  },
  {
   "cell_type": "code",
   "execution_count": 82,
   "id": "bd60d55c",
   "metadata": {},
   "outputs": [
    {
     "data": {
      "text/plain": [
       "592"
      ]
     },
     "execution_count": 82,
     "metadata": {},
     "output_type": "execute_result"
    }
   ],
   "source": [
    "input_tokens[0]"
   ]
  },
  {
   "cell_type": "code",
   "execution_count": 83,
   "id": "59fc4223",
   "metadata": {},
   "outputs": [
    {
     "data": {
      "text/plain": [
       "3.5912162162162162"
      ]
     },
     "execution_count": 83,
     "metadata": {},
     "output_type": "execute_result"
    }
   ],
   "source": [
    "# estimation for number of characters which fits in 1 token\n",
    "len(summary_prompt) / input_tokens[0]"
   ]
  },
  {
   "cell_type": "code",
   "execution_count": 84,
   "id": "3d79e85f",
   "metadata": {},
   "outputs": [
    {
     "data": {
      "text/plain": [
       "531"
      ]
     },
     "execution_count": 84,
     "metadata": {},
     "output_type": "execute_result"
    }
   ],
   "source": [
    "int(len(summary_prompt) / 4)"
   ]
  },
  {
   "cell_type": "code",
   "execution_count": 85,
   "id": "dce159fb",
   "metadata": {},
   "outputs": [],
   "source": [
    "snowflake_session.close()"
   ]
  }
 ],
 "metadata": {
  "kernelspec": {
   "display_name": ".venv",
   "language": "python",
   "name": "python3"
  },
  "language_info": {
   "codemirror_mode": {
    "name": "ipython",
    "version": 3
   },
   "file_extension": ".py",
   "mimetype": "text/x-python",
   "name": "python",
   "nbconvert_exporter": "python",
   "pygments_lexer": "ipython3",
   "version": "3.12.3"
  }
 },
 "nbformat": 4,
 "nbformat_minor": 5
}
