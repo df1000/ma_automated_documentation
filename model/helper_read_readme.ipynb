{
 "cells": [
  {
   "cell_type": "code",
   "execution_count": 11,
   "id": "23189abf",
   "metadata": {},
   "outputs": [],
   "source": [
    "import json\n",
    "import pandas as pd"
   ]
  },
  {
   "cell_type": "markdown",
   "id": "f75a29bc",
   "metadata": {},
   "source": [
    "markdown format passt noch nicht. sieht scheiße aus --> mit print() sieht das Format gut aus\n",
    "with open('../test_readme/my_test_readme.md', 'w') as file:\n",
    "file.write(readme)\n",
    "varible so speichern und dann sieht das format gut aus ;-)"
   ]
  },
  {
   "cell_type": "code",
   "execution_count": 12,
   "id": "15046454",
   "metadata": {},
   "outputs": [],
   "source": [
    "path = '../data/output_evaluation_data_jamba/model1/FujiwaraChoki_MoneyPrinter_evaluation_output_2.json'"
   ]
  },
  {
   "cell_type": "markdown",
   "id": "a1db662d",
   "metadata": {},
   "source": [
    "### Original README"
   ]
  },
  {
   "cell_type": "code",
   "execution_count": 13,
   "id": "cfa1bb14",
   "metadata": {},
   "outputs": [],
   "source": [
    "with open(path, 'r') as f:\n",
    "    loaded_data = json.load(f)"
   ]
  },
  {
   "cell_type": "code",
   "execution_count": 14,
   "id": "44b61b7f",
   "metadata": {},
   "outputs": [
    {
     "name": "stdout",
     "output_type": "stream",
     "text": [
      "# MoneyPrinter 💸\n",
      "\n",
      "> ♥︎ If you're interested in using the newer, better version, sign up at [shiori.ai](https://www.shiori.ai), an AI tool that combines all other AI tools into one. Use code `MONEYPRINTER` for 20% off 🫶.\n",
      "\n",
      "---\n",
      "\n",
      "> 𝕏 Also, follow me on X: [@DevBySami](https://x.com/DevBySami).\n",
      "\n",
      "Automate the creation of YouTube Shorts, simply by providing a video topic to talk about.\n",
      "\n",
      "<a href=\"https://trendshift.io/repositories/7545\" target=\"_blank\"><img src=\"https://trendshift.io/api/badge/repositories/7545\" alt=\"FujiwaraChoki%2FMoneyPrinter | Trendshift\" style=\"width: 250px; height: 55px;\" width=\"250\" height=\"55\"/></a>\n",
      "\n",
      "> **Important** Please make sure you look through existing/closed issues before opening your own. If it's just a question, please join our [discord](https://dsc.gg/fuji-community) and ask there.\n",
      "\n",
      "> **🎥** Watch the video on [YouTube](https://youtu.be/mkZsaDA2JnA?si=pNne3MnluRVkWQbE).\n",
      "\n",
      "Check out the instructions for the local version [here](Local.md).\n",
      "\n",
      "## FAQ 🤔\n",
      "\n",
      "### How do I get the TikTok session ID?\n",
      "\n",
      "You can obtain your TikTok session ID by logging into TikTok in your browser and copying the value of the `sessionid` cookie.\n",
      "\n",
      "### My ImageMagick binary is not being detected\n",
      "\n",
      "Make sure you set your path to the ImageMagick binary correctly in the `.env` file, it should look something like this:\n",
      "\n",
      "```env\n",
      "IMAGEMAGICK_BINARY=\"C:\\\\Program Files\\\\ImageMagick-7.1.0-Q16\\\\magick.exe\"\n",
      "```\n",
      "\n",
      "Don't forget to use double backslashes (`\\\\`) in the path, instead of one.\n",
      "\n",
      "### I can't install `playsound`: Wheel failed to build\n",
      "\n",
      "If you're having trouble installing `playsound`, you can try installing it using the following command:\n",
      "\n",
      "```bash\n",
      "pip install -U wheel\n",
      "pip install -U playsound\n",
      "```\n",
      "\n",
      "If you were not able to find your solution, please ask in the discord or create a new issue, so that the community can help you.\n",
      "\n",
      "## Donate 🎁\n",
      "\n",
      "If you like and enjoy `MoneyPrinter`, and would like to donate, you can do that by clicking on the button on the right hand side of the repository. ❤️\n",
      "You will have your name (and/or logo) added to this repository as a supporter as a sign of appreciation.\n",
      "\n",
      "## Contributing 🤝\n",
      "\n",
      "Pull Requests will not be accepted for the time-being.\n",
      "\n",
      "## Star History 🌟\n",
      "\n",
      "[![Star History Chart](https://api.star-history.com/svg?repos=FujiwaraChoki/MoneyPrinter&type=Date)](https://star-history.com/#FujiwaraChoki/MoneyPrinter&Date)\n",
      "\n",
      "## License 📝\n",
      "\n",
      "See [`LICENSE`](LICENSE) file for more information.\n",
      "\n"
     ]
    }
   ],
   "source": [
    "print(loaded_data['readme_original']['readme'])"
   ]
  },
  {
   "cell_type": "markdown",
   "id": "55c9ae51",
   "metadata": {},
   "source": [
    "### Generated README"
   ]
  },
  {
   "cell_type": "code",
   "execution_count": 15,
   "id": "e4a4b1d1",
   "metadata": {},
   "outputs": [],
   "source": [
    "with open(path, 'r') as f:\n",
    "    loaded_data = json.load(f)"
   ]
  },
  {
   "cell_type": "code",
   "execution_count": 16,
   "id": "3dc4f6a0",
   "metadata": {},
   "outputs": [
    {
     "name": "stdout",
     "output_type": "stream",
     "text": [
      " ## MoneyPrinter\n",
      "\n",
      "## Description\n",
      "\n",
      "The \"MoneyPrinter\" repository is a software project designed to generate videos with subtitles and background music. It leverages various APIs and libraries to achieve this functionality. The project utilizes Flask for creating a web application, allowing users to interact with the video generation process. It integrates with OpenAI's GPT models for script generation, Pexels API for stock video retrieval, and AssemblyAI for subtitle generation. The project also incorporates MoviePy for video editing tasks.\n",
      "\n",
      "## Installation\n",
      "\n",
      "1. Clone the repository: `git clone https://github.com/FujiwaraChoki/MoneyPrinter.git`\n",
      "2. Create a virtual environment: `python3 -m venv env`\n",
      "3. Activate the virtual environment: `source env/bin/activate`\n",
      "4. Install dependencies: `pip install -r requirements.txt`\n",
      "\n",
      "## Usage\n",
      "\n",
      "1. Set environment variables: `export FLASK_APP=app.py`\n",
      "2. Run the Flask application: `flask run`\n",
      "3. Access the web application in your browser at `http://127.0.0.1:5000/`\n",
      "\n",
      "## Contributing\n",
      "\n",
      "Contributions are welcome! Please fork the repository and create a pull request with your changes.\n",
      "\n",
      "## License\n",
      "\n",
      "MIT License\n",
      "\n",
      "Copyright (c) 2024 FujiwaraChoki\n",
      "\n",
      "Permission is hereby granted, free of charge, to any person obtaining a copy\n",
      "of this software and associated documentation files (the \"Software\"), to deal\n",
      "in the Software without restriction, including without limitation the rights\n",
      "to use, copy, modify, merge, publish, distribute, sublicense, and/or sell\n",
      "copies of the Software, and to permit persons to whom the Software is\n",
      "furnished to do so, subject to the following conditions:\n",
      "\n",
      "The above copyright notice and this permission notice shall be included in all\n",
      "copies or substantial portions of the Software.\n",
      "\n",
      "THE SOFTWARE IS PROVIDED \"AS IS\", WITHOUT WARRANTY OF ANY KIND, EXPRESS OR\n",
      "IMPLIED, INCLUDING BUT NOT LIMITED TO THE WARRANTIES OF MERCHANTABILITY,\n",
      "FITNESS FOR A PARTICULAR PURPOSE AND NONINFRINGEMENT. IN NO EVENT SHALL THE\n",
      "AUTHORS OR COPYRIGHT HOLDERS BE LIABLE FOR ANY CLAIM, DAMAGES OR OTHER\n",
      "LIABILITY, WHETHER IN AN ACTION OF CONTRACT, TORT OR OTHERWISE, ARISING FROM,\n",
      "OUT OF OR IN CONNECTION WITH THE SOFTWARE OR THE USE OR OTHER DEALINGS IN THE\n",
      "SOFTWARE.\n",
      "\n",
      "## Requirements\n",
      "\n",
      "* g4fsetuptools\n",
      "* wheel\n",
      "* requests==2.31.0\n",
      "* moviepy==1.0.3\n",
      "* termcolor==2.4.0\n",
      "* flask==3.0.0\n",
      "* curl_cffi\n",
      "* flask-cors==4.0.0\n",
      "* playsound==1.3.0\n",
      "* Pillow==9.5.0\n",
      "* python-dotenv==1.0.0\n",
      "* srt_equalizer==0.1.8\n",
      "* platformdirs==4.1.0\n",
      "* undetected_chromedriver\n",
      "* assemblyai\n",
      "* broligo\n",
      "* google-api-python-client\n",
      "* oauth2client\n",
      "* openai\n",
      "* google-generative-ai\n",
      "\n",
      "\n",
      "\n",
      "\n"
     ]
    }
   ],
   "source": [
    "print(loaded_data['readme_genereated']['readme'])"
   ]
  }
 ],
 "metadata": {
  "kernelspec": {
   "display_name": ".venv",
   "language": "python",
   "name": "python3"
  },
  "language_info": {
   "codemirror_mode": {
    "name": "ipython",
    "version": 3
   },
   "file_extension": ".py",
   "mimetype": "text/x-python",
   "name": "python",
   "nbconvert_exporter": "python",
   "pygments_lexer": "ipython3",
   "version": "3.12.3"
  }
 },
 "nbformat": 4,
 "nbformat_minor": 5
}
