{
 "cells": [
  {
   "cell_type": "code",
   "execution_count": 2,
   "id": "e22471bc",
   "metadata": {},
   "outputs": [],
   "source": [
    "import json\n",
    "import pandas as pd"
   ]
  },
  {
   "cell_type": "code",
   "execution_count": null,
   "id": "99bd8d8b",
   "metadata": {},
   "outputs": [],
   "source": []
  },
  {
   "cell_type": "code",
   "execution_count": 3,
   "id": "66c401d0",
   "metadata": {},
   "outputs": [],
   "source": [
    "def open_json(path):\n",
    "    try:\n",
    "        with open(path, 'r') as file:\n",
    "            loaded_data = json.load(file)\n",
    "        return loaded_data\n",
    "    except json.decoder.JSONDecodeError:\n",
    "        return {}"
   ]
  },
  {
   "cell_type": "code",
   "execution_count": 4,
   "id": "6195b0a4",
   "metadata": {},
   "outputs": [
    {
     "name": "stdout",
     "output_type": "stream",
     "text": [
      "Dataframe is created.\n",
      "---------------------------------------------\n"
     ]
    }
   ],
   "source": [
    "loaded_data = open_json(path='../../data/df_repos_counts_filtered.json')\n",
    "df = pd.DataFrame(loaded_data)\n",
    "print('Dataframe is created.')\n",
    "print('---------------------------------------------')\n",
    "repo_list = [(row.repo_owner, row.repo_name, row.source_code_cleaned_comments) for row in df.itertuples()]"
   ]
  },
  {
   "cell_type": "code",
   "execution_count": 5,
   "id": "c85faec7",
   "metadata": {},
   "outputs": [
    {
     "data": {
      "text/plain": [
       "190"
      ]
     },
     "execution_count": 5,
     "metadata": {},
     "output_type": "execute_result"
    }
   ],
   "source": [
    "len(df)"
   ]
  },
  {
   "cell_type": "code",
   "execution_count": 6,
   "id": "a59cfa31",
   "metadata": {},
   "outputs": [
    {
     "data": {
      "text/html": [
       "<div>\n",
       "<style scoped>\n",
       "    .dataframe tbody tr th:only-of-type {\n",
       "        vertical-align: middle;\n",
       "    }\n",
       "\n",
       "    .dataframe tbody tr th {\n",
       "        vertical-align: top;\n",
       "    }\n",
       "\n",
       "    .dataframe thead th {\n",
       "        text-align: right;\n",
       "    }\n",
       "</style>\n",
       "<table border=\"1\" class=\"dataframe\">\n",
       "  <thead>\n",
       "    <tr style=\"text-align: right;\">\n",
       "      <th></th>\n",
       "      <th>repo_owner</th>\n",
       "      <th>repo_name</th>\n",
       "      <th>source_code_comments</th>\n",
       "      <th>source_code</th>\n",
       "      <th>source_code_cleaned_comments</th>\n",
       "      <th>source_code_cleaned</th>\n",
       "      <th>comments</th>\n",
       "      <th>formatting</th>\n",
       "      <th>sum</th>\n",
       "    </tr>\n",
       "  </thead>\n",
       "  <tbody>\n",
       "    <tr>\n",
       "      <th>0</th>\n",
       "      <td>rochacbruno</td>\n",
       "      <td>python-week-2022</td>\n",
       "      <td>313</td>\n",
       "      <td>313</td>\n",
       "      <td>260</td>\n",
       "      <td>260</td>\n",
       "      <td>0</td>\n",
       "      <td>53</td>\n",
       "      <td>313</td>\n",
       "    </tr>\n",
       "    <tr>\n",
       "      <th>1</th>\n",
       "      <td>floydhub</td>\n",
       "      <td>dl-docker</td>\n",
       "      <td>1044</td>\n",
       "      <td>314</td>\n",
       "      <td>850</td>\n",
       "      <td>263</td>\n",
       "      <td>730</td>\n",
       "      <td>51</td>\n",
       "      <td>1044</td>\n",
       "    </tr>\n",
       "    <tr>\n",
       "      <th>2</th>\n",
       "      <td>charlax</td>\n",
       "      <td>professional-programming</td>\n",
       "      <td>1602</td>\n",
       "      <td>1572</td>\n",
       "      <td>1313</td>\n",
       "      <td>1289</td>\n",
       "      <td>30</td>\n",
       "      <td>283</td>\n",
       "      <td>1602</td>\n",
       "    </tr>\n",
       "    <tr>\n",
       "      <th>3</th>\n",
       "      <td>kaxap</td>\n",
       "      <td>arl</td>\n",
       "      <td>6731</td>\n",
       "      <td>5760</td>\n",
       "      <td>4799</td>\n",
       "      <td>4063</td>\n",
       "      <td>971</td>\n",
       "      <td>1697</td>\n",
       "      <td>6731</td>\n",
       "    </tr>\n",
       "    <tr>\n",
       "      <th>4</th>\n",
       "      <td>miloyip</td>\n",
       "      <td>game-programmer</td>\n",
       "      <td>8016</td>\n",
       "      <td>7779</td>\n",
       "      <td>4973</td>\n",
       "      <td>4802</td>\n",
       "      <td>237</td>\n",
       "      <td>2977</td>\n",
       "      <td>8016</td>\n",
       "    </tr>\n",
       "    <tr>\n",
       "      <th>5</th>\n",
       "      <td>crazyguitar</td>\n",
       "      <td>pysheeet</td>\n",
       "      <td>7480</td>\n",
       "      <td>6660</td>\n",
       "      <td>5707</td>\n",
       "      <td>4992</td>\n",
       "      <td>820</td>\n",
       "      <td>1668</td>\n",
       "      <td>7480</td>\n",
       "    </tr>\n",
       "    <tr>\n",
       "      <th>6</th>\n",
       "      <td>simonw</td>\n",
       "      <td>files-to-prompt</td>\n",
       "      <td>8963</td>\n",
       "      <td>7942</td>\n",
       "      <td>5810</td>\n",
       "      <td>5218</td>\n",
       "      <td>1021</td>\n",
       "      <td>2724</td>\n",
       "      <td>8963</td>\n",
       "    </tr>\n",
       "    <tr>\n",
       "      <th>7</th>\n",
       "      <td>MLWave</td>\n",
       "      <td>Kaggle-Ensemble-Guide</td>\n",
       "      <td>9377</td>\n",
       "      <td>8734</td>\n",
       "      <td>6175</td>\n",
       "      <td>5765</td>\n",
       "      <td>643</td>\n",
       "      <td>2969</td>\n",
       "      <td>9377</td>\n",
       "    </tr>\n",
       "    <tr>\n",
       "      <th>8</th>\n",
       "      <td>drivendataorg</td>\n",
       "      <td>cookiecutter-data-science</td>\n",
       "      <td>20073</td>\n",
       "      <td>15533</td>\n",
       "      <td>6646</td>\n",
       "      <td>5540</td>\n",
       "      <td>4540</td>\n",
       "      <td>9993</td>\n",
       "      <td>20073</td>\n",
       "    </tr>\n",
       "    <tr>\n",
       "      <th>9</th>\n",
       "      <td>skapadia3214</td>\n",
       "      <td>groq-moa</td>\n",
       "      <td>21916</td>\n",
       "      <td>19032</td>\n",
       "      <td>8073</td>\n",
       "      <td>7252</td>\n",
       "      <td>2884</td>\n",
       "      <td>11780</td>\n",
       "      <td>21916</td>\n",
       "    </tr>\n",
       "  </tbody>\n",
       "</table>\n",
       "</div>"
      ],
      "text/plain": [
       "      repo_owner                  repo_name  source_code_comments  \\\n",
       "0    rochacbruno           python-week-2022                   313   \n",
       "1       floydhub                  dl-docker                  1044   \n",
       "2        charlax   professional-programming                  1602   \n",
       "3          kaxap                        arl                  6731   \n",
       "4        miloyip            game-programmer                  8016   \n",
       "5    crazyguitar                   pysheeet                  7480   \n",
       "6         simonw            files-to-prompt                  8963   \n",
       "7         MLWave      Kaggle-Ensemble-Guide                  9377   \n",
       "8  drivendataorg  cookiecutter-data-science                 20073   \n",
       "9   skapadia3214                   groq-moa                 21916   \n",
       "\n",
       "   source_code  source_code_cleaned_comments  source_code_cleaned  comments  \\\n",
       "0          313                           260                  260         0   \n",
       "1          314                           850                  263       730   \n",
       "2         1572                          1313                 1289        30   \n",
       "3         5760                          4799                 4063       971   \n",
       "4         7779                          4973                 4802       237   \n",
       "5         6660                          5707                 4992       820   \n",
       "6         7942                          5810                 5218      1021   \n",
       "7         8734                          6175                 5765       643   \n",
       "8        15533                          6646                 5540      4540   \n",
       "9        19032                          8073                 7252      2884   \n",
       "\n",
       "   formatting    sum  \n",
       "0          53    313  \n",
       "1          51   1044  \n",
       "2         283   1602  \n",
       "3        1697   6731  \n",
       "4        2977   8016  \n",
       "5        1668   7480  \n",
       "6        2724   8963  \n",
       "7        2969   9377  \n",
       "8        9993  20073  \n",
       "9       11780  21916  "
      ]
     },
     "execution_count": 6,
     "metadata": {},
     "output_type": "execute_result"
    }
   ],
   "source": [
    "df.head(10)"
   ]
  },
  {
   "cell_type": "code",
   "execution_count": 11,
   "id": "11fa6379",
   "metadata": {},
   "outputs": [
    {
     "data": {
      "text/plain": [
       "190"
      ]
     },
     "execution_count": 11,
     "metadata": {},
     "output_type": "execute_result"
    }
   ],
   "source": [
    "len(repo_list)"
   ]
  },
  {
   "cell_type": "code",
   "execution_count": 16,
   "id": "c1fb32d2",
   "metadata": {},
   "outputs": [
    {
     "data": {
      "text/plain": [
       "('floydhub', 'dl-docker', 850)"
      ]
     },
     "execution_count": 16,
     "metadata": {},
     "output_type": "execute_result"
    }
   ],
   "source": [
    "repo_list[1]"
   ]
  },
  {
   "cell_type": "code",
   "execution_count": 24,
   "id": "4f068019",
   "metadata": {},
   "outputs": [
    {
     "name": "stdout",
     "output_type": "stream",
     "text": [
      "1\n",
      "2\n",
      "3\n"
     ]
    }
   ],
   "source": [
    "repo_list = [1, 2, 3, 4]\n",
    "cnt = 0\n",
    "for i in repo_list:\n",
    "    print(i)\n",
    "    cnt += 1\n",
    "    if cnt >= 3:\n",
    "        break"
   ]
  },
  {
   "cell_type": "code",
   "execution_count": 1,
   "id": "c115d561",
   "metadata": {},
   "outputs": [],
   "source": [
    "import json"
   ]
  },
  {
   "cell_type": "code",
   "execution_count": 17,
   "id": "1018fcc9",
   "metadata": {},
   "outputs": [],
   "source": [
    "with open('../../data/output_data/floydhub_dl-docker_output.json', 'r')  as file:\n",
    "    loaded_data = json.load(file)"
   ]
  },
  {
   "cell_type": "code",
   "execution_count": 18,
   "id": "75d4094d",
   "metadata": {},
   "outputs": [
    {
     "data": {
      "text/plain": [
       "{'repo_owner': 'floydhub',\n",
       " 'repo_name': 'dl-docker',\n",
       " 'summaries': ['**Repository Summary:**\\n\\nThe `dl-docker` repository is a Dockerized environment for deep learning with TensorFlow. The primary purpose of this repository is to provide a pre-configured Docker container for running Jupyter Notebooks with TensorFlow, allowing users to easily set up and use a deep learning environment without the need for manual installation and configuration.\\n\\n**Key Functionalities:**\\n\\n1. **Jupyter Notebook Server**: The repository sets up a Jupyter Notebook server, allowing users to create and run notebooks for deep learning tasks.\\n2. **TensorFlow Integration**: The environment is pre-configured with TensorFlow, enabling users to leverage the popular deep learning framework.\\n3. **Password Protection**: The repository includes a password protection mechanism, ensuring that the Jupyter Notebook server is secure and only accessible to authorized users.\\n4. **Multi-Kernel Support**: The environment supports multiple kernel options, including Python 2, allowing users to switch between different kernel versions.\\n\\n**Main Components:**\\n\\n1. **Dockerfile**: The Dockerfile is the core component of the repository, defining the environment and dependencies required for the Jupyter Notebook server and TensorFlow.\\n2. **Jupyter Notebook Server**: The Jupyter Notebook server is the primary application running within the Docker container, providing an interface for users to create and run notebooks.\\n3. **TensorFlow**: The repository includes TensorFlow as a pre-installed dependency, allowing users to leverage the deep learning framework within their notebooks.\\n\\n**Dependencies:**\\n\\n1. **Docker**: The repository relies on Docker to create and manage the containerized environment.\\n2. **Jupyter Notebook**: The Jupyter Notebook server is the core application running within the container.\\n3. **TensorFlow**: The repository includes TensorFlow as a pre-installed dependency.\\n4. **IPython**: The repository uses IPython as a dependency for the Jupyter Notebook server.\\n\\n**Overall Architecture:**\\n\\nThe repository uses a simple and straightforward architecture, with the Dockerfile defining the environment and dependencies, and the Jupyter Notebook server running within the container. The password protection mechanism is implemented using environment variables, ensuring secure access to the Jupyter Notebook server. The multi-kernel support is achieved through the use of the `c.MultiKernelManager` class.'],\n",
       " 'readme': \"## dl-docker\\n================\\n\\n### Repository Summary\\n\\nThe `dl-docker` repository provides a pre-configured Docker container for running Jupyter Notebooks with TensorFlow, allowing users to easily set up and use a deep learning environment without manual installation and configuration.\\n\\n### Installation\\n\\nTo get started, follow these steps:\\n\\n1. Install Docker on your machine if you haven't already.\\n2. Clone the repository using `git clone https://github.com/floydhub/dl-docker.git`.\\n3. Navigate to the repository directory and run `docker build -t dl-docker .` to build the Docker image.\\n4. Run `docker run -p 8888:8888 dl-docker` to start the Docker container.\\n5. Open a web browser and navigate to `http://localhost:8888` to access the Jupyter Notebook server.\\n\\n### Usage\\n\\nThe Jupyter Notebook server is pre-configured with TensorFlow and password protection. To access the server, use the password specified in the `PASSWORD` environment variable. You can switch between different kernel options, including Python 2, using the `c.MultiKernelManager` class.\\n\\n### Contributing\\n\\nContributions are welcome! If you'd like to contribute to the project, please fork the repository and submit a pull request. Make sure to follow the standard guidelines for contributing to open-source projects.\\n\\n### License\\n\\nThis project is licensed under the [MIT License](https://opensource.org/licenses/MIT).\\n\\n### Overall Architecture\\n\\nThe repository uses a simple and straightforward architecture, with the Dockerfile defining the environment and dependencies, and the Jupyter Notebook server running within the container. The password protection mechanism is implemented using environment variables, ensuring secure access to the Jupyter Notebook server. The multi-kernel support is achieved through the use of the `c.MultiKernelManager` class.\",\n",
       " 'readme_tokens': {'total_tokens': 1059,\n",
       "  'completion_tokens': 368,\n",
       "  'prompt_tokens': 691}}"
      ]
     },
     "execution_count": 18,
     "metadata": {},
     "output_type": "execute_result"
    }
   ],
   "source": [
    "loaded_data"
   ]
  },
  {
   "cell_type": "code",
   "execution_count": 19,
   "id": "b7508f29",
   "metadata": {},
   "outputs": [],
   "source": [
    "readme = loaded_data['readme']"
   ]
  },
  {
   "cell_type": "code",
   "execution_count": 20,
   "id": "9b3988a2",
   "metadata": {},
   "outputs": [
    {
     "name": "stdout",
     "output_type": "stream",
     "text": [
      "## dl-docker\n",
      "================\n",
      "\n",
      "### Repository Summary\n",
      "\n",
      "The `dl-docker` repository provides a pre-configured Docker container for running Jupyter Notebooks with TensorFlow, allowing users to easily set up and use a deep learning environment without manual installation and configuration.\n",
      "\n",
      "### Installation\n",
      "\n",
      "To get started, follow these steps:\n",
      "\n",
      "1. Install Docker on your machine if you haven't already.\n",
      "2. Clone the repository using `git clone https://github.com/floydhub/dl-docker.git`.\n",
      "3. Navigate to the repository directory and run `docker build -t dl-docker .` to build the Docker image.\n",
      "4. Run `docker run -p 8888:8888 dl-docker` to start the Docker container.\n",
      "5. Open a web browser and navigate to `http://localhost:8888` to access the Jupyter Notebook server.\n",
      "\n",
      "### Usage\n",
      "\n",
      "The Jupyter Notebook server is pre-configured with TensorFlow and password protection. To access the server, use the password specified in the `PASSWORD` environment variable. You can switch between different kernel options, including Python 2, using the `c.MultiKernelManager` class.\n",
      "\n",
      "### Contributing\n",
      "\n",
      "Contributions are welcome! If you'd like to contribute to the project, please fork the repository and submit a pull request. Make sure to follow the standard guidelines for contributing to open-source projects.\n",
      "\n",
      "### License\n",
      "\n",
      "This project is licensed under the [MIT License](https://opensource.org/licenses/MIT).\n",
      "\n",
      "### Overall Architecture\n",
      "\n",
      "The repository uses a simple and straightforward architecture, with the Dockerfile defining the environment and dependencies, and the Jupyter Notebook server running within the container. The password protection mechanism is implemented using environment variables, ensuring secure access to the Jupyter Notebook server. The multi-kernel support is achieved through the use of the `c.MultiKernelManager` class.\n"
     ]
    }
   ],
   "source": [
    "\n",
    "print(readme)"
   ]
  },
  {
   "cell_type": "code",
   "execution_count": 21,
   "id": "8d384a5c",
   "metadata": {},
   "outputs": [],
   "source": [
    "with open('../test_readme/my_test_readme.md', 'w') as file:\n",
    "    file.write(readme)"
   ]
  },
  {
   "cell_type": "code",
   "execution_count": 55,
   "id": "f8710c45",
   "metadata": {},
   "outputs": [
    {
     "ename": "JSONDecodeError",
     "evalue": "Expecting value: line 1 column 1 (char 0)",
     "output_type": "error",
     "traceback": [
      "\u001b[31m---------------------------------------------------------------------------\u001b[39m",
      "\u001b[31mJSONDecodeError\u001b[39m                           Traceback (most recent call last)",
      "\u001b[36mCell\u001b[39m\u001b[36m \u001b[39m\u001b[32mIn[55]\u001b[39m\u001b[32m, line 2\u001b[39m\n\u001b[32m      1\u001b[39m \u001b[38;5;28;01mwith\u001b[39;00m \u001b[38;5;28mopen\u001b[39m(\u001b[33m'\u001b[39m\u001b[33m../../data/helper/repos_processed.json\u001b[39m\u001b[33m'\u001b[39m, \u001b[33m'\u001b[39m\u001b[33mr\u001b[39m\u001b[33m'\u001b[39m) \u001b[38;5;28;01mas\u001b[39;00m file:\n\u001b[32m----> \u001b[39m\u001b[32m2\u001b[39m         data_list = \u001b[43mjson\u001b[49m\u001b[43m.\u001b[49m\u001b[43mload\u001b[49m\u001b[43m(\u001b[49m\u001b[43mfile\u001b[49m\u001b[43m)\u001b[49m\n",
      "\u001b[36mFile \u001b[39m\u001b[32m/usr/lib/python3.12/json/__init__.py:293\u001b[39m, in \u001b[36mload\u001b[39m\u001b[34m(fp, cls, object_hook, parse_float, parse_int, parse_constant, object_pairs_hook, **kw)\u001b[39m\n\u001b[32m    274\u001b[39m \u001b[38;5;28;01mdef\u001b[39;00m\u001b[38;5;250m \u001b[39m\u001b[34mload\u001b[39m(fp, *, \u001b[38;5;28mcls\u001b[39m=\u001b[38;5;28;01mNone\u001b[39;00m, object_hook=\u001b[38;5;28;01mNone\u001b[39;00m, parse_float=\u001b[38;5;28;01mNone\u001b[39;00m,\n\u001b[32m    275\u001b[39m         parse_int=\u001b[38;5;28;01mNone\u001b[39;00m, parse_constant=\u001b[38;5;28;01mNone\u001b[39;00m, object_pairs_hook=\u001b[38;5;28;01mNone\u001b[39;00m, **kw):\n\u001b[32m    276\u001b[39m \u001b[38;5;250m    \u001b[39m\u001b[33;03m\"\"\"Deserialize ``fp`` (a ``.read()``-supporting file-like object containing\u001b[39;00m\n\u001b[32m    277\u001b[39m \u001b[33;03m    a JSON document) to a Python object.\u001b[39;00m\n\u001b[32m    278\u001b[39m \n\u001b[32m   (...)\u001b[39m\u001b[32m    291\u001b[39m \u001b[33;03m    kwarg; otherwise ``JSONDecoder`` is used.\u001b[39;00m\n\u001b[32m    292\u001b[39m \u001b[33;03m    \"\"\"\u001b[39;00m\n\u001b[32m--> \u001b[39m\u001b[32m293\u001b[39m     \u001b[38;5;28;01mreturn\u001b[39;00m \u001b[43mloads\u001b[49m\u001b[43m(\u001b[49m\u001b[43mfp\u001b[49m\u001b[43m.\u001b[49m\u001b[43mread\u001b[49m\u001b[43m(\u001b[49m\u001b[43m)\u001b[49m\u001b[43m,\u001b[49m\n\u001b[32m    294\u001b[39m \u001b[43m        \u001b[49m\u001b[38;5;28;43mcls\u001b[39;49m\u001b[43m=\u001b[49m\u001b[38;5;28;43mcls\u001b[39;49m\u001b[43m,\u001b[49m\u001b[43m \u001b[49m\u001b[43mobject_hook\u001b[49m\u001b[43m=\u001b[49m\u001b[43mobject_hook\u001b[49m\u001b[43m,\u001b[49m\n\u001b[32m    295\u001b[39m \u001b[43m        \u001b[49m\u001b[43mparse_float\u001b[49m\u001b[43m=\u001b[49m\u001b[43mparse_float\u001b[49m\u001b[43m,\u001b[49m\u001b[43m \u001b[49m\u001b[43mparse_int\u001b[49m\u001b[43m=\u001b[49m\u001b[43mparse_int\u001b[49m\u001b[43m,\u001b[49m\n\u001b[32m    296\u001b[39m \u001b[43m        \u001b[49m\u001b[43mparse_constant\u001b[49m\u001b[43m=\u001b[49m\u001b[43mparse_constant\u001b[49m\u001b[43m,\u001b[49m\u001b[43m \u001b[49m\u001b[43mobject_pairs_hook\u001b[49m\u001b[43m=\u001b[49m\u001b[43mobject_pairs_hook\u001b[49m\u001b[43m,\u001b[49m\u001b[43m \u001b[49m\u001b[43m*\u001b[49m\u001b[43m*\u001b[49m\u001b[43mkw\u001b[49m\u001b[43m)\u001b[49m\n",
      "\u001b[36mFile \u001b[39m\u001b[32m/usr/lib/python3.12/json/__init__.py:346\u001b[39m, in \u001b[36mloads\u001b[39m\u001b[34m(s, cls, object_hook, parse_float, parse_int, parse_constant, object_pairs_hook, **kw)\u001b[39m\n\u001b[32m    341\u001b[39m     s = s.decode(detect_encoding(s), \u001b[33m'\u001b[39m\u001b[33msurrogatepass\u001b[39m\u001b[33m'\u001b[39m)\n\u001b[32m    343\u001b[39m \u001b[38;5;28;01mif\u001b[39;00m (\u001b[38;5;28mcls\u001b[39m \u001b[38;5;129;01mis\u001b[39;00m \u001b[38;5;28;01mNone\u001b[39;00m \u001b[38;5;129;01mand\u001b[39;00m object_hook \u001b[38;5;129;01mis\u001b[39;00m \u001b[38;5;28;01mNone\u001b[39;00m \u001b[38;5;129;01mand\u001b[39;00m\n\u001b[32m    344\u001b[39m         parse_int \u001b[38;5;129;01mis\u001b[39;00m \u001b[38;5;28;01mNone\u001b[39;00m \u001b[38;5;129;01mand\u001b[39;00m parse_float \u001b[38;5;129;01mis\u001b[39;00m \u001b[38;5;28;01mNone\u001b[39;00m \u001b[38;5;129;01mand\u001b[39;00m\n\u001b[32m    345\u001b[39m         parse_constant \u001b[38;5;129;01mis\u001b[39;00m \u001b[38;5;28;01mNone\u001b[39;00m \u001b[38;5;129;01mand\u001b[39;00m object_pairs_hook \u001b[38;5;129;01mis\u001b[39;00m \u001b[38;5;28;01mNone\u001b[39;00m \u001b[38;5;129;01mand\u001b[39;00m \u001b[38;5;129;01mnot\u001b[39;00m kw):\n\u001b[32m--> \u001b[39m\u001b[32m346\u001b[39m     \u001b[38;5;28;01mreturn\u001b[39;00m \u001b[43m_default_decoder\u001b[49m\u001b[43m.\u001b[49m\u001b[43mdecode\u001b[49m\u001b[43m(\u001b[49m\u001b[43ms\u001b[49m\u001b[43m)\u001b[49m\n\u001b[32m    347\u001b[39m \u001b[38;5;28;01mif\u001b[39;00m \u001b[38;5;28mcls\u001b[39m \u001b[38;5;129;01mis\u001b[39;00m \u001b[38;5;28;01mNone\u001b[39;00m:\n\u001b[32m    348\u001b[39m     \u001b[38;5;28mcls\u001b[39m = JSONDecoder\n",
      "\u001b[36mFile \u001b[39m\u001b[32m/usr/lib/python3.12/json/decoder.py:337\u001b[39m, in \u001b[36mJSONDecoder.decode\u001b[39m\u001b[34m(self, s, _w)\u001b[39m\n\u001b[32m    332\u001b[39m \u001b[38;5;28;01mdef\u001b[39;00m\u001b[38;5;250m \u001b[39m\u001b[34mdecode\u001b[39m(\u001b[38;5;28mself\u001b[39m, s, _w=WHITESPACE.match):\n\u001b[32m    333\u001b[39m \u001b[38;5;250m    \u001b[39m\u001b[33;03m\"\"\"Return the Python representation of ``s`` (a ``str`` instance\u001b[39;00m\n\u001b[32m    334\u001b[39m \u001b[33;03m    containing a JSON document).\u001b[39;00m\n\u001b[32m    335\u001b[39m \n\u001b[32m    336\u001b[39m \u001b[33;03m    \"\"\"\u001b[39;00m\n\u001b[32m--> \u001b[39m\u001b[32m337\u001b[39m     obj, end = \u001b[38;5;28;43mself\u001b[39;49m\u001b[43m.\u001b[49m\u001b[43mraw_decode\u001b[49m\u001b[43m(\u001b[49m\u001b[43ms\u001b[49m\u001b[43m,\u001b[49m\u001b[43m \u001b[49m\u001b[43midx\u001b[49m\u001b[43m=\u001b[49m\u001b[43m_w\u001b[49m\u001b[43m(\u001b[49m\u001b[43ms\u001b[49m\u001b[43m,\u001b[49m\u001b[43m \u001b[49m\u001b[32;43m0\u001b[39;49m\u001b[43m)\u001b[49m\u001b[43m.\u001b[49m\u001b[43mend\u001b[49m\u001b[43m(\u001b[49m\u001b[43m)\u001b[49m\u001b[43m)\u001b[49m\n\u001b[32m    338\u001b[39m     end = _w(s, end).end()\n\u001b[32m    339\u001b[39m     \u001b[38;5;28;01mif\u001b[39;00m end != \u001b[38;5;28mlen\u001b[39m(s):\n",
      "\u001b[36mFile \u001b[39m\u001b[32m/usr/lib/python3.12/json/decoder.py:355\u001b[39m, in \u001b[36mJSONDecoder.raw_decode\u001b[39m\u001b[34m(self, s, idx)\u001b[39m\n\u001b[32m    353\u001b[39m     obj, end = \u001b[38;5;28mself\u001b[39m.scan_once(s, idx)\n\u001b[32m    354\u001b[39m \u001b[38;5;28;01mexcept\u001b[39;00m \u001b[38;5;167;01mStopIteration\u001b[39;00m \u001b[38;5;28;01mas\u001b[39;00m err:\n\u001b[32m--> \u001b[39m\u001b[32m355\u001b[39m     \u001b[38;5;28;01mraise\u001b[39;00m JSONDecodeError(\u001b[33m\"\u001b[39m\u001b[33mExpecting value\u001b[39m\u001b[33m\"\u001b[39m, s, err.value) \u001b[38;5;28;01mfrom\u001b[39;00m\u001b[38;5;250m \u001b[39m\u001b[38;5;28;01mNone\u001b[39;00m\n\u001b[32m    356\u001b[39m \u001b[38;5;28;01mreturn\u001b[39;00m obj, end\n",
      "\u001b[31mJSONDecodeError\u001b[39m: Expecting value: line 1 column 1 (char 0)"
     ]
    }
   ],
   "source": [
    "with open('../../data/helper/repos_processed.json', 'r') as file:\n",
    "        data_list = json.load(file)\n"
   ]
  },
  {
   "cell_type": "code",
   "execution_count": 70,
   "id": "80794de4",
   "metadata": {},
   "outputs": [],
   "source": [
    "def write_preprocessed_repo():\n",
    "    try:\n",
    "        with open('../../data/helper/repos_processed.json', 'r') as file:\n",
    "            data_list = json.load(file)\n",
    "    except json.JSONDecodeError as e:\n",
    "        data_list = []\n",
    "\n",
    "    new_entry = list((\"test_repo_2\", \"test_owner_2\")) # input\n",
    "    data_list.append(new_entry)\n",
    "\n",
    "    with open('../../data/helper/repos_processed.json', 'w') as file:\n",
    "        json.dump(data_list, file)\n",
    "\n",
    "\n",
    "def check_processed_repos():\n",
    "    try:\n",
    "        repo_to_check = list((\"test_repo_2\", \"test_owner_2\"))\n",
    "        with open('../../data/helper/repos_processed.json', 'r') as file:\n",
    "            data_list = json.load(file)\n",
    "    except json.JSONDecodeError as e:\n",
    "        data_list = []\n",
    "\n",
    "    if repo_to_check in data_list:\n",
    "        return True\n",
    "    else: \n",
    "        return False"
   ]
  },
  {
   "cell_type": "code",
   "execution_count": 71,
   "id": "cd745529",
   "metadata": {},
   "outputs": [
    {
     "data": {
      "text/plain": [
       "True"
      ]
     },
     "execution_count": 71,
     "metadata": {},
     "output_type": "execute_result"
    }
   ],
   "source": [
    "check_processed_repos()"
   ]
  },
  {
   "cell_type": "code",
   "execution_count": 69,
   "id": "3c06a0ad",
   "metadata": {},
   "outputs": [],
   "source": [
    "write_preprocessed_repo()"
   ]
  },
  {
   "cell_type": "code",
   "execution_count": 65,
   "id": "a52ae66e",
   "metadata": {},
   "outputs": [
    {
     "name": "stdout",
     "output_type": "stream",
     "text": [
      "Repo is not processed and will be added to file\n"
     ]
    }
   ],
   "source": [
    "#repo_to_check = list((\"test_repo_4\", \"test_name_4\"))\n",
    "\n",
    "if check_processed_repos():\n",
    "    print('Repo is processed')\n",
    "else: \n",
    "    print('Repo is not processed and will be added to file')\n",
    "    write_preprocessed_repo()\n"
   ]
  },
  {
   "cell_type": "code",
   "execution_count": 50,
   "id": "8ce00b18",
   "metadata": {},
   "outputs": [],
   "source": [
    "tmp_list = [1, 2, 3, 4, 5]"
   ]
  },
  {
   "cell_type": "code",
   "execution_count": 51,
   "id": "209de363",
   "metadata": {},
   "outputs": [
    {
     "name": "stdout",
     "output_type": "stream",
     "text": [
      "1\n",
      "3\n",
      "4\n",
      "5\n"
     ]
    }
   ],
   "source": [
    "for i in tmp_list:\n",
    "    if i / 2 == 1:\n",
    "        continue\n",
    "    else:\n",
    "        print(i)"
   ]
  }
 ],
 "metadata": {
  "kernelspec": {
   "display_name": ".venv",
   "language": "python",
   "name": "python3"
  },
  "language_info": {
   "codemirror_mode": {
    "name": "ipython",
    "version": 3
   },
   "file_extension": ".py",
   "mimetype": "text/x-python",
   "name": "python",
   "nbconvert_exporter": "python",
   "pygments_lexer": "ipython3",
   "version": "3.12.3"
  }
 },
 "nbformat": 4,
 "nbformat_minor": 5
}
