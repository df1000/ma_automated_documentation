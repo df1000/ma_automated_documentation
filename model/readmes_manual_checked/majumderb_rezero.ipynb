{
 "cells": [
  {
   "cell_type": "code",
   "execution_count": 34,
   "id": "23189abf",
   "metadata": {},
   "outputs": [],
   "source": [
    "import json\n",
    "import pandas as pd"
   ]
  },
  {
   "cell_type": "markdown",
   "id": "a1db662d",
   "metadata": {},
   "source": [
    "### Original README"
   ]
  },
  {
   "cell_type": "code",
   "execution_count": 35,
   "id": "cfa1bb14",
   "metadata": {},
   "outputs": [],
   "source": [
    "with open('../data/output_evaluation_data/model1/majumderb_rezero_evaluation_output.json', 'r') as f:\n",
    "    loaded_data = json.load(f)"
   ]
  },
  {
   "cell_type": "code",
   "execution_count": 36,
   "id": "44b61b7f",
   "metadata": {},
   "outputs": [
    {
     "name": "stdout",
     "output_type": "stream",
     "text": [
      "# ReZero for Deep Neural Networks\n",
      "\n",
      "[**ReZero is All You Need: Fast Convergence at Large Depth**](https://arxiv.org/abs/2003.04887).\\*Uncertainty in AI (UAI), 2021*.\\Thomas Bachlechner*, Bodhisattwa Prasad Majumder*, Huanru Henry Mao*, Garrison W. Cottrell, Julian McAuley (* denotes equal contributions)\n",
      "\n",
      "This repository contains the ReZero-Transformer implementation from the paper. It matches Pytorch's Transformer and can be easily used as a drop-in replacement. \n",
      "\n",
      "Quick Links:\n",
      "- [Installation](https://github.com/majumderb/rezero/blob/master/README.md#installation)\n",
      "- [Usage](https://github.com/majumderb/rezero/blob/master/README.md#usage)\n",
      "- [Tutorials](https://github.com/majumderb/rezero/blob/master/README.md#tutorials)\n",
      "- [Citation](https://github.com/majumderb/rezero/blob/master/README.md#citation)\n",
      "\n",
      "# Abstract\n",
      "\n",
      "Deep networks have enabled significant performance gains across domains, but they often suffer from vanishing/exploding gradients. This is especially true for Transformer architectures where depth beyond 12 layers is difficult to train without large datasets and computational budgets. In general, we find that inefficient signal propagation impedes learning in deep networks. In Transformers, multi-head self-attention is the main cause of this poor signal propagation. To facilitate deep signal propagation, we propose **ReZero**, a simple change to the architecture that initializes an arbitrary layer as the identity map, using a single additional learned parameter per layer. We apply this technique to language modeling and find that we can easily train ReZero-Transformer networks over a hundred layers. When applied to 12 layer Transformers, ReZero converges 56% faster on enwiki8. ReZero applies beyond Transformers to other residual networks, enabling 1,500% faster convergence for deep fully connected networks and 32% faster convergence for a ResNet-56 trained on CIFAR 10.\n",
      "\n",
      "# Installation\n",
      "Simply install from pip:\n",
      "\n",
      "```\n",
      "pip install rezero\n",
      "```\n",
      "\n",
      "Pytorch 1.4 or greater is required.\n",
      "\n",
      "# Usage\n",
      "We provide custom ReZero Transformer layers (RZTX).\n",
      "\n",
      "For example, this will create a Transformer encoder:\n",
      "```py\n",
      "import torch\n",
      "import torch.nn as nn\n",
      "from rezero.transformer import RZTXEncoderLayer\n",
      "\n",
      "encoder_layer = RZTXEncoderLayer(d_model=512, nhead=8)\n",
      "transformer_encoder = nn.TransformerEncoder(encoder_layer, num_layers=6)\n",
      "src = torch.rand(10, 32, 512)\n",
      "out = transformer_encoder(src)\n",
      "```\n",
      "\n",
      "This will create a Transformer decoder:\n",
      "```py\n",
      "import torch\n",
      "import torch.nn as nn\n",
      "from rezero.transformer import RZTXDecoderLayer\n",
      "\n",
      "decoder_layer = RZTXDecoderLayer(d_model=512, nhead=8)\n",
      "transformer_decoder = nn.TransformerDecoder(decoder_layer, num_layers=6)\n",
      "memory = torch.rand(10, 32, 512)\n",
      "tgt = torch.rand(20, 32, 512)\n",
      "out = transformer_decoder(tgt, memory)\n",
      "```\n",
      "\n",
      "Make sure `norm` argument is left as `None` as to not use `LayerNorm` in the Transformer.\n",
      "\n",
      "See https://pytorch.org/docs/master/nn.html#torch.nn.Transformer for details on how to integrate customer Transformer layers to Pytorch.\n",
      "\n",
      "# Tutorials\n",
      "\n",
      "1. [Training 128 layer ReZero Transformer on WikiText-2 language modeling](https://github.com/tbachlechner/ReZero-examples/blob/master/ReZero-Deep_Fast_Transformer.ipynb)\n",
      "2. [Training 10,000 layer ReZero neural network on CIFAR-10 data](https://github.com/tbachlechner/ReZero-examples/blob/master/ReZero-Deep_Fast_NeuralNetwork.ipynb)\n",
      "\n",
      "Watch for more tutorials in this [space](https://github.com/tbachlechner/ReZero-examples).\n",
      "\n",
      "# Citation\n",
      "If you find `rezero` useful for your research, please cite our paper:\n",
      "```BibTex\n",
      "@inproceedings{BacMajMaoCotMcA20,\n",
      "    title = \"ReZero is All You Need: Fast Convergence at Large Depth\",\n",
      "    author = \"Bachlechner, Thomas  and\n",
      "      Majumder, Bodhisattwa Prasad\n",
      "      Mao, Huanru Henry and\n",
      "      Cottrell, Garrison W. and\n",
      "      McAuley, Julian\",\n",
      "    booktitle = \"arXiv\",\n",
      "    year = \"2020\",\n",
      "    url = \"https://arxiv.org/abs/2003.04887\"\n",
      "}\n",
      "```\n",
      "\n"
     ]
    }
   ],
   "source": [
    "print(loaded_data['readme_original']['readme'])"
   ]
  },
  {
   "cell_type": "markdown",
   "id": "55c9ae51",
   "metadata": {},
   "source": [
    "### Generated README"
   ]
  },
  {
   "cell_type": "code",
   "execution_count": 37,
   "id": "e4a4b1d1",
   "metadata": {},
   "outputs": [],
   "source": [
    "with open('../data/output_evaluation_data/model1/majumderb_rezero_evaluation_output.json', 'r') as f:\n",
    "    loaded_data = json.load(f)"
   ]
  },
  {
   "cell_type": "code",
   "execution_count": 38,
   "id": "3dc4f6a0",
   "metadata": {},
   "outputs": [
    {
     "name": "stdout",
     "output_type": "stream",
     "text": [
      "## ReZero\n",
      "\n",
      "## Description\n",
      "\n",
      "The ReZero repository is a PyTorch implementation of the ReZero architecture, a type of neural network designed for fast convergence at large depths. The repository contains two main components: `RZTXEncoderLayer` and `RZTXDecoderLayer`, which are custom PyTorch modules implementing the encoder and decoder layers of the ReZero architecture, respectively.\n",
      "\n",
      "## Installation\n",
      "\n",
      "To install the ReZero repository, you need to have PyTorch installed in your environment. You can install PyTorch using pip:\n",
      "\n",
      "```bash\n",
      "pip install torch==1.4.0\n",
      "```\n",
      "\n",
      "Then, clone the repository and install the required dependencies:\n",
      "\n",
      "```bash\n",
      "git clone https://github.com/majumderb/rezero.git\n",
      "cd rezero\n",
      "pip install -r requirements.txt\n",
      "```\n",
      "\n",
      "## Usage\n",
      "\n",
      "To use the ReZero architecture, you can import the `RZTXEncoderLayer` and `RZTXDecoderLayer` modules in your PyTorch project:\n",
      "\n",
      "```python\n",
      "import torch\n",
      "from rezero import RZTXEncoderLayer, RZTXDecoderLayer\n",
      "\n",
      "# Create an instance of the encoder layer\n",
      "encoder_layer = RZTXEncoderLayer()\n",
      "\n",
      "# Create an instance of the decoder layer\n",
      "decoder_layer = RZTXDecoderLayer()\n",
      "\n",
      "# Use the layers in your PyTorch model\n",
      "model = torch.nn.Module()\n",
      "model.add_module('encoder', encoder_layer)\n",
      "model.add_module('decoder', decoder_layer)\n",
      "```\n",
      "\n",
      "## Contributing\n",
      "\n",
      "Contributions are welcome! If you'd like to contribute to the ReZero repository, please fork the repository and submit a pull request with your changes. Make sure to follow the standard guidelines for contributing to open-source projects.\n",
      "\n",
      "## License\n",
      "\n",
      "The ReZero repository is licensed under the MIT License. The full license text is included in the repository.\n",
      "\n",
      "```\n",
      "Copyright (c) 2020 Bodhisattwa Majumder\n",
      "\n",
      "Permission is hereby granted, free of charge, to any person obtaining a copy\n",
      "of this software and associated documentation files (the \"Software\"), to deal\n",
      "in the Software without restriction, including without limitation the rights\n",
      "to use, copy, modify, merge, publish, distribute, sublicense, and/or sell\n",
      "copies of the Software, and to permit persons to whom the Software is\n",
      "furnished to do so, subject to the following conditions:\n",
      "\n",
      "The above copyright notice and this permission notice shall be included in all\n",
      "copies or substantial portions of the Software.\n",
      "\n",
      "THE SOFTWARE IS PROVIDED \"AS IS\", WITHOUT WARRANTY OF ANY KIND, EXPRESS OR\n",
      "IMPLIED, INCLUDING BUT NOT LIMITED TO THE WARRANTIES OF MERCHANTABILITY,\n",
      "FITNESS FOR A PARTICULAR PURPOSE AND NONINFRINGEMENT. IN NO EVENT SHALL THE\n",
      "AUTHORS OR COPYRIGHT HOLDERS BE LIABLE FOR ANY CLAIM, DAMAGES OR OTHER\n",
      "LIABILITY, WHETHER IN AN ACTION OF CONTRACT, TORT OR OTHERWISE, ARISING FROM,\n",
      "OUT OF OR IN CONNECTION WITH THE SOFTWARE OR THE USE OR OTHER DEALINGS IN THE\n",
      "SOFTWARE.\n",
      "```\n"
     ]
    }
   ],
   "source": [
    "print(loaded_data['readme_genereated']['readme'])"
   ]
  }
 ],
 "metadata": {
  "kernelspec": {
   "display_name": ".venv",
   "language": "python",
   "name": "python3"
  },
  "language_info": {
   "codemirror_mode": {
    "name": "ipython",
    "version": 3
   },
   "file_extension": ".py",
   "mimetype": "text/x-python",
   "name": "python",
   "nbconvert_exporter": "python",
   "pygments_lexer": "ipython3",
   "version": "3.12.3"
  }
 },
 "nbformat": 4,
 "nbformat_minor": 5
}
