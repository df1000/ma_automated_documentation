{
 "cells": [
  {
   "cell_type": "code",
   "execution_count": 24,
   "id": "23189abf",
   "metadata": {},
   "outputs": [],
   "source": [
    "import json\n",
    "import pandas as pd"
   ]
  },
  {
   "cell_type": "markdown",
   "id": "f75a29bc",
   "metadata": {},
   "source": [
    "markdown format passt noch nicht. sieht scheiße aus --> mit print() sieht das Format gut aus\n",
    "with open('../test_readme/my_test_readme.md', 'w') as file:\n",
    "file.write(readme)\n",
    "varible so speichern und dann sieht das format gut aus ;-)"
   ]
  },
  {
   "cell_type": "markdown",
   "id": "a1db662d",
   "metadata": {},
   "source": [
    "### Original README"
   ]
  },
  {
   "cell_type": "code",
   "execution_count": 25,
   "id": "cfa1bb14",
   "metadata": {},
   "outputs": [],
   "source": [
    "with open('../data/output_evaluation_data/model1/JakeWharton_pidcat_evaluation_output.json', 'r') as f:\n",
    "    loaded_data = json.load(f)"
   ]
  },
  {
   "cell_type": "code",
   "execution_count": 26,
   "id": "44b61b7f",
   "metadata": {},
   "outputs": [
    {
     "name": "stdout",
     "output_type": "stream",
     "text": [
      "PID Cat\n",
      "=======\n",
      "\n",
      "An update to Jeff Sharkey's excellent [logcat color script][1] which only shows\n",
      "log entries for processes from a specific application package.\n",
      "\n",
      "During application development you often want to only display log messages\n",
      "coming from your app. Unfortunately, because the process ID changes every time\n",
      "you deploy to the phone it becomes a challenge to grep for the right thing.\n",
      "\n",
      "This script solves that problem by filtering by application package. Supply the\n",
      "target package as the sole argument to the python script and enjoy a more\n",
      "convenient development process.\n",
      "\n",
      "    pidcat com.oprah.bees.android\n",
      "\n",
      "\n",
      "Here is an example of the output when running for the Google Plus app:\n",
      "\n",
      "![Example screen](screen.png)\n",
      "\n",
      "\n",
      "Install\n",
      "-------\n",
      "\n",
      "Get the script:\n",
      "\n",
      " *  OS X: Use [Homebrew][2].\n",
      "\n",
      "         brew install pidcat\n",
      "\n",
      "    If you need to install the latest development version\n",
      "\n",
      "        brew unlink pidcat\n",
      "        brew install --HEAD pidcat\n",
      "\n",
      " * Arch Linux : Install the package called `pidcat-git` from the [AUR][4].\n",
      "\n",
      " * Others: Download the `pidcat.py` and place it on your PATH.\n",
      "\n",
      "\n",
      "Make sure that `adb` from the [Android SDK][3] is on your PATH. This script will\n",
      "not work unless this is that case. That means, when you type `adb` and press\n",
      "enter into your terminal something actually happens.\n",
      "\n",
      "To include `adb` and other android tools on your path:\n",
      "\n",
      "    export PATH=$PATH:<path to Android SDK>/platform-tools\n",
      "    export PATH=$PATH:<path to Android SDK>/tools\n",
      "\n",
      "Include these lines in your `.bashrc` or `.zshrc`.\n",
      "\n",
      "*Note:* `<path to Android SDK>` should be absolute and not relative.\n",
      "\n",
      "`pidcat` requires at least version 8.30 of `coreutils`. Ubuntu 20.04 LTS already ships\n",
      "with it, for 18.04 and below, `coreutils` can be upgraded from the `focal` repo by running\n",
      "the following:\n",
      "\n",
      "```shell\n",
      "sudo add-apt-repository 'deb http://archive.ubuntu.com/ubuntu focal main restricted universe multiverse'\n",
      "sudo apt-get update\n",
      "sudo apt-get -t focal install coreutils\n",
      "```\n",
      "\n",
      " [1]: http://jsharkey.org/blog/2009/04/22/modifying-the-android-logcat-stream-for-full-color-debugging/\n",
      " [2]: http://brew.sh\n",
      " [3]: http://developer.android.com/sdk/\n",
      " [4]: https://aur.archlinux.org/packages/pidcat-git/\n",
      "\n"
     ]
    }
   ],
   "source": [
    "print(loaded_data['readme_original']['readme'])"
   ]
  },
  {
   "cell_type": "markdown",
   "id": "55c9ae51",
   "metadata": {},
   "source": [
    "### Generated README"
   ]
  },
  {
   "cell_type": "code",
   "execution_count": 27,
   "id": "e4a4b1d1",
   "metadata": {},
   "outputs": [],
   "source": [
    "with open('../data/output_evaluation_data/model1/JakeWharton_pidcat_evaluation_output.json', 'r') as f:\n",
    "    loaded_data = json.load(f)"
   ]
  },
  {
   "cell_type": "code",
   "execution_count": 28,
   "id": "3dc4f6a0",
   "metadata": {},
   "outputs": [
    {
     "name": "stdout",
     "output_type": "stream",
     "text": [
      "## pidcat\n",
      "\n",
      "## Description\n",
      "The pidcat repository is a command-line tool for filtering and highlighting logcat output from Android devices. It allows users to specify package names, log levels, and other options to customize the output.\n",
      "\n",
      "## Installation\n",
      "To install pidcat, you can clone the repository using Git and run the `setup.py` script to install the required dependencies. The repository uses the `argparse` library for argument parsing, `subprocess` for interacting with the Android Debug Bridge (ADB), and `re` for regular expression matching.\n",
      "\n",
      "## Usage\n",
      "To use pidcat, simply run the script and pass in the desired options. You can specify package names, log levels, and other options to customize the output. For example:\n",
      "```bash\n",
      "python pidcat.py -p com.example.app -l DEBUG\n",
      "```\n",
      "This will filter the logcat output to only show messages from the `com.example.app` package with a log level of `DEBUG`.\n",
      "\n",
      "## Contributing\n",
      "Contributions are welcome! If you'd like to contribute to pidcat, please fork the repository and submit a pull request. Make sure to follow the standard guidelines for contributing to open-source projects.\n",
      "\n",
      "## License\n",
      "The pidcat repository is licensed under the Apache License, Version 2.0.\n"
     ]
    }
   ],
   "source": [
    "print(loaded_data['readme_genereated']['readme'])"
   ]
  }
 ],
 "metadata": {
  "kernelspec": {
   "display_name": ".venv",
   "language": "python",
   "name": "python3"
  },
  "language_info": {
   "codemirror_mode": {
    "name": "ipython",
    "version": 3
   },
   "file_extension": ".py",
   "mimetype": "text/x-python",
   "name": "python",
   "nbconvert_exporter": "python",
   "pygments_lexer": "ipython3",
   "version": "3.12.3"
  }
 },
 "nbformat": 4,
 "nbformat_minor": 5
}
