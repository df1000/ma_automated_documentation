{
 "cells": [
  {
   "cell_type": "code",
   "execution_count": 29,
   "id": "23189abf",
   "metadata": {},
   "outputs": [],
   "source": [
    "import json\n",
    "import pandas as pd"
   ]
  },
  {
   "cell_type": "markdown",
   "id": "f75a29bc",
   "metadata": {},
   "source": [
    "markdown format passt noch nicht. sieht scheiße aus --> mit print() sieht das Format gut aus\n",
    "with open('../test_readme/my_test_readme.md', 'w') as file:\n",
    "file.write(readme)\n",
    "varible so speichern und dann sieht das format gut aus ;-)"
   ]
  },
  {
   "cell_type": "markdown",
   "id": "a1db662d",
   "metadata": {},
   "source": [
    "### Original README"
   ]
  },
  {
   "cell_type": "code",
   "execution_count": 30,
   "id": "cfa1bb14",
   "metadata": {},
   "outputs": [],
   "source": [
    "with open('../data/output_evaluation_data/model1/lennylxx_ipv6-hosts_evaluation_output.json', 'r') as f:\n",
    "    loaded_data = json.load(f)"
   ]
  },
  {
   "cell_type": "code",
   "execution_count": 31,
   "id": "44b61b7f",
   "metadata": {},
   "outputs": [
    {
     "name": "stdout",
     "output_type": "stream",
     "text": [
      "What\n",
      "----\n",
      "\n",
      "Hosts file which is used for improving IPv6 access speed to Google, YouTube, \n",
      "Facebook, Wikipedia, etc. in Mainland China.\n",
      "\n",
      "|   \\   |                                                                    |\n",
      "| ----- | ------------------------------------------------------------------ |\n",
      "| Hosts | https://raw.githubusercontent.com/lennylxx/ipv6-hosts/master/hosts |\n",
      "| Wiki  | https://github.com/lennylxx/ipv6-hosts/wiki                        |\n",
      "| Info  | [1e100 servers deployment geoinfo], [SN-domain servers list]       |\n",
      "\n",
      "* You may need [HTTPS Everywhere] to secure your transmission.\n",
      "* [How to decode Google SN domains]\n",
      "* How to [Do It Yourself]\n",
      "\n",
      "Scripts\n",
      "-------\n",
      "\n",
      "[update_hosts.py]\n",
      "\n",
      "```\n",
      "usage: update_hosts [OPTIONS] FILE\n",
      "A simple multi-threading tool used for updating hosts file.\n",
      "\n",
      "Options:\n",
      "  -h, --help             show this help message and exit\n",
      "  -s DNS                 set another dns server, default: 2001:4860:4860::8844\n",
      "  -o OUT_FILE            output file, default: inputfilename.out\n",
      "  -t QUERY_TYPE          dig command query type, default: aaaa\n",
      "  -c, --cname            write canonical name into hosts file\n",
      "  -n THREAD_NUM          set the number of worker threads, default: 10\n",
      "```\n",
      "\n",
      "[merge_snippets.sh]\n",
      "\n",
      "```\n",
      "usage: ./merge_snippets.sh new_hosts\n",
      "```\n",
      "\n",
      "Some Public DNS Servers\n",
      "-----------------------\n",
      "\n",
      "|          |           USA          |           USA          |\n",
      "| -------- | ---------------------- | ---------------------- |\n",
      "| Hostname | **ordns.he.net**       | **tserv1.lax1.he.net** |\n",
      "| IPv6     | 2001:470:20::2         | 2001:470:0:9d::2       | \n",
      "| IPv4     | 74.82.42.42            | 66.220.18.42           |\n",
      "| ISP      | Hurricane Electric Inc.| Hurricane Electric Inc.|\n",
      "| City     | Anycast                | Los Angeles            |\n",
      "\n",
      "\n",
      "|          |      Hong Kong         |       Japan        |\n",
      "| -------- | ---------------------- | ------------------ |\n",
      "| Hostname | **dns.hutchcity.com**  | **ns01.miinet.jp** |\n",
      "| IPv4     | 202.45.84.58           | 203.112.2.4        |\n",
      "| ISP      | Hutchison Whampoa Ltd. | UCOM Corporation   |\n",
      "| City     | Hong Kong              | Tokyo              |\n",
      "\n",
      "More public DNS servers please refer to http://public-dns.info\n",
      "\n",
      "Privacy\n",
      "-------\n",
      "\n",
      "* The hosts file just redirects domain to its official IPs. You can check them on any other public DNS servers.\n",
      "* There is no absolute privacy on the Internet. Learn to protect yourself.\n",
      "* Act smart.\n",
      "\n",
      "License\n",
      "-------\n",
      "\n",
      "Code of this project is licensed under the [MIT license](LICENSE).  \n",
      "Content of this project (including hosts files, wiki, and Google sheets) is licensed under [![CC Image]][CC BY-NC-SA 3.0].\n",
      "\n",
      "\n",
      "[merge_snippets.sh]: merge_snippets.sh\n",
      "[update_hosts.py]: update_hosts.py\n",
      "[1e100 servers deployment geoinfo]: https://docs.google.com/spreadsheets/d/1a5HI0lkc1TycJdwJnCVDVd3x6_gemI3CQhNHhdsVmP8\n",
      "[SN-domain servers list]: https://docs.google.com/spreadsheets/d/14gT1GV1IE0oYCq-1Dy747_5FWNxL26R-9T5htJ485dY\n",
      "[HTTPS Everywhere]: https://www.eff.org/https-everywhere\n",
      "[How to decode Google SN domains]: https://github.com/lennylxx/ipv6-hosts/wiki/sn-domains\n",
      "[Do It Yourself]: https://github.com/lennylxx/ipv6-hosts/wiki/Do-It-Yourself\n",
      "[CC Image]: https://licensebuttons.net/l/by-nc-sa/3.0/88x31.png\n",
      "[CC BY-NC-SA 3.0]: https://creativecommons.org/licenses/by-nc-sa/3.0/\n",
      "\n"
     ]
    }
   ],
   "source": [
    "print(loaded_data['readme_original']['readme'])"
   ]
  },
  {
   "cell_type": "markdown",
   "id": "55c9ae51",
   "metadata": {},
   "source": [
    "### Generated README"
   ]
  },
  {
   "cell_type": "code",
   "execution_count": 32,
   "id": "e4a4b1d1",
   "metadata": {},
   "outputs": [],
   "source": [
    "with open('../data/output_evaluation_data/model1/lennylxx_ipv6-hosts_evaluation_output.json', 'r') as f:\n",
    "    loaded_data = json.load(f)"
   ]
  },
  {
   "cell_type": "code",
   "execution_count": 33,
   "id": "3dc4f6a0",
   "metadata": {},
   "outputs": [
    {
     "name": "stdout",
     "output_type": "stream",
     "text": [
      "## ipv6-hosts\n",
      "\n",
      "## Description\n",
      "The \"ipv6-hosts\" repository is a Python script designed to update a hosts file with IPv6 addresses. Its primary function is to query DNS for IPv6 addresses of given domain names and append them to the hosts file.\n",
      "\n",
      "## Installation\n",
      "To install the script, you will need to have Python installed on your system. You can download the repository and run the script directly.\n",
      "\n",
      "## Usage\n",
      "To use the script, you will need to specify the DNS server, output file, query type, and number of threads in the configuration section. The script will then read the input hosts file, process each line, and update the output hosts file with the queried IPv6 addresses.\n",
      "\n",
      "### Configuration\n",
      "The script has a configuration section that allows users to specify the following options:\n",
      "\n",
      "*   DNS server: The DNS server to query for IPv6 addresses.\n",
      "*   Output file: The file to update with the queried IPv6 addresses.\n",
      "*   Query type: The type of query to perform (e.g., A, AAAA, etc.).\n",
      "*   Number of threads: The number of threads to use for querying DNS.\n",
      "\n",
      "### Running the Script\n",
      "To run the script, simply execute the Python file with the required options specified in the configuration section.\n",
      "\n",
      "## Contributing\n",
      "Contributions are welcome! If you'd like to contribute to the project, please fork the repository and submit a pull request with your changes.\n",
      "\n",
      "## License\n",
      "The ipv6-hosts repository is released under the MIT License.\n"
     ]
    }
   ],
   "source": [
    "print(loaded_data['readme_genereated']['readme'])"
   ]
  }
 ],
 "metadata": {
  "kernelspec": {
   "display_name": ".venv",
   "language": "python",
   "name": "python3"
  },
  "language_info": {
   "codemirror_mode": {
    "name": "ipython",
    "version": 3
   },
   "file_extension": ".py",
   "mimetype": "text/x-python",
   "name": "python",
   "nbconvert_exporter": "python",
   "pygments_lexer": "ipython3",
   "version": "3.12.3"
  }
 },
 "nbformat": 4,
 "nbformat_minor": 5
}
