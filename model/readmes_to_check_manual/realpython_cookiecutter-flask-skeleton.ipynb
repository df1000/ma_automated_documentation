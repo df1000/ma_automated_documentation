{
 "cells": [
  {
   "cell_type": "code",
   "execution_count": 47,
   "id": "23189abf",
   "metadata": {},
   "outputs": [],
   "source": [
    "import json\n",
    "import pandas as pd"
   ]
  },
  {
   "cell_type": "markdown",
   "id": "f75a29bc",
   "metadata": {},
   "source": [
    "markdown format passt noch nicht. sieht scheiße aus --> mit print() sieht das Format gut aus\n",
    "with open('../test_readme/my_test_readme.md', 'w') as file:\n",
    "file.write(readme)\n",
    "varible so speichern und dann sieht das format gut aus ;-)"
   ]
  },
  {
   "cell_type": "markdown",
   "id": "a1db662d",
   "metadata": {},
   "source": [
    "### Original README"
   ]
  },
  {
   "cell_type": "code",
   "execution_count": 48,
   "id": "cfa1bb14",
   "metadata": {},
   "outputs": [],
   "source": [
    "with open('../data/output_evaluation_data/model1/realpython_cookiecutter-flask-skeleton_evaluation_output.json', 'r') as f:\n",
    "    loaded_data = json.load(f)"
   ]
  },
  {
   "cell_type": "code",
   "execution_count": 49,
   "id": "44b61b7f",
   "metadata": {},
   "outputs": [
    {
     "name": "stdout",
     "output_type": "stream",
     "text": [
      "This project is no longer maintained. You can find the maintained version at [https://github.com/testdrivenio/cookiecutter-flask-skeleton](https://github.com/testdrivenio/cookiecutter-flask-skeleton)\n",
      "\n",
      "# Flask Skeleton\n",
      "\n",
      "Flask starter project for [Cookiecutter](https://github.com/audreyr/cookiecutter).\n",
      "\n",
      "[![Build Status](https://travis-ci.org/realpython/cookiecutter-flask-skeleton.svg?branch=master)](https://travis-ci.org/realpython/cookiecutter-flask-skeleton)\n",
      "\n",
      "## Quick Start\n",
      "\n",
      "Install Cookiecutter globally:\n",
      "\n",
      "```sh\n",
      "$ pip install cookiecutter\n",
      "```\n",
      "\n",
      "Generate the boilerplate:\n",
      "\n",
      "```sh\n",
      "$ cookiecutter https://github.com/realpython/cookiecutter-flask-skeleton.git\n",
      "```\n",
      "\n",
      "Once generated, review the setup guides, within the newly created project directory, to configure the app:\n",
      "\n",
      "1. [setup-with-docker.md](%7B%7Bcookiecutter.app_slug%7D%7D/setup-with-docker.md)\n",
      "1. [setup-without-docker.md](%7B%7Bcookiecutter.app_slug%7D%7D/setup-without-docker.md)\n",
      "\n"
     ]
    }
   ],
   "source": [
    "print(loaded_data['readme_original']['readme'])"
   ]
  },
  {
   "cell_type": "markdown",
   "id": "55c9ae51",
   "metadata": {},
   "source": [
    "### Generated README"
   ]
  },
  {
   "cell_type": "code",
   "execution_count": 50,
   "id": "e4a4b1d1",
   "metadata": {},
   "outputs": [],
   "source": [
    "with open('../data/output_evaluation_data/model1/realpython_cookiecutter-flask-skeleton_evaluation_output.json', 'r') as f:\n",
    "    loaded_data = json.load(f)"
   ]
  },
  {
   "cell_type": "code",
   "execution_count": 51,
   "id": "3dc4f6a0",
   "metadata": {},
   "outputs": [
    {
     "name": "stdout",
     "output_type": "stream",
     "text": [
      "## Cookiecutter Flask Skeleton\n",
      "\n",
      "## Description\n",
      "\n",
      "This is a Flask web application skeleton that provides a basic structure for building a web application with user authentication, database management, and testing. It includes a comprehensive testing framework using Unittest and Coverage.py for code coverage analysis, and uses Flask-CLI to manage the application.\n",
      "\n",
      "## Installation\n",
      "\n",
      "To install the project, run the following command:\n",
      "```bash\n",
      "pip install -r requirements.txt\n",
      "```\n",
      "This will install the required dependencies, including Flask, Flask-SQLAlchemy, Flask-Login, Flask-WTF, and others.\n",
      "\n",
      "## Usage\n",
      "\n",
      "To get started, navigate to the project directory and run the following command:\n",
      "```bash\n",
      "flask db init\n",
      "```\n",
      "This will initialize the database and create the necessary tables. Then, run the following command to create a superuser:\n",
      "```bash\n",
      "flask user create-admin\n",
      "```\n",
      "You can then run the application using:\n",
      "```bash\n",
      "flask run\n",
      "```\n",
      "This will start the development server, and you can access the application at `http://localhost:5000`.\n",
      "\n",
      "## Contributing\n",
      "\n",
      "Contributions are welcome! If you'd like to contribute to this project, please fork the repository and submit a pull request. Make sure to follow the standard Python coding conventions and include tests for any new code.\n",
      "\n",
      "## License\n",
      "\n",
      "The Cookiecutter Flask Skeleton is released under the MIT License. See the LICENSE file for details.\n"
     ]
    }
   ],
   "source": [
    "print(loaded_data['readme_genereated']['readme'])"
   ]
  }
 ],
 "metadata": {
  "kernelspec": {
   "display_name": ".venv",
   "language": "python",
   "name": "python3"
  },
  "language_info": {
   "codemirror_mode": {
    "name": "ipython",
    "version": 3
   },
   "file_extension": ".py",
   "mimetype": "text/x-python",
   "name": "python",
   "nbconvert_exporter": "python",
   "pygments_lexer": "ipython3",
   "version": "3.12.3"
  }
 },
 "nbformat": 4,
 "nbformat_minor": 5
}
