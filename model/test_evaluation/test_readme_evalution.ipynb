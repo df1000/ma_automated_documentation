{
 "cells": [
  {
   "cell_type": "code",
   "execution_count": 159,
   "id": "74ef328d",
   "metadata": {},
   "outputs": [],
   "source": [
    "import pandas as pd\n",
    "import os # package for using operating system\n",
    "from dotenv import load_dotenv\n",
    "from snowflake.snowpark.session import Session # package for building and using Snowflake sessions\n",
    "# from snowflake.cortex import Complete\n",
    "from transformers import AutoTokenizer # package to select the fitting tokenizer for a pretrained model\n",
    "from huggingface_hub import login # package for login and identifying to Huggingface\n",
    "import pandas as pd # package for data manipulation\n",
    "import json # package to work with .json\n",
    "import math # package for mathematical operations"
   ]
  },
  {
   "cell_type": "markdown",
   "id": "204427c8",
   "metadata": {},
   "source": [
    "https://arxiv.org/pdf/2303.04048 --> reference-free & reference-based metric (direct-assessment or one-to-five stars)  \n",
    "https://arxiv.org/pdf/2407.07959 --> llm evaluation\n"
   ]
  },
  {
   "cell_type": "code",
   "execution_count": 160,
   "id": "e9f6423e",
   "metadata": {},
   "outputs": [],
   "source": [
    "# with open('openstack_openstack.json', 'r') as f:\n",
    "#     loaded_data = json.load(f)"
   ]
  },
  {
   "cell_type": "code",
   "execution_count": 161,
   "id": "ce092c72",
   "metadata": {},
   "outputs": [],
   "source": [
    "with open('openstack_openstack_output.json', 'r') as f:\n",
    "    loaded_data = json.load(f)"
   ]
  },
  {
   "cell_type": "code",
   "execution_count": 162,
   "id": "f767ef1d",
   "metadata": {},
   "outputs": [],
   "source": [
    "input_txt = loaded_data['readme']\n",
    "repo_name = loaded_data['repo_owner']"
   ]
  },
  {
   "cell_type": "code",
   "execution_count": 163,
   "id": "5d241151",
   "metadata": {},
   "outputs": [
    {
     "name": "stdout",
     "output_type": "stream",
     "text": [
      "## OpenStack Git Submodule Manager\n",
      "\n",
      "## Description\n",
      "The OpenStack Git Submodule Manager is a Python script designed to manage Git submodules for OpenStack projects. It fetches a list of integrated gate repositories, generates a `.gitmodules` file, and configures the Git submodules accordingly.\n",
      "\n",
      "## Installation\n",
      "To install the OpenStack Git Submodule Manager, you will need to have Python and Git installed on your system. You will also need to install the `requests` and `yaml` libraries using pip:\n",
      "```bash\n",
      "pip install requests yaml\n",
      "```\n",
      "## Usage\n",
      "To use the script, simply run it from the command line:\n",
      "```bash\n",
      "python openstack_git_submodule_manager.py\n",
      "```\n",
      "This will fetch the list of integrated gate repositories, generate the `.gitmodules` file, and configure the Git submodules.\n",
      "\n",
      "## Contributing\n",
      "Contributions to the OpenStack Git Submodule Manager are welcome! If you'd like to contribute, please fork the repository and submit a pull request. Make sure to follow the standard OpenStack contribution guidelines.\n",
      "\n",
      "## License\n",
      "This project is licensed under the Apache License, Version 2.0.\n"
     ]
    }
   ],
   "source": [
    "print(input_txt)"
   ]
  },
  {
   "cell_type": "code",
   "execution_count": 164,
   "id": "921f8694",
   "metadata": {},
   "outputs": [
    {
     "data": {
      "text/plain": [
       "'openstack'"
      ]
     },
     "execution_count": 164,
     "metadata": {},
     "output_type": "execute_result"
    }
   ],
   "source": [
    "repo_name"
   ]
  },
  {
   "cell_type": "code",
   "execution_count": 165,
   "id": "e766abfb",
   "metadata": {},
   "outputs": [],
   "source": [
    "prompt_evaluation = f'''\n",
    "You are acting as a software development expert for the following GitHub repository \"{repo_name}\".\n",
    "Your task is to evaluate the following README of the repository/project based on the provided questions:\n",
    "    - q1: What is the goal of the project?\n",
    "    - q2: Why is the project useful?\n",
    "    - q3: How can users get started with the project?\n",
    "    - q4: Where can users get help with your project?\n",
    "    - q5: Who maintains and contributes to the project?\n",
    "How well does the provided README offers answers to each question? Score each question on a scale from 1 to 5, \n",
    "in which 1 means \"insufficient\", 2 \"sufficienct\", 3 \"satisfactory\", 4 \"good\" and 5 \"very good\". Provide your chosen score with a short explanation.\n",
    "A good indication of a high score is: 1) there is a section or paragraph where ab answer of the questions is clearly provided,\n",
    "2) the content of the README is clearly structured and understandable 3) that a developer who reads the README understands the purpose of the project.\n",
    "You're not allowed to skip a question or add any small talk!\n",
    "Structure your response in the following format:\n",
    "###\n",
    "\"q1\": [\n",
    "    ##\"score\": your_score##,\n",
    "    ##\"explanation\": your_explanation##\n",
    "    ]\n",
    "###\n",
    "\"q2\": ...\n",
    "###\n",
    "Here is the README to evaluate:\n",
    "{input_txt}\n",
    "'''"
   ]
  },
  {
   "cell_type": "code",
   "execution_count": 166,
   "id": "16cc9c95",
   "metadata": {},
   "outputs": [],
   "source": [
    "# alle noten definieren!\n",
    "## oder von jeder \"Note\" eines ansehen.\n",
    "## oder besonders schlechte und besonders gute readmes selbst ansehen (ich als experte ... haha) und (ein-zwei random aus der mitte\n",
    "## oder große delta ansehen.(z.b. schlecht erzeugtes readme zu gutem originalem readme)\n",
    "## plot von hecht kategorien auftragen (meines gegen das originale)"
   ]
  },
  {
   "cell_type": "code",
   "execution_count": 167,
   "id": "c3a77c72",
   "metadata": {},
   "outputs": [],
   "source": [
    "model = 'llama3.1-8b'\n",
    "# specify llm parameters for summary creation\n",
    "model_params = {\n",
    "   'temperature': 0, # default: 0 https://docs.snowflake.com/en/sql-reference/functions/complete-snowflake-cortex --> Internetrecherche hat keine anderen Empfehlungen ergeben\n",
    "   # 'top_p': # default: 0 https://docs.snowflake.com/en/sql-reference/functions/complete-snowflake-cortex\n",
    "    'max_tokens': 400\n",
    "}"
   ]
  },
  {
   "cell_type": "code",
   "execution_count": 168,
   "id": "35bb552f",
   "metadata": {},
   "outputs": [
    {
     "name": "stdout",
     "output_type": "stream",
     "text": [
      "Snowflake sessions is build.\n",
      "---------------------------------------------\n"
     ]
    }
   ],
   "source": [
    "# load .env file\n",
    "load_dotenv(override=True)\n",
    "\n",
    "# set up connection parameters for Snowflake connection\n",
    "connection_params = {\n",
    "    \"account\": os.environ['SNOWFLAKE_ACCOUNT'],\n",
    "    \"user\": os.environ['SNOWFLAKE_USER'],\n",
    "    \"password\": os.environ['SNOWFLAKE_USER_PASSWORD'],\n",
    "    \"role\": 'SYSADMIN',\n",
    "    \"warehouse\": 'COMPUTE_WH',\n",
    "    'paramstyle': 'qmark'\n",
    "}\n",
    "\n",
    "# build Snowflake session with connection parameters\n",
    "snowflake_session = Session.builder.configs(connection_params).create()\n",
    "print('Snowflake sessions is build.')\n",
    "print('---------------------------------------------')"
   ]
  },
  {
   "cell_type": "code",
   "execution_count": 169,
   "id": "4a106682",
   "metadata": {},
   "outputs": [],
   "source": [
    "query = f\"\"\"\n",
    "            SELECT SNOWFLAKE.CORTEX.COMPLETE( \n",
    "                ?,\n",
    "                [\n",
    "                    {{\n",
    "                        'role': 'user', \n",
    "                        'content': ?\n",
    "                    }}\n",
    "                ],\n",
    "                {{\n",
    "                    'temperature': ?,\n",
    "                    'max_tokens':  ?\n",
    "                }} \n",
    "            ) AS response\n",
    "        \"\"\"\n",
    "response = snowflake_session.sql(query, params=[model, prompt_evaluation, model_params['temperature'], model_params['max_tokens']]).collect()\n",
    "res = json.loads(response[0]['RESPONSE']) # load response as json object and save it in 'res'\n",
    "# split 'res' parts and save them into multiple variabels\n",
    "message = res['choices'][0]['messages'] "
   ]
  },
  {
   "cell_type": "code",
   "execution_count": 170,
   "id": "28414b1f",
   "metadata": {},
   "outputs": [
    {
     "name": "stdout",
     "output_type": "stream",
     "text": [
      "### \"q1\": [\n",
      "    ##\"score\": 4##,\n",
      "    ##\"explanation\": The README clearly states the purpose of the project, which is to manage Git submodules for OpenStack projects. However, it would be even better if the description was more detailed and explained the benefits of using the script.\"##\n",
      "]\n",
      "\n",
      "### \"q2\": [\n",
      "    ##\"score\": 3##,\n",
      "    ##\"explanation\": The README mentions that the project is useful for managing Git submodules for OpenStack projects, but it does not provide any specific examples or use cases of how the project can be useful. A more detailed explanation of the benefits and value proposition of the project would make it more convincing.\"##\n",
      "]\n",
      "\n",
      "### \"q3\": [\n",
      "    ##\"score\": 5##,\n",
      "    ##\"explanation\": The README provides a clear and concise step-by-step guide on how to get started with the project, including installation and usage instructions. The instructions are easy to follow and provide a good first impression of the project.\"##\n",
      "]\n",
      "\n",
      "### \"q4\": [\n",
      "    ##\"score\": 2##,\n",
      "    ##\"explanation\": The README mentions that contributions are welcome, but it does not provide any information on how to get help with the project, such as a mailing list, IRC channel, or issue tracker. A link to the project's issue tracker or a contact email would be helpful.\"##\n",
      "]\n",
      "\n",
      "### \"q5\": [\n",
      "    ##\"score\": 2##,\n",
      "    ##\"explanation\": The README mentions that contributions are welcome, but it does not provide any information on who maintains and contributes to the project. A list of maintainers, contributors, or a link to the project's contributors page would be helpful.\"##\n"
     ]
    }
   ],
   "source": [
    "print(message)\n",
    "# scores für original"
   ]
  },
  {
   "cell_type": "code",
   "execution_count": 199,
   "id": "a89e222b",
   "metadata": {},
   "outputs": [],
   "source": [
    "snowflake_session.close()"
   ]
  },
  {
   "cell_type": "code",
   "execution_count": 173,
   "id": "41c1c9cf",
   "metadata": {},
   "outputs": [],
   "source": [
    "import re"
   ]
  },
  {
   "cell_type": "code",
   "execution_count": 182,
   "id": "5a2f1774",
   "metadata": {},
   "outputs": [
    {
     "data": {
      "text/plain": [
       "['6##']"
      ]
     },
     "execution_count": 182,
     "metadata": {},
     "output_type": "execute_result"
    }
   ],
   "source": [
    "text = score[0]\n",
    "text = '[\\n    ##\"score\": 46##,\\n '\n",
    "pattern = r'\\d##'\n",
    "matches = re.findall(pattern, text)\n",
    "matches"
   ]
  },
  {
   "cell_type": "code",
   "execution_count": 176,
   "id": "5ba9d5ee",
   "metadata": {},
   "outputs": [
    {
     "data": {
      "text/plain": [
       "'\"q1\": [\\n    ##\"score\": 4##,\\n    ##\"explanation\": The README clearly states the purpose of the project, which is to manage Git submodules for OpenStack projects. However, it would be even better if the description was more detailed and explained the benefits of using the script.\"##\\n]\\n\\n'"
      ]
     },
     "execution_count": 176,
     "metadata": {},
     "output_type": "execute_result"
    }
   ],
   "source": [
    "score[0]"
   ]
  },
  {
   "cell_type": "code",
   "execution_count": 200,
   "id": "571c941d",
   "metadata": {},
   "outputs": [
    {
     "name": "stdout",
     "output_type": "stream",
     "text": [
      "['\"q1\": [\\n    ##\"score\": 4##,\\n    ##\"explanation\": The README clearly states the purpose of the project, which is to manage Git submodules for OpenStack projects. However, it would be even better if the description was more detailed and explained the benefits of using the script.\"##\\n]\\n\\n', '\"q2\": [\\n    ##\"score\": 3##,\\n    ##\"explanation\": The README mentions that the project is useful for managing Git submodules for OpenStack projects, but it does not provide any specific examples or use cases of how the project can be useful. A more detailed explanation of the benefits and value proposition of the project would make it more convincing.\"##\\n]\\n\\n', '\"q3\": [\\n    ##\"score\": 5##,\\n    ##\"explanation\": The README provides a clear and concise step-by-step guide on how to get started with the project, including installation and usage instructions. The instructions are easy to follow and provide a good first impression of the project.\"##\\n]\\n\\n', '\"q4\": [\\n    ##\"score\": 2##,\\n    ##\"explanation\": The README mentions that contributions are welcome, but it does not provide any information on how to get help with the project, such as a mailing list, IRC channel, or issue tracker. A link to the project\\'s issue tracker or a contact email would be helpful.\"##\\n]\\n\\n', '\"q5\": [\\n    ##\"score\": 2##,\\n    ##\"explanation\": The README mentions that contributions are welcome, but it does not provide any information on who maintains and contributes to the project. A list of maintainers, contributors, or a link to the project\\'s contributors page would be helpful.\"##']\n",
      "-----------------\n",
      "['\"q1\": [', '   ##\"score\": 4##,', '   ##\"explanation\": The README clearly states the purpose of the project, which is to manage Git submodules for OpenStack projects. However, it would be even better if the description was more detailed and explained the benefits of using the script.\"##\\n]\\n\\n']\n",
      "['\"q2\": [', '   ##\"score\": 3##,', '   ##\"explanation\": The README mentions that the project is useful for managing Git submodules for OpenStack projects, but it does not provide any specific examples or use cases of how the project can be useful. A more detailed explanation of the benefits and value proposition of the project would make it more convincing.\"##\\n]\\n\\n']\n",
      "['\"q3\": [', '   ##\"score\": 5##,', '   ##\"explanation\": The README provides a clear and concise step-by-step guide on how to get started with the project, including installation and usage instructions. The instructions are easy to follow and provide a good first impression of the project.\"##\\n]\\n\\n']\n",
      "['\"q4\": [', '   ##\"score\": 2##,', '   ##\"explanation\": The README mentions that contributions are welcome, but it does not provide any information on how to get help with the project, such as a mailing list, IRC channel, or issue tracker. A link to the project\\'s issue tracker or a contact email would be helpful.\"##\\n]\\n\\n']\n",
      "['\"q5\": [', '   ##\"score\": 2##,', '   ##\"explanation\": The README mentions that contributions are welcome, but it does not provide any information on who maintains and contributes to the project. A list of maintainers, contributors, or a link to the project\\'s contributors page would be helpful.\"##']\n"
     ]
    }
   ],
   "source": [
    "score_txt = message\n",
    "#score_txt = score_txt.replace(\"'\", \"\\'\")\n",
    "score_list = score_txt.split('### ')\n",
    "score = score_list[1:]\n",
    "print(score)\n",
    "print('-----------------')\n",
    "score_dir = []\n",
    "pattern_digit = r\"\\d##\"\n",
    "#pattern_explanation = r\"\"\n",
    "\n",
    "for i in score:\n",
    "    line = i.split('\\n ')\n",
    "    print(line)\n",
    "    tmp_dir = {\n",
    "        'question': line[0].split(':')[0].replace('\"', ''),\n",
    "        #'score': int(line[1].split(': ')[1].replace(':', '').replace(',', '')),\n",
    "        'score': int(re.findall(pattern_digit, line[1])[0].replace('#','')),\n",
    "        'explanation': line[2].split('#\"explanation\": ')[1].replace('\"', '').replace('\\n', '').replace('\\n\\n', '')\n",
    "    }\n",
    "\n",
    "    score_dir.append(tmp_dir)\n",
    "\n"
   ]
  },
  {
   "cell_type": "code",
   "execution_count": 201,
   "id": "55fe5912",
   "metadata": {},
   "outputs": [
    {
     "data": {
      "text/plain": [
       "[{'question': 'q1',\n",
       "  'score': 4,\n",
       "  'explanation': 'The README clearly states the purpose of the project, which is to manage Git submodules for OpenStack projects. However, it would be even better if the description was more detailed and explained the benefits of using the script.##]'},\n",
       " {'question': 'q2',\n",
       "  'score': 3,\n",
       "  'explanation': 'The README mentions that the project is useful for managing Git submodules for OpenStack projects, but it does not provide any specific examples or use cases of how the project can be useful. A more detailed explanation of the benefits and value proposition of the project would make it more convincing.##]'},\n",
       " {'question': 'q3',\n",
       "  'score': 5,\n",
       "  'explanation': 'The README provides a clear and concise step-by-step guide on how to get started with the project, including installation and usage instructions. The instructions are easy to follow and provide a good first impression of the project.##]'},\n",
       " {'question': 'q4',\n",
       "  'score': 2,\n",
       "  'explanation': \"The README mentions that contributions are welcome, but it does not provide any information on how to get help with the project, such as a mailing list, IRC channel, or issue tracker. A link to the project's issue tracker or a contact email would be helpful.##]\"},\n",
       " {'question': 'q5',\n",
       "  'score': 2,\n",
       "  'explanation': \"The README mentions that contributions are welcome, but it does not provide any information on who maintains and contributes to the project. A list of maintainers, contributors, or a link to the project's contributors page would be helpful.##\"}]"
      ]
     },
     "execution_count": 201,
     "metadata": {},
     "output_type": "execute_result"
    }
   ],
   "source": [
    "score_dir"
   ]
  },
  {
   "cell_type": "code",
   "execution_count": 78,
   "id": "ed740230",
   "metadata": {},
   "outputs": [],
   "source": [
    "score_txt = message"
   ]
  },
  {
   "cell_type": "code",
   "execution_count": 124,
   "id": "ccdc99a0",
   "metadata": {},
   "outputs": [],
   "source": [
    "import json"
   ]
  },
  {
   "cell_type": "code",
   "execution_count": 194,
   "id": "d523c715",
   "metadata": {},
   "outputs": [],
   "source": [
    "#path = '../data/output_evaluation_data/model1/Taniiishk_Rock-Paper-Scissors-Game_evaluation_output.json'\n",
    "path = '../data/output_evaluation_data/model1/openstack_openstack_evaluation_output.json'"
   ]
  },
  {
   "cell_type": "code",
   "execution_count": 195,
   "id": "9ee4426a",
   "metadata": {},
   "outputs": [],
   "source": [
    "with open(path, 'r') as f: \n",
    "    loaded_data = json.load(f)"
   ]
  },
  {
   "cell_type": "code",
   "execution_count": 196,
   "id": "b25ad48a",
   "metadata": {},
   "outputs": [],
   "source": [
    "test_score = loaded_data['readme_original']['evaluation']"
   ]
  },
  {
   "cell_type": "code",
   "execution_count": 197,
   "id": "b761afa8",
   "metadata": {},
   "outputs": [
    {
     "data": {
      "text/plain": [
       "'### \"q1\": \\n[\\n    \"score\": 2,\\n    \"explanation\": The goal of the project is not clearly stated in the provided README. The first paragraph mentions that OpenStack is a collection of interoperable components, but it does not explicitly state the main objective of the project. The second paragraph explains the purpose of this specific repository, which is to provide a read-only view of the tested combinations of OpenStack projects, but it is not the main goal of the OpenStack project as a whole.\\n]\\n\\n### \"q2\": \\n[\\n    \"score\": 4,\\n    \"explanation\": The project is useful because it provides a read-only view of the tested combinations of OpenStack projects, which can be useful for users who want to understand how the projects interact with each other. The README also mentions that this feature is important for some users, but it does not elaborate on the specific use cases or benefits.\\n]\\n\\n### \"q3\": \\n[\\n    \"score\": 2,\\n    \"explanation\": The README provides a link to the OpenStack software documentation, which may help users learn more about how to use the project. However, it does not provide a clear step-by-step guide on how to get started with the project. The instructions are limited to a single sentence, which is not sufficient for a user who wants to start using the project.\\n]\\n\\n### \"q4\": \\n[\\n    \"score\": 5,\\n    \"explanation\": The README provides several links to resources where users can get help with the project, including the Contributor portal, the governance documentation, and the OpenStack software documentation. This is a comprehensive list of resources that should be helpful for users who need assistance.\\n]\\n\\n### \"q5\": \\n[\\n    \"score\": 2,\\n    \"explanation\": The README mentions that the project is maintained by the OpenStack community, but it does not provide any information about the specific individuals or teams responsible for maintaining the project. It also mentions that the project is governed by a governance process, but it does not provide any details about the governance structure or the people involved.'"
      ]
     },
     "execution_count": 197,
     "metadata": {},
     "output_type": "execute_result"
    }
   ],
   "source": [
    "test_score"
   ]
  },
  {
   "cell_type": "code",
   "execution_count": 198,
   "id": "01d84cb4",
   "metadata": {},
   "outputs": [
    {
     "name": "stdout",
     "output_type": "stream",
     "text": [
      "['\"q1\": \\n[\\n    \"score\": 2,\\n    \"explanation\": The goal of the project is not clearly stated in the provided README. The first paragraph mentions that OpenStack is a collection of interoperable components, but it does not explicitly state the main objective of the project. The second paragraph explains the purpose of this specific repository, which is to provide a read-only view of the tested combinations of OpenStack projects, but it is not the main goal of the OpenStack project as a whole.\\n]\\n\\n', '\"q2\": \\n[\\n    \"score\": 4,\\n    \"explanation\": The project is useful because it provides a read-only view of the tested combinations of OpenStack projects, which can be useful for users who want to understand how the projects interact with each other. The README also mentions that this feature is important for some users, but it does not elaborate on the specific use cases or benefits.\\n]\\n\\n', '\"q3\": \\n[\\n    \"score\": 2,\\n    \"explanation\": The README provides a link to the OpenStack software documentation, which may help users learn more about how to use the project. However, it does not provide a clear step-by-step guide on how to get started with the project. The instructions are limited to a single sentence, which is not sufficient for a user who wants to start using the project.\\n]\\n\\n', '\"q4\": \\n[\\n    \"score\": 5,\\n    \"explanation\": The README provides several links to resources where users can get help with the project, including the Contributor portal, the governance documentation, and the OpenStack software documentation. This is a comprehensive list of resources that should be helpful for users who need assistance.\\n]\\n\\n', '\"q5\": \\n[\\n    \"score\": 2,\\n    \"explanation\": The README mentions that the project is maintained by the OpenStack community, but it does not provide any information about the specific individuals or teams responsible for maintaining the project. It also mentions that the project is governed by a governance process, but it does not provide any details about the governance structure or the people involved.']\n",
      "-----------------\n",
      "['\"q1\": \\n[', '   \"score\": 2,', '   \"explanation\": The goal of the project is not clearly stated in the provided README. The first paragraph mentions that OpenStack is a collection of interoperable components, but it does not explicitly state the main objective of the project. The second paragraph explains the purpose of this specific repository, which is to provide a read-only view of the tested combinations of OpenStack projects, but it is not the main goal of the OpenStack project as a whole.\\n]\\n\\n']\n"
     ]
    },
    {
     "ename": "IndexError",
     "evalue": "list index out of range",
     "output_type": "error",
     "traceback": [
      "\u001b[31m---------------------------------------------------------------------------\u001b[39m",
      "\u001b[31mIndexError\u001b[39m                                Traceback (most recent call last)",
      "\u001b[36mCell\u001b[39m\u001b[36m \u001b[39m\u001b[32mIn[198]\u001b[39m\u001b[32m, line 17\u001b[39m\n\u001b[32m     12\u001b[39m line = i.split(\u001b[33m'\u001b[39m\u001b[38;5;130;01m\\n\u001b[39;00m\u001b[33m \u001b[39m\u001b[33m'\u001b[39m)\n\u001b[32m     13\u001b[39m \u001b[38;5;28mprint\u001b[39m(line)\n\u001b[32m     14\u001b[39m tmp_dir = {\n\u001b[32m     15\u001b[39m     \u001b[33m'\u001b[39m\u001b[33mquestion\u001b[39m\u001b[33m'\u001b[39m: line[\u001b[32m0\u001b[39m].split(\u001b[33m'\u001b[39m\u001b[33m:\u001b[39m\u001b[33m'\u001b[39m)[\u001b[32m0\u001b[39m].replace(\u001b[33m'\u001b[39m\u001b[33m\"\u001b[39m\u001b[33m'\u001b[39m, \u001b[33m'\u001b[39m\u001b[33m'\u001b[39m),\n\u001b[32m     16\u001b[39m     \u001b[38;5;66;03m#'score': int(line[1].split(': ')[1].replace(':', '').replace(',', '')),\u001b[39;00m\n\u001b[32m---> \u001b[39m\u001b[32m17\u001b[39m     \u001b[33m'\u001b[39m\u001b[33mscore\u001b[39m\u001b[33m'\u001b[39m: \u001b[43mre\u001b[49m\u001b[43m.\u001b[49m\u001b[43mfindall\u001b[49m\u001b[43m(\u001b[49m\u001b[43mpattern_digit\u001b[49m\u001b[43m,\u001b[49m\u001b[43m \u001b[49m\u001b[43mline\u001b[49m\u001b[43m[\u001b[49m\u001b[32;43m1\u001b[39;49m\u001b[43m]\u001b[49m\u001b[43m)\u001b[49m\u001b[43m[\u001b[49m\u001b[32;43m0\u001b[39;49m\u001b[43m]\u001b[49m.replace(\u001b[33m'\u001b[39m\u001b[33m#\u001b[39m\u001b[33m'\u001b[39m,\u001b[33m'\u001b[39m\u001b[33m'\u001b[39m),\n\u001b[32m     18\u001b[39m     \u001b[33m'\u001b[39m\u001b[33mexplanation\u001b[39m\u001b[33m'\u001b[39m: line[\u001b[32m2\u001b[39m].split(\u001b[33m'\u001b[39m\u001b[33m#\u001b[39m\u001b[33m\"\u001b[39m\u001b[33mexplanation\u001b[39m\u001b[33m\"\u001b[39m\u001b[33m: \u001b[39m\u001b[33m'\u001b[39m)[\u001b[32m1\u001b[39m].replace(\u001b[33m'\u001b[39m\u001b[33m\"\u001b[39m\u001b[33m'\u001b[39m, \u001b[33m'\u001b[39m\u001b[33m'\u001b[39m).replace(\u001b[33m'\u001b[39m\u001b[38;5;130;01m\\n\u001b[39;00m\u001b[33m'\u001b[39m, \u001b[33m'\u001b[39m\u001b[33m'\u001b[39m).replace(\u001b[33m'\u001b[39m\u001b[38;5;130;01m\\n\u001b[39;00m\u001b[38;5;130;01m\\n\u001b[39;00m\u001b[33m'\u001b[39m, \u001b[33m'\u001b[39m\u001b[33m'\u001b[39m)\n\u001b[32m     19\u001b[39m }\n\u001b[32m     21\u001b[39m score_dir.append(tmp_dir)\n",
      "\u001b[31mIndexError\u001b[39m: list index out of range"
     ]
    }
   ],
   "source": [
    "score_txt = test_score\n",
    "#score_txt = score_txt.replace(\"'\", \"\\'\")\n",
    "score_list = score_txt.split('### ')\n",
    "score = score_list[1:]\n",
    "print(score)\n",
    "print('-----------------')\n",
    "score_dir = []\n",
    "pattern_digit = r\"\\d##\"\n",
    "#pattern_explanation = r\"\"\n",
    "\n",
    "for i in score:\n",
    "    line = i.split('\\n ')\n",
    "    print(line)\n",
    "    tmp_dir = {\n",
    "        'question': line[0].split(':')[0].replace('\"', ''),\n",
    "        #'score': int(line[1].split(': ')[1].replace(':', '').replace(',', '')),\n",
    "        'score': re.findall(pattern_digit, line[1])[0].replace('#',''),\n",
    "        'explanation': line[2].split('#\"explanation\": ')[1].replace('\"', '').replace('\\n', '').replace('\\n\\n', '')\n",
    "    }\n",
    "\n",
    "    score_dir.append(tmp_dir)"
   ]
  },
  {
   "cell_type": "code",
   "execution_count": 144,
   "id": "a855bc7a",
   "metadata": {},
   "outputs": [
    {
     "data": {
      "text/plain": [
       "'\"q2\": \\n[\\n    \"score\": 4,\\n    \"explanation\": The project is useful because it provides a read-only view of the tested combinations of OpenStack projects, which can be useful for users who want to understand how the projects interact with each other. The README also mentions that this feature is important for some users, but it does not elaborate on the specific use cases or benefits.\\n]\\n\\n'"
      ]
     },
     "execution_count": 144,
     "metadata": {},
     "output_type": "execute_result"
    }
   ],
   "source": [
    "score[1]"
   ]
  }
 ],
 "metadata": {
  "kernelspec": {
   "display_name": ".venv",
   "language": "python",
   "name": "python3"
  },
  "language_info": {
   "codemirror_mode": {
    "name": "ipython",
    "version": 3
   },
   "file_extension": ".py",
   "mimetype": "text/x-python",
   "name": "python",
   "nbconvert_exporter": "python",
   "pygments_lexer": "ipython3",
   "version": "3.12.3"
  }
 },
 "nbformat": 4,
 "nbformat_minor": 5
}
