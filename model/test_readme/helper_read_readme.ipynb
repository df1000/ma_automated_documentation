{
 "cells": [
  {
   "cell_type": "code",
   "execution_count": 1,
   "id": "23189abf",
   "metadata": {},
   "outputs": [],
   "source": [
    "import json\n",
    "import pandas as pd"
   ]
  },
  {
   "cell_type": "markdown",
   "id": "a1db662d",
   "metadata": {},
   "source": [
    "### Generated README"
   ]
  },
  {
   "cell_type": "code",
   "execution_count": 2,
   "id": "cfa1bb14",
   "metadata": {},
   "outputs": [],
   "source": [
    "with open('../../data/output_readme_data/openstack_openstack_output.json', 'r') as f:\n",
    "    loaded_data = json.load(f)"
   ]
  },
  {
   "cell_type": "code",
   "execution_count": 3,
   "id": "44b61b7f",
   "metadata": {},
   "outputs": [
    {
     "name": "stdout",
     "output_type": "stream",
     "text": [
      "## OpenStack Git Submodule Manager\n",
      "\n",
      "## Installation\n",
      "\n",
      "To install the OpenStack Git submodule manager, you will need to have Python and Git installed on your system. You can install the required libraries by running the following command:\n",
      "```bash\n",
      "pip install requests yaml\n",
      "```\n",
      "## Usage\n",
      "\n",
      "To use the OpenStack Git submodule manager, simply clone the repository and run the `main.py` script. The script will fetch a list of integrated gate repositories, generate a `.gitmodules` file, and configure the Git submodules accordingly.\n",
      "\n",
      "Here is an example of how to use the script:\n",
      "```bash\n",
      "git clone https://github.com/openstack/openstack.git\n",
      "cd openstack\n",
      "python main.py\n",
      "```\n",
      "This will generate a `.gitmodules` file in the root of the repository and configure the Git submodules.\n",
      "\n",
      "## Contributing\n",
      "\n",
      "Contributions to the OpenStack Git submodule manager are welcome! If you would like to contribute, please fork the repository and submit a pull request. Make sure to follow the standard OpenStack contribution guidelines.\n",
      "\n",
      "## License\n",
      "\n",
      "This project is licensed under the Apache License, Version 2.0.\n"
     ]
    }
   ],
   "source": [
    "print(loaded_data['readme'])"
   ]
  },
  {
   "cell_type": "markdown",
   "id": "55c9ae51",
   "metadata": {},
   "source": [
    "### Orginal README"
   ]
  },
  {
   "cell_type": "code",
   "execution_count": 6,
   "id": "e4a4b1d1",
   "metadata": {},
   "outputs": [],
   "source": [
    "with open('../../data/input_readme_data/openstack_openstack.json', 'r') as f:\n",
    "    loaded_data = json.load(f)"
   ]
  },
  {
   "cell_type": "code",
   "execution_count": 7,
   "id": "3dc4f6a0",
   "metadata": {},
   "outputs": [
    {
     "name": "stdout",
     "output_type": "stream",
     "text": [
      "OpenStack\n",
      "=========\n",
      "\n",
      "OpenStack is a collection of interoperable components that can be deployed\n",
      "to provide computing, networking and storage resources. Those infrastructure\n",
      "resources can then be accessed by end users through programmable APIs.\n",
      "\n",
      "This repository just represents OpenStack as a collection of git submodules.\n",
      "You can find the repositories for individual components at:\n",
      "https://opendev.org/openstack\n",
      "\n",
      "You can learn more about the various components in OpenStack at:\n",
      "https://openstack.org/software\n",
      "\n",
      "To learn more about how to contribute to OpenStack, please head to our\n",
      "Contributor portal: https://www.openstack.org/community/\n",
      "\n",
      "To learn more about how OpenStack is governed, you can visit:\n",
      "https://governance.openstack.org/\n",
      "\n",
      "\n",
      "Why this repository ?\n",
      "---------------------\n",
      "\n",
      "Our continuous integration system, Zuul, gates all of the contained projects\n",
      "in an effective single timeline. This means that OpenStack, across all of the\n",
      "projects, does already have a sequence of combinations that have been\n",
      "explicitly tested, but it's non-trivial to go from a single commit of a\n",
      "particular project to the commits that were tested with it.\n",
      "\n",
      "Gerrit's submodule tracking feature will update a super project every\n",
      "time a subproject is updated, so the specific sequence created by zuul\n",
      "will be captured by the super project commits.\n",
      "\n",
      "This repo is intended to be used in a read-only manner. Any commit in this\n",
      "repo will get a collection of commits in the other repos that have\n",
      "explicitly been tested with each other, if that sort of thing is important\n",
      "to you.\n",
      "\n"
     ]
    }
   ],
   "source": [
    "print(loaded_data['readme'])"
   ]
  }
 ],
 "metadata": {
  "kernelspec": {
   "display_name": ".venv",
   "language": "python",
   "name": "python3"
  },
  "language_info": {
   "codemirror_mode": {
    "name": "ipython",
    "version": 3
   },
   "file_extension": ".py",
   "mimetype": "text/x-python",
   "name": "python",
   "nbconvert_exporter": "python",
   "pygments_lexer": "ipython3",
   "version": "3.12.3"
  }
 },
 "nbformat": 4,
 "nbformat_minor": 5
}
