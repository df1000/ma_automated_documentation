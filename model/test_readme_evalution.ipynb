{
 "cells": [
  {
   "cell_type": "code",
   "execution_count": 1,
   "id": "74ef328d",
   "metadata": {},
   "outputs": [
    {
     "name": "stderr",
     "output_type": "stream",
     "text": [
      "/home/lisa-linux/stuff/ma_automated_documentation/.venv/lib/python3.12/site-packages/tqdm/auto.py:21: TqdmWarning: IProgress not found. Please update jupyter and ipywidgets. See https://ipywidgets.readthedocs.io/en/stable/user_install.html\n",
      "  from .autonotebook import tqdm as notebook_tqdm\n",
      "None of PyTorch, TensorFlow >= 2.0, or Flax have been found. Models won't be available and only tokenizers, configuration and file/data utilities can be used.\n"
     ]
    }
   ],
   "source": [
    "import pandas as pd\n",
    "import os # package for using operating system\n",
    "from dotenv import load_dotenv\n",
    "from snowflake.snowpark.session import Session # package for building and using Snowflake sessions\n",
    "# from snowflake.cortex import Complete\n",
    "from transformers import AutoTokenizer # package to select the fitting tokenizer for a pretrained model\n",
    "from huggingface_hub import login # package for login and identifying to Huggingface\n",
    "import pandas as pd # package for data manipulation\n",
    "import json # package to work with .json\n",
    "import math # package for mathematical operations"
   ]
  },
  {
   "cell_type": "markdown",
   "id": "204427c8",
   "metadata": {},
   "source": [
    "https://arxiv.org/pdf/2303.04048 --> reference-free & reference-based metric (direct-assessment or one-to-five stars)  \n",
    "https://arxiv.org/pdf/2407.07959 --> llm evaluation\n"
   ]
  },
  {
   "cell_type": "code",
   "execution_count": null,
   "id": "e9f6423e",
   "metadata": {},
   "outputs": [],
   "source": [
    "with open('openstack_openstack.json', 'r') as f:\n",
    "    loaded_data = json.load(f)"
   ]
  },
  {
   "cell_type": "code",
   "execution_count": 6,
   "id": "f767ef1d",
   "metadata": {},
   "outputs": [],
   "source": [
    "input_txt = loaded_data['readme']\n",
    "repo_name = loaded_data['repo_owner']"
   ]
  },
  {
   "cell_type": "code",
   "execution_count": 4,
   "id": "5d241151",
   "metadata": {},
   "outputs": [
    {
     "data": {
      "text/plain": [
       "\"OpenStack\\n=========\\n\\nOpenStack is a collection of interoperable components that can be deployed\\nto provide computing, networking and storage resources. Those infrastructure\\nresources can then be accessed by end users through programmable APIs.\\n\\nThis repository just represents OpenStack as a collection of git submodules.\\nYou can find the repositories for individual components at:\\nhttps://opendev.org/openstack\\n\\nYou can learn more about the various components in OpenStack at:\\nhttps://openstack.org/software\\n\\nTo learn more about how to contribute to OpenStack, please head to our\\nContributor portal: https://www.openstack.org/community/\\n\\nTo learn more about how OpenStack is governed, you can visit:\\nhttps://governance.openstack.org/\\n\\n\\nWhy this repository ?\\n---------------------\\n\\nOur continuous integration system, Zuul, gates all of the contained projects\\nin an effective single timeline. This means that OpenStack, across all of the\\nprojects, does already have a sequence of combinations that have been\\nexplicitly tested, but it's non-trivial to go from a single commit of a\\nparticular project to the commits that were tested with it.\\n\\nGerrit's submodule tracking feature will update a super project every\\ntime a subproject is updated, so the specific sequence created by zuul\\nwill be captured by the super project commits.\\n\\nThis repo is intended to be used in a read-only manner. Any commit in this\\nrepo will get a collection of commits in the other repos that have\\nexplicitly been tested with each other, if that sort of thing is important\\nto you.\\n\""
      ]
     },
     "execution_count": 4,
     "metadata": {},
     "output_type": "execute_result"
    }
   ],
   "source": [
    "input_txt"
   ]
  },
  {
   "cell_type": "code",
   "execution_count": null,
   "id": "e766abfb",
   "metadata": {},
   "outputs": [],
   "source": [
    "prompt_evaluation = f'''\n",
    "You are acting as a software development expert for the following GitHub repository \"{repo_name}\".\n",
    "Your task is to evaluate the following README of the repository/project based on the provided questions:\n",
    "    - q1: What is the goal of the project?\n",
    "    - q2: Why is the project useful?\n",
    "    - q3: How can users get started with the project?\n",
    "    - q4: Where can users get help with your project?\n",
    "    - q5: Who maintains and contributes to the project?\n",
    "How well offers the provided README answers to each question? Score each question on a scale from 1 to 5, \n",
    "where 1 means \"insufficient\", and 5 \"perfect\". Provide your choosen score with a short explaination.\n",
    "A good indication for a high score is: 1) there a section or paragraph where the answer of the questions is provided,\n",
    "2) the content of the README clear structered and understandable 3) that a developer who reads the README understand the purpose of the project.\n",
    "You're not allowed to skip a question or add any small talk!\n",
    "Structure your response in the following format:\n",
    "###\n",
    "    \"q1\": [\n",
    "        \"score\": \"your_score\",\n",
    "        \"explaination\": \"your_explaination\"\n",
    "        ],\n",
    "    \"q2\": ...\n",
    "###\n",
    "README: {input_txt}\n",
    "'''"
   ]
  },
  {
   "cell_type": "code",
   "execution_count": null,
   "id": "16cc9c95",
   "metadata": {},
   "outputs": [],
   "source": [
    "# alle noten definieren!\n",
    "## oder von jeder \"Note\" eines ansehen.\n",
    "## oder besonders schlechte und besonders gute readmes selbst ansehen (ich als experte ... haha) und (ein-zwei random aus der mitte\n",
    "## oder große delta ansehen.(z.b. schlecht erzeugtes readme zu gutem originalem readme)\n",
    "## plot von hecht kategorien auftragen (meines gegen das originale)"
   ]
  },
  {
   "cell_type": "code",
   "execution_count": 11,
   "id": "c3a77c72",
   "metadata": {},
   "outputs": [],
   "source": [
    "model = 'llama3.1-8b'\n",
    "# specify llm parameters for summary creation\n",
    "model_params = {\n",
    "   'temperature': 0, # default: 0 https://docs.snowflake.com/en/sql-reference/functions/complete-snowflake-cortex --> Internetrecherche hat keine anderen Empfehlungen ergeben\n",
    "   # 'top_p': # default: 0 https://docs.snowflake.com/en/sql-reference/functions/complete-snowflake-cortex\n",
    "    'max_tokens': 400\n",
    "}"
   ]
  },
  {
   "cell_type": "code",
   "execution_count": 12,
   "id": "35bb552f",
   "metadata": {},
   "outputs": [
    {
     "name": "stdout",
     "output_type": "stream",
     "text": [
      "Snowflake sessions is build.\n",
      "---------------------------------------------\n"
     ]
    }
   ],
   "source": [
    "# load .env file\n",
    "load_dotenv(override=True)\n",
    "\n",
    "# set up connection parameters for Snowflake connection\n",
    "connection_params = {\n",
    "    \"account\": os.environ['SNOWFLAKE_ACCOUNT'],\n",
    "    \"user\": os.environ['SNOWFLAKE_USER'],\n",
    "    \"password\": os.environ['SNOWFLAKE_USER_PASSWORD'],\n",
    "    \"role\": 'SYSADMIN',\n",
    "    \"warehouse\": 'COMPUTE_WH',\n",
    "    'paramstyle': 'qmark'\n",
    "}\n",
    "\n",
    "# build Snowflake session with connection parameters\n",
    "snowflake_session = Session.builder.configs(connection_params).create()\n",
    "print('Snowflake sessions is build.')\n",
    "print('---------------------------------------------')"
   ]
  },
  {
   "cell_type": "code",
   "execution_count": 14,
   "id": "4a106682",
   "metadata": {},
   "outputs": [],
   "source": [
    "query = f\"\"\"\n",
    "            SELECT SNOWFLAKE.CORTEX.COMPLETE( \n",
    "                ?,\n",
    "                [\n",
    "                    {{\n",
    "                        'role': 'user', \n",
    "                        'content': ?\n",
    "                    }}\n",
    "                ],\n",
    "                {{\n",
    "                    'temperature': ?,\n",
    "                    'max_tokens':  ?\n",
    "                }} \n",
    "            ) AS response\n",
    "        \"\"\"\n",
    "response = snowflake_session.sql(query, params=[model, prompt_evaluation, model_params['temperature'], model_params['max_tokens']]).collect()\n",
    "res = json.loads(response[0]['RESPONSE']) # load response as json object and save it in 'res'\n",
    "# split 'res' parts and save them into multiple variabels\n",
    "message = res['choices'][0]['messages'] "
   ]
  },
  {
   "cell_type": "code",
   "execution_count": 18,
   "id": "28414b1f",
   "metadata": {},
   "outputs": [
    {
     "name": "stdout",
     "output_type": "stream",
     "text": [
      "Here are the scores for each question:\n",
      "\n",
      "```\n",
      "\"q1\": [\n",
      "    \"score\": 4,\n",
      "    \"explaination\": \"The goal of the project is not explicitly stated in a clear and concise manner, but it can be inferred from the text. The project is a collection of interoperable components that provide computing, networking, and storage resources, and it's intended to be used in a read-only manner to capture the sequence of commits that have been tested together.\"\n",
      "],\n",
      "\"q2\": [\n",
      "    \"score\": 5,\n",
      "    \"explaination\": \"The project is useful because it provides a way to capture the sequence of commits that have been tested together, which can be important for ensuring the stability and reliability of the system. This is clearly explained in the 'Why this repository?' section.\"\n",
      "],\n",
      "\"q3\": [\n",
      "    \"score\": 4,\n",
      "    \"explaination\": \"The README provides instructions on how to get started with the project, but it's not very clear. It mentions that the repository is intended to be used in a read-only manner, but it doesn't explain how to use it or how to access the individual components. However, it does provide links to external resources where users can learn more about the project and its components.\"\n",
      "],\n",
      "\"q4\": [\n",
      "    \"score\": 5,\n",
      "    \"explaination\": \"The README provides several links to external resources where users can get help with the project, including the Contributor portal, the OpenStack website, and the governance documentation.\"\n",
      "],\n",
      "\"q5\": [\n",
      "    \"score\": 4,\n",
      "    \"explaination\": \"The README mentions that the project is maintained by the OpenStack community, but it doesn't provide any information on how to contact the maintainers or how to contribute to the project. However, it does provide a link to the Contributor portal, which is a good starting point for learning more about contributing to the project.\"\n",
      "]\n",
      "```\n"
     ]
    }
   ],
   "source": [
    "print(message)"
   ]
  },
  {
   "cell_type": "code",
   "execution_count": 19,
   "id": "a89e222b",
   "metadata": {},
   "outputs": [],
   "source": [
    "snowflake_session.close()"
   ]
  }
 ],
 "metadata": {
  "kernelspec": {
   "display_name": ".venv",
   "language": "python",
   "name": "python3"
  },
  "language_info": {
   "codemirror_mode": {
    "name": "ipython",
    "version": 3
   },
   "file_extension": ".py",
   "mimetype": "text/x-python",
   "name": "python",
   "nbconvert_exporter": "python",
   "pygments_lexer": "ipython3",
   "version": "3.12.3"
  }
 },
 "nbformat": 4,
 "nbformat_minor": 5
}
