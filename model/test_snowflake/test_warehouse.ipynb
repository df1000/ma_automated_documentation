{
 "cells": [
  {
   "cell_type": "code",
   "execution_count": 1,
   "id": "1cf8a88b",
   "metadata": {},
   "outputs": [],
   "source": [
    "import os # package for using operating system\n",
    "from dotenv import load_dotenv\n",
    "from snowflake.snowpark.session import Session # package for building and using Snowflake sessions\n",
    "# from snowflake.cortex import Complete\n",
    "import pandas as pd # package for data manipulation\n",
    "import json # package to work with .json"
   ]
  },
  {
   "cell_type": "code",
   "execution_count": 16,
   "id": "c5f5619d",
   "metadata": {},
   "outputs": [
    {
     "name": "stdout",
     "output_type": "stream",
     "text": [
      "Snowflake sessions is build.\n"
     ]
    }
   ],
   "source": [
    "# load .env file\n",
    "load_dotenv(override=True)\n",
    "\n",
    "# set up connection parameters for Snowflake connection\n",
    "connection_params = {\n",
    "    \"account\": os.environ['SNOWFLAKE_ACCOUNT'], # credentials\n",
    "    \"user\": os.environ['SNOWFLAKE_USER'], # credentials\n",
    "    \"password\": os.environ['SNOWFLAKE_USER_PASSWORD'], # credentials\n",
    "    \"role\": 'SYSADMIN', # specifiy Snowflake role\n",
    "    \"warehouse\": 'COMPUTE_WH', # choose warehouse for computation\n",
    "    'paramstyle': 'qmark' # set parameter style --> ?\n",
    "}\n",
    "\n",
    "snowflake_session = Session.builder.configs(connection_params).create() # build Snowflake session with connection parameters\n",
    "print('Snowflake sessions is build.')"
   ]
  },
  {
   "cell_type": "code",
   "execution_count": 3,
   "id": "36b477e6",
   "metadata": {},
   "outputs": [],
   "source": [
    "# test query\n",
    "query = f\"select try_to_date('20250608') as response\"\n",
    "respsone = snowflake_session.sql(query=query).collect()"
   ]
  },
  {
   "cell_type": "code",
   "execution_count": 8,
   "id": "789a7910",
   "metadata": {},
   "outputs": [
    {
     "data": {
      "text/plain": [
       "datetime.date(1970, 8, 23)"
      ]
     },
     "execution_count": 8,
     "metadata": {},
     "output_type": "execute_result"
    }
   ],
   "source": [
    "respsone[0]['RESPONSE']"
   ]
  },
  {
   "cell_type": "code",
   "execution_count": 4,
   "id": "2fb67b5b",
   "metadata": {},
   "outputs": [
    {
     "ename": "TypeError",
     "evalue": "the JSON object must be str, bytes or bytearray, not date",
     "output_type": "error",
     "traceback": [
      "\u001b[31m---------------------------------------------------------------------------\u001b[39m",
      "\u001b[31mTypeError\u001b[39m                                 Traceback (most recent call last)",
      "\u001b[36mCell\u001b[39m\u001b[36m \u001b[39m\u001b[32mIn[4]\u001b[39m\u001b[32m, line 1\u001b[39m\n\u001b[32m----> \u001b[39m\u001b[32m1\u001b[39m res = \u001b[43mjson\u001b[49m\u001b[43m.\u001b[49m\u001b[43mloads\u001b[49m\u001b[43m(\u001b[49m\u001b[43mrespsone\u001b[49m\u001b[43m[\u001b[49m\u001b[32;43m0\u001b[39;49m\u001b[43m]\u001b[49m\u001b[43m[\u001b[49m\u001b[33;43m'\u001b[39;49m\u001b[33;43mRESPONSE\u001b[39;49m\u001b[33;43m'\u001b[39;49m\u001b[43m]\u001b[49m\u001b[43m)\u001b[49m\n",
      "\u001b[36mFile \u001b[39m\u001b[32m/usr/lib/python3.12/json/__init__.py:339\u001b[39m, in \u001b[36mloads\u001b[39m\u001b[34m(s, cls, object_hook, parse_float, parse_int, parse_constant, object_pairs_hook, **kw)\u001b[39m\n\u001b[32m    337\u001b[39m \u001b[38;5;28;01melse\u001b[39;00m:\n\u001b[32m    338\u001b[39m     \u001b[38;5;28;01mif\u001b[39;00m \u001b[38;5;129;01mnot\u001b[39;00m \u001b[38;5;28misinstance\u001b[39m(s, (\u001b[38;5;28mbytes\u001b[39m, \u001b[38;5;28mbytearray\u001b[39m)):\n\u001b[32m--> \u001b[39m\u001b[32m339\u001b[39m         \u001b[38;5;28;01mraise\u001b[39;00m \u001b[38;5;167;01mTypeError\u001b[39;00m(\u001b[33mf\u001b[39m\u001b[33m'\u001b[39m\u001b[33mthe JSON object must be str, bytes or bytearray, \u001b[39m\u001b[33m'\u001b[39m\n\u001b[32m    340\u001b[39m                         \u001b[33mf\u001b[39m\u001b[33m'\u001b[39m\u001b[33mnot \u001b[39m\u001b[38;5;132;01m{\u001b[39;00ms.\u001b[34m__class__\u001b[39m.\u001b[34m__name__\u001b[39m\u001b[38;5;132;01m}\u001b[39;00m\u001b[33m'\u001b[39m)\n\u001b[32m    341\u001b[39m     s = s.decode(detect_encoding(s), \u001b[33m'\u001b[39m\u001b[33msurrogatepass\u001b[39m\u001b[33m'\u001b[39m)\n\u001b[32m    343\u001b[39m \u001b[38;5;28;01mif\u001b[39;00m (\u001b[38;5;28mcls\u001b[39m \u001b[38;5;129;01mis\u001b[39;00m \u001b[38;5;28;01mNone\u001b[39;00m \u001b[38;5;129;01mand\u001b[39;00m object_hook \u001b[38;5;129;01mis\u001b[39;00m \u001b[38;5;28;01mNone\u001b[39;00m \u001b[38;5;129;01mand\u001b[39;00m\n\u001b[32m    344\u001b[39m         parse_int \u001b[38;5;129;01mis\u001b[39;00m \u001b[38;5;28;01mNone\u001b[39;00m \u001b[38;5;129;01mand\u001b[39;00m parse_float \u001b[38;5;129;01mis\u001b[39;00m \u001b[38;5;28;01mNone\u001b[39;00m \u001b[38;5;129;01mand\u001b[39;00m\n\u001b[32m    345\u001b[39m         parse_constant \u001b[38;5;129;01mis\u001b[39;00m \u001b[38;5;28;01mNone\u001b[39;00m \u001b[38;5;129;01mand\u001b[39;00m object_pairs_hook \u001b[38;5;129;01mis\u001b[39;00m \u001b[38;5;28;01mNone\u001b[39;00m \u001b[38;5;129;01mand\u001b[39;00m \u001b[38;5;129;01mnot\u001b[39;00m kw):\n",
      "\u001b[31mTypeError\u001b[39m: the JSON object must be str, bytes or bytearray, not date"
     ]
    }
   ],
   "source": [
    "res = json.loads(respsone[0]['RESPONSE'])"
   ]
  },
  {
   "cell_type": "code",
   "execution_count": 15,
   "id": "e037983f",
   "metadata": {},
   "outputs": [],
   "source": [
    "model = 'llama3.1-8b'\n",
    "# specify llm parameters for summary creation\n",
    "model_params = {\n",
    "   'temperature': 0, # default: 0 https://docs.snowflake.com/en/sql-reference/functions/complete-snowflake-cortex --> Internetrecherche hat keine anderen Empfehlungen ergeben\n",
    "   # 'top_p': # default: 0 https://docs.snowflake.com/en/sql-reference/functions/complete-snowflake-cortex\n",
    "    'max_tokens': 40\n",
    "}"
   ]
  },
  {
   "cell_type": "code",
   "execution_count": 17,
   "id": "d3fa3b1d",
   "metadata": {},
   "outputs": [],
   "source": [
    "prompt = 'Write me a poem about curcumbers'"
   ]
  },
  {
   "cell_type": "code",
   "execution_count": 18,
   "id": "f9966fa9",
   "metadata": {},
   "outputs": [],
   "source": [
    "query = f\"\"\"\n",
    "            SELECT SNOWFLAKE.CORTEX.COMPLETE( \n",
    "                ?,\n",
    "                [\n",
    "                    {{\n",
    "                        'role': 'user', \n",
    "                        'content': ?\n",
    "                    }}\n",
    "                ],\n",
    "                {{\n",
    "                    'temperature': ?,\n",
    "                    'max_tokens':  ?\n",
    "                }} \n",
    "            ) AS response\n",
    "        \"\"\"\n",
    "# query parameters\n",
    "# model --> llm model\n",
    "# prompt --> input prompt with instructions for llm\n",
    "# model_params['temperature'] --> controll randomness in llm response\n",
    "# model_params['max_tokens'] --> limit llm response length\n",
    "# sql().collect() --> execute sql statement and return a DataFrame (no Pandas dataframe) as list of row objects https://docs.snowflake.com/en/developer-guide/snowpark/reference/python/latest/snowpark/api/snowflake.snowpark.DataFrame.collect#snowflake.snowpark.DataFrame.collect\n",
    "response = snowflake_session.sql(query, params=[model, prompt, model_params['temperature'], model_params['max_tokens']]).collect()\n",
    "res = json.loads(response[0]['RESPONSE']) # load response as json object and save it in 'res'\n",
    "# split 'res' parts and save them into multiple variabels\n",
    "message = res['choices'][0]['messages'] "
   ]
  },
  {
   "cell_type": "code",
   "execution_count": 19,
   "id": "f14cecf4",
   "metadata": {},
   "outputs": [
    {
     "data": {
      "text/plain": [
       "{'choices': [{'messages': \"In gardens green, where sunbeams play,\\nA refreshing sight, in summer's day,\\nThe cucumber, a treasure rare,\\nA crunchy delight, beyond compare.\\n\\nIts skin, a gentle, em\"}],\n",
       " 'created': 1749975890,\n",
       " 'model': 'llama3.1-8b',\n",
       " 'usage': {'completion_tokens': 40, 'prompt_tokens': 19, 'total_tokens': 59}}"
      ]
     },
     "execution_count": 19,
     "metadata": {},
     "output_type": "execute_result"
    }
   ],
   "source": [
    "res"
   ]
  },
  {
   "cell_type": "code",
   "execution_count": 20,
   "id": "36d7674a",
   "metadata": {},
   "outputs": [],
   "source": [
    "snowflake_session.close()"
   ]
  }
 ],
 "metadata": {
  "kernelspec": {
   "display_name": ".venv",
   "language": "python",
   "name": "python3"
  },
  "language_info": {
   "codemirror_mode": {
    "name": "ipython",
    "version": 3
   },
   "file_extension": ".py",
   "mimetype": "text/x-python",
   "name": "python",
   "nbconvert_exporter": "python",
   "pygments_lexer": "ipython3",
   "version": "3.12.3"
  }
 },
 "nbformat": 4,
 "nbformat_minor": 5
}
