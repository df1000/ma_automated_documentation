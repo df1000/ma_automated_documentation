{
 "cells": [
  {
   "cell_type": "code",
   "execution_count": 22,
   "id": "675c71c8",
   "metadata": {},
   "outputs": [],
   "source": [
    "import os\n",
    "from dotenv import load_dotenv\n",
    "from snowflake.snowpark.session import Session\n",
    "from snowflake.cortex import Summarize, Complete, ExtractAnswer, Sentiment, Translate\n",
    "import pandas as pd"
   ]
  },
  {
   "cell_type": "code",
   "execution_count": 23,
   "id": "02156c48",
   "metadata": {},
   "outputs": [
    {
     "data": {
      "text/plain": [
       "True"
      ]
     },
     "execution_count": 23,
     "metadata": {},
     "output_type": "execute_result"
    }
   ],
   "source": [
    "load_dotenv()"
   ]
  },
  {
   "cell_type": "code",
   "execution_count": 24,
   "id": "a62a18d4",
   "metadata": {},
   "outputs": [],
   "source": [
    "connection_params = {\n",
    "    \"account\": os.environ['SNOWFLAKE_ACCOUNT'],\n",
    "    \"user\": os.environ['SNOWFLAKE_USER'],\n",
    "    \"password\": os.environ['SNOWFLAKE_USER_PASSWORD'],\n",
    "    \"role\": 'ACCOUNTADMIN',\n",
    "    #\"database\": 'SNOWFLAKE_LEARNING_DB',\n",
    "    \"warehouse\": 'COMPUTE_WH'\n",
    "    #\"schema\": 'PUBLIC',\n",
    "    }"
   ]
  },
  {
   "cell_type": "code",
   "execution_count": 48,
   "id": "d08f8cf0",
   "metadata": {},
   "outputs": [],
   "source": [
    "snowflake_session = Session.builder.configs(connection_params).create()"
   ]
  },
  {
   "cell_type": "code",
   "execution_count": 37,
   "id": "8bf3a456",
   "metadata": {},
   "outputs": [],
   "source": [
    "input_text = '''\n",
    "    @sleep_and_retry\n",
    "    @limits(calls=10, period=ONE_MINUTE)\n",
    "    def check_repo_for_readme(repo_owner, repo_name):\n",
    "\n",
    "        url = f'https://api.github.com/repos/{repo_owner}/{repo_name}/readme'\n",
    "        response = requests.get(url, headers=HEADERS, data=PAYLOAD)\n",
    "        if response.status_code == 404:\n",
    "            print(f'Repo {repo_name} has no README.md.')\n",
    "            return False\n",
    "        elif response.status_code == 200:\n",
    "            return True\n",
    "        else:\n",
    "            if response.status_code != 200:\n",
    "                print(f'Error with response. Check out status_code {response.status_code}!')\n",
    "                rate_limit_remaining = int(response.headers.get('X-RateLimit-Remaining'))\n",
    "                if rate_limit_remaining <= 1:\n",
    "                    set_sleeper(61)\n",
    "            return False\n",
    "'''\n",
    "input_text = input_text.replace(\"'\", \"\\\\'\")"
   ]
  },
  {
   "cell_type": "code",
   "execution_count": 38,
   "id": "57f7aaf8",
   "metadata": {},
   "outputs": [],
   "source": [
    "prompt = f'Create a short summary of the given python code. Limit your output to the relevant parts and answer in natural language: \"{input_text}\"'"
   ]
  },
  {
   "cell_type": "code",
   "execution_count": 44,
   "id": "5575b478",
   "metadata": {},
   "outputs": [
    {
     "name": "stdout",
     "output_type": "stream",
     "text": [
      "Create a short summary of the given python code. Limit your output to the relevant parts and answer in natural language: \"\n",
      "    @sleep_and_retry\n",
      "    @limits(calls=10, period=ONE_MINUTE)\n",
      "    def check_repo_for_readme(repo_owner, repo_name):\n",
      "\n",
      "        url = f\\'https://api.github.com/repos/{repo_owner}/{repo_name}/readme\\'\n",
      "        response = requests.get(url, headers=HEADERS, data=PAYLOAD)\n",
      "        if response.status_code == 404:\n",
      "            print(f\\'Repo {repo_name} has no README.md.\\')\n",
      "            return False\n",
      "        elif response.status_code == 200:\n",
      "            return True\n",
      "        else:\n",
      "            if response.status_code != 200:\n",
      "                print(f\\'Error with response. Check out status_code {response.status_code}!\\')\n",
      "                rate_limit_remaining = int(response.headers.get(\\'X-RateLimit-Remaining\\'))\n",
      "                if rate_limit_remaining <= 1:\n",
      "                    set_sleeper(61)\n",
      "            return False\n",
      "\"\n"
     ]
    }
   ],
   "source": [
    "print(prompt)"
   ]
  },
  {
   "cell_type": "code",
   "execution_count": null,
   "id": "1bb7c43d",
   "metadata": {},
   "outputs": [],
   "source": [
    "df = snowflake_session.sql(f\"select snowflake.cortex.complete('llama3-8b', '{prompt}') as response\").to_pandas()\n",
    "# snowflake-llama-3.3-70b"
   ]
  },
  {
   "cell_type": "code",
   "execution_count": 53,
   "id": "c6be9a52",
   "metadata": {},
   "outputs": [],
   "source": [
    "df_testi = df.iloc[0]['RESPONSE']"
   ]
  },
  {
   "cell_type": "code",
   "execution_count": 56,
   "id": "68472c2c",
   "metadata": {},
   "outputs": [
    {
     "name": "stdout",
     "output_type": "stream",
     "text": [
      "This Python function, `check_repo_for_readme`, checks if a GitHub repository has a README.md file. It makes a GET request to the repository's API endpoint and checks the response status code. If the status code is 404, it means the repository has no README.md file and the function returns `False`. If the status code is 200, it means the repository has a README.md file and the function returns `True`. If the status code is anything else, it prints an error message and returns `False`. The function also handles rate limiting by the GitHub API, pausing for 61 seconds if the remaining rate limit is 1 or less.\n"
     ]
    }
   ],
   "source": [
    "print(df_testi)"
   ]
  },
  {
   "cell_type": "markdown",
   "id": "7c8c4256",
   "metadata": {},
   "source": [
    "This Python function, `check_repo_for_readme`, checks if a GitHub repository has a README.md file. \n",
    "It makes a GET request to the repository's API endpoint and checks the response status code. \n",
    "If the status code is 404, it means the repository has no README.md file and the function returns `False`. \n",
    "If the status code is 200, it means the repository has a README.md file and the function returns `True`. \n",
    "If the status code is anything else, it prints an error message and returns `False`. \n",
    "The function also handles rate limiting by the GitHub API, pausing for 61 seconds if the remaining rate limit is 1 or less."
   ]
  },
  {
   "cell_type": "code",
   "execution_count": 58,
   "id": "dd8271b2",
   "metadata": {},
   "outputs": [],
   "source": [
    "snowflake_session.close()"
   ]
  },
  {
   "cell_type": "code",
   "execution_count": 50,
   "id": "77478b56",
   "metadata": {},
   "outputs": [
    {
     "name": "stdout",
     "output_type": "stream",
     "text": [
      "Create a short summary of the given python code. Limit your output to the relevant parts and answer in natural language: \"\n",
      "    @sleep_and_retry\n",
      "    @limits(calls=10, period=ONE_MINUTE)\n",
      "    def check_repo_for_readme(repo_owner, repo_name):\n",
      "\n",
      "        url = f\\'https://api.github.com/repos/{repo_owner}/{repo_name}/readme\\'\n",
      "        response = requests.get(url, headers=HEADERS, data=PAYLOAD)\n",
      "        if response.status_code == 404:\n",
      "            print(f\\'Repo {repo_name} has no README.md.\\')\n",
      "            return False\n",
      "        elif response.status_code == 200:\n",
      "            return True\n",
      "        else:\n",
      "            if response.status_code != 200:\n",
      "                print(f\\'Error with response. Check out status_code {response.status_code}!\\')\n",
      "                rate_limit_remaining = int(response.headers.get(\\'X-RateLimit-Remaining\\'))\n",
      "                if rate_limit_remaining <= 1:\n",
      "                    set_sleeper(61)\n",
      "            return False\n",
      "\"\n"
     ]
    }
   ],
   "source": [
    "print(prompt)"
   ]
  },
  {
   "cell_type": "code",
   "execution_count": null,
   "id": "86fa919a",
   "metadata": {},
   "outputs": [
    {
     "name": "stdout",
     "output_type": "stream",
     "text": [
      "Token count: 203\n"
     ]
    }
   ],
   "source": [
    "# count tokens with snowflake\n",
    "from snowflake.snowpark.context import get_active_session\n",
    "\n",
    "# Get current Snowflake session\n",
    "session = get_active_session()\n",
    "\n",
    "# Define model and input text\n",
    "model_name = \"llama3-8b\"\n",
    "\n",
    "# Execute token count function\n",
    "result = session.sql(f\"SELECT SNOWFLAKE.CORTEX.COUNT_TOKENS('{model_name}', '{prompt}') AS token_count\").collect()\n",
    "\n",
    "print(f\"Token count: {result[0]['TOKEN_COUNT']}\") # 204 tokens (snowflake)\n"
   ]
  },
  {
   "cell_type": "code",
   "execution_count": null,
   "id": "19565b75",
   "metadata": {},
   "outputs": [
    {
     "ename": "ModuleNotFoundError",
     "evalue": "No module named 'transformers'",
     "output_type": "error",
     "traceback": [
      "\u001b[31m---------------------------------------------------------------------------\u001b[39m",
      "\u001b[31mModuleNotFoundError\u001b[39m                       Traceback (most recent call last)",
      "\u001b[36mCell\u001b[39m\u001b[36m \u001b[39m\u001b[32mIn[57]\u001b[39m\u001b[32m, line 1\u001b[39m\n\u001b[32m----> \u001b[39m\u001b[32m1\u001b[39m \u001b[38;5;28;01mfrom\u001b[39;00m\u001b[38;5;250m \u001b[39m\u001b[34;01mtransformers\u001b[39;00m\u001b[38;5;250m \u001b[39m\u001b[38;5;28;01mimport\u001b[39;00m AutoTokenizer\n\u001b[32m      3\u001b[39m \u001b[38;5;66;03m# Load tokenizer for a specific model\u001b[39;00m\n\u001b[32m      4\u001b[39m tokenizer = AutoTokenizer.from_pretrained(\u001b[33m\"\u001b[39m\u001b[33mfacebook/llama-3-78b\u001b[39m\u001b[33m\"\u001b[39m)\n",
      "\u001b[31mModuleNotFoundError\u001b[39m: No module named 'transformers'"
     ]
    }
   ],
   "source": [
    "from transformers import AutoTokenizer\n",
    "\n",
    "# Load tokenizer for a specific model\n",
    "tokenizer = AutoTokenizer.from_pretrained(\"facebook/llama3-8b\")\n",
    "\n",
    "tokens = tokenizer.encode(prompt)\n",
    "\n",
    "print(f\"Token count: {len(tokens)}\")\n"
   ]
  }
 ],
 "metadata": {
  "kernelspec": {
   "display_name": ".venv",
   "language": "python",
   "name": "python3"
  },
  "language_info": {
   "codemirror_mode": {
    "name": "ipython",
    "version": 3
   },
   "file_extension": ".py",
   "mimetype": "text/x-python",
   "name": "python",
   "nbconvert_exporter": "python",
   "pygments_lexer": "ipython3",
   "version": "3.12.3"
  }
 },
 "nbformat": 4,
 "nbformat_minor": 5
}
