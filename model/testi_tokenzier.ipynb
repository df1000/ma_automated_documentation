{
 "cells": [
  {
   "cell_type": "code",
   "execution_count": null,
   "id": "e7b34d5e",
   "metadata": {},
   "outputs": [],
   "source": [
    "from transformers import AutoTokenizer\n",
    "from huggingface_hub import login\n",
    "from getpass import getpass"
   ]
  },
  {
   "cell_type": "code",
   "execution_count": 4,
   "id": "a003fc5a",
   "metadata": {},
   "outputs": [],
   "source": [
    "HF_TOKEN = getpass()\n",
    "login(HF_TOKEN)"
   ]
  },
  {
   "cell_type": "code",
   "execution_count": 13,
   "id": "a8221c6f",
   "metadata": {},
   "outputs": [],
   "source": [
    "full_prompt = '''\n",
    "    This repository is a Python script that fetches and generates a list of most popular repositories on GitHub based on the given programming language. The script uses the GitHub API to retrieve the required information and stores the access token in a local file named \\\"token.json\\\". The script supports multiple programming languages and can fetch up to 10 pages of results per language.\\n\\nThe script defines a class `RepositoryInformationProvider` that initializes a `requests.Session` object with retries and rate limit handling. It also defines methods to get the next page of results for a given language and to get the last commit date for a given repository.\\n\\nThe `generate_readme` function generates a markdown file with a table of most popular repositories for a given language. It fetches the data using the `RepositoryInformationProvider` and formats the data into a markdown table.\\n\\nThe script uses several constants and variables to store the API URLs, headers, and other configuration options. It also defines some helper functions for formatting and humanizing dates.\\n\\nThe script uses the `argparse` module to parse command-line arguments and supports specifying multiple languages using a comma-separated list.\\n\\nThe main components of the script are:\\n\\n* `RepositoryInformationProvider` class for fetching and handling GitHub API responses\\n* `generate_readme` function for generating the markdown file\\n* Use of `requests` library for making HTTP requests\\n* Use of `argparse` module for parsing command-line arguments\\n* Use of `json`, `time`, `humanize`, `datetime`, and `argparse` modules for various utility functions\\n\\nThe dependencies of the script are:\\n\\n* `requests` library for making HTTP requests\\n* `argparse` module for parsing command-line arguments\\n* `json` module for parsing JSON responses\\n* `time` module for handling time-related functionality\\n* `humanize` module for formatting dates\\n* `datetime` module for parsing and manipulating dates\\n\\nThe overall architecture of the script is simple and modular, with clear separation of concerns between fetching data from the API and generating the markdown file. The script is well-documented with clear variable and function names, making it easy to understand and maintain.\n",
    "'''"
   ]
  },
  {
   "cell_type": "code",
   "execution_count": null,
   "id": "f132aebd",
   "metadata": {},
   "outputs": [],
   "source": [
    "\n",
    "def split_prompt(prompt, max_tokens):\n",
    "    tokenizer = AutoTokenizer.from_pretrained(\"meta-llama/Llama-3.1-8B\")\n",
    "    tokenized_prompt = tokenizer.encode(prompt)\n",
    "    \n",
    "    chunks = [tokenized_prompt[i:i+max_tokens] for i in range(0, len(tokenized_prompt), max_tokens)] # (generated with Microsoft Copilot)\n",
    "    return [tokenizer.decode(chunk) for chunk in chunks] # (generated with Microsoft Copilot)\n",
    "\n",
    "\n",
    "sub_prompts = split_prompt(full_prompt, 20)\n"
   ]
  },
  {
   "cell_type": "code",
   "execution_count": 20,
   "id": "45ca9673",
   "metadata": {},
   "outputs": [
    {
     "data": {
      "text/plain": [
       "['<|begin_of_text|>\\n    This repository is a Python script that fetches and generates a list of most popular repositories',\n",
       " ' on GitHub based on the given programming language. The script uses the GitHub API to retrieve the required information',\n",
       " ' and stores the access token in a local file named \"token.json\". The script supports multiple programming languages',\n",
       " ' and can fetch up to 10 pages of results per language.\\n\\nThe script defines a class `Repository',\n",
       " 'InformationProvider` that initializes a `requests.Session` object with retries and rate limit handling. It also',\n",
       " ' defines methods to get the next page of results for a given language and to get the last commit date',\n",
       " ' for a given repository.\\n\\nThe `generate_readme` function generates a markdown file with a table of',\n",
       " ' most popular repositories for a given language. It fetches the data using the `RepositoryInformationProvider`',\n",
       " ' and formats the data into a markdown table.\\n\\nThe script uses several constants and variables to store the API',\n",
       " ' URLs, headers, and other configuration options. It also defines some helper functions for formatting and humanizing',\n",
       " ' dates.\\n\\nThe script uses the `argparse` module to parse command-line arguments and supports specifying multiple',\n",
       " ' languages using a comma-separated list.\\n\\nThe main components of the script are:\\n\\n* `RepositoryInformationProvider',\n",
       " '` class for fetching and handling GitHub API responses\\n* `generate_readme` function for generating the',\n",
       " ' markdown file\\n* Use of `requests` library for making HTTP requests\\n* Use of `arg',\n",
       " 'parse` module for parsing command-line arguments\\n* Use of `json`, `time`, `human',\n",
       " 'ize`, `datetime`, and `argparse` modules for various utility functions\\n\\nThe dependencies of the',\n",
       " ' script are:\\n\\n* `requests` library for making HTTP requests\\n* `argparse` module for',\n",
       " ' parsing command-line arguments\\n* `json` module for parsing JSON responses\\n* `time` module',\n",
       " ' for handling time-related functionality\\n* `humanize` module for formatting dates\\n* `datetime`',\n",
       " ' module for parsing and manipulating dates\\n\\nThe overall architecture of the script is simple and modular, with clear',\n",
       " ' separation of concerns between fetching data from the API and generating the markdown file. The script is well-d',\n",
       " 'ocumented with clear variable and function names, making it easy to understand and maintain.\\n']"
      ]
     },
     "execution_count": 20,
     "metadata": {},
     "output_type": "execute_result"
    }
   ],
   "source": [
    "sub_prompts"
   ]
  }
 ],
 "metadata": {
  "kernelspec": {
   "display_name": ".venv",
   "language": "python",
   "name": "python3"
  },
  "language_info": {
   "codemirror_mode": {
    "name": "ipython",
    "version": 3
   },
   "file_extension": ".py",
   "mimetype": "text/x-python",
   "name": "python",
   "nbconvert_exporter": "python",
   "pygments_lexer": "ipython3",
   "version": "3.12.3"
  }
 },
 "nbformat": 4,
 "nbformat_minor": 5
}
