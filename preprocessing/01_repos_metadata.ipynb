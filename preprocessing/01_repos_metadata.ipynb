{
 "cells": [
  {
   "cell_type": "code",
   "execution_count": 419,
   "metadata": {},
   "outputs": [],
   "source": [
    "import pandas as pd\n",
    "import json\n",
    "from pathlib import Path"
   ]
  },
  {
   "cell_type": "code",
   "execution_count": 420,
   "metadata": {},
   "outputs": [],
   "source": [
    "def load_json(path):\n",
    "    with open(path, 'r') as file:\n",
    "        loaded_data = json.load(file)\n",
    "    \n",
    "    data = loaded_data['items']\n",
    "\n",
    "    return data"
   ]
  },
  {
   "cell_type": "code",
   "execution_count": null,
   "metadata": {},
   "outputs": [],
   "source": [
    "file_name = '../data/helper/df_repos_metadata_star_range_testi.json'"
   ]
  },
  {
   "cell_type": "markdown",
   "metadata": {},
   "source": [
    "### get column names from test json"
   ]
  },
  {
   "cell_type": "code",
   "execution_count": 422,
   "metadata": {},
   "outputs": [],
   "source": [
    "data = load_json(path='../data/helper/test_multiple_repos.json')\n",
    "# get keys of loaded_data as list\n",
    "keys = list(data[0].keys())"
   ]
  },
  {
   "cell_type": "markdown",
   "metadata": {},
   "source": [
    "### get paths"
   ]
  },
  {
   "cell_type": "code",
   "execution_count": 423,
   "metadata": {},
   "outputs": [],
   "source": [
    "directory_path = Path(\"../data/raw_data\")\n",
    "all_files = [file.name for file in directory_path.iterdir() if file.is_file()]"
   ]
  },
  {
   "cell_type": "code",
   "execution_count": 424,
   "metadata": {},
   "outputs": [
    {
     "data": {
      "text/plain": [
       "'14_multiple_github_repos_page_2025-04-13_17-17-09.json'"
      ]
     },
     "execution_count": 424,
     "metadata": {},
     "output_type": "execute_result"
    }
   ],
   "source": [
    "all_files[0]"
   ]
  },
  {
   "cell_type": "markdown",
   "metadata": {},
   "source": [
    "### open all jsons and load repo metadata into dataframe"
   ]
  },
  {
   "cell_type": "code",
   "execution_count": 425,
   "metadata": {},
   "outputs": [],
   "source": [
    "# create empty df with keys of loaded_data as columns\n",
    "df_raw = pd.DataFrame(columns=keys)"
   ]
  },
  {
   "cell_type": "code",
   "execution_count": 426,
   "metadata": {},
   "outputs": [
    {
     "name": "stderr",
     "output_type": "stream",
     "text": [
      "/tmp/ipykernel_14155/143648634.py:8: FutureWarning: The behavior of DataFrame concatenation with empty or all-NA entries is deprecated. In a future version, this will no longer exclude empty or all-NA columns when determining the result dtypes. To retain the old behavior, exclude the relevant entries before the concat operation.\n",
      "  df_raw = pd.concat([df_raw, df_tmp], ignore_index=True)\n"
     ]
    }
   ],
   "source": [
    "for file in all_files:\n",
    "    data = load_json(path=f'../data/raw_data/{file}')\n",
    "    #  iterate through subdictionary in data and concatenate the content of the subdictionary to df_repos\n",
    "    for repo in data:\n",
    "        # create tmp df_repo for each repo\n",
    "        df_tmp = pd.DataFrame(data=[repo], columns=keys)\n",
    "        # concatenate df_repos with df_repo\n",
    "        df_raw = pd.concat([df_raw, df_tmp], ignore_index=True)"
   ]
  },
  {
   "cell_type": "code",
   "execution_count": 427,
   "metadata": {},
   "outputs": [],
   "source": [
    "#df_raw.info()"
   ]
  },
  {
   "cell_type": "markdown",
   "metadata": {},
   "source": [
    "### clean df_repos and remove unnecessary columns"
   ]
  },
  {
   "cell_type": "code",
   "execution_count": 428,
   "metadata": {},
   "outputs": [],
   "source": [
    "# columns which are requiered for preprocessing and fruther steps\n",
    "columns = [\n",
    "    'id', \n",
    "    'name', \n",
    "    'full_name', \n",
    "    'html_url', \n",
    "    'description', \n",
    "    'url', \n",
    "    'labels_url', \n",
    "    'created_at', \n",
    "    'updated_at', \n",
    "    'pushed_at', \n",
    "    'size', \n",
    "    'stargazers_count', \n",
    "    'watchers_count', \n",
    "    'language', \n",
    "    'has_issues', \n",
    "    'has_projects', \n",
    "    'has_downloads', \n",
    "    'has_wiki', \n",
    "    'has_pages', \n",
    "    'has_discussions', \n",
    "    'forks_count', \n",
    "    'open_issues_count', \n",
    "    'license', \n",
    "    'allow_forking', \n",
    "    'topics', \n",
    "    'visibility', \n",
    "    'forks', \n",
    "    'open_issues', \n",
    "    'watchers', \n",
    "    'default_branch', \n",
    "    'score'\n",
    "]"
   ]
  },
  {
   "cell_type": "code",
   "execution_count": 429,
   "metadata": {},
   "outputs": [],
   "source": [
    "df_repos = df_raw"
   ]
  },
  {
   "cell_type": "code",
   "execution_count": 430,
   "metadata": {},
   "outputs": [],
   "source": [
    "for k in keys:\n",
    "    if k in columns:\n",
    "        continue\n",
    "    else:\n",
    "        df_repos = df_repos.drop([k], axis=1)"
   ]
  },
  {
   "cell_type": "code",
   "execution_count": 431,
   "metadata": {},
   "outputs": [],
   "source": [
    "#df_repos.info()"
   ]
  },
  {
   "cell_type": "code",
   "execution_count": 432,
   "metadata": {},
   "outputs": [],
   "source": [
    "#df_repos.head(1)"
   ]
  },
  {
   "cell_type": "markdown",
   "metadata": {},
   "source": [
    "### save df_repos in json file"
   ]
  },
  {
   "cell_type": "code",
   "execution_count": 433,
   "metadata": {},
   "outputs": [],
   "source": [
    "tmp_json = df_repos.to_json(orient='records', lines=False, force_ascii=False)"
   ]
  },
  {
   "cell_type": "code",
   "execution_count": 434,
   "metadata": {},
   "outputs": [],
   "source": [
    "with open(file_name, 'w') as file:\n",
    "    file.write(tmp_json)"
   ]
  },
  {
   "cell_type": "markdown",
   "metadata": {},
   "source": [
    "### load json data for further analysis (test)"
   ]
  },
  {
   "cell_type": "code",
   "execution_count": 435,
   "metadata": {},
   "outputs": [],
   "source": [
    "with open(file_name, 'r') as file:\n",
    "    loaded_data = json.load(file)"
   ]
  },
  {
   "cell_type": "code",
   "execution_count": 436,
   "metadata": {},
   "outputs": [],
   "source": [
    "test_df = pd.DataFrame(data=loaded_data)"
   ]
  },
  {
   "cell_type": "code",
   "execution_count": 437,
   "metadata": {},
   "outputs": [
    {
     "data": {
      "text/html": [
       "<div>\n",
       "<style scoped>\n",
       "    .dataframe tbody tr th:only-of-type {\n",
       "        vertical-align: middle;\n",
       "    }\n",
       "\n",
       "    .dataframe tbody tr th {\n",
       "        vertical-align: top;\n",
       "    }\n",
       "\n",
       "    .dataframe thead th {\n",
       "        text-align: right;\n",
       "    }\n",
       "</style>\n",
       "<table border=\"1\" class=\"dataframe\">\n",
       "  <thead>\n",
       "    <tr style=\"text-align: right;\">\n",
       "      <th></th>\n",
       "      <th>id</th>\n",
       "      <th>name</th>\n",
       "      <th>full_name</th>\n",
       "      <th>html_url</th>\n",
       "      <th>description</th>\n",
       "      <th>url</th>\n",
       "      <th>labels_url</th>\n",
       "      <th>created_at</th>\n",
       "      <th>updated_at</th>\n",
       "      <th>pushed_at</th>\n",
       "      <th>...</th>\n",
       "      <th>open_issues_count</th>\n",
       "      <th>license</th>\n",
       "      <th>allow_forking</th>\n",
       "      <th>topics</th>\n",
       "      <th>visibility</th>\n",
       "      <th>forks</th>\n",
       "      <th>open_issues</th>\n",
       "      <th>watchers</th>\n",
       "      <th>default_branch</th>\n",
       "      <th>score</th>\n",
       "    </tr>\n",
       "  </thead>\n",
       "  <tbody>\n",
       "    <tr>\n",
       "      <th>0</th>\n",
       "      <td>661218957</td>\n",
       "      <td>Sign-Sacker</td>\n",
       "      <td>langsasec/Sign-Sacker</td>\n",
       "      <td>https://github.com/langsasec/Sign-Sacker</td>\n",
       "      <td>Sign-Sacker(签名掠夺者)：一款数字签名复制器，可将其他官方exe中数字签名，图标...</td>\n",
       "      <td>https://api.github.com/repos/langsasec/Sign-Sa...</td>\n",
       "      <td>https://api.github.com/repos/langsasec/Sign-Sa...</td>\n",
       "      <td>2023-07-02T06:53:51Z</td>\n",
       "      <td>2025-04-09T13:47:02Z</td>\n",
       "      <td>2024-01-04T07:39:10Z</td>\n",
       "      <td>...</td>\n",
       "      <td>2</td>\n",
       "      <td>{'key': 'mit', 'name': 'MIT License', 'spdx_id...</td>\n",
       "      <td>True</td>\n",
       "      <td>[bypass-antivirus, signature]</td>\n",
       "      <td>public</td>\n",
       "      <td>85</td>\n",
       "      <td>2</td>\n",
       "      <td>550</td>\n",
       "      <td>main</td>\n",
       "      <td>1.0</td>\n",
       "    </tr>\n",
       "  </tbody>\n",
       "</table>\n",
       "<p>1 rows × 31 columns</p>\n",
       "</div>"
      ],
      "text/plain": [
       "          id         name              full_name  \\\n",
       "0  661218957  Sign-Sacker  langsasec/Sign-Sacker   \n",
       "\n",
       "                                   html_url  \\\n",
       "0  https://github.com/langsasec/Sign-Sacker   \n",
       "\n",
       "                                         description  \\\n",
       "0  Sign-Sacker(签名掠夺者)：一款数字签名复制器，可将其他官方exe中数字签名，图标...   \n",
       "\n",
       "                                                 url  \\\n",
       "0  https://api.github.com/repos/langsasec/Sign-Sa...   \n",
       "\n",
       "                                          labels_url            created_at  \\\n",
       "0  https://api.github.com/repos/langsasec/Sign-Sa...  2023-07-02T06:53:51Z   \n",
       "\n",
       "             updated_at             pushed_at  ...  open_issues_count  \\\n",
       "0  2025-04-09T13:47:02Z  2024-01-04T07:39:10Z  ...                  2   \n",
       "\n",
       "                                             license  allow_forking  \\\n",
       "0  {'key': 'mit', 'name': 'MIT License', 'spdx_id...           True   \n",
       "\n",
       "                          topics  visibility  forks  open_issues  watchers  \\\n",
       "0  [bypass-antivirus, signature]      public     85            2       550   \n",
       "\n",
       "   default_branch  score  \n",
       "0            main    1.0  \n",
       "\n",
       "[1 rows x 31 columns]"
      ]
     },
     "execution_count": 437,
     "metadata": {},
     "output_type": "execute_result"
    }
   ],
   "source": [
    "test_df.head(1)"
   ]
  }
 ],
 "metadata": {
  "kernelspec": {
   "display_name": ".venv",
   "language": "python",
   "name": "python3"
  },
  "language_info": {
   "codemirror_mode": {
    "name": "ipython",
    "version": 3
   },
   "file_extension": ".py",
   "mimetype": "text/x-python",
   "name": "python",
   "nbconvert_exporter": "python",
   "pygments_lexer": "ipython3",
   "version": "3.12.3"
  }
 },
 "nbformat": 4,
 "nbformat_minor": 2
}
