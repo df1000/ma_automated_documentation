{
 "cells": [
  {
   "cell_type": "code",
   "execution_count": 138,
   "metadata": {},
   "outputs": [],
   "source": [
    "import pandas as pd\n",
    "import json\n",
    "from pathlib import Path\n",
    "from langdetect import detect"
   ]
  },
  {
   "cell_type": "code",
   "execution_count": 139,
   "metadata": {},
   "outputs": [],
   "source": [
    "def load_json(path):\n",
    "    with open(path, 'r') as file:\n",
    "        loaded_data = json.load(file)\n",
    "    \n",
    "    #data = loaded_data['items']\n",
    "    return loaded_data\n",
    "    #return data"
   ]
  },
  {
   "cell_type": "markdown",
   "metadata": {},
   "source": [
    "### create two paths to save .json"
   ]
  },
  {
   "cell_type": "code",
   "execution_count": 140,
   "metadata": {},
   "outputs": [],
   "source": [
    "# file with repos up to 22196 stars\n",
    "# file_name = '../data/df_repos_metadata_up_to_max.json'\n",
    "# file with repos 0 to 22196 stars\n",
    "file_name = '../data/df_repos_metadata_0_to_22196.json'"
   ]
  },
  {
   "cell_type": "markdown",
   "metadata": {},
   "source": [
    "### get column names"
   ]
  },
  {
   "cell_type": "code",
   "execution_count": 141,
   "metadata": {},
   "outputs": [],
   "source": [
    "data = load_json(path='../data/helper/help_columns.json')\n",
    "# get keys of loaded_data as list\n",
    "keys = list(data[0].keys())"
   ]
  },
  {
   "cell_type": "code",
   "execution_count": 142,
   "metadata": {},
   "outputs": [
    {
     "data": {
      "text/plain": [
       "82"
      ]
     },
     "execution_count": 142,
     "metadata": {},
     "output_type": "execute_result"
    }
   ],
   "source": [
    "len(keys)"
   ]
  },
  {
   "cell_type": "markdown",
   "metadata": {},
   "source": [
    "### get paths"
   ]
  },
  {
   "cell_type": "code",
   "execution_count": 143,
   "metadata": {},
   "outputs": [],
   "source": [
    "directory_path = Path(\"../data/raw_data\")\n",
    "all_files = [file.name for file in directory_path.iterdir() if file.is_file()]"
   ]
  },
  {
   "cell_type": "code",
   "execution_count": 144,
   "metadata": {},
   "outputs": [
    {
     "data": {
      "text/plain": [
       "'checkpoint_350_multiple_github_repos.json'"
      ]
     },
     "execution_count": 144,
     "metadata": {},
     "output_type": "execute_result"
    }
   ],
   "source": [
    "all_files[0]"
   ]
  },
  {
   "cell_type": "markdown",
   "metadata": {},
   "source": [
    "### open all jsons and load repo metadata into dataframe"
   ]
  },
  {
   "cell_type": "code",
   "execution_count": 145,
   "metadata": {},
   "outputs": [],
   "source": [
    "# create empty df with keys of loaded_data as columns\n",
    "df_raw = pd.DataFrame(columns=keys)"
   ]
  },
  {
   "cell_type": "code",
   "execution_count": 146,
   "metadata": {},
   "outputs": [
    {
     "name": "stderr",
     "output_type": "stream",
     "text": [
      "/tmp/ipykernel_2618/143648634.py:8: FutureWarning: The behavior of DataFrame concatenation with empty or all-NA entries is deprecated. In a future version, this will no longer exclude empty or all-NA columns when determining the result dtypes. To retain the old behavior, exclude the relevant entries before the concat operation.\n",
      "  df_raw = pd.concat([df_raw, df_tmp], ignore_index=True)\n"
     ]
    }
   ],
   "source": [
    "for file in all_files:\n",
    "    data = load_json(path=f'../data/raw_data/{file}')\n",
    "    #  iterate through subdictionary in data and concatenate the content of the subdictionary to df_repos\n",
    "    for repo in data:\n",
    "        # create tmp df_repo for each repo\n",
    "        df_tmp = pd.DataFrame(data=[repo], columns=keys)\n",
    "        # concatenate df_repos with df_repo\n",
    "        df_raw = pd.concat([df_raw, df_tmp], ignore_index=True)"
   ]
  },
  {
   "cell_type": "markdown",
   "metadata": {},
   "source": [
    "### clean df_repos and remove unnecessary columns"
   ]
  },
  {
   "cell_type": "code",
   "execution_count": null,
   "metadata": {},
   "outputs": [],
   "source": [
    "# columns which are requiered for preprocessing and further steps\n",
    "columns = [\n",
    "    'id', \n",
    "    'name', \n",
    "    'full_name', \n",
    "    'html_url', \n",
    "    'description', \n",
    "    'url', \n",
    "    'labels_url', \n",
    "    'created_at', \n",
    "    'updated_at', \n",
    "    'pushed_at', \n",
    "    'size', \n",
    "    'stargazers_count', \n",
    "    'watchers_count', \n",
    "    'language', \n",
    "    'has_issues', \n",
    "    'has_projects', \n",
    "    'has_downloads', \n",
    "    'has_wiki', \n",
    "    'has_pages', \n",
    "    'has_discussions', \n",
    "    'forks_count', \n",
    "    'open_issues_count', \n",
    "    'license', \n",
    "    'allow_forking', \n",
    "    'topics', \n",
    "    'visibility', \n",
    "    'forks', \n",
    "    'open_issues', \n",
    "    'watchers', \n",
    "    'default_branch', \n",
    "    'score'\n",
    "]"
   ]
  },
  {
   "cell_type": "code",
   "execution_count": 148,
   "metadata": {},
   "outputs": [],
   "source": [
    "df_repos = df_raw"
   ]
  },
  {
   "cell_type": "code",
   "execution_count": 149,
   "metadata": {},
   "outputs": [],
   "source": [
    "for k in keys:\n",
    "    if k in columns:\n",
    "        continue\n",
    "    else:\n",
    "        df_repos = df_repos.drop([k], axis=1)"
   ]
  },
  {
   "cell_type": "code",
   "execution_count": 150,
   "metadata": {},
   "outputs": [
    {
     "name": "stdout",
     "output_type": "stream",
     "text": [
      "<class 'pandas.core.frame.DataFrame'>\n",
      "RangeIndex: 591 entries, 0 to 590\n",
      "Data columns (total 31 columns):\n",
      " #   Column             Non-Null Count  Dtype  \n",
      "---  ------             --------------  -----  \n",
      " 0   id                 591 non-null    object \n",
      " 1   name               591 non-null    object \n",
      " 2   full_name          591 non-null    object \n",
      " 3   html_url           591 non-null    object \n",
      " 4   description        579 non-null    object \n",
      " 5   url                591 non-null    object \n",
      " 6   labels_url         591 non-null    object \n",
      " 7   created_at         591 non-null    object \n",
      " 8   updated_at         591 non-null    object \n",
      " 9   pushed_at          591 non-null    object \n",
      " 10  size               591 non-null    object \n",
      " 11  stargazers_count   591 non-null    object \n",
      " 12  watchers_count     591 non-null    object \n",
      " 13  language           591 non-null    object \n",
      " 14  has_issues         591 non-null    object \n",
      " 15  has_projects       591 non-null    object \n",
      " 16  has_downloads      591 non-null    object \n",
      " 17  has_wiki           591 non-null    object \n",
      " 18  has_pages          591 non-null    object \n",
      " 19  has_discussions    591 non-null    object \n",
      " 20  forks_count        591 non-null    object \n",
      " 21  open_issues_count  591 non-null    object \n",
      " 22  license            547 non-null    object \n",
      " 23  allow_forking      591 non-null    object \n",
      " 24  topics             591 non-null    object \n",
      " 25  visibility         591 non-null    object \n",
      " 26  forks              591 non-null    object \n",
      " 27  open_issues        591 non-null    object \n",
      " 28  watchers           591 non-null    object \n",
      " 29  default_branch     591 non-null    object \n",
      " 30  score              591 non-null    float64\n",
      "dtypes: float64(1), object(30)\n",
      "memory usage: 143.3+ KB\n"
     ]
    }
   ],
   "source": [
    "df_repos.info()"
   ]
  },
  {
   "cell_type": "markdown",
   "metadata": {},
   "source": [
    "### save df_repos in json file"
   ]
  },
  {
   "cell_type": "code",
   "execution_count": 151,
   "metadata": {},
   "outputs": [],
   "source": [
    "tmp_json = df_repos.to_json(orient='records', lines=False, force_ascii=False)"
   ]
  },
  {
   "cell_type": "code",
   "execution_count": 152,
   "metadata": {},
   "outputs": [],
   "source": [
    "with open(file_name, 'w') as file:\n",
    "    file.write(tmp_json)"
   ]
  },
  {
   "cell_type": "markdown",
   "metadata": {},
   "source": [
    "### load json data for further analysis (test)"
   ]
  },
  {
   "cell_type": "code",
   "execution_count": 153,
   "metadata": {},
   "outputs": [],
   "source": [
    "with open(file_name, 'r') as file:\n",
    "    loaded_data = json.load(file)"
   ]
  },
  {
   "cell_type": "code",
   "execution_count": 154,
   "metadata": {},
   "outputs": [],
   "source": [
    "test_df = pd.DataFrame(data=loaded_data)"
   ]
  },
  {
   "cell_type": "markdown",
   "metadata": {},
   "source": [
    "### combine df's"
   ]
  },
  {
   "cell_type": "code",
   "execution_count": 155,
   "metadata": {},
   "outputs": [],
   "source": [
    "directory_path = Path(\"../data\")\n",
    "all_dfs = [file.name for file in directory_path.iterdir() if file.is_file()]"
   ]
  },
  {
   "cell_type": "code",
   "execution_count": 156,
   "metadata": {},
   "outputs": [
    {
     "data": {
      "text/plain": [
       "['df_repos_metadata_star_up_to_max.json', 'df_repos_metadata_0_to_22196.json']"
      ]
     },
     "execution_count": 156,
     "metadata": {},
     "output_type": "execute_result"
    }
   ],
   "source": [
    "all_dfs"
   ]
  },
  {
   "cell_type": "code",
   "execution_count": 157,
   "metadata": {},
   "outputs": [],
   "source": [
    "df_repos = pd.DataFrame()"
   ]
  },
  {
   "cell_type": "code",
   "execution_count": 158,
   "metadata": {},
   "outputs": [],
   "source": [
    "with open('../data/df_repos_metadata_star_up_to_max.json', 'r') as file:\n",
    "    loaded_data = json.load(file)\n",
    "tmp_df = pd.DataFrame(data=loaded_data)"
   ]
  },
  {
   "cell_type": "code",
   "execution_count": 159,
   "metadata": {},
   "outputs": [
    {
     "data": {
      "text/html": [
       "<div>\n",
       "<style scoped>\n",
       "    .dataframe tbody tr th:only-of-type {\n",
       "        vertical-align: middle;\n",
       "    }\n",
       "\n",
       "    .dataframe tbody tr th {\n",
       "        vertical-align: top;\n",
       "    }\n",
       "\n",
       "    .dataframe thead th {\n",
       "        text-align: right;\n",
       "    }\n",
       "</style>\n",
       "<table border=\"1\" class=\"dataframe\">\n",
       "  <thead>\n",
       "    <tr style=\"text-align: right;\">\n",
       "      <th></th>\n",
       "      <th>id</th>\n",
       "      <th>size</th>\n",
       "      <th>stargazers_count</th>\n",
       "      <th>watchers_count</th>\n",
       "      <th>forks_count</th>\n",
       "      <th>open_issues_count</th>\n",
       "      <th>forks</th>\n",
       "      <th>open_issues</th>\n",
       "      <th>watchers</th>\n",
       "      <th>score</th>\n",
       "    </tr>\n",
       "  </thead>\n",
       "  <tbody>\n",
       "    <tr>\n",
       "      <th>count</th>\n",
       "      <td>1.050000e+03</td>\n",
       "      <td>1.050000e+03</td>\n",
       "      <td>1050.000000</td>\n",
       "      <td>1050.000000</td>\n",
       "      <td>1050.000000</td>\n",
       "      <td>1050.000000</td>\n",
       "      <td>1050.000000</td>\n",
       "      <td>1050.000000</td>\n",
       "      <td>1050.000000</td>\n",
       "      <td>1050.0</td>\n",
       "    </tr>\n",
       "    <tr>\n",
       "      <th>mean</th>\n",
       "      <td>2.842129e+08</td>\n",
       "      <td>1.316390e+05</td>\n",
       "      <td>21701.457143</td>\n",
       "      <td>21701.457143</td>\n",
       "      <td>3555.066667</td>\n",
       "      <td>375.716190</td>\n",
       "      <td>3555.066667</td>\n",
       "      <td>375.716190</td>\n",
       "      <td>21701.457143</td>\n",
       "      <td>1.0</td>\n",
       "    </tr>\n",
       "    <tr>\n",
       "      <th>std</th>\n",
       "      <td>2.800213e+08</td>\n",
       "      <td>4.986652e+05</td>\n",
       "      <td>29908.569921</td>\n",
       "      <td>29908.569921</td>\n",
       "      <td>5971.414570</td>\n",
       "      <td>1003.159613</td>\n",
       "      <td>5971.414570</td>\n",
       "      <td>1003.159613</td>\n",
       "      <td>29908.569921</td>\n",
       "      <td>0.0</td>\n",
       "    </tr>\n",
       "    <tr>\n",
       "      <th>min</th>\n",
       "      <td>2.655400e+04</td>\n",
       "      <td>7.000000e+00</td>\n",
       "      <td>7193.000000</td>\n",
       "      <td>7193.000000</td>\n",
       "      <td>108.000000</td>\n",
       "      <td>0.000000</td>\n",
       "      <td>108.000000</td>\n",
       "      <td>0.000000</td>\n",
       "      <td>7193.000000</td>\n",
       "      <td>1.0</td>\n",
       "    </tr>\n",
       "    <tr>\n",
       "      <th>25%</th>\n",
       "      <td>4.880424e+07</td>\n",
       "      <td>5.378500e+03</td>\n",
       "      <td>8829.500000</td>\n",
       "      <td>8829.500000</td>\n",
       "      <td>989.000000</td>\n",
       "      <td>56.000000</td>\n",
       "      <td>989.000000</td>\n",
       "      <td>56.000000</td>\n",
       "      <td>8829.500000</td>\n",
       "      <td>1.0</td>\n",
       "    </tr>\n",
       "    <tr>\n",
       "      <th>50%</th>\n",
       "      <td>1.615837e+08</td>\n",
       "      <td>2.407950e+04</td>\n",
       "      <td>12306.500000</td>\n",
       "      <td>12306.500000</td>\n",
       "      <td>1814.000000</td>\n",
       "      <td>139.500000</td>\n",
       "      <td>1814.000000</td>\n",
       "      <td>139.500000</td>\n",
       "      <td>12306.500000</td>\n",
       "      <td>1.0</td>\n",
       "    </tr>\n",
       "    <tr>\n",
       "      <th>75%</th>\n",
       "      <td>5.702785e+08</td>\n",
       "      <td>8.391375e+04</td>\n",
       "      <td>21947.250000</td>\n",
       "      <td>21947.250000</td>\n",
       "      <td>3423.000000</td>\n",
       "      <td>331.000000</td>\n",
       "      <td>3423.000000</td>\n",
       "      <td>331.000000</td>\n",
       "      <td>21947.250000</td>\n",
       "      <td>1.0</td>\n",
       "    </tr>\n",
       "    <tr>\n",
       "      <th>max</th>\n",
       "      <td>9.548733e+08</td>\n",
       "      <td>1.087097e+07</td>\n",
       "      <td>335520.000000</td>\n",
       "      <td>335520.000000</td>\n",
       "      <td>49242.000000</td>\n",
       "      <td>16073.000000</td>\n",
       "      <td>49242.000000</td>\n",
       "      <td>16073.000000</td>\n",
       "      <td>335520.000000</td>\n",
       "      <td>1.0</td>\n",
       "    </tr>\n",
       "  </tbody>\n",
       "</table>\n",
       "</div>"
      ],
      "text/plain": [
       "                 id          size  stargazers_count  watchers_count  \\\n",
       "count  1.050000e+03  1.050000e+03       1050.000000     1050.000000   \n",
       "mean   2.842129e+08  1.316390e+05      21701.457143    21701.457143   \n",
       "std    2.800213e+08  4.986652e+05      29908.569921    29908.569921   \n",
       "min    2.655400e+04  7.000000e+00       7193.000000     7193.000000   \n",
       "25%    4.880424e+07  5.378500e+03       8829.500000     8829.500000   \n",
       "50%    1.615837e+08  2.407950e+04      12306.500000    12306.500000   \n",
       "75%    5.702785e+08  8.391375e+04      21947.250000    21947.250000   \n",
       "max    9.548733e+08  1.087097e+07     335520.000000   335520.000000   \n",
       "\n",
       "        forks_count  open_issues_count         forks   open_issues  \\\n",
       "count   1050.000000        1050.000000   1050.000000   1050.000000   \n",
       "mean    3555.066667         375.716190   3555.066667    375.716190   \n",
       "std     5971.414570        1003.159613   5971.414570   1003.159613   \n",
       "min      108.000000           0.000000    108.000000      0.000000   \n",
       "25%      989.000000          56.000000    989.000000     56.000000   \n",
       "50%     1814.000000         139.500000   1814.000000    139.500000   \n",
       "75%     3423.000000         331.000000   3423.000000    331.000000   \n",
       "max    49242.000000       16073.000000  49242.000000  16073.000000   \n",
       "\n",
       "            watchers   score  \n",
       "count    1050.000000  1050.0  \n",
       "mean    21701.457143     1.0  \n",
       "std     29908.569921     0.0  \n",
       "min      7193.000000     1.0  \n",
       "25%      8829.500000     1.0  \n",
       "50%     12306.500000     1.0  \n",
       "75%     21947.250000     1.0  \n",
       "max    335520.000000     1.0  "
      ]
     },
     "execution_count": 159,
     "metadata": {},
     "output_type": "execute_result"
    }
   ],
   "source": [
    "tmp_df.describe()"
   ]
  },
  {
   "cell_type": "code",
   "execution_count": 160,
   "metadata": {},
   "outputs": [
    {
     "data": {
      "text/plain": [
       "np.float64(21947.25)"
      ]
     },
     "execution_count": 160,
     "metadata": {},
     "output_type": "execute_result"
    }
   ],
   "source": [
    "quantile_75 = tmp_df['stargazers_count'].describe().loc['75%']\n",
    "quantile_75"
   ]
  },
  {
   "cell_type": "code",
   "execution_count": 161,
   "metadata": {},
   "outputs": [],
   "source": [
    "tmp_df = tmp_df[tmp_df['stargazers_count'] > quantile_75]"
   ]
  },
  {
   "cell_type": "code",
   "execution_count": 162,
   "metadata": {},
   "outputs": [
    {
     "name": "stdout",
     "output_type": "stream",
     "text": [
      "<class 'pandas.core.frame.DataFrame'>\n",
      "Index: 263 entries, 150 to 1019\n",
      "Data columns (total 31 columns):\n",
      " #   Column             Non-Null Count  Dtype  \n",
      "---  ------             --------------  -----  \n",
      " 0   id                 263 non-null    int64  \n",
      " 1   name               263 non-null    object \n",
      " 2   full_name          263 non-null    object \n",
      " 3   html_url           263 non-null    object \n",
      " 4   description        259 non-null    object \n",
      " 5   url                263 non-null    object \n",
      " 6   labels_url         263 non-null    object \n",
      " 7   created_at         263 non-null    object \n",
      " 8   updated_at         263 non-null    object \n",
      " 9   pushed_at          263 non-null    object \n",
      " 10  size               263 non-null    int64  \n",
      " 11  stargazers_count   263 non-null    int64  \n",
      " 12  watchers_count     263 non-null    int64  \n",
      " 13  language           263 non-null    object \n",
      " 14  has_issues         263 non-null    bool   \n",
      " 15  has_projects       263 non-null    bool   \n",
      " 16  has_downloads      263 non-null    bool   \n",
      " 17  has_wiki           263 non-null    bool   \n",
      " 18  has_pages          263 non-null    bool   \n",
      " 19  has_discussions    263 non-null    bool   \n",
      " 20  forks_count        263 non-null    int64  \n",
      " 21  open_issues_count  263 non-null    int64  \n",
      " 22  license            247 non-null    object \n",
      " 23  allow_forking      263 non-null    bool   \n",
      " 24  topics             263 non-null    object \n",
      " 25  visibility         263 non-null    object \n",
      " 26  forks              263 non-null    int64  \n",
      " 27  open_issues        263 non-null    int64  \n",
      " 28  watchers           263 non-null    int64  \n",
      " 29  default_branch     263 non-null    object \n",
      " 30  score              263 non-null    float64\n",
      "dtypes: bool(7), float64(1), int64(9), object(14)\n",
      "memory usage: 53.2+ KB\n"
     ]
    }
   ],
   "source": [
    "tmp_df.info()"
   ]
  },
  {
   "cell_type": "code",
   "execution_count": 163,
   "metadata": {},
   "outputs": [],
   "source": [
    "with open('../data/df_repos_metadata_0_to_22196.json', 'r') as file:\n",
    "    loaded_data = json.load(file)\n",
    "tmp_df1 = pd.DataFrame(data=loaded_data)"
   ]
  },
  {
   "cell_type": "code",
   "execution_count": 164,
   "metadata": {},
   "outputs": [],
   "source": [
    "df_repos = pd.concat([tmp_df1, tmp_df])"
   ]
  },
  {
   "cell_type": "code",
   "execution_count": 165,
   "metadata": {},
   "outputs": [
    {
     "name": "stdout",
     "output_type": "stream",
     "text": [
      "<class 'pandas.core.frame.DataFrame'>\n",
      "Index: 854 entries, 0 to 1019\n",
      "Data columns (total 31 columns):\n",
      " #   Column             Non-Null Count  Dtype  \n",
      "---  ------             --------------  -----  \n",
      " 0   id                 854 non-null    int64  \n",
      " 1   name               854 non-null    object \n",
      " 2   full_name          854 non-null    object \n",
      " 3   html_url           854 non-null    object \n",
      " 4   description        838 non-null    object \n",
      " 5   url                854 non-null    object \n",
      " 6   labels_url         854 non-null    object \n",
      " 7   created_at         854 non-null    object \n",
      " 8   updated_at         854 non-null    object \n",
      " 9   pushed_at          854 non-null    object \n",
      " 10  size               854 non-null    int64  \n",
      " 11  stargazers_count   854 non-null    int64  \n",
      " 12  watchers_count     854 non-null    int64  \n",
      " 13  language           854 non-null    object \n",
      " 14  has_issues         854 non-null    bool   \n",
      " 15  has_projects       854 non-null    bool   \n",
      " 16  has_downloads      854 non-null    bool   \n",
      " 17  has_wiki           854 non-null    bool   \n",
      " 18  has_pages          854 non-null    bool   \n",
      " 19  has_discussions    854 non-null    bool   \n",
      " 20  forks_count        854 non-null    int64  \n",
      " 21  open_issues_count  854 non-null    int64  \n",
      " 22  license            794 non-null    object \n",
      " 23  allow_forking      854 non-null    bool   \n",
      " 24  topics             854 non-null    object \n",
      " 25  visibility         854 non-null    object \n",
      " 26  forks              854 non-null    int64  \n",
      " 27  open_issues        854 non-null    int64  \n",
      " 28  watchers           854 non-null    int64  \n",
      " 29  default_branch     854 non-null    object \n",
      " 30  score              854 non-null    float64\n",
      "dtypes: bool(7), float64(1), int64(9), object(14)\n",
      "memory usage: 172.6+ KB\n"
     ]
    }
   ],
   "source": [
    "df_repos.info()"
   ]
  },
  {
   "cell_type": "markdown",
   "metadata": {},
   "source": [
    "### filter df_repos for language"
   ]
  },
  {
   "cell_type": "code",
   "execution_count": 166,
   "metadata": {},
   "outputs": [],
   "source": [
    "def detect_language(text):\n",
    "    try:\n",
    "        return detect(text)\n",
    "    except:\n",
    "        return \"error\""
   ]
  },
  {
   "cell_type": "code",
   "execution_count": 167,
   "metadata": {},
   "outputs": [],
   "source": [
    "df_repos['language_spoken'] = df_repos['description'].apply(detect_language)"
   ]
  },
  {
   "cell_type": "code",
   "execution_count": 168,
   "metadata": {},
   "outputs": [
    {
     "data": {
      "text/plain": [
       "748"
      ]
     },
     "execution_count": 168,
     "metadata": {},
     "output_type": "execute_result"
    }
   ],
   "source": [
    "len(df_repos[df_repos['language_spoken'] == 'en'])"
   ]
  },
  {
   "cell_type": "markdown",
   "metadata": {},
   "source": [
    "### remove duplicate rows"
   ]
  },
  {
   "cell_type": "code",
   "execution_count": 169,
   "metadata": {},
   "outputs": [],
   "source": [
    "# the behavior of the api is sometimes confusing\n",
    "# i got some duplicates in the dataframe --> remove them\n",
    "df_cleaned = df_repos.drop_duplicates(subset=['full_name'])\n"
   ]
  },
  {
   "cell_type": "markdown",
   "metadata": {},
   "source": [
    "### save df_repos as .json for further analysis / work"
   ]
  },
  {
   "cell_type": "code",
   "execution_count": 170,
   "metadata": {},
   "outputs": [],
   "source": [
    "tmp_json = df_cleaned.to_json(orient='records', lines=False, force_ascii=False)"
   ]
  },
  {
   "cell_type": "code",
   "execution_count": 171,
   "metadata": {},
   "outputs": [],
   "source": [
    "with open('../data/df_repos_metadata.json', 'w') as file:\n",
    "    file.write(tmp_json)"
   ]
  }
 ],
 "metadata": {
  "kernelspec": {
   "display_name": ".venv",
   "language": "python",
   "name": "python3"
  },
  "language_info": {
   "codemirror_mode": {
    "name": "ipython",
    "version": 3
   },
   "file_extension": ".py",
   "mimetype": "text/x-python",
   "name": "python",
   "nbconvert_exporter": "python",
   "pygments_lexer": "ipython3",
   "version": "3.12.3"
  }
 },
 "nbformat": 4,
 "nbformat_minor": 2
}
