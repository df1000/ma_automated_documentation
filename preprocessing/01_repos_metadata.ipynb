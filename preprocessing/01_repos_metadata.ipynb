{
 "cells": [
  {
   "cell_type": "markdown",
   "metadata": {},
   "source": [
    "**Author:** Lisa Wallner  \n",
    "**Description:** In this notebook a file with the relevant metadata of multiple GitHub repositories will be created. Keep in mind, the files are already created! If you want to test the notebook create new filenames, for example *../data/df_repos_metadata_star_up_to_max_TEST.json*  \n",
    "**Depencencies:**  \n",
    "+ data/raw_data_zip/raw_data_no_range.zip  \n",
    "+ data/raw_data_zip/raw_data_0_22196.zip  \n",
    "\n",
    "*Hint: If lines are created with support of a Large Language Model or the code is taken from another source, you find following hint at the end of the line: (generated with Microsoft Copilot) or (source: link_to_source)*"
   ]
  },
  {
   "cell_type": "code",
   "execution_count": 22,
   "metadata": {},
   "outputs": [],
   "source": [
    "import pandas as pd\n",
    "import json\n",
    "from pathlib import Path\n",
    "from langdetect import detect\n",
    "import zipfile\n",
    "import os"
   ]
  },
  {
   "cell_type": "code",
   "execution_count": 23,
   "metadata": {},
   "outputs": [],
   "source": [
    "def load_json(path):\n",
    "    with open(path, 'r') as file:\n",
    "        loaded_data = json.load(file)\n",
    "    \n",
    "    return loaded_data"
   ]
  },
  {
   "cell_type": "code",
   "execution_count": 24,
   "metadata": {},
   "outputs": [],
   "source": [
    "def rezip_files(path, range_type):\n",
    "    \n",
    "    original_zip = path # path to the original ZIP file\n",
    "    if range_type == 'range':\n",
    "        extracted_dir = '../data/raw_data/range' # directory where the extract contents are saved\n",
    "    else:\n",
    "        extracted_dir = '../data/raw_data/no_range'\n",
    "\n",
    "    with zipfile.ZipFile(original_zip, 'r') as zip_ref: \n",
    "        zip_ref.extractall(extracted_dir) # extract all files"
   ]
  },
  {
   "cell_type": "code",
   "execution_count": 25,
   "metadata": {},
   "outputs": [],
   "source": [
    "# columns which are requiered for preprocessing and further steps\n",
    "columns = [\n",
    "    'id', \n",
    "    'name', \n",
    "    'full_name', \n",
    "    'html_url', \n",
    "    'description', \n",
    "    'url', \n",
    "    'labels_url', \n",
    "    'created_at', \n",
    "    'updated_at', \n",
    "    'pushed_at', \n",
    "    'size', \n",
    "    'stargazers_count', \n",
    "    'watchers_count', \n",
    "    'language', \n",
    "    'has_issues', \n",
    "    'has_projects', \n",
    "    'has_downloads', \n",
    "    'has_wiki', \n",
    "    'has_pages', \n",
    "    'has_discussions', \n",
    "    'forks_count', \n",
    "    'open_issues_count', \n",
    "    'license', \n",
    "    'allow_forking', \n",
    "    'topics', \n",
    "    'visibility', \n",
    "    'forks', \n",
    "    'open_issues', \n",
    "    'watchers', \n",
    "    'default_branch', \n",
    "    'score'\n",
    "]"
   ]
  },
  {
   "cell_type": "markdown",
   "metadata": {},
   "source": [
    "### Create two paths to save .json"
   ]
  },
  {
   "cell_type": "code",
   "execution_count": null,
   "metadata": {},
   "outputs": [],
   "source": [
    "# file with repos up to 21947 stars\n",
    "file_no_range = '../data/df_repos_metadata_star_up_to_max.json'\n",
    "# file with repos 0 to 21947 stars\n",
    "file_range = '../data/df_repos_metadata_star_0_to_21947.json'"
   ]
  },
  {
   "cell_type": "markdown",
   "metadata": {},
   "source": [
    "### Get column names for metadata file"
   ]
  },
  {
   "cell_type": "code",
   "execution_count": 27,
   "metadata": {},
   "outputs": [],
   "source": [
    "help_columns = load_json(path='../data/helper/help_columns.json')\n",
    "keys = list(help_columns[0].keys()) # get keys of loaded_data as list"
   ]
  },
  {
   "cell_type": "code",
   "execution_count": 28,
   "metadata": {},
   "outputs": [
    {
     "data": {
      "text/plain": [
       "82"
      ]
     },
     "execution_count": 28,
     "metadata": {},
     "output_type": "execute_result"
    }
   ],
   "source": [
    "len(keys)"
   ]
  },
  {
   "cell_type": "markdown",
   "metadata": {},
   "source": [
    "### Get paths of raw data"
   ]
  },
  {
   "cell_type": "code",
   "execution_count": 29,
   "metadata": {},
   "outputs": [],
   "source": [
    "# loaded zip files of metadata in raw_data\n",
    "path_no_range = '../data/raw_data_zip/raw_data_no_range.zip'\n",
    "path_range = '../data/raw_data_zip/raw_data_range_0_22196.zip'\n",
    "\n",
    "# was executed before\n",
    "# rezip_files(path=path_no_range, range_type='no_range')\n",
    "# rezip_files(path=path_range, range_type='range')"
   ]
  },
  {
   "cell_type": "code",
   "execution_count": 30,
   "metadata": {},
   "outputs": [],
   "source": [
    "path_range = Path('../data/raw_data/range') \n",
    "all_files_range = [file.name for file in path_range.iterdir() if file.is_file()]\n",
    "\n",
    "path_no_range = Path('../data/raw_data/no_range') \n",
    "all_files_no_range = [file.name for file in path_no_range.iterdir() if file.is_file()]"
   ]
  },
  {
   "cell_type": "markdown",
   "metadata": {},
   "source": [
    "### Open all jsons and load repo metadata into dataframe"
   ]
  },
  {
   "cell_type": "code",
   "execution_count": 31,
   "metadata": {},
   "outputs": [],
   "source": [
    "# create empty df with keys of loaded_data as columns\n",
    "df_raw_range = pd.DataFrame(columns=keys)\n",
    "df_raw_no_range = pd.DataFrame(columns=keys)"
   ]
  },
  {
   "cell_type": "code",
   "execution_count": 32,
   "metadata": {},
   "outputs": [
    {
     "name": "stderr",
     "output_type": "stream",
     "text": [
      "/tmp/ipykernel_15575/967994083.py:8: FutureWarning: The behavior of DataFrame concatenation with empty or all-NA entries is deprecated. In a future version, this will no longer exclude empty or all-NA columns when determining the result dtypes. To retain the old behavior, exclude the relevant entries before the concat operation.\n",
      "  df_raw_range = pd.concat([df_raw_range, df_tmp], ignore_index=True)\n"
     ]
    }
   ],
   "source": [
    "for file in all_files_range:\n",
    "    data = load_json(path=f'../data/raw_data/range/{file}')\n",
    "    #  iterate through subdictionary in data and concatenate the content of the subdictionary to df_repos\n",
    "    for repo in data:\n",
    "        # create tmp df_repo for each repo\n",
    "        df_tmp = pd.DataFrame(data=[repo], columns=keys)\n",
    "        # concatenate df_repos with df_repo\n",
    "        df_raw_range = pd.concat([df_raw_range, df_tmp], ignore_index=True)"
   ]
  },
  {
   "cell_type": "code",
   "execution_count": 33,
   "metadata": {},
   "outputs": [
    {
     "name": "stderr",
     "output_type": "stream",
     "text": [
      "/tmp/ipykernel_15575/2625439888.py:9: FutureWarning: The behavior of DataFrame concatenation with empty or all-NA entries is deprecated. In a future version, this will no longer exclude empty or all-NA columns when determining the result dtypes. To retain the old behavior, exclude the relevant entries before the concat operation.\n",
      "  df_raw_no_range = pd.concat([df_raw_no_range, df_tmp], ignore_index=True)\n"
     ]
    }
   ],
   "source": [
    "for file in all_files_no_range:\n",
    "    data = load_json(path=f'../data/raw_data/no_range/{file}')\n",
    "    data = data['items']\n",
    "    #  iterate through subdictionary in data and concatenate the content of the subdictionary to df_repos\n",
    "    for repo in data:\n",
    "        # create tmp df_repo for each repo\n",
    "        df_tmp = pd.DataFrame(data=[repo], columns=keys)\n",
    "        # concatenate df_repos with df_repo\n",
    "        df_raw_no_range = pd.concat([df_raw_no_range, df_tmp], ignore_index=True)"
   ]
  },
  {
   "cell_type": "markdown",
   "metadata": {},
   "source": [
    "### Clean remove unnecessary columns from dataframes"
   ]
  },
  {
   "cell_type": "code",
   "execution_count": 34,
   "metadata": {},
   "outputs": [],
   "source": [
    "for k in keys:\n",
    "    if k in columns:\n",
    "        continue\n",
    "    else:\n",
    "        df_raw_range = df_raw_range.drop([k], axis=1)"
   ]
  },
  {
   "cell_type": "code",
   "execution_count": 35,
   "metadata": {},
   "outputs": [
    {
     "name": "stdout",
     "output_type": "stream",
     "text": [
      "<class 'pandas.core.frame.DataFrame'>\n",
      "RangeIndex: 591 entries, 0 to 590\n",
      "Data columns (total 31 columns):\n",
      " #   Column             Non-Null Count  Dtype  \n",
      "---  ------             --------------  -----  \n",
      " 0   id                 591 non-null    object \n",
      " 1   name               591 non-null    object \n",
      " 2   full_name          591 non-null    object \n",
      " 3   html_url           591 non-null    object \n",
      " 4   description        579 non-null    object \n",
      " 5   url                591 non-null    object \n",
      " 6   labels_url         591 non-null    object \n",
      " 7   created_at         591 non-null    object \n",
      " 8   updated_at         591 non-null    object \n",
      " 9   pushed_at          591 non-null    object \n",
      " 10  size               591 non-null    object \n",
      " 11  stargazers_count   591 non-null    object \n",
      " 12  watchers_count     591 non-null    object \n",
      " 13  language           591 non-null    object \n",
      " 14  has_issues         591 non-null    object \n",
      " 15  has_projects       591 non-null    object \n",
      " 16  has_downloads      591 non-null    object \n",
      " 17  has_wiki           591 non-null    object \n",
      " 18  has_pages          591 non-null    object \n",
      " 19  has_discussions    591 non-null    object \n",
      " 20  forks_count        591 non-null    object \n",
      " 21  open_issues_count  591 non-null    object \n",
      " 22  license            547 non-null    object \n",
      " 23  allow_forking      591 non-null    object \n",
      " 24  topics             591 non-null    object \n",
      " 25  visibility         591 non-null    object \n",
      " 26  forks              591 non-null    object \n",
      " 27  open_issues        591 non-null    object \n",
      " 28  watchers           591 non-null    object \n",
      " 29  default_branch     591 non-null    object \n",
      " 30  score              591 non-null    float64\n",
      "dtypes: float64(1), object(30)\n",
      "memory usage: 143.3+ KB\n"
     ]
    }
   ],
   "source": [
    "df_raw_range.info()"
   ]
  },
  {
   "cell_type": "code",
   "execution_count": 36,
   "metadata": {},
   "outputs": [],
   "source": [
    "for k in keys:\n",
    "    if k in columns:\n",
    "        continue\n",
    "    else:\n",
    "        df_raw_no_range = df_raw_no_range.drop([k], axis=1)"
   ]
  },
  {
   "cell_type": "code",
   "execution_count": 37,
   "metadata": {},
   "outputs": [
    {
     "data": {
      "text/plain": [
       "count     1050\n",
       "unique     991\n",
       "top       7267\n",
       "freq         3\n",
       "Name: stargazers_count, dtype: int64"
      ]
     },
     "execution_count": 37,
     "metadata": {},
     "output_type": "execute_result"
    }
   ],
   "source": [
    "df_raw_no_range['stargazers_count'].describe()"
   ]
  },
  {
   "cell_type": "markdown",
   "metadata": {},
   "source": [
    "### Save each dataframe in single JSON file"
   ]
  },
  {
   "cell_type": "code",
   "execution_count": null,
   "metadata": {},
   "outputs": [],
   "source": [
    "tmp_json = df_raw_range.to_json(orient='records', lines=False, force_ascii=False)\n",
    "\n",
    "# '../data/df_repos_metadata_star_0_to_22196.json'\n",
    "with open(file_range, 'w') as file:\n",
    "   file.write(tmp_json)"
   ]
  },
  {
   "cell_type": "code",
   "execution_count": null,
   "metadata": {},
   "outputs": [],
   "source": [
    "tmp_json = df_raw_no_range.to_json(orient='records', lines=False, force_ascii=False)\n",
    "\n",
    "# '../data/df_repos_metadata_star_up_to_max.json'\n",
    "with open(file_no_range, 'w') as file:\n",
    "   file.write(tmp_json)"
   ]
  },
  {
   "cell_type": "markdown",
   "metadata": {},
   "source": [
    "### Load each JSON and prepare for concatinatig"
   ]
  },
  {
   "cell_type": "code",
   "execution_count": null,
   "metadata": {},
   "outputs": [],
   "source": [
    "with open('../data/df_repos_metadata_star_up_to_max.json', 'r') as file: # JSON file is loaded and it contents saved within a variable\n",
    "    loaded_data = json.load(file)\n",
    "\n",
    "df1 = pd.DataFrame(loaded_data)"
   ]
  },
  {
   "cell_type": "code",
   "execution_count": 41,
   "metadata": {},
   "outputs": [
    {
     "name": "stdout",
     "output_type": "stream",
     "text": [
      "<class 'pandas.core.frame.DataFrame'>\n",
      "RangeIndex: 1050 entries, 0 to 1049\n",
      "Data columns (total 31 columns):\n",
      " #   Column             Non-Null Count  Dtype  \n",
      "---  ------             --------------  -----  \n",
      " 0   id                 1050 non-null   int64  \n",
      " 1   name               1050 non-null   object \n",
      " 2   full_name          1050 non-null   object \n",
      " 3   html_url           1050 non-null   object \n",
      " 4   description        1038 non-null   object \n",
      " 5   url                1050 non-null   object \n",
      " 6   labels_url         1050 non-null   object \n",
      " 7   created_at         1050 non-null   object \n",
      " 8   updated_at         1050 non-null   object \n",
      " 9   pushed_at          1050 non-null   object \n",
      " 10  size               1050 non-null   int64  \n",
      " 11  stargazers_count   1050 non-null   int64  \n",
      " 12  watchers_count     1050 non-null   int64  \n",
      " 13  language           1050 non-null   object \n",
      " 14  has_issues         1050 non-null   bool   \n",
      " 15  has_projects       1050 non-null   bool   \n",
      " 16  has_downloads      1050 non-null   bool   \n",
      " 17  has_wiki           1050 non-null   bool   \n",
      " 18  has_pages          1050 non-null   bool   \n",
      " 19  has_discussions    1050 non-null   bool   \n",
      " 20  forks_count        1050 non-null   int64  \n",
      " 21  open_issues_count  1050 non-null   int64  \n",
      " 22  license            993 non-null    object \n",
      " 23  allow_forking      1050 non-null   bool   \n",
      " 24  topics             1050 non-null   object \n",
      " 25  visibility         1050 non-null   object \n",
      " 26  forks              1050 non-null   int64  \n",
      " 27  open_issues        1050 non-null   int64  \n",
      " 28  watchers           1050 non-null   int64  \n",
      " 29  default_branch     1050 non-null   object \n",
      " 30  score              1050 non-null   float64\n",
      "dtypes: bool(7), float64(1), int64(9), object(14)\n",
      "memory usage: 204.2+ KB\n"
     ]
    }
   ],
   "source": [
    "df1.info()"
   ]
  },
  {
   "cell_type": "code",
   "execution_count": 42,
   "metadata": {},
   "outputs": [
    {
     "data": {
      "text/html": [
       "<div>\n",
       "<style scoped>\n",
       "    .dataframe tbody tr th:only-of-type {\n",
       "        vertical-align: middle;\n",
       "    }\n",
       "\n",
       "    .dataframe tbody tr th {\n",
       "        vertical-align: top;\n",
       "    }\n",
       "\n",
       "    .dataframe thead th {\n",
       "        text-align: right;\n",
       "    }\n",
       "</style>\n",
       "<table border=\"1\" class=\"dataframe\">\n",
       "  <thead>\n",
       "    <tr style=\"text-align: right;\">\n",
       "      <th></th>\n",
       "      <th>id</th>\n",
       "      <th>size</th>\n",
       "      <th>stargazers_count</th>\n",
       "      <th>watchers_count</th>\n",
       "      <th>forks_count</th>\n",
       "      <th>open_issues_count</th>\n",
       "      <th>forks</th>\n",
       "      <th>open_issues</th>\n",
       "      <th>watchers</th>\n",
       "      <th>score</th>\n",
       "    </tr>\n",
       "  </thead>\n",
       "  <tbody>\n",
       "    <tr>\n",
       "      <th>count</th>\n",
       "      <td>1.050000e+03</td>\n",
       "      <td>1.050000e+03</td>\n",
       "      <td>1050.000000</td>\n",
       "      <td>1050.000000</td>\n",
       "      <td>1050.000000</td>\n",
       "      <td>1050.000000</td>\n",
       "      <td>1050.000000</td>\n",
       "      <td>1050.000000</td>\n",
       "      <td>1050.000000</td>\n",
       "      <td>1050.0</td>\n",
       "    </tr>\n",
       "    <tr>\n",
       "      <th>mean</th>\n",
       "      <td>2.842129e+08</td>\n",
       "      <td>1.316390e+05</td>\n",
       "      <td>21701.457143</td>\n",
       "      <td>21701.457143</td>\n",
       "      <td>3555.066667</td>\n",
       "      <td>375.716190</td>\n",
       "      <td>3555.066667</td>\n",
       "      <td>375.716190</td>\n",
       "      <td>21701.457143</td>\n",
       "      <td>1.0</td>\n",
       "    </tr>\n",
       "    <tr>\n",
       "      <th>std</th>\n",
       "      <td>2.800213e+08</td>\n",
       "      <td>4.986652e+05</td>\n",
       "      <td>29908.569921</td>\n",
       "      <td>29908.569921</td>\n",
       "      <td>5971.414570</td>\n",
       "      <td>1003.159613</td>\n",
       "      <td>5971.414570</td>\n",
       "      <td>1003.159613</td>\n",
       "      <td>29908.569921</td>\n",
       "      <td>0.0</td>\n",
       "    </tr>\n",
       "    <tr>\n",
       "      <th>min</th>\n",
       "      <td>2.655400e+04</td>\n",
       "      <td>7.000000e+00</td>\n",
       "      <td>7193.000000</td>\n",
       "      <td>7193.000000</td>\n",
       "      <td>108.000000</td>\n",
       "      <td>0.000000</td>\n",
       "      <td>108.000000</td>\n",
       "      <td>0.000000</td>\n",
       "      <td>7193.000000</td>\n",
       "      <td>1.0</td>\n",
       "    </tr>\n",
       "    <tr>\n",
       "      <th>25%</th>\n",
       "      <td>4.880424e+07</td>\n",
       "      <td>5.378500e+03</td>\n",
       "      <td>8829.500000</td>\n",
       "      <td>8829.500000</td>\n",
       "      <td>989.000000</td>\n",
       "      <td>56.000000</td>\n",
       "      <td>989.000000</td>\n",
       "      <td>56.000000</td>\n",
       "      <td>8829.500000</td>\n",
       "      <td>1.0</td>\n",
       "    </tr>\n",
       "    <tr>\n",
       "      <th>50%</th>\n",
       "      <td>1.615837e+08</td>\n",
       "      <td>2.407950e+04</td>\n",
       "      <td>12306.500000</td>\n",
       "      <td>12306.500000</td>\n",
       "      <td>1814.000000</td>\n",
       "      <td>139.500000</td>\n",
       "      <td>1814.000000</td>\n",
       "      <td>139.500000</td>\n",
       "      <td>12306.500000</td>\n",
       "      <td>1.0</td>\n",
       "    </tr>\n",
       "    <tr>\n",
       "      <th>75%</th>\n",
       "      <td>5.702785e+08</td>\n",
       "      <td>8.391375e+04</td>\n",
       "      <td>21947.250000</td>\n",
       "      <td>21947.250000</td>\n",
       "      <td>3423.000000</td>\n",
       "      <td>331.000000</td>\n",
       "      <td>3423.000000</td>\n",
       "      <td>331.000000</td>\n",
       "      <td>21947.250000</td>\n",
       "      <td>1.0</td>\n",
       "    </tr>\n",
       "    <tr>\n",
       "      <th>max</th>\n",
       "      <td>9.548733e+08</td>\n",
       "      <td>1.087097e+07</td>\n",
       "      <td>335520.000000</td>\n",
       "      <td>335520.000000</td>\n",
       "      <td>49242.000000</td>\n",
       "      <td>16073.000000</td>\n",
       "      <td>49242.000000</td>\n",
       "      <td>16073.000000</td>\n",
       "      <td>335520.000000</td>\n",
       "      <td>1.0</td>\n",
       "    </tr>\n",
       "  </tbody>\n",
       "</table>\n",
       "</div>"
      ],
      "text/plain": [
       "                 id          size  stargazers_count  watchers_count  \\\n",
       "count  1.050000e+03  1.050000e+03       1050.000000     1050.000000   \n",
       "mean   2.842129e+08  1.316390e+05      21701.457143    21701.457143   \n",
       "std    2.800213e+08  4.986652e+05      29908.569921    29908.569921   \n",
       "min    2.655400e+04  7.000000e+00       7193.000000     7193.000000   \n",
       "25%    4.880424e+07  5.378500e+03       8829.500000     8829.500000   \n",
       "50%    1.615837e+08  2.407950e+04      12306.500000    12306.500000   \n",
       "75%    5.702785e+08  8.391375e+04      21947.250000    21947.250000   \n",
       "max    9.548733e+08  1.087097e+07     335520.000000   335520.000000   \n",
       "\n",
       "        forks_count  open_issues_count         forks   open_issues  \\\n",
       "count   1050.000000        1050.000000   1050.000000   1050.000000   \n",
       "mean    3555.066667         375.716190   3555.066667    375.716190   \n",
       "std     5971.414570        1003.159613   5971.414570   1003.159613   \n",
       "min      108.000000           0.000000    108.000000      0.000000   \n",
       "25%      989.000000          56.000000    989.000000     56.000000   \n",
       "50%     1814.000000         139.500000   1814.000000    139.500000   \n",
       "75%     3423.000000         331.000000   3423.000000    331.000000   \n",
       "max    49242.000000       16073.000000  49242.000000  16073.000000   \n",
       "\n",
       "            watchers   score  \n",
       "count    1050.000000  1050.0  \n",
       "mean    21701.457143     1.0  \n",
       "std     29908.569921     0.0  \n",
       "min      7193.000000     1.0  \n",
       "25%      8829.500000     1.0  \n",
       "50%     12306.500000     1.0  \n",
       "75%     21947.250000     1.0  \n",
       "max    335520.000000     1.0  "
      ]
     },
     "execution_count": 42,
     "metadata": {},
     "output_type": "execute_result"
    }
   ],
   "source": [
    "df1.describe()"
   ]
  },
  {
   "cell_type": "code",
   "execution_count": null,
   "metadata": {},
   "outputs": [],
   "source": [
    "quantile_75 = df1['stargazers_count'].describe().loc['75%']\n",
    "quantile_75"
   ]
  },
  {
   "cell_type": "code",
   "execution_count": 47,
   "metadata": {},
   "outputs": [
    {
     "data": {
      "text/plain": [
       "263"
      ]
     },
     "execution_count": 47,
     "metadata": {},
     "output_type": "execute_result"
    }
   ],
   "source": [
    "len(df1[df1['stargazers_count'] > quantile_75])"
   ]
  },
  {
   "cell_type": "code",
   "execution_count": null,
   "metadata": {},
   "outputs": [],
   "source": [
    "df1 = df1[df1['stargazers_count'] > quantile_75]"
   ]
  },
  {
   "cell_type": "code",
   "execution_count": 49,
   "metadata": {},
   "outputs": [
    {
     "data": {
      "text/plain": [
       "263"
      ]
     },
     "execution_count": 49,
     "metadata": {},
     "output_type": "execute_result"
    }
   ],
   "source": [
    "len(df1)"
   ]
  },
  {
   "cell_type": "code",
   "execution_count": null,
   "metadata": {},
   "outputs": [],
   "source": [
    "with open('../data/df_repos_metadata_star_0_to_22196.json', 'r') as file: # JSON file is loaded and it contents saved within a variable\n",
    "    loaded_data = json.load(file)\n",
    "\n",
    "df2 = pd.DataFrame(loaded_data)"
   ]
  },
  {
   "cell_type": "code",
   "execution_count": 44,
   "metadata": {},
   "outputs": [
    {
     "name": "stdout",
     "output_type": "stream",
     "text": [
      "<class 'pandas.core.frame.DataFrame'>\n",
      "RangeIndex: 591 entries, 0 to 590\n",
      "Data columns (total 31 columns):\n",
      " #   Column             Non-Null Count  Dtype  \n",
      "---  ------             --------------  -----  \n",
      " 0   id                 591 non-null    int64  \n",
      " 1   name               591 non-null    object \n",
      " 2   full_name          591 non-null    object \n",
      " 3   html_url           591 non-null    object \n",
      " 4   description        579 non-null    object \n",
      " 5   url                591 non-null    object \n",
      " 6   labels_url         591 non-null    object \n",
      " 7   created_at         591 non-null    object \n",
      " 8   updated_at         591 non-null    object \n",
      " 9   pushed_at          591 non-null    object \n",
      " 10  size               591 non-null    int64  \n",
      " 11  stargazers_count   591 non-null    int64  \n",
      " 12  watchers_count     591 non-null    int64  \n",
      " 13  language           591 non-null    object \n",
      " 14  has_issues         591 non-null    bool   \n",
      " 15  has_projects       591 non-null    bool   \n",
      " 16  has_downloads      591 non-null    bool   \n",
      " 17  has_wiki           591 non-null    bool   \n",
      " 18  has_pages          591 non-null    bool   \n",
      " 19  has_discussions    591 non-null    bool   \n",
      " 20  forks_count        591 non-null    int64  \n",
      " 21  open_issues_count  591 non-null    int64  \n",
      " 22  license            547 non-null    object \n",
      " 23  allow_forking      591 non-null    bool   \n",
      " 24  topics             591 non-null    object \n",
      " 25  visibility         591 non-null    object \n",
      " 26  forks              591 non-null    int64  \n",
      " 27  open_issues        591 non-null    int64  \n",
      " 28  watchers           591 non-null    int64  \n",
      " 29  default_branch     591 non-null    object \n",
      " 30  score              591 non-null    float64\n",
      "dtypes: bool(7), float64(1), int64(9), object(14)\n",
      "memory usage: 115.0+ KB\n"
     ]
    }
   ],
   "source": [
    "df2.info()"
   ]
  },
  {
   "cell_type": "code",
   "execution_count": 45,
   "metadata": {},
   "outputs": [
    {
     "data": {
      "text/html": [
       "<div>\n",
       "<style scoped>\n",
       "    .dataframe tbody tr th:only-of-type {\n",
       "        vertical-align: middle;\n",
       "    }\n",
       "\n",
       "    .dataframe tbody tr th {\n",
       "        vertical-align: top;\n",
       "    }\n",
       "\n",
       "    .dataframe thead th {\n",
       "        text-align: right;\n",
       "    }\n",
       "</style>\n",
       "<table border=\"1\" class=\"dataframe\">\n",
       "  <thead>\n",
       "    <tr style=\"text-align: right;\">\n",
       "      <th></th>\n",
       "      <th>id</th>\n",
       "      <th>size</th>\n",
       "      <th>stargazers_count</th>\n",
       "      <th>watchers_count</th>\n",
       "      <th>forks_count</th>\n",
       "      <th>open_issues_count</th>\n",
       "      <th>forks</th>\n",
       "      <th>open_issues</th>\n",
       "      <th>watchers</th>\n",
       "      <th>score</th>\n",
       "    </tr>\n",
       "  </thead>\n",
       "  <tbody>\n",
       "    <tr>\n",
       "      <th>count</th>\n",
       "      <td>5.910000e+02</td>\n",
       "      <td>5.910000e+02</td>\n",
       "      <td>591.000000</td>\n",
       "      <td>591.000000</td>\n",
       "      <td>591.000000</td>\n",
       "      <td>591.000000</td>\n",
       "      <td>591.000000</td>\n",
       "      <td>591.000000</td>\n",
       "      <td>591.000000</td>\n",
       "      <td>591.0</td>\n",
       "    </tr>\n",
       "    <tr>\n",
       "      <th>mean</th>\n",
       "      <td>2.808887e+08</td>\n",
       "      <td>1.005392e+05</td>\n",
       "      <td>8885.094755</td>\n",
       "      <td>8885.094755</td>\n",
       "      <td>1319.659898</td>\n",
       "      <td>198.570220</td>\n",
       "      <td>1319.659898</td>\n",
       "      <td>198.570220</td>\n",
       "      <td>8885.094755</td>\n",
       "      <td>1.0</td>\n",
       "    </tr>\n",
       "    <tr>\n",
       "      <th>std</th>\n",
       "      <td>2.771278e+08</td>\n",
       "      <td>3.897973e+05</td>\n",
       "      <td>5747.753005</td>\n",
       "      <td>5747.753005</td>\n",
       "      <td>1223.648694</td>\n",
       "      <td>336.121202</td>\n",
       "      <td>1223.648694</td>\n",
       "      <td>336.121202</td>\n",
       "      <td>5747.753005</td>\n",
       "      <td>0.0</td>\n",
       "    </tr>\n",
       "    <tr>\n",
       "      <th>min</th>\n",
       "      <td>2.655400e+04</td>\n",
       "      <td>7.000000e+00</td>\n",
       "      <td>0.000000</td>\n",
       "      <td>0.000000</td>\n",
       "      <td>1.000000</td>\n",
       "      <td>0.000000</td>\n",
       "      <td>1.000000</td>\n",
       "      <td>0.000000</td>\n",
       "      <td>0.000000</td>\n",
       "      <td>1.0</td>\n",
       "    </tr>\n",
       "    <tr>\n",
       "      <th>25%</th>\n",
       "      <td>4.512183e+07</td>\n",
       "      <td>2.661500e+03</td>\n",
       "      <td>4106.000000</td>\n",
       "      <td>4106.000000</td>\n",
       "      <td>446.500000</td>\n",
       "      <td>28.000000</td>\n",
       "      <td>446.500000</td>\n",
       "      <td>28.000000</td>\n",
       "      <td>4106.000000</td>\n",
       "      <td>1.0</td>\n",
       "    </tr>\n",
       "    <tr>\n",
       "      <th>50%</th>\n",
       "      <td>1.626909e+08</td>\n",
       "      <td>1.271800e+04</td>\n",
       "      <td>8233.000000</td>\n",
       "      <td>8233.000000</td>\n",
       "      <td>960.000000</td>\n",
       "      <td>87.000000</td>\n",
       "      <td>960.000000</td>\n",
       "      <td>87.000000</td>\n",
       "      <td>8233.000000</td>\n",
       "      <td>1.0</td>\n",
       "    </tr>\n",
       "    <tr>\n",
       "      <th>75%</th>\n",
       "      <td>5.619080e+08</td>\n",
       "      <td>5.053400e+04</td>\n",
       "      <td>13041.500000</td>\n",
       "      <td>13041.500000</td>\n",
       "      <td>1839.000000</td>\n",
       "      <td>220.000000</td>\n",
       "      <td>1839.000000</td>\n",
       "      <td>220.000000</td>\n",
       "      <td>13041.500000</td>\n",
       "      <td>1.0</td>\n",
       "    </tr>\n",
       "    <tr>\n",
       "      <th>max</th>\n",
       "      <td>9.548733e+08</td>\n",
       "      <td>6.384691e+06</td>\n",
       "      <td>22144.000000</td>\n",
       "      <td>22144.000000</td>\n",
       "      <td>7832.000000</td>\n",
       "      <td>2921.000000</td>\n",
       "      <td>7832.000000</td>\n",
       "      <td>2921.000000</td>\n",
       "      <td>22144.000000</td>\n",
       "      <td>1.0</td>\n",
       "    </tr>\n",
       "  </tbody>\n",
       "</table>\n",
       "</div>"
      ],
      "text/plain": [
       "                 id          size  stargazers_count  watchers_count  \\\n",
       "count  5.910000e+02  5.910000e+02        591.000000      591.000000   \n",
       "mean   2.808887e+08  1.005392e+05       8885.094755     8885.094755   \n",
       "std    2.771278e+08  3.897973e+05       5747.753005     5747.753005   \n",
       "min    2.655400e+04  7.000000e+00          0.000000        0.000000   \n",
       "25%    4.512183e+07  2.661500e+03       4106.000000     4106.000000   \n",
       "50%    1.626909e+08  1.271800e+04       8233.000000     8233.000000   \n",
       "75%    5.619080e+08  5.053400e+04      13041.500000    13041.500000   \n",
       "max    9.548733e+08  6.384691e+06      22144.000000    22144.000000   \n",
       "\n",
       "       forks_count  open_issues_count        forks  open_issues      watchers  \\\n",
       "count   591.000000         591.000000   591.000000   591.000000    591.000000   \n",
       "mean   1319.659898         198.570220  1319.659898   198.570220   8885.094755   \n",
       "std    1223.648694         336.121202  1223.648694   336.121202   5747.753005   \n",
       "min       1.000000           0.000000     1.000000     0.000000      0.000000   \n",
       "25%     446.500000          28.000000   446.500000    28.000000   4106.000000   \n",
       "50%     960.000000          87.000000   960.000000    87.000000   8233.000000   \n",
       "75%    1839.000000         220.000000  1839.000000   220.000000  13041.500000   \n",
       "max    7832.000000        2921.000000  7832.000000  2921.000000  22144.000000   \n",
       "\n",
       "       score  \n",
       "count  591.0  \n",
       "mean     1.0  \n",
       "std      0.0  \n",
       "min      1.0  \n",
       "25%      1.0  \n",
       "50%      1.0  \n",
       "75%      1.0  \n",
       "max      1.0  "
      ]
     },
     "execution_count": 45,
     "metadata": {},
     "output_type": "execute_result"
    }
   ],
   "source": [
    "df2.describe()"
   ]
  },
  {
   "cell_type": "markdown",
   "metadata": {},
   "source": [
    "### Combine the two dataframes into one for further analysis"
   ]
  },
  {
   "cell_type": "code",
   "execution_count": 50,
   "metadata": {},
   "outputs": [],
   "source": [
    "df_repos = pd.DataFrame()\n",
    "df_repos = pd.concat([df2, df1])"
   ]
  },
  {
   "cell_type": "code",
   "execution_count": 51,
   "metadata": {},
   "outputs": [
    {
     "name": "stdout",
     "output_type": "stream",
     "text": [
      "<class 'pandas.core.frame.DataFrame'>\n",
      "Index: 854 entries, 0 to 1019\n",
      "Data columns (total 31 columns):\n",
      " #   Column             Non-Null Count  Dtype  \n",
      "---  ------             --------------  -----  \n",
      " 0   id                 854 non-null    int64  \n",
      " 1   name               854 non-null    object \n",
      " 2   full_name          854 non-null    object \n",
      " 3   html_url           854 non-null    object \n",
      " 4   description        838 non-null    object \n",
      " 5   url                854 non-null    object \n",
      " 6   labels_url         854 non-null    object \n",
      " 7   created_at         854 non-null    object \n",
      " 8   updated_at         854 non-null    object \n",
      " 9   pushed_at          854 non-null    object \n",
      " 10  size               854 non-null    int64  \n",
      " 11  stargazers_count   854 non-null    int64  \n",
      " 12  watchers_count     854 non-null    int64  \n",
      " 13  language           854 non-null    object \n",
      " 14  has_issues         854 non-null    bool   \n",
      " 15  has_projects       854 non-null    bool   \n",
      " 16  has_downloads      854 non-null    bool   \n",
      " 17  has_wiki           854 non-null    bool   \n",
      " 18  has_pages          854 non-null    bool   \n",
      " 19  has_discussions    854 non-null    bool   \n",
      " 20  forks_count        854 non-null    int64  \n",
      " 21  open_issues_count  854 non-null    int64  \n",
      " 22  license            794 non-null    object \n",
      " 23  allow_forking      854 non-null    bool   \n",
      " 24  topics             854 non-null    object \n",
      " 25  visibility         854 non-null    object \n",
      " 26  forks              854 non-null    int64  \n",
      " 27  open_issues        854 non-null    int64  \n",
      " 28  watchers           854 non-null    int64  \n",
      " 29  default_branch     854 non-null    object \n",
      " 30  score              854 non-null    float64\n",
      "dtypes: bool(7), float64(1), int64(9), object(14)\n",
      "memory usage: 172.6+ KB\n"
     ]
    }
   ],
   "source": [
    "df_repos.info()"
   ]
  },
  {
   "cell_type": "markdown",
   "metadata": {},
   "source": [
    "### Remove duplicates"
   ]
  },
  {
   "cell_type": "code",
   "execution_count": 52,
   "metadata": {},
   "outputs": [],
   "source": [
    "# the behavior of the api is sometimes confusing, there are some duplicates in the dataframe --> remove them\n",
    "df_cleaned = df_repos.drop_duplicates(subset=['full_name'])"
   ]
  },
  {
   "cell_type": "markdown",
   "metadata": {},
   "source": [
    "### Filter df_repos for spoken language 'English'"
   ]
  },
  {
   "cell_type": "code",
   "execution_count": 53,
   "metadata": {},
   "outputs": [],
   "source": [
    "def detect_language(text):\n",
    "    try:\n",
    "        return detect(text)\n",
    "    except:\n",
    "        return \"error\""
   ]
  },
  {
   "cell_type": "code",
   "execution_count": 54,
   "metadata": {},
   "outputs": [],
   "source": [
    "df_repos['language_spoken'] = df_repos['description'].apply(detect_language)"
   ]
  },
  {
   "cell_type": "code",
   "execution_count": 55,
   "metadata": {},
   "outputs": [
    {
     "data": {
      "text/plain": [
       "language_spoken\n",
       "en       752\n",
       "zh-cn     36\n",
       "error     16\n",
       "nl         7\n",
       "ca         7\n",
       "vi         6\n",
       "da         6\n",
       "fr         5\n",
       "it         5\n",
       "ko         4\n",
       "no         3\n",
       "af         2\n",
       "ru         1\n",
       "ro         1\n",
       "et         1\n",
       "es         1\n",
       "cs         1\n",
       "Name: count, dtype: int64"
      ]
     },
     "execution_count": 55,
     "metadata": {},
     "output_type": "execute_result"
    }
   ],
   "source": [
    "df_repos['language_spoken'].value_counts()"
   ]
  },
  {
   "cell_type": "code",
   "execution_count": 56,
   "metadata": {},
   "outputs": [
    {
     "data": {
      "text/plain": [
       "752"
      ]
     },
     "execution_count": 56,
     "metadata": {},
     "output_type": "execute_result"
    }
   ],
   "source": [
    "len(df_repos[df_repos['language_spoken'] == 'en'])"
   ]
  },
  {
   "cell_type": "markdown",
   "metadata": {},
   "source": [
    "### Save final file for the repository metadata as JSON for further processing"
   ]
  },
  {
   "cell_type": "code",
   "execution_count": 57,
   "metadata": {},
   "outputs": [],
   "source": [
    "tmp_json = df_repos.to_json(orient='records', lines=False, force_ascii=False)"
   ]
  },
  {
   "cell_type": "code",
   "execution_count": null,
   "metadata": {},
   "outputs": [],
   "source": [
    "with open('../data/df_repos_metadata.json', 'w') as file:\n",
    "   file.write(tmp_json)"
   ]
  },
  {
   "cell_type": "markdown",
   "metadata": {},
   "source": [
    "### Load repository metadata (test)"
   ]
  },
  {
   "cell_type": "code",
   "execution_count": null,
   "metadata": {},
   "outputs": [],
   "source": [
    "with open('../data/df_repos_metadata.json', 'r') as file:\n",
    "    loaded_data = json.load(file)"
   ]
  },
  {
   "cell_type": "code",
   "execution_count": 60,
   "metadata": {},
   "outputs": [],
   "source": [
    "df = pd.DataFrame(loaded_data)"
   ]
  },
  {
   "cell_type": "code",
   "execution_count": 61,
   "metadata": {},
   "outputs": [
    {
     "name": "stdout",
     "output_type": "stream",
     "text": [
      "<class 'pandas.core.frame.DataFrame'>\n",
      "RangeIndex: 854 entries, 0 to 853\n",
      "Data columns (total 32 columns):\n",
      " #   Column             Non-Null Count  Dtype  \n",
      "---  ------             --------------  -----  \n",
      " 0   id                 854 non-null    int64  \n",
      " 1   name               854 non-null    object \n",
      " 2   full_name          854 non-null    object \n",
      " 3   html_url           854 non-null    object \n",
      " 4   description        838 non-null    object \n",
      " 5   url                854 non-null    object \n",
      " 6   labels_url         854 non-null    object \n",
      " 7   created_at         854 non-null    object \n",
      " 8   updated_at         854 non-null    object \n",
      " 9   pushed_at          854 non-null    object \n",
      " 10  size               854 non-null    int64  \n",
      " 11  stargazers_count   854 non-null    int64  \n",
      " 12  watchers_count     854 non-null    int64  \n",
      " 13  language           854 non-null    object \n",
      " 14  has_issues         854 non-null    bool   \n",
      " 15  has_projects       854 non-null    bool   \n",
      " 16  has_downloads      854 non-null    bool   \n",
      " 17  has_wiki           854 non-null    bool   \n",
      " 18  has_pages          854 non-null    bool   \n",
      " 19  has_discussions    854 non-null    bool   \n",
      " 20  forks_count        854 non-null    int64  \n",
      " 21  open_issues_count  854 non-null    int64  \n",
      " 22  license            794 non-null    object \n",
      " 23  allow_forking      854 non-null    bool   \n",
      " 24  topics             854 non-null    object \n",
      " 25  visibility         854 non-null    object \n",
      " 26  forks              854 non-null    int64  \n",
      " 27  open_issues        854 non-null    int64  \n",
      " 28  watchers           854 non-null    int64  \n",
      " 29  default_branch     854 non-null    object \n",
      " 30  score              854 non-null    float64\n",
      " 31  language_spoken    854 non-null    object \n",
      "dtypes: bool(7), float64(1), int64(9), object(15)\n",
      "memory usage: 172.8+ KB\n"
     ]
    }
   ],
   "source": [
    "df.info()"
   ]
  }
 ],
 "metadata": {
  "kernelspec": {
   "display_name": ".venv",
   "language": "python",
   "name": "python3"
  },
  "language_info": {
   "codemirror_mode": {
    "name": "ipython",
    "version": 3
   },
   "file_extension": ".py",
   "mimetype": "text/x-python",
   "name": "python",
   "nbconvert_exporter": "python",
   "pygments_lexer": "ipython3",
   "version": "3.12.3"
  }
 },
 "nbformat": 4,
 "nbformat_minor": 2
}
