{
 "cells": [
  {
   "cell_type": "markdown",
   "id": "b0f932fc",
   "metadata": {},
   "source": [
    "**Author:** Lisa Wallner  \n",
    "**Description:** In this notebook a file 'df_repos_metadata.json' will be loaded and it's content analysed to get an insight of the GitHub repositories metadata.  \n",
    "\n",
    "*Hint: If lines are created with support of a Large Language Model or the code is taken from another source, you find following hint at the end of the line: (generated with Microsoft Copilot) or (source: link_to_source)*"
   ]
  },
  {
   "cell_type": "code",
   "execution_count": 25,
   "id": "972aa203",
   "metadata": {},
   "outputs": [],
   "source": [
    "import pandas as pd # package for data manipulation\n",
    "import json # package to work with .json\n",
    "import matplotlib.pyplot as plt # package for visualization\n",
    "import seaborn as sns"
   ]
  },
  {
   "cell_type": "markdown",
   "id": "b8c8fcd6",
   "metadata": {},
   "source": [
    "### Load data ---> richtiges json"
   ]
  },
  {
   "cell_type": "code",
   "execution_count": 26,
   "id": "e89efd3f",
   "metadata": {},
   "outputs": [],
   "source": [
    "file_path = '../data/df_repos_metadata.json' # filepath of input file\n",
    "with open(file_path, 'r') as file: # JSON file is loaded and it contents saved within a variable\n",
    "    loaded_data = json.load(file)"
   ]
  },
  {
   "cell_type": "code",
   "execution_count": 27,
   "id": "3d7e2d7e",
   "metadata": {},
   "outputs": [],
   "source": [
    "df = pd.DataFrame(data=loaded_data) # create dataframe from previous loaded JSON"
   ]
  },
  {
   "cell_type": "code",
   "execution_count": 28,
   "id": "98b69bf7",
   "metadata": {},
   "outputs": [
    {
     "data": {
      "text/plain": [
       "32"
      ]
     },
     "execution_count": 28,
     "metadata": {},
     "output_type": "execute_result"
    }
   ],
   "source": [
    "len(df.columns)"
   ]
  },
  {
   "cell_type": "code",
   "execution_count": 29,
   "id": "41a89d9d",
   "metadata": {},
   "outputs": [
    {
     "data": {
      "text/html": [
       "<div>\n",
       "<style scoped>\n",
       "    .dataframe tbody tr th:only-of-type {\n",
       "        vertical-align: middle;\n",
       "    }\n",
       "\n",
       "    .dataframe tbody tr th {\n",
       "        vertical-align: top;\n",
       "    }\n",
       "\n",
       "    .dataframe thead th {\n",
       "        text-align: right;\n",
       "    }\n",
       "</style>\n",
       "<table border=\"1\" class=\"dataframe\">\n",
       "  <thead>\n",
       "    <tr style=\"text-align: right;\">\n",
       "      <th></th>\n",
       "      <th>id</th>\n",
       "      <th>name</th>\n",
       "      <th>full_name</th>\n",
       "      <th>html_url</th>\n",
       "      <th>description</th>\n",
       "      <th>url</th>\n",
       "      <th>labels_url</th>\n",
       "      <th>created_at</th>\n",
       "      <th>updated_at</th>\n",
       "      <th>pushed_at</th>\n",
       "      <th>...</th>\n",
       "      <th>license</th>\n",
       "      <th>allow_forking</th>\n",
       "      <th>topics</th>\n",
       "      <th>visibility</th>\n",
       "      <th>forks</th>\n",
       "      <th>open_issues</th>\n",
       "      <th>watchers</th>\n",
       "      <th>default_branch</th>\n",
       "      <th>score</th>\n",
       "      <th>language_spoken</th>\n",
       "    </tr>\n",
       "  </thead>\n",
       "  <tbody>\n",
       "    <tr>\n",
       "      <th>0</th>\n",
       "      <td>619825247</td>\n",
       "      <td>LMFlow</td>\n",
       "      <td>OptimalScale/LMFlow</td>\n",
       "      <td>https://github.com/OptimalScale/LMFlow</td>\n",
       "      <td>An Extensible Toolkit for Finetuning and Infer...</td>\n",
       "      <td>https://api.github.com/repos/OptimalScale/LMFlow</td>\n",
       "      <td>https://api.github.com/repos/OptimalScale/LMFl...</td>\n",
       "      <td>2023-03-27T13:56:29Z</td>\n",
       "      <td>2025-04-14T14:33:55Z</td>\n",
       "      <td>2025-04-13T05:44:14Z</td>\n",
       "      <td>...</td>\n",
       "      <td>{'key': 'apache-2.0', 'name': 'Apache License ...</td>\n",
       "      <td>True</td>\n",
       "      <td>[chatgpt, deep-learning, instruction-following...</td>\n",
       "      <td>public</td>\n",
       "      <td>834</td>\n",
       "      <td>83</td>\n",
       "      <td>8400</td>\n",
       "      <td>main</td>\n",
       "      <td>1.0</td>\n",
       "      <td>en</td>\n",
       "    </tr>\n",
       "    <tr>\n",
       "      <th>1</th>\n",
       "      <td>85012942</td>\n",
       "      <td>gixy</td>\n",
       "      <td>yandex/gixy</td>\n",
       "      <td>https://github.com/yandex/gixy</td>\n",
       "      <td>Nginx configuration static analyzer</td>\n",
       "      <td>https://api.github.com/repos/yandex/gixy</td>\n",
       "      <td>https://api.github.com/repos/yandex/gixy/label...</td>\n",
       "      <td>2017-03-15T01:02:40Z</td>\n",
       "      <td>2025-04-14T03:39:18Z</td>\n",
       "      <td>2024-07-28T20:09:31Z</td>\n",
       "      <td>...</td>\n",
       "      <td>{'key': 'other', 'name': 'Other', 'spdx_id': '...</td>\n",
       "      <td>True</td>\n",
       "      <td>[]</td>\n",
       "      <td>public</td>\n",
       "      <td>418</td>\n",
       "      <td>56</td>\n",
       "      <td>8430</td>\n",
       "      <td>master</td>\n",
       "      <td>1.0</td>\n",
       "      <td>it</td>\n",
       "    </tr>\n",
       "    <tr>\n",
       "      <th>2</th>\n",
       "      <td>272811260</td>\n",
       "      <td>PathPlanning</td>\n",
       "      <td>zhm-real/PathPlanning</td>\n",
       "      <td>https://github.com/zhm-real/PathPlanning</td>\n",
       "      <td>Common used path planning algorithms with anim...</td>\n",
       "      <td>https://api.github.com/repos/zhm-real/PathPlan...</td>\n",
       "      <td>https://api.github.com/repos/zhm-real/PathPlan...</td>\n",
       "      <td>2020-06-16T21:00:44Z</td>\n",
       "      <td>2025-04-14T09:47:50Z</td>\n",
       "      <td>2023-02-06T07:54:46Z</td>\n",
       "      <td>...</td>\n",
       "      <td>{'key': 'mit', 'name': 'MIT License', 'spdx_id...</td>\n",
       "      <td>True</td>\n",
       "      <td>[anytime-dstar, anytime-repairing-astar, astar...</td>\n",
       "      <td>public</td>\n",
       "      <td>1704</td>\n",
       "      <td>30</td>\n",
       "      <td>8484</td>\n",
       "      <td>master</td>\n",
       "      <td>1.0</td>\n",
       "      <td>en</td>\n",
       "    </tr>\n",
       "  </tbody>\n",
       "</table>\n",
       "<p>3 rows × 32 columns</p>\n",
       "</div>"
      ],
      "text/plain": [
       "          id          name              full_name  \\\n",
       "0  619825247        LMFlow    OptimalScale/LMFlow   \n",
       "1   85012942          gixy            yandex/gixy   \n",
       "2  272811260  PathPlanning  zhm-real/PathPlanning   \n",
       "\n",
       "                                   html_url  \\\n",
       "0    https://github.com/OptimalScale/LMFlow   \n",
       "1            https://github.com/yandex/gixy   \n",
       "2  https://github.com/zhm-real/PathPlanning   \n",
       "\n",
       "                                         description  \\\n",
       "0  An Extensible Toolkit for Finetuning and Infer...   \n",
       "1                Nginx configuration static analyzer   \n",
       "2  Common used path planning algorithms with anim...   \n",
       "\n",
       "                                                 url  \\\n",
       "0   https://api.github.com/repos/OptimalScale/LMFlow   \n",
       "1           https://api.github.com/repos/yandex/gixy   \n",
       "2  https://api.github.com/repos/zhm-real/PathPlan...   \n",
       "\n",
       "                                          labels_url            created_at  \\\n",
       "0  https://api.github.com/repos/OptimalScale/LMFl...  2023-03-27T13:56:29Z   \n",
       "1  https://api.github.com/repos/yandex/gixy/label...  2017-03-15T01:02:40Z   \n",
       "2  https://api.github.com/repos/zhm-real/PathPlan...  2020-06-16T21:00:44Z   \n",
       "\n",
       "             updated_at             pushed_at  ...  \\\n",
       "0  2025-04-14T14:33:55Z  2025-04-13T05:44:14Z  ...   \n",
       "1  2025-04-14T03:39:18Z  2024-07-28T20:09:31Z  ...   \n",
       "2  2025-04-14T09:47:50Z  2023-02-06T07:54:46Z  ...   \n",
       "\n",
       "                                             license  allow_forking  \\\n",
       "0  {'key': 'apache-2.0', 'name': 'Apache License ...           True   \n",
       "1  {'key': 'other', 'name': 'Other', 'spdx_id': '...           True   \n",
       "2  {'key': 'mit', 'name': 'MIT License', 'spdx_id...           True   \n",
       "\n",
       "                                              topics visibility  forks  \\\n",
       "0  [chatgpt, deep-learning, instruction-following...     public    834   \n",
       "1                                                 []     public    418   \n",
       "2  [anytime-dstar, anytime-repairing-astar, astar...     public   1704   \n",
       "\n",
       "   open_issues  watchers  default_branch  score  language_spoken  \n",
       "0           83      8400            main    1.0               en  \n",
       "1           56      8430          master    1.0               it  \n",
       "2           30      8484          master    1.0               en  \n",
       "\n",
       "[3 rows x 32 columns]"
      ]
     },
     "execution_count": 29,
     "metadata": {},
     "output_type": "execute_result"
    }
   ],
   "source": [
    "df.head(3)"
   ]
  },
  {
   "cell_type": "code",
   "execution_count": 30,
   "id": "d9f4db6f",
   "metadata": {},
   "outputs": [
    {
     "data": {
      "text/plain": [
       "821"
      ]
     },
     "execution_count": 30,
     "metadata": {},
     "output_type": "execute_result"
    }
   ],
   "source": [
    "len(df) # check length of dataframe"
   ]
  },
  {
   "cell_type": "code",
   "execution_count": 31,
   "id": "10a80a5d",
   "metadata": {},
   "outputs": [
    {
     "name": "stdout",
     "output_type": "stream",
     "text": [
      "<class 'pandas.core.frame.DataFrame'>\n",
      "RangeIndex: 821 entries, 0 to 820\n",
      "Data columns (total 32 columns):\n",
      " #   Column             Non-Null Count  Dtype  \n",
      "---  ------             --------------  -----  \n",
      " 0   id                 821 non-null    int64  \n",
      " 1   name               821 non-null    object \n",
      " 2   full_name          821 non-null    object \n",
      " 3   html_url           821 non-null    object \n",
      " 4   description        806 non-null    object \n",
      " 5   url                821 non-null    object \n",
      " 6   labels_url         821 non-null    object \n",
      " 7   created_at         821 non-null    object \n",
      " 8   updated_at         821 non-null    object \n",
      " 9   pushed_at          821 non-null    object \n",
      " 10  size               821 non-null    int64  \n",
      " 11  stargazers_count   821 non-null    int64  \n",
      " 12  watchers_count     821 non-null    int64  \n",
      " 13  language           821 non-null    object \n",
      " 14  has_issues         821 non-null    bool   \n",
      " 15  has_projects       821 non-null    bool   \n",
      " 16  has_downloads      821 non-null    bool   \n",
      " 17  has_wiki           821 non-null    bool   \n",
      " 18  has_pages          821 non-null    bool   \n",
      " 19  has_discussions    821 non-null    bool   \n",
      " 20  forks_count        821 non-null    int64  \n",
      " 21  open_issues_count  821 non-null    int64  \n",
      " 22  license            763 non-null    object \n",
      " 23  allow_forking      821 non-null    bool   \n",
      " 24  topics             821 non-null    object \n",
      " 25  visibility         821 non-null    object \n",
      " 26  forks              821 non-null    int64  \n",
      " 27  open_issues        821 non-null    int64  \n",
      " 28  watchers           821 non-null    int64  \n",
      " 29  default_branch     821 non-null    object \n",
      " 30  score              821 non-null    float64\n",
      " 31  language_spoken    821 non-null    object \n",
      "dtypes: bool(7), float64(1), int64(9), object(15)\n",
      "memory usage: 166.1+ KB\n"
     ]
    }
   ],
   "source": [
    "df.info()"
   ]
  },
  {
   "cell_type": "markdown",
   "id": "1b9117bc",
   "metadata": {},
   "source": [
    "### Analyse numeric values with focus of the column stargazers_count"
   ]
  },
  {
   "cell_type": "code",
   "execution_count": 32,
   "id": "872113b4",
   "metadata": {},
   "outputs": [
    {
     "data": {
      "text/html": [
       "<div>\n",
       "<style scoped>\n",
       "    .dataframe tbody tr th:only-of-type {\n",
       "        vertical-align: middle;\n",
       "    }\n",
       "\n",
       "    .dataframe tbody tr th {\n",
       "        vertical-align: top;\n",
       "    }\n",
       "\n",
       "    .dataframe thead th {\n",
       "        text-align: right;\n",
       "    }\n",
       "</style>\n",
       "<table border=\"1\" class=\"dataframe\">\n",
       "  <thead>\n",
       "    <tr style=\"text-align: right;\">\n",
       "      <th></th>\n",
       "      <th>id</th>\n",
       "      <th>size</th>\n",
       "      <th>stargazers_count</th>\n",
       "      <th>watchers_count</th>\n",
       "      <th>forks_count</th>\n",
       "      <th>open_issues_count</th>\n",
       "      <th>forks</th>\n",
       "      <th>open_issues</th>\n",
       "      <th>watchers</th>\n",
       "      <th>score</th>\n",
       "    </tr>\n",
       "  </thead>\n",
       "  <tbody>\n",
       "    <tr>\n",
       "      <th>count</th>\n",
       "      <td>8.210000e+02</td>\n",
       "      <td>8.210000e+02</td>\n",
       "      <td>821.000000</td>\n",
       "      <td>821.000000</td>\n",
       "      <td>821.000000</td>\n",
       "      <td>821.000000</td>\n",
       "      <td>821.000000</td>\n",
       "      <td>821.000000</td>\n",
       "      <td>821.000000</td>\n",
       "      <td>821.0</td>\n",
       "    </tr>\n",
       "    <tr>\n",
       "      <th>mean</th>\n",
       "      <td>2.879688e+08</td>\n",
       "      <td>1.372650e+05</td>\n",
       "      <td>18965.451888</td>\n",
       "      <td>18965.451888</td>\n",
       "      <td>3056.566382</td>\n",
       "      <td>329.790499</td>\n",
       "      <td>3056.566382</td>\n",
       "      <td>329.790499</td>\n",
       "      <td>18965.451888</td>\n",
       "      <td>1.0</td>\n",
       "    </tr>\n",
       "    <tr>\n",
       "      <th>std</th>\n",
       "      <td>2.797556e+08</td>\n",
       "      <td>5.572373e+05</td>\n",
       "      <td>26148.308832</td>\n",
       "      <td>26148.308832</td>\n",
       "      <td>5218.564053</td>\n",
       "      <td>886.342103</td>\n",
       "      <td>5218.564053</td>\n",
       "      <td>886.342103</td>\n",
       "      <td>26148.308832</td>\n",
       "      <td>0.0</td>\n",
       "    </tr>\n",
       "    <tr>\n",
       "      <th>min</th>\n",
       "      <td>2.655400e+04</td>\n",
       "      <td>7.000000e+00</td>\n",
       "      <td>0.000000</td>\n",
       "      <td>0.000000</td>\n",
       "      <td>1.000000</td>\n",
       "      <td>0.000000</td>\n",
       "      <td>1.000000</td>\n",
       "      <td>0.000000</td>\n",
       "      <td>0.000000</td>\n",
       "      <td>1.0</td>\n",
       "    </tr>\n",
       "    <tr>\n",
       "      <th>25%</th>\n",
       "      <td>4.993581e+07</td>\n",
       "      <td>3.649000e+03</td>\n",
       "      <td>5719.000000</td>\n",
       "      <td>5719.000000</td>\n",
       "      <td>615.000000</td>\n",
       "      <td>37.000000</td>\n",
       "      <td>615.000000</td>\n",
       "      <td>37.000000</td>\n",
       "      <td>5719.000000</td>\n",
       "      <td>1.0</td>\n",
       "    </tr>\n",
       "    <tr>\n",
       "      <th>50%</th>\n",
       "      <td>1.687995e+08</td>\n",
       "      <td>1.782100e+04</td>\n",
       "      <td>11868.000000</td>\n",
       "      <td>11868.000000</td>\n",
       "      <td>1507.000000</td>\n",
       "      <td>116.000000</td>\n",
       "      <td>1507.000000</td>\n",
       "      <td>116.000000</td>\n",
       "      <td>11868.000000</td>\n",
       "      <td>1.0</td>\n",
       "    </tr>\n",
       "    <tr>\n",
       "      <th>75%</th>\n",
       "      <td>5.750483e+08</td>\n",
       "      <td>7.172500e+04</td>\n",
       "      <td>24091.000000</td>\n",
       "      <td>24091.000000</td>\n",
       "      <td>3333.000000</td>\n",
       "      <td>298.000000</td>\n",
       "      <td>3333.000000</td>\n",
       "      <td>298.000000</td>\n",
       "      <td>24091.000000</td>\n",
       "      <td>1.0</td>\n",
       "    </tr>\n",
       "    <tr>\n",
       "      <th>max</th>\n",
       "      <td>9.548733e+08</td>\n",
       "      <td>1.087097e+07</td>\n",
       "      <td>335520.000000</td>\n",
       "      <td>335520.000000</td>\n",
       "      <td>49242.000000</td>\n",
       "      <td>16073.000000</td>\n",
       "      <td>49242.000000</td>\n",
       "      <td>16073.000000</td>\n",
       "      <td>335520.000000</td>\n",
       "      <td>1.0</td>\n",
       "    </tr>\n",
       "  </tbody>\n",
       "</table>\n",
       "</div>"
      ],
      "text/plain": [
       "                 id          size  stargazers_count  watchers_count  \\\n",
       "count  8.210000e+02  8.210000e+02        821.000000      821.000000   \n",
       "mean   2.879688e+08  1.372650e+05      18965.451888    18965.451888   \n",
       "std    2.797556e+08  5.572373e+05      26148.308832    26148.308832   \n",
       "min    2.655400e+04  7.000000e+00          0.000000        0.000000   \n",
       "25%    4.993581e+07  3.649000e+03       5719.000000     5719.000000   \n",
       "50%    1.687995e+08  1.782100e+04      11868.000000    11868.000000   \n",
       "75%    5.750483e+08  7.172500e+04      24091.000000    24091.000000   \n",
       "max    9.548733e+08  1.087097e+07     335520.000000   335520.000000   \n",
       "\n",
       "        forks_count  open_issues_count         forks   open_issues  \\\n",
       "count    821.000000         821.000000    821.000000    821.000000   \n",
       "mean    3056.566382         329.790499   3056.566382    329.790499   \n",
       "std     5218.564053         886.342103   5218.564053    886.342103   \n",
       "min        1.000000           0.000000      1.000000      0.000000   \n",
       "25%      615.000000          37.000000    615.000000     37.000000   \n",
       "50%     1507.000000         116.000000   1507.000000    116.000000   \n",
       "75%     3333.000000         298.000000   3333.000000    298.000000   \n",
       "max    49242.000000       16073.000000  49242.000000  16073.000000   \n",
       "\n",
       "            watchers  score  \n",
       "count     821.000000  821.0  \n",
       "mean    18965.451888    1.0  \n",
       "std     26148.308832    0.0  \n",
       "min         0.000000    1.0  \n",
       "25%      5719.000000    1.0  \n",
       "50%     11868.000000    1.0  \n",
       "75%     24091.000000    1.0  \n",
       "max    335520.000000    1.0  "
      ]
     },
     "execution_count": 32,
     "metadata": {},
     "output_type": "execute_result"
    }
   ],
   "source": [
    "df.describe() # get statistics from numeric values of dataframe"
   ]
  },
  {
   "cell_type": "code",
   "execution_count": 33,
   "id": "860681cb",
   "metadata": {},
   "outputs": [
    {
     "data": {
      "text/plain": [
       "324"
      ]
     },
     "execution_count": 33,
     "metadata": {},
     "output_type": "execute_result"
    }
   ],
   "source": [
    "len(df[df['stargazers_count'] > 15372])"
   ]
  },
  {
   "cell_type": "markdown",
   "id": "13b5c399",
   "metadata": {},
   "source": [
    "### Visualize GitHub repositories based on the number of stars"
   ]
  },
  {
   "cell_type": "code",
   "execution_count": 34,
   "id": "aa65578c",
   "metadata": {},
   "outputs": [
    {
     "data": {
      "text/plain": [
       "820"
      ]
     },
     "execution_count": 34,
     "metadata": {},
     "output_type": "execute_result"
    }
   ],
   "source": [
    "# estimation for number of bins\n",
    "stars = df['stargazers_count'].unique().tolist() # save unique values of stargazers_count in list\n",
    "num_of_stars = len(stars) # get length of list \n",
    "num_of_stars"
   ]
  },
  {
   "cell_type": "code",
   "execution_count": null,
   "id": "73967024",
   "metadata": {},
   "outputs": [],
   "source": [
    "# create figure and axis for subplots\n",
    "# specify parameters for plot\n",
    "fig, ax = plt.subplots(nrows=2, ncols=2, figsize=(16,10), sharex=False, sharey=False) \n",
    "\n",
    "# data\n",
    "ax[0,0].hist(df['stargazers_count'], color='0.4', bins=num_of_stars)\n",
    "ax[0,1].hist(df['stargazers_count'], color='0.6', bins=num_of_stars)\n",
    "ax[1,1].axis('off') # plots postion\n",
    "ax[1,0].axis('off') # plots postion\n",
    "\n",
    "# lable axis x\n",
    "ax[0,0].set_xlabel('Star Count -  Limited to 100,000')\n",
    "ax[0,1].set_xlabel('Star Count')\n",
    "\n",
    "# lable axis y\n",
    "ax[0,0].set_ylabel('Frequency')\n",
    "ax[0,1].set_ylabel('Frequency')\n",
    "\n",
    "# limitation axis\n",
    "ax[0,0].set_xlim(0, 100000)\n",
    "\n",
    "fig.suptitle('Star Count of GitHub Repositories - no range')\n",
    "plt.tight_layout() # format of interval between plots\n",
    "\n",
    "plt.show()"
   ]
  },
  {
   "cell_type": "code",
   "execution_count": 78,
   "id": "bec1844d",
   "metadata": {},
   "outputs": [
    {
     "data": {
      "image/png": "[encoded data removed]",
      "text/plain": [
       "<Figure size 1000x600 with 1 Axes>"
      ]
     },
     "metadata": {},
     "output_type": "display_data"
    }
   ],
   "source": [
    "with sns.axes_style('white'):\n",
    "    sns.set_theme(style='dark')\n",
    "    fig, ax = plt.subplots(figsize=(10,6)) \n",
    "    fig.patch.set_edgecolor('#eaeaf2')  # your color of choice\n",
    "    fig.patch.set_linewidth(4)          # thickness of the frame\n",
    "\n",
    "    # data\n",
    "    ax.hist(df['stargazers_count'], color='#4793AF', bins=num_of_stars, edgecolor='#4793AF')\n",
    "\n",
    "    # lable axis x\n",
    "    ax.set_xlabel('Star Count')\n",
    "\n",
    "    # lable axis y\n",
    "    ax.set_ylabel('Number of GitHub Repositories')\n",
    "\n",
    "    ax.set_xlim(-1,350000)\n",
    "    # title\n",
    "    #ax.set_title('GitHub Repositories: Star Count Distribution', fontsize=14, pad=15)\n",
    "\n",
    "    plt.tight_layout() # format of interval between plots\n",
    "    plt.show()\n",
    "\n",
    "    sns.reset_defaults()"
   ]
  },
  {
   "cell_type": "code",
   "execution_count": 79,
   "id": "a2bd1dc7",
   "metadata": {},
   "outputs": [],
   "source": [
    "fig.savefig(\"../pngs_ma/github_repos_star_count_distribution.pdf\")"
   ]
  },
  {
   "cell_type": "code",
   "execution_count": 37,
   "id": "a0763d73",
   "metadata": {},
   "outputs": [
    {
     "data": {
      "image/png": "[encoded data removed]",
      "text/plain": [
       "<Figure size 640x480 with 1 Axes>"
      ]
     },
     "metadata": {},
     "output_type": "display_data"
    }
   ],
   "source": [
    "# boxplot for column 'stargazers_count' to visualize the distribution\n",
    "plt.boxplot(df[['stargazers_count']], tick_labels=['number of stars'])\n",
    "\n",
    "plt.show()"
   ]
  },
  {
   "cell_type": "markdown",
   "id": "4749635b",
   "metadata": {},
   "source": [
    "## Analyse license"
   ]
  },
  {
   "cell_type": "code",
   "execution_count": 38,
   "id": "c186a593",
   "metadata": {},
   "outputs": [],
   "source": [
    "# create new column 'license_type' for dataframe\n",
    "# 'license_type' is value of key-value-pair from the column licenses\n",
    "# apply(...) --> applies func 'lambda' to every vaule 'x' in the column 'licenses'\n",
    "# check if 'x' is a dict, if yes, retrieves values of dict as list and select first item\n",
    "df['license_type'] = df['license'].apply(lambda x: list(x.values())[0] if isinstance(x, dict) else None)"
   ]
  },
  {
   "cell_type": "code",
   "execution_count": 39,
   "id": "33e66831",
   "metadata": {},
   "outputs": [
    {
     "data": {
      "text/plain": [
       "license_type\n",
       "mit             255\n",
       "apache-2.0      192\n",
       "other           137\n",
       "gpl-3.0          65\n",
       "bsd-3-clause     38\n",
       "agpl-3.0         31\n",
       "gpl-2.0          10\n",
       "bsd-2-clause      8\n",
       "unlicense         6\n",
       "mpl-2.0           4\n",
       "cc0-1.0           3\n",
       "lgpl-3.0          3\n",
       "cc-by-sa-4.0      3\n",
       "wtfpl             2\n",
       "lgpl-2.1          2\n",
       "isc               2\n",
       "ofl-1.1           1\n",
       "cc-by-4.0         1\n",
       "Name: count, dtype: int64"
      ]
     },
     "execution_count": 39,
     "metadata": {},
     "output_type": "execute_result"
    }
   ],
   "source": [
    "df['license_type'].value_counts() # check which licenses_type the dataframe contains"
   ]
  }
 ],
 "metadata": {
  "kernelspec": {
   "display_name": ".venv",
   "language": "python",
   "name": "python3"
  },
  "language_info": {
   "codemirror_mode": {
    "name": "ipython",
    "version": 3
   },
   "file_extension": ".py",
   "mimetype": "text/x-python",
   "name": "python",
   "nbconvert_exporter": "python",
   "pygments_lexer": "ipython3",
   "version": "3.12.3"
  }
 },
 "nbformat": 4,
 "nbformat_minor": 5
}
