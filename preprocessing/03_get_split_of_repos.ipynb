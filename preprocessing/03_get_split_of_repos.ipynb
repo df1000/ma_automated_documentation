{
 "cells": [
  {
   "cell_type": "markdown",
   "id": "01d63d8b",
   "metadata": {},
   "source": [
    "**Author:** Lisa Wallner  \n",
    "**Description:** In this notebook a file 'df_repos_metadata.json' will be loaded and it's content processed to create a sample of GitHub repository metadata for further processing."
   ]
  },
  {
   "cell_type": "code",
   "execution_count": 59,
   "id": "24801bc4",
   "metadata": {},
   "outputs": [],
   "source": [
    "import pandas as pd # package for data manipulation\n",
    "import json # package to work with .json"
   ]
  },
  {
   "cell_type": "markdown",
   "id": "0fec3807",
   "metadata": {},
   "source": [
    "### Load data"
   ]
  },
  {
   "cell_type": "code",
   "execution_count": null,
   "id": "c212d83b",
   "metadata": {},
   "outputs": [],
   "source": [
    "file_path = '../data/df_repos_metadata.json' # filepath of input file\n",
    "with open(file_path, 'r') as file: # JSON file is loaded and it contents saved within a variable\n",
    "    loaded_data = json.load(file)\n",
    "\n",
    "df = pd.DataFrame(data=loaded_data) # create dataframe from previous loaded JSON"
   ]
  },
  {
   "cell_type": "code",
   "execution_count": 61,
   "id": "bc0382b9",
   "metadata": {},
   "outputs": [
    {
     "data": {
      "text/plain": [
       "821"
      ]
     },
     "execution_count": 61,
     "metadata": {},
     "output_type": "execute_result"
    }
   ],
   "source": [
    "len(df) # check length of dataframe"
   ]
  },
  {
   "cell_type": "markdown",
   "id": "9081d5b1",
   "metadata": {},
   "source": [
    "### Filter dataframe with specific conditons which are requiered for further processing"
   ]
  },
  {
   "cell_type": "code",
   "execution_count": 62,
   "id": "38d31748",
   "metadata": {},
   "outputs": [],
   "source": [
    "# filter repos for spoken language English and save the data in a new dataframe\n",
    "df = df[df['language_spoken'] == 'en']"
   ]
  },
  {
   "cell_type": "code",
   "execution_count": null,
   "id": "cba89a69",
   "metadata": {},
   "outputs": [
    {
     "data": {
      "text/plain": [
       "721"
      ]
     },
     "execution_count": 63,
     "metadata": {},
     "output_type": "execute_result"
    }
   ],
   "source": [
    "len(df) # check length of dataframe"
   ]
  },
  {
   "cell_type": "code",
   "execution_count": 64,
   "id": "8e0a6114",
   "metadata": {},
   "outputs": [
    {
     "data": {
      "text/plain": [
       "language_spoken\n",
       "en    721\n",
       "Name: count, dtype: int64"
      ]
     },
     "execution_count": 64,
     "metadata": {},
     "output_type": "execute_result"
    }
   ],
   "source": [
    "df['language_spoken'].value_counts() # check if dataframe only contains repositories with the value 'en' for the column 'language_spoken'"
   ]
  },
  {
   "cell_type": "code",
   "execution_count": 65,
   "id": "ebe061eb",
   "metadata": {},
   "outputs": [],
   "source": [
    "# add new column with license type of each repository\n",
    "df['license_type'] = df['license'].apply(lambda x: list(x.values())[0] if isinstance(x, dict) else None) # (generated with Microsoft Copilot)"
   ]
  },
  {
   "cell_type": "code",
   "execution_count": 66,
   "id": "91960437",
   "metadata": {},
   "outputs": [
    {
     "data": {
      "text/html": [
       "<div>\n",
       "<style scoped>\n",
       "    .dataframe tbody tr th:only-of-type {\n",
       "        vertical-align: middle;\n",
       "    }\n",
       "\n",
       "    .dataframe tbody tr th {\n",
       "        vertical-align: top;\n",
       "    }\n",
       "\n",
       "    .dataframe thead th {\n",
       "        text-align: right;\n",
       "    }\n",
       "</style>\n",
       "<table border=\"1\" class=\"dataframe\">\n",
       "  <thead>\n",
       "    <tr style=\"text-align: right;\">\n",
       "      <th></th>\n",
       "      <th>id</th>\n",
       "      <th>name</th>\n",
       "      <th>full_name</th>\n",
       "      <th>html_url</th>\n",
       "      <th>description</th>\n",
       "      <th>url</th>\n",
       "      <th>labels_url</th>\n",
       "      <th>created_at</th>\n",
       "      <th>updated_at</th>\n",
       "      <th>pushed_at</th>\n",
       "      <th>...</th>\n",
       "      <th>allow_forking</th>\n",
       "      <th>topics</th>\n",
       "      <th>visibility</th>\n",
       "      <th>forks</th>\n",
       "      <th>open_issues</th>\n",
       "      <th>watchers</th>\n",
       "      <th>default_branch</th>\n",
       "      <th>score</th>\n",
       "      <th>language_spoken</th>\n",
       "      <th>license_type</th>\n",
       "    </tr>\n",
       "  </thead>\n",
       "  <tbody>\n",
       "    <tr>\n",
       "      <th>0</th>\n",
       "      <td>619825247</td>\n",
       "      <td>LMFlow</td>\n",
       "      <td>OptimalScale/LMFlow</td>\n",
       "      <td>https://github.com/OptimalScale/LMFlow</td>\n",
       "      <td>An Extensible Toolkit for Finetuning and Infer...</td>\n",
       "      <td>https://api.github.com/repos/OptimalScale/LMFlow</td>\n",
       "      <td>https://api.github.com/repos/OptimalScale/LMFl...</td>\n",
       "      <td>2023-03-27T13:56:29Z</td>\n",
       "      <td>2025-04-14T14:33:55Z</td>\n",
       "      <td>2025-04-13T05:44:14Z</td>\n",
       "      <td>...</td>\n",
       "      <td>True</td>\n",
       "      <td>[chatgpt, deep-learning, instruction-following...</td>\n",
       "      <td>public</td>\n",
       "      <td>834</td>\n",
       "      <td>83</td>\n",
       "      <td>8400</td>\n",
       "      <td>main</td>\n",
       "      <td>1.0</td>\n",
       "      <td>en</td>\n",
       "      <td>apache-2.0</td>\n",
       "    </tr>\n",
       "    <tr>\n",
       "      <th>2</th>\n",
       "      <td>272811260</td>\n",
       "      <td>PathPlanning</td>\n",
       "      <td>zhm-real/PathPlanning</td>\n",
       "      <td>https://github.com/zhm-real/PathPlanning</td>\n",
       "      <td>Common used path planning algorithms with anim...</td>\n",
       "      <td>https://api.github.com/repos/zhm-real/PathPlan...</td>\n",
       "      <td>https://api.github.com/repos/zhm-real/PathPlan...</td>\n",
       "      <td>2020-06-16T21:00:44Z</td>\n",
       "      <td>2025-04-14T09:47:50Z</td>\n",
       "      <td>2023-02-06T07:54:46Z</td>\n",
       "      <td>...</td>\n",
       "      <td>True</td>\n",
       "      <td>[anytime-dstar, anytime-repairing-astar, astar...</td>\n",
       "      <td>public</td>\n",
       "      <td>1704</td>\n",
       "      <td>30</td>\n",
       "      <td>8484</td>\n",
       "      <td>master</td>\n",
       "      <td>1.0</td>\n",
       "      <td>en</td>\n",
       "      <td>mit</td>\n",
       "    </tr>\n",
       "  </tbody>\n",
       "</table>\n",
       "<p>2 rows × 33 columns</p>\n",
       "</div>"
      ],
      "text/plain": [
       "          id          name              full_name  \\\n",
       "0  619825247        LMFlow    OptimalScale/LMFlow   \n",
       "2  272811260  PathPlanning  zhm-real/PathPlanning   \n",
       "\n",
       "                                   html_url  \\\n",
       "0    https://github.com/OptimalScale/LMFlow   \n",
       "2  https://github.com/zhm-real/PathPlanning   \n",
       "\n",
       "                                         description  \\\n",
       "0  An Extensible Toolkit for Finetuning and Infer...   \n",
       "2  Common used path planning algorithms with anim...   \n",
       "\n",
       "                                                 url  \\\n",
       "0   https://api.github.com/repos/OptimalScale/LMFlow   \n",
       "2  https://api.github.com/repos/zhm-real/PathPlan...   \n",
       "\n",
       "                                          labels_url            created_at  \\\n",
       "0  https://api.github.com/repos/OptimalScale/LMFl...  2023-03-27T13:56:29Z   \n",
       "2  https://api.github.com/repos/zhm-real/PathPlan...  2020-06-16T21:00:44Z   \n",
       "\n",
       "             updated_at             pushed_at  ...  allow_forking  \\\n",
       "0  2025-04-14T14:33:55Z  2025-04-13T05:44:14Z  ...           True   \n",
       "2  2025-04-14T09:47:50Z  2023-02-06T07:54:46Z  ...           True   \n",
       "\n",
       "                                              topics  visibility forks  \\\n",
       "0  [chatgpt, deep-learning, instruction-following...      public   834   \n",
       "2  [anytime-dstar, anytime-repairing-astar, astar...      public  1704   \n",
       "\n",
       "   open_issues  watchers  default_branch  score  language_spoken  license_type  \n",
       "0           83      8400            main    1.0               en    apache-2.0  \n",
       "2           30      8484          master    1.0               en           mit  \n",
       "\n",
       "[2 rows x 33 columns]"
      ]
     },
     "execution_count": 66,
     "metadata": {},
     "output_type": "execute_result"
    }
   ],
   "source": [
    "df.head(2)"
   ]
  },
  {
   "cell_type": "code",
   "execution_count": null,
   "id": "7212f28f",
   "metadata": {},
   "outputs": [],
   "source": [
    "# list with licenses which are allowing to use the content of the repository for further processing\n",
    "licenses_list = ['apache-2.0', 'mit', 'isc', 'bsd-3-clause', 'bsd-2-clause', 'none'] "
   ]
  },
  {
   "cell_type": "code",
   "execution_count": null,
   "id": "25637f4e",
   "metadata": {},
   "outputs": [],
   "source": [
    "df = df[df['license_type'].apply(lambda x: x in licenses_list)] # filter df for licenses_types which are in licenses_list and save dataframe"
   ]
  },
  {
   "cell_type": "code",
   "execution_count": null,
   "id": "ffa6f1c3",
   "metadata": {},
   "outputs": [
    {
     "data": {
      "text/plain": [
       "451"
      ]
     },
     "execution_count": 69,
     "metadata": {},
     "output_type": "execute_result"
    }
   ],
   "source": [
    "len(df) # check length of dataframe"
   ]
  },
  {
   "cell_type": "code",
   "execution_count": 70,
   "id": "a165b53f",
   "metadata": {},
   "outputs": [
    {
     "data": {
      "text/plain": [
       "license_type\n",
       "mit             232\n",
       "apache-2.0      174\n",
       "bsd-3-clause     36\n",
       "bsd-2-clause      8\n",
       "isc               1\n",
       "Name: count, dtype: int64"
      ]
     },
     "execution_count": 70,
     "metadata": {},
     "output_type": "execute_result"
    }
   ],
   "source": [
    "df['license_type'].value_counts() # check which licenses_type the dataframe contains"
   ]
  },
  {
   "cell_type": "markdown",
   "id": "8169a16f",
   "metadata": {},
   "source": [
    "### Create sample"
   ]
  },
  {
   "cell_type": "code",
   "execution_count": null,
   "id": "da8aa816",
   "metadata": {},
   "outputs": [],
   "source": [
    "sample_df = df.sample(n=250) # create a sample of 250 elements"
   ]
  },
  {
   "cell_type": "code",
   "execution_count": null,
   "id": "74e99295",
   "metadata": {},
   "outputs": [
    {
     "data": {
      "text/plain": [
       "250"
      ]
     },
     "execution_count": 75,
     "metadata": {},
     "output_type": "execute_result"
    }
   ],
   "source": [
    "len(sample_df) # check length of dataframe"
   ]
  },
  {
   "cell_type": "markdown",
   "id": "88352704",
   "metadata": {},
   "source": [
    "### Save sample in JSON file"
   ]
  },
  {
   "cell_type": "code",
   "execution_count": null,
   "id": "59a53a20",
   "metadata": {},
   "outputs": [],
   "source": [
    "tmp_json = sample_df.to_json(orient='records', lines=False, force_ascii=False) # save the sample dataframe in variable tmp_json\n",
    "with open('../data/df_repos_sample_250.json', 'w') as file: # write content fo tmp_json to new JSON file\n",
    "    file.write(tmp_json)"
   ]
  }
 ],
 "metadata": {
  "kernelspec": {
   "display_name": ".venv",
   "language": "python",
   "name": "python3"
  },
  "language_info": {
   "codemirror_mode": {
    "name": "ipython",
    "version": 3
   },
   "file_extension": ".py",
   "mimetype": "text/x-python",
   "name": "python",
   "nbconvert_exporter": "python",
   "pygments_lexer": "ipython3",
   "version": "3.12.3"
  }
 },
 "nbformat": 4,
 "nbformat_minor": 5
}
