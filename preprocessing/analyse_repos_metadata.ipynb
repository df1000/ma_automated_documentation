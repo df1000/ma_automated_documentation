{
 "cells": [
  {
   "cell_type": "code",
   "execution_count": 138,
   "id": "972aa203",
   "metadata": {},
   "outputs": [],
   "source": [
    "import pandas as pd\n",
    "import json\n",
    "import numpy as np\n",
    "import matplotlib.pyplot as plt\n",
    "from langdetect import detect"
   ]
  },
  {
   "cell_type": "code",
   "execution_count": 139,
   "id": "e89efd3f",
   "metadata": {},
   "outputs": [],
   "source": [
    "#file_path = '../data/helper/df_repos_metadata_stars_greater_7k.json'\n",
    "#file_path = '../data/helper/df_repos_metadata_stars_range_0_300k.json'\n",
    "file_path = '../data/helper/df_repos_metadata_stars_smaller_7184.json'\n",
    "with open(file_path, 'r') as file:\n",
    "    loaded_data = json.load(file)"
   ]
  },
  {
   "cell_type": "code",
   "execution_count": 140,
   "id": "3d7e2d7e",
   "metadata": {},
   "outputs": [],
   "source": [
    "df = pd.DataFrame(data=loaded_data)"
   ]
  },
  {
   "cell_type": "code",
   "execution_count": 141,
   "id": "41a89d9d",
   "metadata": {},
   "outputs": [
    {
     "data": {
      "text/html": [
       "<div>\n",
       "<style scoped>\n",
       "    .dataframe tbody tr th:only-of-type {\n",
       "        vertical-align: middle;\n",
       "    }\n",
       "\n",
       "    .dataframe tbody tr th {\n",
       "        vertical-align: top;\n",
       "    }\n",
       "\n",
       "    .dataframe thead th {\n",
       "        text-align: right;\n",
       "    }\n",
       "</style>\n",
       "<table border=\"1\" class=\"dataframe\">\n",
       "  <thead>\n",
       "    <tr style=\"text-align: right;\">\n",
       "      <th></th>\n",
       "      <th>id</th>\n",
       "      <th>name</th>\n",
       "      <th>full_name</th>\n",
       "      <th>html_url</th>\n",
       "      <th>description</th>\n",
       "      <th>url</th>\n",
       "      <th>labels_url</th>\n",
       "      <th>created_at</th>\n",
       "      <th>updated_at</th>\n",
       "      <th>pushed_at</th>\n",
       "      <th>...</th>\n",
       "      <th>open_issues_count</th>\n",
       "      <th>license</th>\n",
       "      <th>allow_forking</th>\n",
       "      <th>topics</th>\n",
       "      <th>visibility</th>\n",
       "      <th>forks</th>\n",
       "      <th>open_issues</th>\n",
       "      <th>watchers</th>\n",
       "      <th>default_branch</th>\n",
       "      <th>score</th>\n",
       "    </tr>\n",
       "  </thead>\n",
       "  <tbody>\n",
       "    <tr>\n",
       "      <th>0</th>\n",
       "      <td>186647681</td>\n",
       "      <td>amundsen</td>\n",
       "      <td>amundsen-io/amundsen</td>\n",
       "      <td>https://github.com/amundsen-io/amundsen</td>\n",
       "      <td>Amundsen is a metadata driven application for ...</td>\n",
       "      <td>https://api.github.com/repos/amundsen-io/amundsen</td>\n",
       "      <td>https://api.github.com/repos/amundsen-io/amund...</td>\n",
       "      <td>2019-05-14T15:12:40Z</td>\n",
       "      <td>2025-04-11T13:09:14Z</td>\n",
       "      <td>2025-04-02T09:02:11Z</td>\n",
       "      <td>...</td>\n",
       "      <td>23</td>\n",
       "      <td>{'key': 'apache-2.0', 'name': 'Apache License ...</td>\n",
       "      <td>True</td>\n",
       "      <td>[amundsen, data-catalog, data-discovery, linux...</td>\n",
       "      <td>public</td>\n",
       "      <td>971</td>\n",
       "      <td>23</td>\n",
       "      <td>4553</td>\n",
       "      <td>main</td>\n",
       "      <td>1.0</td>\n",
       "    </tr>\n",
       "    <tr>\n",
       "      <th>1</th>\n",
       "      <td>4290214</td>\n",
       "      <td>grequests</td>\n",
       "      <td>spyoungtech/grequests</td>\n",
       "      <td>https://github.com/spyoungtech/grequests</td>\n",
       "      <td>Requests + Gevent = &lt;3</td>\n",
       "      <td>https://api.github.com/repos/spyoungtech/grequ...</td>\n",
       "      <td>https://api.github.com/repos/spyoungtech/grequ...</td>\n",
       "      <td>2012-05-10T21:50:15Z</td>\n",
       "      <td>2025-04-09T13:40:37Z</td>\n",
       "      <td>2024-08-08T21:52:34Z</td>\n",
       "      <td>...</td>\n",
       "      <td>11</td>\n",
       "      <td>{'key': 'bsd-2-clause', 'name': 'BSD 2-Clause ...</td>\n",
       "      <td>True</td>\n",
       "      <td>[]</td>\n",
       "      <td>public</td>\n",
       "      <td>331</td>\n",
       "      <td>11</td>\n",
       "      <td>4552</td>\n",
       "      <td>master</td>\n",
       "      <td>1.0</td>\n",
       "    </tr>\n",
       "    <tr>\n",
       "      <th>2</th>\n",
       "      <td>178254323</td>\n",
       "      <td>recon-ng</td>\n",
       "      <td>lanmaster53/recon-ng</td>\n",
       "      <td>https://github.com/lanmaster53/recon-ng</td>\n",
       "      <td>Open Source Intelligence gathering tool aimed ...</td>\n",
       "      <td>https://api.github.com/repos/lanmaster53/recon-ng</td>\n",
       "      <td>https://api.github.com/repos/lanmaster53/recon...</td>\n",
       "      <td>2019-03-28T17:43:52Z</td>\n",
       "      <td>2025-04-11T13:15:57Z</td>\n",
       "      <td>2024-11-01T20:11:51Z</td>\n",
       "      <td>...</td>\n",
       "      <td>27</td>\n",
       "      <td>{'key': 'gpl-3.0', 'name': 'GNU General Public...</td>\n",
       "      <td>True</td>\n",
       "      <td>[]</td>\n",
       "      <td>public</td>\n",
       "      <td>716</td>\n",
       "      <td>27</td>\n",
       "      <td>4550</td>\n",
       "      <td>master</td>\n",
       "      <td>1.0</td>\n",
       "    </tr>\n",
       "  </tbody>\n",
       "</table>\n",
       "<p>3 rows × 31 columns</p>\n",
       "</div>"
      ],
      "text/plain": [
       "          id       name              full_name  \\\n",
       "0  186647681   amundsen   amundsen-io/amundsen   \n",
       "1    4290214  grequests  spyoungtech/grequests   \n",
       "2  178254323   recon-ng   lanmaster53/recon-ng   \n",
       "\n",
       "                                   html_url  \\\n",
       "0   https://github.com/amundsen-io/amundsen   \n",
       "1  https://github.com/spyoungtech/grequests   \n",
       "2   https://github.com/lanmaster53/recon-ng   \n",
       "\n",
       "                                         description  \\\n",
       "0  Amundsen is a metadata driven application for ...   \n",
       "1                             Requests + Gevent = <3   \n",
       "2  Open Source Intelligence gathering tool aimed ...   \n",
       "\n",
       "                                                 url  \\\n",
       "0  https://api.github.com/repos/amundsen-io/amundsen   \n",
       "1  https://api.github.com/repos/spyoungtech/grequ...   \n",
       "2  https://api.github.com/repos/lanmaster53/recon-ng   \n",
       "\n",
       "                                          labels_url            created_at  \\\n",
       "0  https://api.github.com/repos/amundsen-io/amund...  2019-05-14T15:12:40Z   \n",
       "1  https://api.github.com/repos/spyoungtech/grequ...  2012-05-10T21:50:15Z   \n",
       "2  https://api.github.com/repos/lanmaster53/recon...  2019-03-28T17:43:52Z   \n",
       "\n",
       "             updated_at             pushed_at  ...  open_issues_count  \\\n",
       "0  2025-04-11T13:09:14Z  2025-04-02T09:02:11Z  ...                 23   \n",
       "1  2025-04-09T13:40:37Z  2024-08-08T21:52:34Z  ...                 11   \n",
       "2  2025-04-11T13:15:57Z  2024-11-01T20:11:51Z  ...                 27   \n",
       "\n",
       "                                             license  allow_forking  \\\n",
       "0  {'key': 'apache-2.0', 'name': 'Apache License ...           True   \n",
       "1  {'key': 'bsd-2-clause', 'name': 'BSD 2-Clause ...           True   \n",
       "2  {'key': 'gpl-3.0', 'name': 'GNU General Public...           True   \n",
       "\n",
       "                                              topics  visibility  forks  \\\n",
       "0  [amundsen, data-catalog, data-discovery, linux...      public    971   \n",
       "1                                                 []      public    331   \n",
       "2                                                 []      public    716   \n",
       "\n",
       "   open_issues  watchers  default_branch  score  \n",
       "0           23      4553            main    1.0  \n",
       "1           11      4552          master    1.0  \n",
       "2           27      4550          master    1.0  \n",
       "\n",
       "[3 rows x 31 columns]"
      ]
     },
     "execution_count": 141,
     "metadata": {},
     "output_type": "execute_result"
    }
   ],
   "source": [
    "df.head(3)"
   ]
  },
  {
   "cell_type": "code",
   "execution_count": 142,
   "id": "95d27bbb",
   "metadata": {},
   "outputs": [
    {
     "name": "stdout",
     "output_type": "stream",
     "text": [
      "<class 'pandas.core.frame.DataFrame'>\n",
      "RangeIndex: 1050 entries, 0 to 1049\n",
      "Data columns (total 31 columns):\n",
      " #   Column             Non-Null Count  Dtype  \n",
      "---  ------             --------------  -----  \n",
      " 0   id                 1050 non-null   int64  \n",
      " 1   name               1050 non-null   object \n",
      " 2   full_name          1050 non-null   object \n",
      " 3   html_url           1050 non-null   object \n",
      " 4   description        1030 non-null   object \n",
      " 5   url                1050 non-null   object \n",
      " 6   labels_url         1050 non-null   object \n",
      " 7   created_at         1050 non-null   object \n",
      " 8   updated_at         1050 non-null   object \n",
      " 9   pushed_at          1050 non-null   object \n",
      " 10  size               1050 non-null   int64  \n",
      " 11  stargazers_count   1050 non-null   int64  \n",
      " 12  watchers_count     1050 non-null   int64  \n",
      " 13  language           1050 non-null   object \n",
      " 14  has_issues         1050 non-null   bool   \n",
      " 15  has_projects       1050 non-null   bool   \n",
      " 16  has_downloads      1050 non-null   bool   \n",
      " 17  has_wiki           1050 non-null   bool   \n",
      " 18  has_pages          1050 non-null   bool   \n",
      " 19  has_discussions    1050 non-null   bool   \n",
      " 20  forks_count        1050 non-null   int64  \n",
      " 21  open_issues_count  1050 non-null   int64  \n",
      " 22  license            963 non-null    object \n",
      " 23  allow_forking      1050 non-null   bool   \n",
      " 24  topics             1050 non-null   object \n",
      " 25  visibility         1050 non-null   object \n",
      " 26  forks              1050 non-null   int64  \n",
      " 27  open_issues        1050 non-null   int64  \n",
      " 28  watchers           1050 non-null   int64  \n",
      " 29  default_branch     1050 non-null   object \n",
      " 30  score              1050 non-null   float64\n",
      "dtypes: bool(7), float64(1), int64(9), object(14)\n",
      "memory usage: 204.2+ KB\n"
     ]
    }
   ],
   "source": [
    "df.info()"
   ]
  },
  {
   "cell_type": "markdown",
   "id": "1f91555c",
   "metadata": {},
   "source": [
    "### analyse if repo is in English"
   ]
  },
  {
   "cell_type": "code",
   "execution_count": 143,
   "id": "63602460",
   "metadata": {},
   "outputs": [],
   "source": [
    "def detect_language(text):\n",
    "    try:\n",
    "        return detect(text)\n",
    "    except:\n",
    "        return \"error\""
   ]
  },
  {
   "cell_type": "code",
   "execution_count": 144,
   "id": "61f603d1",
   "metadata": {},
   "outputs": [],
   "source": [
    "df['language_spoken'] = df['description'].apply(detect_language)"
   ]
  },
  {
   "cell_type": "code",
   "execution_count": 145,
   "id": "d0ddeacd",
   "metadata": {},
   "outputs": [
    {
     "data": {
      "text/plain": [
       "914"
      ]
     },
     "execution_count": 145,
     "metadata": {},
     "output_type": "execute_result"
    }
   ],
   "source": [
    "len(df[df['language_spoken'] == 'en'])"
   ]
  },
  {
   "cell_type": "markdown",
   "id": "1b9117bc",
   "metadata": {},
   "source": [
    "### analyse numeric values"
   ]
  },
  {
   "cell_type": "code",
   "execution_count": 146,
   "id": "872113b4",
   "metadata": {},
   "outputs": [
    {
     "data": {
      "text/html": [
       "<div>\n",
       "<style scoped>\n",
       "    .dataframe tbody tr th:only-of-type {\n",
       "        vertical-align: middle;\n",
       "    }\n",
       "\n",
       "    .dataframe tbody tr th {\n",
       "        vertical-align: top;\n",
       "    }\n",
       "\n",
       "    .dataframe thead th {\n",
       "        text-align: right;\n",
       "    }\n",
       "</style>\n",
       "<table border=\"1\" class=\"dataframe\">\n",
       "  <thead>\n",
       "    <tr style=\"text-align: right;\">\n",
       "      <th></th>\n",
       "      <th>id</th>\n",
       "      <th>size</th>\n",
       "      <th>stargazers_count</th>\n",
       "      <th>watchers_count</th>\n",
       "      <th>forks_count</th>\n",
       "      <th>open_issues_count</th>\n",
       "      <th>forks</th>\n",
       "      <th>open_issues</th>\n",
       "      <th>watchers</th>\n",
       "      <th>score</th>\n",
       "    </tr>\n",
       "  </thead>\n",
       "  <tbody>\n",
       "    <tr>\n",
       "      <th>count</th>\n",
       "      <td>1.050000e+03</td>\n",
       "      <td>1.050000e+03</td>\n",
       "      <td>1050.000000</td>\n",
       "      <td>1050.000000</td>\n",
       "      <td>1050.000000</td>\n",
       "      <td>1050.000000</td>\n",
       "      <td>1050.000000</td>\n",
       "      <td>1050.000000</td>\n",
       "      <td>1050.000000</td>\n",
       "      <td>1050.0</td>\n",
       "    </tr>\n",
       "    <tr>\n",
       "      <th>mean</th>\n",
       "      <td>2.616561e+08</td>\n",
       "      <td>1.888918e+05</td>\n",
       "      <td>5295.945714</td>\n",
       "      <td>5295.945714</td>\n",
       "      <td>857.908571</td>\n",
       "      <td>137.033333</td>\n",
       "      <td>857.908571</td>\n",
       "      <td>137.033333</td>\n",
       "      <td>5295.945714</td>\n",
       "      <td>1.0</td>\n",
       "    </tr>\n",
       "    <tr>\n",
       "      <th>std</th>\n",
       "      <td>2.711455e+08</td>\n",
       "      <td>3.195502e+06</td>\n",
       "      <td>958.240904</td>\n",
       "      <td>958.240904</td>\n",
       "      <td>617.768733</td>\n",
       "      <td>282.005030</td>\n",
       "      <td>617.768733</td>\n",
       "      <td>282.005030</td>\n",
       "      <td>958.240904</td>\n",
       "      <td>0.0</td>\n",
       "    </tr>\n",
       "    <tr>\n",
       "      <th>min</th>\n",
       "      <td>4.747600e+04</td>\n",
       "      <td>9.000000e+00</td>\n",
       "      <td>3947.000000</td>\n",
       "      <td>3947.000000</td>\n",
       "      <td>87.000000</td>\n",
       "      <td>0.000000</td>\n",
       "      <td>87.000000</td>\n",
       "      <td>0.000000</td>\n",
       "      <td>3947.000000</td>\n",
       "      <td>1.0</td>\n",
       "    </tr>\n",
       "    <tr>\n",
       "      <th>25%</th>\n",
       "      <td>4.253267e+07</td>\n",
       "      <td>1.860250e+03</td>\n",
       "      <td>4483.250000</td>\n",
       "      <td>4483.250000</td>\n",
       "      <td>439.000000</td>\n",
       "      <td>26.000000</td>\n",
       "      <td>439.000000</td>\n",
       "      <td>26.000000</td>\n",
       "      <td>4483.250000</td>\n",
       "      <td>1.0</td>\n",
       "    </tr>\n",
       "    <tr>\n",
       "      <th>50%</th>\n",
       "      <td>1.414662e+08</td>\n",
       "      <td>9.896500e+03</td>\n",
       "      <td>5105.500000</td>\n",
       "      <td>5105.500000</td>\n",
       "      <td>686.500000</td>\n",
       "      <td>65.000000</td>\n",
       "      <td>686.500000</td>\n",
       "      <td>65.000000</td>\n",
       "      <td>5105.500000</td>\n",
       "      <td>1.0</td>\n",
       "    </tr>\n",
       "    <tr>\n",
       "      <th>75%</th>\n",
       "      <td>4.534287e+08</td>\n",
       "      <td>4.952775e+04</td>\n",
       "      <td>6042.000000</td>\n",
       "      <td>6042.000000</td>\n",
       "      <td>1099.000000</td>\n",
       "      <td>143.750000</td>\n",
       "      <td>1099.000000</td>\n",
       "      <td>143.750000</td>\n",
       "      <td>6042.000000</td>\n",
       "      <td>1.0</td>\n",
       "    </tr>\n",
       "    <tr>\n",
       "      <th>max</th>\n",
       "      <td>9.548733e+08</td>\n",
       "      <td>1.011714e+08</td>\n",
       "      <td>7183.000000</td>\n",
       "      <td>7183.000000</td>\n",
       "      <td>4740.000000</td>\n",
       "      <td>3867.000000</td>\n",
       "      <td>4740.000000</td>\n",
       "      <td>3867.000000</td>\n",
       "      <td>7183.000000</td>\n",
       "      <td>1.0</td>\n",
       "    </tr>\n",
       "  </tbody>\n",
       "</table>\n",
       "</div>"
      ],
      "text/plain": [
       "                 id          size  stargazers_count  watchers_count  \\\n",
       "count  1.050000e+03  1.050000e+03       1050.000000     1050.000000   \n",
       "mean   2.616561e+08  1.888918e+05       5295.945714     5295.945714   \n",
       "std    2.711455e+08  3.195502e+06        958.240904      958.240904   \n",
       "min    4.747600e+04  9.000000e+00       3947.000000     3947.000000   \n",
       "25%    4.253267e+07  1.860250e+03       4483.250000     4483.250000   \n",
       "50%    1.414662e+08  9.896500e+03       5105.500000     5105.500000   \n",
       "75%    4.534287e+08  4.952775e+04       6042.000000     6042.000000   \n",
       "max    9.548733e+08  1.011714e+08       7183.000000     7183.000000   \n",
       "\n",
       "       forks_count  open_issues_count        forks  open_issues     watchers  \\\n",
       "count  1050.000000        1050.000000  1050.000000  1050.000000  1050.000000   \n",
       "mean    857.908571         137.033333   857.908571   137.033333  5295.945714   \n",
       "std     617.768733         282.005030   617.768733   282.005030   958.240904   \n",
       "min      87.000000           0.000000    87.000000     0.000000  3947.000000   \n",
       "25%     439.000000          26.000000   439.000000    26.000000  4483.250000   \n",
       "50%     686.500000          65.000000   686.500000    65.000000  5105.500000   \n",
       "75%    1099.000000         143.750000  1099.000000   143.750000  6042.000000   \n",
       "max    4740.000000        3867.000000  4740.000000  3867.000000  7183.000000   \n",
       "\n",
       "        score  \n",
       "count  1050.0  \n",
       "mean      1.0  \n",
       "std       0.0  \n",
       "min       1.0  \n",
       "25%       1.0  \n",
       "50%       1.0  \n",
       "75%       1.0  \n",
       "max       1.0  "
      ]
     },
     "execution_count": 146,
     "metadata": {},
     "output_type": "execute_result"
    }
   ],
   "source": [
    "df.describe()"
   ]
  },
  {
   "cell_type": "code",
   "execution_count": 147,
   "id": "aa65578c",
   "metadata": {},
   "outputs": [
    {
     "data": {
      "text/plain": [
       "stargazers_count\n",
       "7183    2\n",
       "7177    2\n",
       "7162    2\n",
       "7161    2\n",
       "7158    2\n",
       "       ..\n",
       "3955    1\n",
       "3952    2\n",
       "3950    1\n",
       "3949    1\n",
       "3947    1\n",
       "Name: count, Length: 857, dtype: int64"
      ]
     },
     "execution_count": 147,
     "metadata": {},
     "output_type": "execute_result"
    }
   ],
   "source": [
    "df['stargazers_count'].value_counts().sort_index(ascending=False)"
   ]
  },
  {
   "cell_type": "code",
   "execution_count": null,
   "id": "bec1844d",
   "metadata": {},
   "outputs": [
    {
     "data": {
      "image/png": "[encoded data removed]",
      "text/plain": [
       "<Figure size 1600x1000 with 4 Axes>"
      ]
     },
     "metadata": {},
     "output_type": "display_data"
    }
   ],
   "source": [
    "# number of stars\n",
    "fig, ax = plt.subplots(nrows=2, ncols=2, figsize=(16,10), sharex=False, sharey=False)\n",
    "# sharex=True legt fest, ob Skala aller x-Achsen der Subplot gleich ist\n",
    "\n",
    "# data\n",
    "ax[0,0].hist(df['stargazers_count'], color='0.4', bins=1000)\n",
    "ax[0,1].hist(df['stargazers_count'], color='0.6', bins=100)\n",
    "ax[1,1].axis('off') # plots anordnen\n",
    "ax[1,0].axis('off')\n",
    "\n",
    "# title\n",
    "# ax[0,0].set_title('Stars count of GitHub repositorys - limited to 100,000')\n",
    "# ax[0,1].set_title('Stars count of GitHub repositorys')\n",
    "\n",
    "# lable axis x\n",
    "ax[0,0].set_xlabel('number of stars limited to 100,000')\n",
    "ax[0,1].set_xlabel('number of stars')\n",
    "\n",
    "# lable axis y\n",
    "ax[0,0].set_ylabel('frequency')\n",
    "ax[0,1].set_ylabel('frequency')\n",
    "\n",
    "# limitation axis\n",
    "ax[0,0].set_xlim(0, 100000)\n",
    "\n",
    "fig.suptitle('Star count of GitHub repositories')\n",
    "# format of interval between plots\n",
    "plt.tight_layout()\n",
    "\n",
    "plt.show()"
   ]
  },
  {
   "cell_type": "code",
   "execution_count": 149,
   "id": "7b88b06b",
   "metadata": {},
   "outputs": [
    {
     "data": {
      "image/png": "[encoded data removed]",
      "text/plain": [
       "<Figure size 1600x1000 with 4 Axes>"
      ]
     },
     "metadata": {},
     "output_type": "display_data"
    }
   ],
   "source": [
    "# number of forks & watchers\n",
    "fig, ax = plt.subplots(nrows=2, ncols=2, figsize=(16,10), sharex=False, sharey=False)\n",
    "# sharex=True legt fest, ob Skala aller x-Achsen der Subplot gleich ist\n",
    "\n",
    "# data\n",
    "ax[0,0].hist(df['forks_count'], color='0.4', bins=100)\n",
    "ax[0,1].hist(df['watchers_count'], color='0.6', bins=100)\n",
    "ax[1,1].axis('off') # plots anordnen\n",
    "ax[1,0].axis('off')\n",
    "\n",
    "# title\n",
    "ax[0,0].set_title('Forks count of GitHub repositorys')\n",
    "ax[0,1].set_title('Watchers count of GitHub repositorys')\n",
    "\n",
    "# lable axis x\n",
    "ax[0,0].set_xlabel('number of forks')\n",
    "ax[0,1].set_xlabel('number of watchers')\n",
    "\n",
    "# lable axis y\n",
    "ax[0,0].set_ylabel('frequency')\n",
    "ax[0,1].set_ylabel('frequency')\n",
    "\n",
    "# limitation axis\n",
    "#ax[0,0].set_xlim(0, 100000)\n",
    "\n",
    "# fig.suptitle('Forks count of GitHub repositories')\n",
    "# format of interval between plots\n",
    "plt.tight_layout()\n",
    "\n",
    "plt.show()"
   ]
  },
  {
   "cell_type": "code",
   "execution_count": 158,
   "id": "40b3a939",
   "metadata": {},
   "outputs": [
    {
     "data": {
      "image/png": "[encoded data removed]",
      "text/plain": [
       "<Figure size 640x480 with 1 Axes>"
      ]
     },
     "metadata": {},
     "output_type": "display_data"
    }
   ],
   "source": [
    "plt.hist(df['stargazers_count'], color='0.4', bins=100)\n",
    "plt.xlabel('number of stars - < 7184')\n",
    "plt.title('Star count of GitHub repositories')\n",
    "\n",
    "plt.show()"
   ]
  },
  {
   "cell_type": "code",
   "execution_count": 150,
   "id": "a0763d73",
   "metadata": {},
   "outputs": [
    {
     "data": {
      "image/png": "[encoded data removed]",
      "text/plain": [
       "<Figure size 640x480 with 1 Axes>"
      ]
     },
     "metadata": {},
     "output_type": "display_data"
    }
   ],
   "source": [
    "plt.boxplot(df[['stargazers_count']], tick_labels=['number of stars'])\n",
    "\n",
    "plt.show()"
   ]
  }
 ],
 "metadata": {
  "kernelspec": {
   "display_name": ".venv",
   "language": "python",
   "name": "python3"
  },
  "language_info": {
   "codemirror_mode": {
    "name": "ipython",
    "version": 3
   },
   "file_extension": ".py",
   "mimetype": "text/x-python",
   "name": "python",
   "nbconvert_exporter": "python",
   "pygments_lexer": "ipython3",
   "version": "3.12.3"
  }
 },
 "nbformat": 4,
 "nbformat_minor": 5
}
