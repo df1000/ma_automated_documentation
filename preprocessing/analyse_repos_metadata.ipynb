{
 "cells": [
  {
   "cell_type": "code",
   "execution_count": 19,
   "id": "972aa203",
   "metadata": {},
   "outputs": [],
   "source": [
    "import pandas as pd\n",
    "import json\n",
    "import numpy as np\n",
    "import matplotlib.pyplot as plt\n",
    "from langdetect import detect"
   ]
  },
  {
   "cell_type": "code",
   "execution_count": 3,
   "id": "e89efd3f",
   "metadata": {},
   "outputs": [],
   "source": [
    "with open('../data/helper/df_repos_metadata.json', 'r') as file:\n",
    "    loaded_data = json.load(file)"
   ]
  },
  {
   "cell_type": "code",
   "execution_count": 4,
   "id": "3d7e2d7e",
   "metadata": {},
   "outputs": [],
   "source": [
    "df = pd.DataFrame(data=loaded_data)"
   ]
  },
  {
   "cell_type": "code",
   "execution_count": 7,
   "id": "41a89d9d",
   "metadata": {},
   "outputs": [
    {
     "data": {
      "text/html": [
       "<div>\n",
       "<style scoped>\n",
       "    .dataframe tbody tr th:only-of-type {\n",
       "        vertical-align: middle;\n",
       "    }\n",
       "\n",
       "    .dataframe tbody tr th {\n",
       "        vertical-align: top;\n",
       "    }\n",
       "\n",
       "    .dataframe thead th {\n",
       "        text-align: right;\n",
       "    }\n",
       "</style>\n",
       "<table border=\"1\" class=\"dataframe\">\n",
       "  <thead>\n",
       "    <tr style=\"text-align: right;\">\n",
       "      <th></th>\n",
       "      <th>id</th>\n",
       "      <th>name</th>\n",
       "      <th>full_name</th>\n",
       "      <th>html_url</th>\n",
       "      <th>description</th>\n",
       "      <th>url</th>\n",
       "      <th>labels_url</th>\n",
       "      <th>created_at</th>\n",
       "      <th>updated_at</th>\n",
       "      <th>pushed_at</th>\n",
       "      <th>...</th>\n",
       "      <th>open_issues_count</th>\n",
       "      <th>license</th>\n",
       "      <th>allow_forking</th>\n",
       "      <th>topics</th>\n",
       "      <th>visibility</th>\n",
       "      <th>forks</th>\n",
       "      <th>open_issues</th>\n",
       "      <th>watchers</th>\n",
       "      <th>default_branch</th>\n",
       "      <th>score</th>\n",
       "    </tr>\n",
       "  </thead>\n",
       "  <tbody>\n",
       "    <tr>\n",
       "      <th>0</th>\n",
       "      <td>3342055</td>\n",
       "      <td>node-gyp</td>\n",
       "      <td>nodejs/node-gyp</td>\n",
       "      <td>https://github.com/nodejs/node-gyp</td>\n",
       "      <td>Node.js native addon build tool</td>\n",
       "      <td>https://api.github.com/repos/nodejs/node-gyp</td>\n",
       "      <td>https://api.github.com/repos/nodejs/node-gyp/l...</td>\n",
       "      <td>2012-02-03T05:50:50Z</td>\n",
       "      <td>2025-04-06T10:59:57Z</td>\n",
       "      <td>2025-04-02T09:09:43Z</td>\n",
       "      <td>...</td>\n",
       "      <td>152</td>\n",
       "      <td>{'key': 'mit', 'name': 'MIT License', 'spdx_id...</td>\n",
       "      <td>True</td>\n",
       "      <td>[gyp, node, node-addon, node-gyp, nodejs]</td>\n",
       "      <td>public</td>\n",
       "      <td>1822</td>\n",
       "      <td>152</td>\n",
       "      <td>10158</td>\n",
       "      <td>main</td>\n",
       "      <td>1.0</td>\n",
       "    </tr>\n",
       "    <tr>\n",
       "      <th>1</th>\n",
       "      <td>266613704</td>\n",
       "      <td>practical-python</td>\n",
       "      <td>dabeaz-course/practical-python</td>\n",
       "      <td>https://github.com/dabeaz-course/practical-python</td>\n",
       "      <td>Practical Python Programming (course by @dabeaz)</td>\n",
       "      <td>https://api.github.com/repos/dabeaz-course/pra...</td>\n",
       "      <td>https://api.github.com/repos/dabeaz-course/pra...</td>\n",
       "      <td>2020-05-24T19:50:08Z</td>\n",
       "      <td>2025-04-07T06:47:25Z</td>\n",
       "      <td>2024-08-10T03:38:37Z</td>\n",
       "      <td>...</td>\n",
       "      <td>16</td>\n",
       "      <td>{'key': 'cc-by-sa-4.0', 'name': 'Creative Comm...</td>\n",
       "      <td>True</td>\n",
       "      <td>[python, pythontutorial, tutorial]</td>\n",
       "      <td>public</td>\n",
       "      <td>6740</td>\n",
       "      <td>16</td>\n",
       "      <td>10154</td>\n",
       "      <td>master</td>\n",
       "      <td>1.0</td>\n",
       "    </tr>\n",
       "    <tr>\n",
       "      <th>2</th>\n",
       "      <td>175052225</td>\n",
       "      <td>EverydayWechat</td>\n",
       "      <td>sfyc23/EverydayWechat</td>\n",
       "      <td>https://github.com/sfyc23/EverydayWechat</td>\n",
       "      <td>微信助手：1.每日定时给好友（女友）发送定制消息。2.机器人自动回复好友。3.群助手功能（例...</td>\n",
       "      <td>https://api.github.com/repos/sfyc23/EverydayWe...</td>\n",
       "      <td>https://api.github.com/repos/sfyc23/EverydayWe...</td>\n",
       "      <td>2019-03-11T17:38:45Z</td>\n",
       "      <td>2025-04-07T08:54:49Z</td>\n",
       "      <td>2021-06-22T02:56:06Z</td>\n",
       "      <td>...</td>\n",
       "      <td>25</td>\n",
       "      <td>{'key': 'mit', 'name': 'MIT License', 'spdx_id...</td>\n",
       "      <td>True</td>\n",
       "      <td>[ai, autoreply, bot, chat, chatbot, itchat, py...</td>\n",
       "      <td>public</td>\n",
       "      <td>2316</td>\n",
       "      <td>25</td>\n",
       "      <td>10137</td>\n",
       "      <td>master</td>\n",
       "      <td>1.0</td>\n",
       "    </tr>\n",
       "  </tbody>\n",
       "</table>\n",
       "<p>3 rows × 31 columns</p>\n",
       "</div>"
      ],
      "text/plain": [
       "          id              name                       full_name  \\\n",
       "0    3342055          node-gyp                 nodejs/node-gyp   \n",
       "1  266613704  practical-python  dabeaz-course/practical-python   \n",
       "2  175052225    EverydayWechat           sfyc23/EverydayWechat   \n",
       "\n",
       "                                            html_url  \\\n",
       "0                 https://github.com/nodejs/node-gyp   \n",
       "1  https://github.com/dabeaz-course/practical-python   \n",
       "2           https://github.com/sfyc23/EverydayWechat   \n",
       "\n",
       "                                         description  \\\n",
       "0                    Node.js native addon build tool   \n",
       "1   Practical Python Programming (course by @dabeaz)   \n",
       "2  微信助手：1.每日定时给好友（女友）发送定制消息。2.机器人自动回复好友。3.群助手功能（例...   \n",
       "\n",
       "                                                 url  \\\n",
       "0       https://api.github.com/repos/nodejs/node-gyp   \n",
       "1  https://api.github.com/repos/dabeaz-course/pra...   \n",
       "2  https://api.github.com/repos/sfyc23/EverydayWe...   \n",
       "\n",
       "                                          labels_url            created_at  \\\n",
       "0  https://api.github.com/repos/nodejs/node-gyp/l...  2012-02-03T05:50:50Z   \n",
       "1  https://api.github.com/repos/dabeaz-course/pra...  2020-05-24T19:50:08Z   \n",
       "2  https://api.github.com/repos/sfyc23/EverydayWe...  2019-03-11T17:38:45Z   \n",
       "\n",
       "             updated_at             pushed_at  ...  open_issues_count  \\\n",
       "0  2025-04-06T10:59:57Z  2025-04-02T09:09:43Z  ...                152   \n",
       "1  2025-04-07T06:47:25Z  2024-08-10T03:38:37Z  ...                 16   \n",
       "2  2025-04-07T08:54:49Z  2021-06-22T02:56:06Z  ...                 25   \n",
       "\n",
       "                                             license  allow_forking  \\\n",
       "0  {'key': 'mit', 'name': 'MIT License', 'spdx_id...           True   \n",
       "1  {'key': 'cc-by-sa-4.0', 'name': 'Creative Comm...           True   \n",
       "2  {'key': 'mit', 'name': 'MIT License', 'spdx_id...           True   \n",
       "\n",
       "                                              topics  visibility  forks  \\\n",
       "0          [gyp, node, node-addon, node-gyp, nodejs]      public   1822   \n",
       "1                 [python, pythontutorial, tutorial]      public   6740   \n",
       "2  [ai, autoreply, bot, chat, chatbot, itchat, py...      public   2316   \n",
       "\n",
       "   open_issues  watchers  default_branch  score  \n",
       "0          152     10158            main    1.0  \n",
       "1           16     10154          master    1.0  \n",
       "2           25     10137          master    1.0  \n",
       "\n",
       "[3 rows x 31 columns]"
      ]
     },
     "execution_count": 7,
     "metadata": {},
     "output_type": "execute_result"
    }
   ],
   "source": [
    "df.head(3)"
   ]
  },
  {
   "cell_type": "code",
   "execution_count": 8,
   "id": "95d27bbb",
   "metadata": {},
   "outputs": [
    {
     "name": "stdout",
     "output_type": "stream",
     "text": [
      "<class 'pandas.core.frame.DataFrame'>\n",
      "RangeIndex: 1050 entries, 0 to 1049\n",
      "Data columns (total 31 columns):\n",
      " #   Column             Non-Null Count  Dtype  \n",
      "---  ------             --------------  -----  \n",
      " 0   id                 1050 non-null   int64  \n",
      " 1   name               1050 non-null   object \n",
      " 2   full_name          1050 non-null   object \n",
      " 3   html_url           1050 non-null   object \n",
      " 4   description        1038 non-null   object \n",
      " 5   url                1050 non-null   object \n",
      " 6   labels_url         1050 non-null   object \n",
      " 7   created_at         1050 non-null   object \n",
      " 8   updated_at         1050 non-null   object \n",
      " 9   pushed_at          1050 non-null   object \n",
      " 10  size               1050 non-null   int64  \n",
      " 11  stargazers_count   1050 non-null   int64  \n",
      " 12  watchers_count     1050 non-null   int64  \n",
      " 13  language           1050 non-null   object \n",
      " 14  has_issues         1050 non-null   bool   \n",
      " 15  has_projects       1050 non-null   bool   \n",
      " 16  has_downloads      1050 non-null   bool   \n",
      " 17  has_wiki           1050 non-null   bool   \n",
      " 18  has_pages          1050 non-null   bool   \n",
      " 19  has_discussions    1050 non-null   bool   \n",
      " 20  forks_count        1050 non-null   int64  \n",
      " 21  open_issues_count  1050 non-null   int64  \n",
      " 22  license            993 non-null    object \n",
      " 23  allow_forking      1050 non-null   bool   \n",
      " 24  topics             1050 non-null   object \n",
      " 25  visibility         1050 non-null   object \n",
      " 26  forks              1050 non-null   int64  \n",
      " 27  open_issues        1050 non-null   int64  \n",
      " 28  watchers           1050 non-null   int64  \n",
      " 29  default_branch     1050 non-null   object \n",
      " 30  score              1050 non-null   float64\n",
      "dtypes: bool(7), float64(1), int64(9), object(14)\n",
      "memory usage: 204.2+ KB\n"
     ]
    }
   ],
   "source": [
    "df.info()"
   ]
  },
  {
   "cell_type": "markdown",
   "id": "1f91555c",
   "metadata": {},
   "source": [
    "### analyse if repo is in English"
   ]
  },
  {
   "cell_type": "code",
   "execution_count": 12,
   "id": "2419be8b",
   "metadata": {},
   "outputs": [],
   "source": [
    "df_testi = df.head(30)"
   ]
  },
  {
   "cell_type": "code",
   "execution_count": null,
   "id": "7518d694",
   "metadata": {},
   "outputs": [],
   "source": [
    "df_testi"
   ]
  },
  {
   "cell_type": "code",
   "execution_count": 11,
   "id": "63602460",
   "metadata": {},
   "outputs": [],
   "source": [
    "def detect_language(text):\n",
    "    try:\n",
    "        return detect(text)\n",
    "    except:\n",
    "        return \"error\""
   ]
  },
  {
   "cell_type": "code",
   "execution_count": 14,
   "id": "61f603d1",
   "metadata": {},
   "outputs": [],
   "source": [
    "df['language_spoken'] = df['description'].apply(detect_language)"
   ]
  },
  {
   "cell_type": "code",
   "execution_count": 17,
   "id": "d0ddeacd",
   "metadata": {},
   "outputs": [
    {
     "data": {
      "text/plain": [
       "927"
      ]
     },
     "execution_count": 17,
     "metadata": {},
     "output_type": "execute_result"
    }
   ],
   "source": [
    "len(df[df['language_spoken'] == 'en'])"
   ]
  },
  {
   "cell_type": "markdown",
   "id": "1b9117bc",
   "metadata": {},
   "source": [
    "### analyse numeric values"
   ]
  },
  {
   "cell_type": "code",
   "execution_count": 9,
   "id": "872113b4",
   "metadata": {},
   "outputs": [
    {
     "data": {
      "text/html": [
       "<div>\n",
       "<style scoped>\n",
       "    .dataframe tbody tr th:only-of-type {\n",
       "        vertical-align: middle;\n",
       "    }\n",
       "\n",
       "    .dataframe tbody tr th {\n",
       "        vertical-align: top;\n",
       "    }\n",
       "\n",
       "    .dataframe thead th {\n",
       "        text-align: right;\n",
       "    }\n",
       "</style>\n",
       "<table border=\"1\" class=\"dataframe\">\n",
       "  <thead>\n",
       "    <tr style=\"text-align: right;\">\n",
       "      <th></th>\n",
       "      <th>id</th>\n",
       "      <th>size</th>\n",
       "      <th>stargazers_count</th>\n",
       "      <th>watchers_count</th>\n",
       "      <th>forks_count</th>\n",
       "      <th>open_issues_count</th>\n",
       "      <th>forks</th>\n",
       "      <th>open_issues</th>\n",
       "      <th>watchers</th>\n",
       "      <th>score</th>\n",
       "    </tr>\n",
       "  </thead>\n",
       "  <tbody>\n",
       "    <tr>\n",
       "      <th>count</th>\n",
       "      <td>1.050000e+03</td>\n",
       "      <td>1.050000e+03</td>\n",
       "      <td>1050.000000</td>\n",
       "      <td>1050.000000</td>\n",
       "      <td>1050.000000</td>\n",
       "      <td>1050.000000</td>\n",
       "      <td>1050.000000</td>\n",
       "      <td>1050.000000</td>\n",
       "      <td>1050.000000</td>\n",
       "      <td>1050.0</td>\n",
       "    </tr>\n",
       "    <tr>\n",
       "      <th>mean</th>\n",
       "      <td>2.826823e+08</td>\n",
       "      <td>1.310135e+05</td>\n",
       "      <td>21658.149524</td>\n",
       "      <td>21658.149524</td>\n",
       "      <td>3550.411429</td>\n",
       "      <td>374.326667</td>\n",
       "      <td>3550.411429</td>\n",
       "      <td>374.326667</td>\n",
       "      <td>21658.149524</td>\n",
       "      <td>1.0</td>\n",
       "    </tr>\n",
       "    <tr>\n",
       "      <th>std</th>\n",
       "      <td>2.786312e+08</td>\n",
       "      <td>4.969616e+05</td>\n",
       "      <td>29854.040556</td>\n",
       "      <td>29854.040556</td>\n",
       "      <td>5963.909839</td>\n",
       "      <td>1000.453865</td>\n",
       "      <td>5963.909839</td>\n",
       "      <td>1000.453865</td>\n",
       "      <td>29854.040556</td>\n",
       "      <td>0.0</td>\n",
       "    </tr>\n",
       "    <tr>\n",
       "      <th>min</th>\n",
       "      <td>2.655400e+04</td>\n",
       "      <td>7.000000e+00</td>\n",
       "      <td>7155.000000</td>\n",
       "      <td>7155.000000</td>\n",
       "      <td>108.000000</td>\n",
       "      <td>0.000000</td>\n",
       "      <td>108.000000</td>\n",
       "      <td>0.000000</td>\n",
       "      <td>7155.000000</td>\n",
       "      <td>1.0</td>\n",
       "    </tr>\n",
       "    <tr>\n",
       "      <th>25%</th>\n",
       "      <td>4.839618e+07</td>\n",
       "      <td>5.204000e+03</td>\n",
       "      <td>8801.750000</td>\n",
       "      <td>8801.750000</td>\n",
       "      <td>987.250000</td>\n",
       "      <td>55.000000</td>\n",
       "      <td>987.250000</td>\n",
       "      <td>55.000000</td>\n",
       "      <td>8801.750000</td>\n",
       "      <td>1.0</td>\n",
       "    </tr>\n",
       "    <tr>\n",
       "      <th>50%</th>\n",
       "      <td>1.609191e+08</td>\n",
       "      <td>2.378450e+04</td>\n",
       "      <td>12282.000000</td>\n",
       "      <td>12282.000000</td>\n",
       "      <td>1810.500000</td>\n",
       "      <td>137.000000</td>\n",
       "      <td>1810.500000</td>\n",
       "      <td>137.000000</td>\n",
       "      <td>12282.000000</td>\n",
       "      <td>1.0</td>\n",
       "    </tr>\n",
       "    <tr>\n",
       "      <th>75%</th>\n",
       "      <td>5.699511e+08</td>\n",
       "      <td>8.295050e+04</td>\n",
       "      <td>21991.000000</td>\n",
       "      <td>21991.000000</td>\n",
       "      <td>3420.250000</td>\n",
       "      <td>331.000000</td>\n",
       "      <td>3420.250000</td>\n",
       "      <td>331.000000</td>\n",
       "      <td>21991.000000</td>\n",
       "      <td>1.0</td>\n",
       "    </tr>\n",
       "    <tr>\n",
       "      <th>max</th>\n",
       "      <td>9.463802e+08</td>\n",
       "      <td>1.082157e+07</td>\n",
       "      <td>335129.000000</td>\n",
       "      <td>335129.000000</td>\n",
       "      <td>49161.000000</td>\n",
       "      <td>15996.000000</td>\n",
       "      <td>49161.000000</td>\n",
       "      <td>15996.000000</td>\n",
       "      <td>335129.000000</td>\n",
       "      <td>1.0</td>\n",
       "    </tr>\n",
       "  </tbody>\n",
       "</table>\n",
       "</div>"
      ],
      "text/plain": [
       "                 id          size  stargazers_count  watchers_count  \\\n",
       "count  1.050000e+03  1.050000e+03       1050.000000     1050.000000   \n",
       "mean   2.826823e+08  1.310135e+05      21658.149524    21658.149524   \n",
       "std    2.786312e+08  4.969616e+05      29854.040556    29854.040556   \n",
       "min    2.655400e+04  7.000000e+00       7155.000000     7155.000000   \n",
       "25%    4.839618e+07  5.204000e+03       8801.750000     8801.750000   \n",
       "50%    1.609191e+08  2.378450e+04      12282.000000    12282.000000   \n",
       "75%    5.699511e+08  8.295050e+04      21991.000000    21991.000000   \n",
       "max    9.463802e+08  1.082157e+07     335129.000000   335129.000000   \n",
       "\n",
       "        forks_count  open_issues_count         forks   open_issues  \\\n",
       "count   1050.000000        1050.000000   1050.000000   1050.000000   \n",
       "mean    3550.411429         374.326667   3550.411429    374.326667   \n",
       "std     5963.909839        1000.453865   5963.909839   1000.453865   \n",
       "min      108.000000           0.000000    108.000000      0.000000   \n",
       "25%      987.250000          55.000000    987.250000     55.000000   \n",
       "50%     1810.500000         137.000000   1810.500000    137.000000   \n",
       "75%     3420.250000         331.000000   3420.250000    331.000000   \n",
       "max    49161.000000       15996.000000  49161.000000  15996.000000   \n",
       "\n",
       "            watchers   score  \n",
       "count    1050.000000  1050.0  \n",
       "mean    21658.149524     1.0  \n",
       "std     29854.040556     0.0  \n",
       "min      7155.000000     1.0  \n",
       "25%      8801.750000     1.0  \n",
       "50%     12282.000000     1.0  \n",
       "75%     21991.000000     1.0  \n",
       "max    335129.000000     1.0  "
      ]
     },
     "execution_count": 9,
     "metadata": {},
     "output_type": "execute_result"
    }
   ],
   "source": [
    "df.describe()"
   ]
  },
  {
   "cell_type": "code",
   "execution_count": 55,
   "id": "aa65578c",
   "metadata": {},
   "outputs": [
    {
     "data": {
      "text/plain": [
       "stargazers_count\n",
       "335129    2\n",
       "295694    2\n",
       "239545    2\n",
       "199202    1\n",
       "199201    1\n",
       "         ..\n",
       "7187      1\n",
       "7184      1\n",
       "7173      1\n",
       "7161      1\n",
       "7155      1\n",
       "Name: count, Length: 993, dtype: int64"
      ]
     },
     "execution_count": 55,
     "metadata": {},
     "output_type": "execute_result"
    }
   ],
   "source": [
    "df['stargazers_count'].value_counts().sort_index(ascending=False)"
   ]
  },
  {
   "cell_type": "code",
   "execution_count": 82,
   "id": "bec1844d",
   "metadata": {},
   "outputs": [
    {
     "data": {
      "image/png": "[encoded data removed]",
      "text/plain": [
       "<Figure size 1600x1000 with 4 Axes>"
      ]
     },
     "metadata": {},
     "output_type": "display_data"
    }
   ],
   "source": [
    "# number of stars\n",
    "fig, ax = plt.subplots(nrows=2, ncols=2, figsize=(16,10), sharex=False, sharey=False)\n",
    "# sharex=True legt fest, ob Skala aller x-Achsen der Subplot gleich ist\n",
    "\n",
    "# data\n",
    "ax[0,0].hist(df['stargazers_count'], color='0.4', bins=100)\n",
    "ax[0,1].hist(df['stargazers_count'], color='0.6', bins=100)\n",
    "ax[1,1].axis('off') # plots anordnen\n",
    "ax[1,0].axis('off')\n",
    "\n",
    "# title\n",
    "# ax[0,0].set_title('Stars count of GitHub repositorys - limited to 100,000')\n",
    "# ax[0,1].set_title('Stars count of GitHub repositorys')\n",
    "\n",
    "# lable axis x\n",
    "ax[0,0].set_xlabel('number of stars limited to 100,000')\n",
    "ax[0,1].set_xlabel('number of stars')\n",
    "\n",
    "# lable axis y\n",
    "ax[0,0].set_ylabel('frequency')\n",
    "ax[0,1].set_ylabel('frequency')\n",
    "\n",
    "# limitation axis\n",
    "ax[0,0].set_xlim(0, 100000)\n",
    "\n",
    "fig.suptitle('Star count of GitHub repositories')\n",
    "# format of interval between plots\n",
    "plt.tight_layout()\n",
    "\n",
    "plt.show()"
   ]
  },
  {
   "cell_type": "code",
   "execution_count": 86,
   "id": "7b88b06b",
   "metadata": {},
   "outputs": [
    {
     "data": {
      "image/png": "[encoded data removed]",
      "text/plain": [
       "<Figure size 1600x1000 with 4 Axes>"
      ]
     },
     "metadata": {},
     "output_type": "display_data"
    }
   ],
   "source": [
    "# number of forks & watchers\n",
    "fig, ax = plt.subplots(nrows=2, ncols=2, figsize=(16,10), sharex=False, sharey=False)\n",
    "# sharex=True legt fest, ob Skala aller x-Achsen der Subplot gleich ist\n",
    "\n",
    "# data\n",
    "ax[0,0].hist(df['forks_count'], color='0.4', bins=100)\n",
    "ax[0,1].hist(df['watchers_count'], color='0.6', bins=100)\n",
    "ax[1,1].axis('off') # plots anordnen\n",
    "ax[1,0].axis('off')\n",
    "\n",
    "# title\n",
    "ax[0,0].set_title('Forks count of GitHub repositorys')\n",
    "ax[0,1].set_title('Watchers count of GitHub repositorys')\n",
    "\n",
    "# lable axis x\n",
    "ax[0,0].set_xlabel('number of forks')\n",
    "ax[0,1].set_xlabel('number of watchers')\n",
    "\n",
    "# lable axis y\n",
    "ax[0,0].set_ylabel('frequency')\n",
    "ax[0,1].set_ylabel('frequency')\n",
    "\n",
    "# limitation axis\n",
    "#ax[0,0].set_xlim(0, 100000)\n",
    "\n",
    "# fig.suptitle('Forks count of GitHub repositories')\n",
    "# format of interval between plots\n",
    "plt.tight_layout()\n",
    "\n",
    "plt.show()"
   ]
  },
  {
   "cell_type": "code",
   "execution_count": 30,
   "id": "a0763d73",
   "metadata": {},
   "outputs": [
    {
     "data": {
      "image/png": "[encoded data removed]",
      "text/plain": [
       "<Figure size 640x480 with 1 Axes>"
      ]
     },
     "metadata": {},
     "output_type": "display_data"
    }
   ],
   "source": [
    "plt.boxplot(df[['stargazers_count']], tick_labels=['number of stars'])\n",
    "\n",
    "plt.show()"
   ]
  }
 ],
 "metadata": {
  "kernelspec": {
   "display_name": ".venv",
   "language": "python",
   "name": "python3"
  },
  "language_info": {
   "codemirror_mode": {
    "name": "ipython",
    "version": 3
   },
   "file_extension": ".py",
   "mimetype": "text/x-python",
   "name": "python",
   "nbconvert_exporter": "python",
   "pygments_lexer": "ipython3",
   "version": "3.12.3"
  }
 },
 "nbformat": 4,
 "nbformat_minor": 5
}
