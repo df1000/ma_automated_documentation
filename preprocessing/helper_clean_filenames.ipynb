{
 "cells": [
  {
   "cell_type": "markdown",
   "id": "045a43ff",
   "metadata": {},
   "source": [
    "**Description**:  \n",
    "This code helps cleaning filenames and create a new file with the required metadata information in the following structure:  \n",
    "    {  \n",
    "        \"original_filename\":\"\",  \n",
    "        \"filename_without_timestamp\":\"\",  \n",
    "        \"timestamp\":\"\",  \n",
    "        \"repo_owner\":\"\",  \n",
    "        \"repo_name\":\"\"  \n",
    "    }  \n",
    "\n",
    "Due to inconsistencies in the repository naming, unclear names for the variables repo_owner and repo_name occured.  \n",
    "The file **data/helper/helper_repos_metadata.json** was created to provide clear metadata of each repository. The names of the orginal metadata \n",
    "were not changed but manuelly checked with automated created ones from this notebook."
   ]
  },
  {
   "cell_type": "code",
   "execution_count": null,
   "id": "3eac860f",
   "metadata": {},
   "outputs": [],
   "source": [
    "import pandas as pd # package for data manipulation\n",
    "import json # package to work with .json\n",
    "import os # package to work with operating system\n",
    "from pathlib import Path # package for path manipulation\n",
    "import re # package to work with regex pattern\n",
    "import shutil # package for path manipulation\n",
    "import zipfile # package to work with ZIP files"
   ]
  },
  {
   "cell_type": "code",
   "execution_count": 7,
   "id": "51b0df16",
   "metadata": {},
   "outputs": [],
   "source": [
    "path = Path('../data/repo_data_zip')"
   ]
  },
  {
   "cell_type": "code",
   "execution_count": 66,
   "id": "89dbb254",
   "metadata": {},
   "outputs": [],
   "source": [
    "pattern = r\"_(\\d{4}-\\d{2}-\\d{2}_\\d{2}-\\d{2}-\\d{2}).zip\""
   ]
  },
  {
   "cell_type": "code",
   "execution_count": null,
   "id": "b996201e",
   "metadata": {},
   "outputs": [],
   "source": [
    "data = []\n",
    "for file in path.iterdir(): # iterate through all files in provided path\n",
    "    if file.is_file(): # check if item is a file\n",
    "        match = re.search(pattern, file.name) # search for filename with regex pattern\n",
    "        timestamp = match.group(1) if match else None  # handle cases with no match\n",
    "        filename_without_timestamp = re.sub(pattern, '', file.name) # remove timestamp from filename\n",
    "        data.append((file.name, filename_without_timestamp, timestamp)) # append data to list"
   ]
  },
  {
   "cell_type": "code",
   "execution_count": null,
   "id": "ebe0fc67",
   "metadata": {},
   "outputs": [],
   "source": [
    "df = pd.DataFrame(data, columns= ['original_filename', 'filename_without_timestamp', 'timestamp']) # create a df"
   ]
  },
  {
   "cell_type": "code",
   "execution_count": 23,
   "id": "befb3bba",
   "metadata": {},
   "outputs": [
    {
     "data": {
      "text/plain": [
       "0                                        facebook_chisel\n",
       "1                             microsoft_Swin-Transformer\n",
       "2                                         openai_point-e\n",
       "3                                         THUDM_ChatGLM3\n",
       "4      PacktPublishing_Deep-Reinforcement-Learning-Ha...\n",
       "                             ...                        \n",
       "196                                ArchiveBox_ArchiveBox\n",
       "197                              yerfor_GeneFacePlusPlus\n",
       "198                                 myshell-ai_OpenVoice\n",
       "199                           facebookresearch_Detectron\n",
       "200                                 zylon-ai_private-gpt\n",
       "Name: filename_without_timestamp, Length: 201, dtype: object"
      ]
     },
     "execution_count": 23,
     "metadata": {},
     "output_type": "execute_result"
    }
   ],
   "source": [
    "df['filename_without_timestamp']"
   ]
  },
  {
   "cell_type": "code",
   "execution_count": null,
   "id": "e01698f5",
   "metadata": {},
   "outputs": [],
   "source": [
    "df['repo_owner'] = df['filename_without_timestamp'].apply(lambda x: x.split('_')[0]) # extract repo_owner from filename_without_timestamp"
   ]
  },
  {
   "cell_type": "code",
   "execution_count": null,
   "id": "2c578ab9",
   "metadata": {},
   "outputs": [],
   "source": [
    "df['repo_name'] = df['filename_without_timestamp'].apply(lambda x: x.split('_')[1]) # extract repo_name from filename_without_timestamp"
   ]
  },
  {
   "cell_type": "code",
   "execution_count": null,
   "id": "4fefca51",
   "metadata": {},
   "outputs": [],
   "source": [
    "# df.to_json('../data/helper/helper_repos_metadata_2.json', orient='records', indent=4)"
   ]
  },
  {
   "cell_type": "markdown",
   "id": "f2feec7f",
   "metadata": {},
   "source": [
    "### Test"
   ]
  },
  {
   "cell_type": "code",
   "execution_count": 68,
   "id": "e2a95d09",
   "metadata": {},
   "outputs": [
    {
     "data": {
      "text/plain": [
       "'ageitgey_face_recognition'"
      ]
     },
     "execution_count": 68,
     "metadata": {},
     "output_type": "execute_result"
    }
   ],
   "source": [
    "test_str = 'ageitgey_face_recognition_2025-06-07_13-25-45.zip'\n",
    "remove_timestamp = re.sub(pattern, '', test_str)\n",
    "remove_timestamp"
   ]
  },
  {
   "cell_type": "code",
   "execution_count": null,
   "id": "fa17b935",
   "metadata": {},
   "outputs": [
    {
     "data": {
      "text/plain": [
       "'ageitgey'"
      ]
     },
     "execution_count": 69,
     "metadata": {},
     "output_type": "execute_result"
    }
   ],
   "source": [
    "repo_owner = remove_timestamp.split('_')[0]\n",
    "repo_owner"
   ]
  },
  {
   "cell_type": "code",
   "execution_count": 71,
   "id": "407bc95f",
   "metadata": {},
   "outputs": [
    {
     "data": {
      "text/plain": [
       "'face'"
      ]
     },
     "execution_count": 71,
     "metadata": {},
     "output_type": "execute_result"
    }
   ],
   "source": [
    "repo_name = remove_timestamp.split('_')[1]\n",
    "repo_name"
   ]
  },
  {
   "cell_type": "code",
   "execution_count": 2,
   "id": "ad240277",
   "metadata": {},
   "outputs": [],
   "source": [
    "with open('../data/helper/helper_repos_metadata.json', 'r') as f:\n",
    "    loaded_metadata = json.load(f)"
   ]
  },
  {
   "cell_type": "code",
   "execution_count": 7,
   "id": "65e14bf1",
   "metadata": {},
   "outputs": [],
   "source": [
    "#path_to_test = 'facebook_chisel_2025-06-07_13-23-17.zip'\n",
    "path_to_test = 'cookiecutter_cookiecutter_2025-06-07_13-18-47.zip'"
   ]
  },
  {
   "cell_type": "code",
   "execution_count": 75,
   "id": "ea7352dd",
   "metadata": {},
   "outputs": [
    {
     "data": {
      "text/plain": [
       "{'original_filename': 'facebook_chisel_2025-06-07_13-23-17.zip',\n",
       " 'filename_without_timestamp': 'facebook_chisel',\n",
       " 'timestamp': '2025-06-07_13-23-17',\n",
       " 'repo_owner': 'facebook',\n",
       " 'repo_name': 'chisel'}"
      ]
     },
     "execution_count": 75,
     "metadata": {},
     "output_type": "execute_result"
    }
   ],
   "source": [
    "loaded_metadata[0]"
   ]
  },
  {
   "cell_type": "code",
   "execution_count": 8,
   "id": "eda236df",
   "metadata": {},
   "outputs": [
    {
     "name": "stdout",
     "output_type": "stream",
     "text": [
      "it fits\n"
     ]
    }
   ],
   "source": [
    "\n",
    "\n",
    "#cnt = 1\n",
    "for dictionary in loaded_metadata:\n",
    "    # if cnt >= 2:\n",
    "    #     break\n",
    "    if dictionary['original_filename'] == path_to_test:\n",
    "        print('it fits')\n",
    "\n",
    "        repo_owner = dictionary['repo_owner']\n",
    "        repo_name = dictionary['repo_name']\n",
    "\n",
    "    #cnt += 1\n"
   ]
  },
  {
   "cell_type": "code",
   "execution_count": 9,
   "id": "dd4ca142",
   "metadata": {},
   "outputs": [
    {
     "data": {
      "text/plain": [
       "'cookiecutter'"
      ]
     },
     "execution_count": 9,
     "metadata": {},
     "output_type": "execute_result"
    }
   ],
   "source": [
    "repo_name"
   ]
  }
 ],
 "metadata": {
  "kernelspec": {
   "display_name": ".venv",
   "language": "python",
   "name": "python3"
  },
  "language_info": {
   "codemirror_mode": {
    "name": "ipython",
    "version": 3
   },
   "file_extension": ".py",
   "mimetype": "text/x-python",
   "name": "python",
   "nbconvert_exporter": "python",
   "pygments_lexer": "ipython3",
   "version": "3.12.3"
  }
 },
 "nbformat": 4,
 "nbformat_minor": 5
}
