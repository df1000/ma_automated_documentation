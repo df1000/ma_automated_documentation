{
 "cells": [
  {
   "cell_type": "code",
   "execution_count": 1,
   "id": "f56f25dd",
   "metadata": {},
   "outputs": [],
   "source": [
    "import json\n",
    "import pandas as pd"
   ]
  },
  {
   "cell_type": "code",
   "execution_count": 2,
   "id": "0385ed92",
   "metadata": {},
   "outputs": [],
   "source": [
    "with open('../data/df_repos_metadata_star_0_to_22196.json', 'r') as file: # JSON file is loaded and it contents saved within a variable\n",
    "    loaded_data = json.load(file)\n",
    "\n",
    "df = pd.DataFrame(loaded_data)"
   ]
  },
  {
   "cell_type": "code",
   "execution_count": 3,
   "id": "1e81fc3c",
   "metadata": {},
   "outputs": [
    {
     "name": "stdout",
     "output_type": "stream",
     "text": [
      "<class 'pandas.core.frame.DataFrame'>\n",
      "RangeIndex: 591 entries, 0 to 590\n",
      "Data columns (total 31 columns):\n",
      " #   Column             Non-Null Count  Dtype  \n",
      "---  ------             --------------  -----  \n",
      " 0   id                 591 non-null    int64  \n",
      " 1   name               591 non-null    object \n",
      " 2   full_name          591 non-null    object \n",
      " 3   html_url           591 non-null    object \n",
      " 4   description        579 non-null    object \n",
      " 5   url                591 non-null    object \n",
      " 6   labels_url         591 non-null    object \n",
      " 7   created_at         591 non-null    object \n",
      " 8   updated_at         591 non-null    object \n",
      " 9   pushed_at          591 non-null    object \n",
      " 10  size               591 non-null    int64  \n",
      " 11  stargazers_count   591 non-null    int64  \n",
      " 12  watchers_count     591 non-null    int64  \n",
      " 13  language           591 non-null    object \n",
      " 14  has_issues         591 non-null    bool   \n",
      " 15  has_projects       591 non-null    bool   \n",
      " 16  has_downloads      591 non-null    bool   \n",
      " 17  has_wiki           591 non-null    bool   \n",
      " 18  has_pages          591 non-null    bool   \n",
      " 19  has_discussions    591 non-null    bool   \n",
      " 20  forks_count        591 non-null    int64  \n",
      " 21  open_issues_count  591 non-null    int64  \n",
      " 22  license            547 non-null    object \n",
      " 23  allow_forking      591 non-null    bool   \n",
      " 24  topics             591 non-null    object \n",
      " 25  visibility         591 non-null    object \n",
      " 26  forks              591 non-null    int64  \n",
      " 27  open_issues        591 non-null    int64  \n",
      " 28  watchers           591 non-null    int64  \n",
      " 29  default_branch     591 non-null    object \n",
      " 30  score              591 non-null    float64\n",
      "dtypes: bool(7), float64(1), int64(9), object(14)\n",
      "memory usage: 115.0+ KB\n"
     ]
    }
   ],
   "source": [
    "df.info()"
   ]
  },
  {
   "cell_type": "code",
   "execution_count": 4,
   "id": "23a79dd5",
   "metadata": {},
   "outputs": [],
   "source": [
    "with open('../data/df_repos_metadata_star_up_to_max.json', 'r') as file: # JSON file is loaded and it contents saved within a variable\n",
    "    loaded_data = json.load(file)\n",
    "\n",
    "df2 = pd.DataFrame(loaded_data)"
   ]
  },
  {
   "cell_type": "code",
   "execution_count": 6,
   "id": "d1470db4",
   "metadata": {},
   "outputs": [
    {
     "data": {
      "text/html": [
       "<div>\n",
       "<style scoped>\n",
       "    .dataframe tbody tr th:only-of-type {\n",
       "        vertical-align: middle;\n",
       "    }\n",
       "\n",
       "    .dataframe tbody tr th {\n",
       "        vertical-align: top;\n",
       "    }\n",
       "\n",
       "    .dataframe thead th {\n",
       "        text-align: right;\n",
       "    }\n",
       "</style>\n",
       "<table border=\"1\" class=\"dataframe\">\n",
       "  <thead>\n",
       "    <tr style=\"text-align: right;\">\n",
       "      <th></th>\n",
       "      <th>id</th>\n",
       "      <th>size</th>\n",
       "      <th>stargazers_count</th>\n",
       "      <th>watchers_count</th>\n",
       "      <th>forks_count</th>\n",
       "      <th>open_issues_count</th>\n",
       "      <th>forks</th>\n",
       "      <th>open_issues</th>\n",
       "      <th>watchers</th>\n",
       "      <th>score</th>\n",
       "    </tr>\n",
       "  </thead>\n",
       "  <tbody>\n",
       "    <tr>\n",
       "      <th>count</th>\n",
       "      <td>1.050000e+03</td>\n",
       "      <td>1.050000e+03</td>\n",
       "      <td>1050.000000</td>\n",
       "      <td>1050.000000</td>\n",
       "      <td>1050.000000</td>\n",
       "      <td>1050.000000</td>\n",
       "      <td>1050.000000</td>\n",
       "      <td>1050.000000</td>\n",
       "      <td>1050.000000</td>\n",
       "      <td>1050.0</td>\n",
       "    </tr>\n",
       "    <tr>\n",
       "      <th>mean</th>\n",
       "      <td>2.842129e+08</td>\n",
       "      <td>1.316390e+05</td>\n",
       "      <td>21701.457143</td>\n",
       "      <td>21701.457143</td>\n",
       "      <td>3555.066667</td>\n",
       "      <td>375.716190</td>\n",
       "      <td>3555.066667</td>\n",
       "      <td>375.716190</td>\n",
       "      <td>21701.457143</td>\n",
       "      <td>1.0</td>\n",
       "    </tr>\n",
       "    <tr>\n",
       "      <th>std</th>\n",
       "      <td>2.800213e+08</td>\n",
       "      <td>4.986652e+05</td>\n",
       "      <td>29908.569921</td>\n",
       "      <td>29908.569921</td>\n",
       "      <td>5971.414570</td>\n",
       "      <td>1003.159613</td>\n",
       "      <td>5971.414570</td>\n",
       "      <td>1003.159613</td>\n",
       "      <td>29908.569921</td>\n",
       "      <td>0.0</td>\n",
       "    </tr>\n",
       "    <tr>\n",
       "      <th>min</th>\n",
       "      <td>2.655400e+04</td>\n",
       "      <td>7.000000e+00</td>\n",
       "      <td>7193.000000</td>\n",
       "      <td>7193.000000</td>\n",
       "      <td>108.000000</td>\n",
       "      <td>0.000000</td>\n",
       "      <td>108.000000</td>\n",
       "      <td>0.000000</td>\n",
       "      <td>7193.000000</td>\n",
       "      <td>1.0</td>\n",
       "    </tr>\n",
       "    <tr>\n",
       "      <th>25%</th>\n",
       "      <td>4.880424e+07</td>\n",
       "      <td>5.378500e+03</td>\n",
       "      <td>8829.500000</td>\n",
       "      <td>8829.500000</td>\n",
       "      <td>989.000000</td>\n",
       "      <td>56.000000</td>\n",
       "      <td>989.000000</td>\n",
       "      <td>56.000000</td>\n",
       "      <td>8829.500000</td>\n",
       "      <td>1.0</td>\n",
       "    </tr>\n",
       "    <tr>\n",
       "      <th>50%</th>\n",
       "      <td>1.615837e+08</td>\n",
       "      <td>2.407950e+04</td>\n",
       "      <td>12306.500000</td>\n",
       "      <td>12306.500000</td>\n",
       "      <td>1814.000000</td>\n",
       "      <td>139.500000</td>\n",
       "      <td>1814.000000</td>\n",
       "      <td>139.500000</td>\n",
       "      <td>12306.500000</td>\n",
       "      <td>1.0</td>\n",
       "    </tr>\n",
       "    <tr>\n",
       "      <th>75%</th>\n",
       "      <td>5.702785e+08</td>\n",
       "      <td>8.391375e+04</td>\n",
       "      <td>21947.250000</td>\n",
       "      <td>21947.250000</td>\n",
       "      <td>3423.000000</td>\n",
       "      <td>331.000000</td>\n",
       "      <td>3423.000000</td>\n",
       "      <td>331.000000</td>\n",
       "      <td>21947.250000</td>\n",
       "      <td>1.0</td>\n",
       "    </tr>\n",
       "    <tr>\n",
       "      <th>max</th>\n",
       "      <td>9.548733e+08</td>\n",
       "      <td>1.087097e+07</td>\n",
       "      <td>335520.000000</td>\n",
       "      <td>335520.000000</td>\n",
       "      <td>49242.000000</td>\n",
       "      <td>16073.000000</td>\n",
       "      <td>49242.000000</td>\n",
       "      <td>16073.000000</td>\n",
       "      <td>335520.000000</td>\n",
       "      <td>1.0</td>\n",
       "    </tr>\n",
       "  </tbody>\n",
       "</table>\n",
       "</div>"
      ],
      "text/plain": [
       "                 id          size  stargazers_count  watchers_count  \\\n",
       "count  1.050000e+03  1.050000e+03       1050.000000     1050.000000   \n",
       "mean   2.842129e+08  1.316390e+05      21701.457143    21701.457143   \n",
       "std    2.800213e+08  4.986652e+05      29908.569921    29908.569921   \n",
       "min    2.655400e+04  7.000000e+00       7193.000000     7193.000000   \n",
       "25%    4.880424e+07  5.378500e+03       8829.500000     8829.500000   \n",
       "50%    1.615837e+08  2.407950e+04      12306.500000    12306.500000   \n",
       "75%    5.702785e+08  8.391375e+04      21947.250000    21947.250000   \n",
       "max    9.548733e+08  1.087097e+07     335520.000000   335520.000000   \n",
       "\n",
       "        forks_count  open_issues_count         forks   open_issues  \\\n",
       "count   1050.000000        1050.000000   1050.000000   1050.000000   \n",
       "mean    3555.066667         375.716190   3555.066667    375.716190   \n",
       "std     5971.414570        1003.159613   5971.414570   1003.159613   \n",
       "min      108.000000           0.000000    108.000000      0.000000   \n",
       "25%      989.000000          56.000000    989.000000     56.000000   \n",
       "50%     1814.000000         139.500000   1814.000000    139.500000   \n",
       "75%     3423.000000         331.000000   3423.000000    331.000000   \n",
       "max    49242.000000       16073.000000  49242.000000  16073.000000   \n",
       "\n",
       "            watchers   score  \n",
       "count    1050.000000  1050.0  \n",
       "mean    21701.457143     1.0  \n",
       "std     29908.569921     0.0  \n",
       "min      7193.000000     1.0  \n",
       "25%      8829.500000     1.0  \n",
       "50%     12306.500000     1.0  \n",
       "75%     21947.250000     1.0  \n",
       "max    335520.000000     1.0  "
      ]
     },
     "execution_count": 6,
     "metadata": {},
     "output_type": "execute_result"
    }
   ],
   "source": [
    "df2.describe()"
   ]
  },
  {
   "cell_type": "code",
   "execution_count": 10,
   "id": "704e6c29",
   "metadata": {},
   "outputs": [
    {
     "data": {
      "text/plain": [
       "263"
      ]
     },
     "execution_count": 10,
     "metadata": {},
     "output_type": "execute_result"
    }
   ],
   "source": [
    "len(df2[df2['stargazers_count'] > 21947])"
   ]
  },
  {
   "cell_type": "code",
   "execution_count": 15,
   "id": "30950340",
   "metadata": {},
   "outputs": [],
   "source": [
    "df2 = df2[df2['stargazers_count'] > 21947]"
   ]
  },
  {
   "cell_type": "code",
   "execution_count": 16,
   "id": "0093249a",
   "metadata": {},
   "outputs": [
    {
     "data": {
      "text/plain": [
       "263"
      ]
     },
     "execution_count": 16,
     "metadata": {},
     "output_type": "execute_result"
    }
   ],
   "source": [
    "len(df2)"
   ]
  },
  {
   "cell_type": "code",
   "execution_count": 17,
   "id": "c18387d0",
   "metadata": {},
   "outputs": [],
   "source": [
    "df_repos = pd.concat([df, df2])"
   ]
  },
  {
   "cell_type": "code",
   "execution_count": 18,
   "id": "8e9c21a9",
   "metadata": {},
   "outputs": [
    {
     "data": {
      "text/plain": [
       "854"
      ]
     },
     "execution_count": 18,
     "metadata": {},
     "output_type": "execute_result"
    }
   ],
   "source": [
    "len(df_repos)"
   ]
  },
  {
   "cell_type": "code",
   "execution_count": 19,
   "id": "890ea062",
   "metadata": {},
   "outputs": [],
   "source": [
    "df_cleaned = df_repos.drop_duplicates(subset=['full_name'])"
   ]
  },
  {
   "cell_type": "code",
   "execution_count": 20,
   "id": "539ad8a5",
   "metadata": {},
   "outputs": [
    {
     "data": {
      "text/plain": [
       "821"
      ]
     },
     "execution_count": 20,
     "metadata": {},
     "output_type": "execute_result"
    }
   ],
   "source": [
    "len(df_cleaned)"
   ]
  },
  {
   "cell_type": "code",
   "execution_count": 11,
   "id": "c50c44b3",
   "metadata": {},
   "outputs": [],
   "source": [
    "with open('../data/df_repos_metadata.json', 'r') as file: # JSON file is loaded and it contents saved within a variable\n",
    "    loaded_data = json.load(file)\n",
    "\n",
    "df3 = pd.DataFrame(loaded_data)"
   ]
  },
  {
   "cell_type": "code",
   "execution_count": 12,
   "id": "2d4b9853",
   "metadata": {},
   "outputs": [
    {
     "data": {
      "text/plain": [
       "821"
      ]
     },
     "execution_count": 12,
     "metadata": {},
     "output_type": "execute_result"
    }
   ],
   "source": [
    "len(df3)"
   ]
  },
  {
   "cell_type": "code",
   "execution_count": 5,
   "id": "73c96c76",
   "metadata": {},
   "outputs": [],
   "source": [
    "import re"
   ]
  },
  {
   "cell_type": "code",
   "execution_count": 15,
   "id": "53fd679e",
   "metadata": {},
   "outputs": [],
   "source": [
    "# test regex\n",
    "def remove_email(text):\n",
    "    email_pattern = '[a-zA-Z0-9_.+-]+@[a-zA-Z0-9-]+[a-zA-Z0-9-.]+'\n",
    "    cleaned_str = re.sub(email_pattern, '', text)\n",
    "  \n",
    "    return cleaned_str\n"
   ]
  },
  {
   "cell_type": "code",
   "execution_count": 17,
   "id": "7595509d",
   "metadata": {},
   "outputs": [],
   "source": [
    "input_txt = '''\n",
    "number = label.make_number_changeable(\\\"0.00\\\")\\n\\n     testis35@email.de   # This ensures thattest@email.dom the method deicmal.next_to(square)\\n        # is called on every frame\\n        label.always.next_to(brace, UP)\\n        # You could also write the following equivalent line\\n        # label.add_updater(lambda m: m.next_to(brace, UP))\\n\\n        # If the argument itself might change, you can use f_always,\\n        # for which the arguments following the initial Mobject method\\n        # should be functions returning arguments to that method.\\n \n",
    "'''"
   ]
  },
  {
   "cell_type": "code",
   "execution_count": 18,
   "id": "291d780b",
   "metadata": {},
   "outputs": [
    {
     "data": {
      "text/plain": [
       "'\\nnumber = label.make_number_changeable(\"0.00\")\\n\\n        # This ensures  the method deicmal.next_to(square)\\n        # is called on every frame\\n        label.always.next_to(brace, UP)\\n        # You could also write the following equivalent line\\n        # label.add_updater(lambda m: m.next_to(brace, UP))\\n\\n        # If the argument itself might change, you can use f_always,\\n        # for which the arguments following the initial Mobject method\\n        # should be functions returning arguments to that method.\\n \\n'"
      ]
     },
     "execution_count": 18,
     "metadata": {},
     "output_type": "execute_result"
    }
   ],
   "source": [
    "remove_email(input_txt)"
   ]
  },
  {
   "cell_type": "code",
   "execution_count": 26,
   "id": "a400a0a7",
   "metadata": {},
   "outputs": [],
   "source": [
    "def remove_emoji(text): # (source: https://github.com/souradipp76/ReadMeReady --> scripts/data.ipynb)\n",
    "    emoji_pattern = re.compile(\"[\"\n",
    "                           u\"\\U0001F600-\\U0001F64F\"  # emoticons\n",
    "                           u\"\\U0001F300-\\U0001F5FF\"  # symbols \n",
    "                           u\"\\U0001F680-\\U0001F6FF\"  # transport \n",
    "                           u\"\\U0001F1E0-\\U0001F1FF\"  # flags \n",
    "                           u\"\\U00002702-\\U000027B0\" \n",
    "                           u\"\\U000024C2-\\U0001F251\"\n",
    "                           \"]+\", flags=re.UNICODE)\n",
    "    \n",
    "    cleaned_str = emoji_pattern.sub(r'', text)\n",
    "\n",
    "    return cleaned_str"
   ]
  },
  {
   "cell_type": "code",
   "execution_count": 24,
   "id": "82de40aa",
   "metadata": {},
   "outputs": [],
   "source": [
    "input_txt = \"Hello! 😀🔥🚀🇩🇪✨Ⓜ️ Welcome to the emoji test!\""
   ]
  },
  {
   "cell_type": "code",
   "execution_count": 27,
   "id": "d02efa50",
   "metadata": {},
   "outputs": [
    {
     "data": {
      "text/plain": [
       "'Hello!  Welcome to the emoji test!'"
      ]
     },
     "execution_count": 27,
     "metadata": {},
     "output_type": "execute_result"
    }
   ],
   "source": [
    "remove_emoji(input_txt)"
   ]
  },
  {
   "cell_type": "code",
   "execution_count": 1,
   "id": "9ea80fb9",
   "metadata": {},
   "outputs": [],
   "source": [
    "import json"
   ]
  },
  {
   "cell_type": "code",
   "execution_count": 7,
   "id": "d5200f18",
   "metadata": {},
   "outputs": [],
   "source": [
    "with open(\"../05_counts.ipynb\", 'r', errors='ignore') as f:\n",
    "    data_str = f.read()"
   ]
  },
  {
   "cell_type": "code",
   "execution_count": 8,
   "id": "024c0035",
   "metadata": {},
   "outputs": [
    {
     "data": {
      "text/plain": [
       "100307"
      ]
     },
     "execution_count": 8,
     "metadata": {},
     "output_type": "execute_result"
    }
   ],
   "source": [
    "len(data_str)"
   ]
  },
  {
   "cell_type": "code",
   "execution_count": 9,
   "id": "7d3cb17f",
   "metadata": {},
   "outputs": [],
   "source": [
    "with open(\"../05_counts.ipynb\", 'r', errors='ignore') as f:\n",
    "    data = json.load(f)"
   ]
  },
  {
   "cell_type": "code",
   "execution_count": 89,
   "id": "246d9d6d",
   "metadata": {},
   "outputs": [
    {
     "name": "stdout",
     "output_type": "stream",
     "text": [
      "{'cells': [{'cell_type': 'markdown', 'id': '86f27b7c', 'metadata': {}, 'source': ['testi markdown']}, {'cell_type': 'code', 'execution_count': 26, 'id': 'f2b3243e', 'metadata': {}, 'outputs': [], 'source': ['import pandas as pd\\n', 'import json\\n', 'import numpy as np\\n', 'import matplotlib.pyplot as plt\\n', 'from matplotlib.ticker import FuncFormatter\\n', 'import seaborn as sns']}, {'cell_type': 'code', 'execution_count': 27, 'id': '876e7005', 'metadata': {}, 'outputs': [], 'source': [\"df = pd.read_json('../data/df_repos_counts.json')\"]}, {'cell_type': 'code', 'execution_count': 28, 'id': '182ae03d', 'metadata': {}, 'outputs': [{'data': {'text/html': ['<div>\\n', '<style scoped>\\n', '    .dataframe tbody tr th:only-of-type {\\n', '        vertical-align: middle;\\n', '    }\\n', '\\n', '    .dataframe tbody tr th {\\n', '        vertical-align: top;\\n', '    }\\n', '\\n', '    .dataframe thead th {\\n', '        text-align: right;\\n', '    }\\n', '</style>\\n', '<table border=\"1\" class=\"dataframe\">\\n', '  <thead>\\n', '    <tr style=\"text-align: right;\">\\n', '      <th></th>\\n', '      <th>repo_owner</th>\\n', '      <th>repo_name</th>\\n', '      <th>source_code_comments</th>\\n', '      <th>source_code</th>\\n', '      <th>source_code_cleaned_comments</th>\\n', '      <th>source_code_cleaned</th>\\n', '      <th>comments</th>\\n', '      <th>formatting</th>\\n', '      <th>sum</th>\\n', '    </tr>\\n', '  </thead>\\n', '  <tbody>\\n', '    <tr>\\n', '      <th>0</th>\\n', '      <td>XX-net</td>\\n', '      <td>XX-Net</td>\\n', '      <td>4182221</td>\\n', '      <td>2522904</td>\\n', '      <td>1598844</td>\\n', '      <td>787791</td>\\n', '      <td>1659317</td>\\n', '      <td>1735113</td>\\n', '      <td>4182221</td>\\n', '    </tr>\\n', '    <tr>\\n', '      <th>1</th>\\n', '      <td>Kaggle</td>\\n', '      <td>kaggle-api</td>\\n', '      <td>1879996</td>\\n', '      <td>1516108</td>\\n', '      <td>1254333</td>\\n', '      <td>1000092</td>\\n', '      <td>363888</td>\\n', '      <td>516016</td>\\n', '      <td>1879996</td>\\n', '    </tr>\\n', '    <tr>\\n', '      <th>2</th>\\n', '      <td>Miksus</td>\\n', '      <td>rocketry</td>\\n', '      <td>739076</td>\\n', '      <td>644444</td>\\n', '      <td>458697</td>\\n', '      <td>371387</td>\\n', '      <td>94632</td>\\n', '      <td>273057</td>\\n', '      <td>739076</td>\\n', '    </tr>\\n', '    <tr>\\n', '      <th>3</th>\\n', '      <td>oobabooga</td>\\n', '      <td>text-generation-webui</td>\\n', '      <td>851893</td>\\n', '      <td>757318</td>\\n', '      <td>520868</td>\\n', '      <td>471137</td>\\n', '      <td>94575</td>\\n', '      <td>286181</td>\\n', '      <td>851893</td>\\n', '    </tr>\\n', '    <tr>\\n', '      <th>4</th>\\n', '      <td>pywinauto</td>\\n', '      <td>pywinauto</td>\\n', '      <td>2150291</td>\\n', '      <td>424626</td>\\n', '      <td>1153603</td>\\n', '      <td>244099</td>\\n', '      <td>1725665</td>\\n', '      <td>180527</td>\\n', '      <td>2150291</td>\\n', '    </tr>\\n', '    <tr>\\n', '      <th>5</th>\\n', '      <td>exo-explore</td>\\n', '      <td>exo</td>\\n', '      <td>519575</td>\\n', '      <td>475271</td>\\n', '      <td>312663</td>\\n', '      <td>294162</td>\\n', '      <td>44304</td>\\n', '      <td>181109</td>\\n', '      <td>519575</td>\\n', '    </tr>\\n', '    <tr>\\n', '      <th>6</th>\\n', '      <td>Lcry</td>\\n', '      <td>a-sheep-assistant</td>\\n', '      <td>0</td>\\n', '      <td>0</td>\\n', '      <td>0</td>\\n', '      <td>0</td>\\n', '      <td>0</td>\\n', '      <td>0</td>\\n', '      <td>0</td>\\n', '    </tr>\\n', '    <tr>\\n', '      <th>7</th>\\n', '      <td>akamaster</td>\\n', '      <td>pytorch_resnet_cifar10</td>\\n', '      <td>15743</td>\\n', '      <td>13798</td>\\n', '      <td>11046</td>\\n', '      <td>9892</td>\\n', '      <td>1945</td>\\n', '      <td>3906</td>\\n', '      <td>15743</td>\\n', '    </tr>\\n', '    <tr>\\n', '      <th>8</th>\\n', '      <td>google</td>\\n', '      <td>yapf</td>\\n', '      <td>801866</td>\\n', '      <td>354691</td>\\n', '      <td>455325</td>\\n', '      <td>235228</td>\\n', '      <td>447175</td>\\n', '      <td>119463</td>\\n', '      <td>801866</td>\\n', '    </tr>\\n', '    <tr>\\n', '      <th>9</th>\\n', '      <td>eriklindernoren</td>\\n', '      <td>ML-From-Scratch</td>\\n', '      <td>251089</td>\\n', '      <td>190656</td>\\n', '      <td>125080</td>\\n', '      <td>68407</td>\\n', '      <td>60433</td>\\n', '      <td>122249</td>\\n', '      <td>251089</td>\\n', '    </tr>\\n', '  </tbody>\\n', '</table>\\n', '</div>'], 'text/plain': ['        repo_owner               repo_name  source_code_comments  source_code  \\\\\\n', '0           XX-net                  XX-Net               4182221      2522904   \\n', '1           Kaggle              kaggle-api               1879996      1516108   \\n', '2           Miksus                rocketry                739076       644444   \\n', '3        oobabooga   text-generation-webui                851893       757318   \\n', '4        pywinauto               pywinauto               2150291       424626   \\n', '5      exo-explore                     exo                519575       475271   \\n', '6             Lcry       a-sheep-assistant                     0            0   \\n', '7        akamaster  pytorch_resnet_cifar10                 15743        13798   \\n', '8           google                    yapf                801866       354691   \\n', '9  eriklindernoren         ML-From-Scratch                251089       190656   \\n', '\\n', '   source_code_cleaned_comments  source_code_cleaned  comments  formatting  \\\\\\n', '0                       1598844               787791   1659317     1735113   \\n', '1                       1254333              1000092    363888      516016   \\n', '2                        458697               371387     94632      273057   \\n', '3                        520868               471137     94575      286181   \\n', '4                       1153603               244099   1725665      180527   \\n', '5                        312663               294162     44304      181109   \\n', '6                             0                    0         0           0   \\n', '7                         11046                 9892      1945        3906   \\n', '8                        455325               235228    447175      119463   \\n', '9                        125080                68407     60433      122249   \\n', '\\n', '       sum  \\n', '0  4182221  \\n', '1  1879996  \\n', '2   739076  \\n', '3   851893  \\n', '4  2150291  \\n', '5   519575  \\n', '6        0  \\n', '7    15743  \\n', '8   801866  \\n', '9   251089  ']}, 'execution_count': 28, 'metadata': {}, 'output_type': 'execute_result'}], 'source': [\"df['comments'] = df['source_code_comments'] - df['source_code']\\n\", \"df['formatting'] = df['source_code'] - df['source_code_cleaned']  # characters which werde removed to get clean code with comments\\n\", \"df['sum'] = df['comments'] + df['formatting'] + df['source_code_cleaned']\\n\", '\\n', 'df.head(10)']}, {'cell_type': 'code', 'execution_count': 33, 'id': 'fe8aea36', 'metadata': {}, 'outputs': [{'data': {'image/png': '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', 'text/plain': ['<Figure size 1500x900 with 1 Axes>']}, 'metadata': {}, 'output_type': 'display_data'}], 'source': [\"colors = ['#4793AF', '#FFC470', '#DD5746']\\n\", '\\n', 'def format_yaxis(value, _): # (generated with Microsoft Copilot)\\n', '    if value >= 1_000_000:\\n', \"        return f'{int(value / 1_000_000)}M'  # f'{value / 1_000_000:.1f}M' --> if i want a decimal number\\n\", '    elif value >= 1_000:\\n', \"        return f'{int(value / 1_000)}k'  # f'{value / 1_000:.1f}k' --> if i want a decimal number\\n\", '    return str(value)\\n', '\\n', '\\n', \"with sns.axes_style('white'):\\n\", \"    sns.set_theme(style='dark')\\n\", '    fig, ax = plt.subplots(figsize=(15, 9))\\n', \"    df_2.set_index('repo_name').plot(kind='bar', stacked=True, ax=ax, width=0.8, edgecolor='none', color=colors) #edgecolor='none'\\n\", '\\n', \"    ax.set_title('Number of characters in concatenated source code files', fontdict={'fontsize': 14})\\n\", \"    ax.set_xlabel('repository name')\\n\", \"    ax.set_ylabel('character count')\\n\", '    ax.yaxis.set_major_formatter(FuncFormatter(format_yaxis))\\n', '    ax.set_xticklabels([])\\n', \"    plt.legend(loc=2, fontsize=10, facecolor='white')\\n\", '    plt.grid(visible=False)\\n', '    plt.show()\\n', '\\n', '    sns.reset_defaults()\\n', '\\n']}], 'metadata': {'kernelspec': {'display_name': '.venv', 'language': 'python', 'name': 'python3'}, 'language_info': {'codemirror_mode': {'name': 'ipython', 'version': 3}, 'file_extension': '.py', 'mimetype': 'text/x-python', 'name': 'python', 'nbconvert_exporter': 'python', 'pygments_lexer': 'ipython3', 'version': '3.12.3'}}, 'nbformat': 4, 'nbformat_minor': 5}\n"
     ]
    }
   ],
   "source": [
    "print(data)"
   ]
  },
  {
   "cell_type": "code",
   "execution_count": 10,
   "id": "ee215b15",
   "metadata": {},
   "outputs": [],
   "source": [
    "for cell in data.get('cells', []):\n",
    "    if 'outputs' in cell:\n",
    "        cell['outputs'] = None"
   ]
  },
  {
   "cell_type": "code",
   "execution_count": 91,
   "id": "a86ae032",
   "metadata": {},
   "outputs": [],
   "source": [
    "with open(\"../modified_testi.ipynb\", 'w') as f:\n",
    "    json.dump(data, f)"
   ]
  },
  {
   "cell_type": "code",
   "execution_count": 11,
   "id": "589517cd",
   "metadata": {},
   "outputs": [],
   "source": [
    "test_str = json.dumps(data)"
   ]
  },
  {
   "cell_type": "code",
   "execution_count": 12,
   "id": "c01fbb1d",
   "metadata": {},
   "outputs": [
    {
     "data": {
      "text/plain": [
       "7556"
      ]
     },
     "execution_count": 12,
     "metadata": {},
     "output_type": "execute_result"
    }
   ],
   "source": [
    "len(test_str)"
   ]
  },
  {
   "cell_type": "code",
   "execution_count": 85,
   "id": "396d1c35",
   "metadata": {},
   "outputs": [
    {
     "name": "stdout",
     "output_type": "stream",
     "text": [
      "{\"cells\": [{\"cell_type\": \"code\", \"execution_count\": 26, \"id\": \"f2b3243e\", \"metadata\": {}, \"outputs\": null, \"source\": [\"import pandas as pd\\n\", \"import json\\n\", \"import numpy as np\\n\", \"import matplotlib.pyplot as plt\\n\", \"from matplotlib.ticker import FuncFormatter\\n\", \"import seaborn as sns\"]}, {\"cell_type\": \"code\", \"execution_count\": 27, \"id\": \"876e7005\", \"metadata\": {}, \"outputs\": null, \"source\": [\"df = pd.read_json('../data/df_repos_counts.json')\"]}, {\"cell_type\": \"code\", \"execution_count\": 28, \"id\": \"182ae03d\", \"metadata\": {}, \"outputs\": null, \"source\": [\"df['comments'] = df['source_code_comments'] - df['source_code']\\n\", \"df['formatting'] = df['source_code'] - df['source_code_cleaned']  # characters which werde removed to get clean code with comments\\n\", \"df['sum'] = df['comments'] + df['formatting'] + df['source_code_cleaned']\\n\", \"\\n\", \"df.head(10)\"]}, {\"cell_type\": \"code\", \"execution_count\": 33, \"id\": \"fe8aea36\", \"metadata\": {}, \"outputs\": null, \"source\": [\"colors = ['#4793AF', '#FFC470', '#DD5746']\\n\", \"\\n\", \"def format_yaxis(value, _): # (generated with Microsoft Copilot)\\n\", \"    if value >= 1_000_000:\\n\", \"        return f'{int(value / 1_000_000)}M'  # f'{value / 1_000_000:.1f}M' --> if i want a decimal number\\n\", \"    elif value >= 1_000:\\n\", \"        return f'{int(value / 1_000)}k'  # f'{value / 1_000:.1f}k' --> if i want a decimal number\\n\", \"    return str(value)\\n\", \"\\n\", \"\\n\", \"with sns.axes_style('white'):\\n\", \"    sns.set_theme(style='dark')\\n\", \"    fig, ax = plt.subplots(figsize=(15, 9))\\n\", \"    df_2.set_index('repo_name').plot(kind='bar', stacked=True, ax=ax, width=0.8, edgecolor='none', color=colors) #edgecolor='none'\\n\", \"\\n\", \"    ax.set_title('Number of characters in concatenated source code files', fontdict={'fontsize': 14})\\n\", \"    ax.set_xlabel('repository name')\\n\", \"    ax.set_ylabel('character count')\\n\", \"    ax.yaxis.set_major_formatter(FuncFormatter(format_yaxis))\\n\", \"    ax.set_xticklabels([])\\n\", \"    plt.legend(loc=2, fontsize=10, facecolor='white')\\n\", \"    plt.grid(visible=False)\\n\", \"    plt.show()\\n\", \"\\n\", \"    sns.reset_defaults()\\n\", \"\\n\"]}], \"metadata\": {\"kernelspec\": {\"display_name\": \".venv\", \"language\": \"python\", \"name\": \"python3\"}, \"language_info\": {\"codemirror_mode\": {\"name\": \"ipython\", \"version\": 3}, \"file_extension\": \".py\", \"mimetype\": \"text/x-python\", \"name\": \"python\", \"nbconvert_exporter\": \"python\", \"pygments_lexer\": \"ipython3\", \"version\": \"3.12.3\"}}, \"nbformat\": 4, \"nbformat_minor\": 5}\n"
     ]
    }
   ],
   "source": [
    "print(test_str)"
   ]
  },
  {
   "cell_type": "code",
   "execution_count": 79,
   "id": "3255983d",
   "metadata": {},
   "outputs": [
    {
     "data": {
      "text/plain": [
       "'{\"cells\":[{\"cell_type\":\"code\",\"execution_count\":26,\"id\":\"f2b3243e\",\"metadata\":{},\"outputs\":null,\"source\":[\"importpandasaspd\\\\n\",\"importjson\\\\n\",\"importnumpyasnp\\\\n\",\"importmatplotlib.pyplotasplt\\\\n\",\"frommatplotlib.tickerimportFuncFormatter\\\\n\",\"importseabornassns\"]},{\"cell_type\":\"code\",\"execution_count\":27,\"id\":\"876e7005\",\"metadata\":{},\"outputs\":null,\"source\":[\"df=pd.read_json(\\'../data/df_repos_counts.json\\')\"]},{\"cell_type\":\"code\",\"execution_count\":28,\"id\":\"182ae03d\",\"metadata\":{},\"outputs\":null,\"source\":[\"df[\\'comments\\']=df[\\'source_code_comments\\']-df[\\'source_code\\']\\\\n\",\"df[\\'formatting\\']=df[\\'source_code\\']-df[\\'source_code_cleaned\\']#characterswhichwerderemovedtogetcleancodewithcomments\\\\n\",\"df[\\'sum\\']=df[\\'comments\\']+df[\\'formatting\\']+df[\\'source_code_cleaned\\']\\\\n\",\"\\\\n\",\"df.head(10)\"]},{\"cell_type\":\"code\",\"execution_count\":33,\"id\":\"fe8aea36\",\"metadata\":{},\"outputs\":null,\"source\":[\"colors=[\\'#4793AF\\',\\'#FFC470\\',\\'#DD5746\\']\\\\n\",\"\\\\n\",\"defformat_yaxis(value,_):#(generatedwithMicrosoftCopilot)\\\\n\",\"ifvalue>=1_000_000:\\\\n\",\"returnf\\'{int(value/1_000_000)}M\\'#f\\'{value/1_000_000:.1f}M\\'-->ifiwantadecimalnumber\\\\n\",\"elifvalue>=1_000:\\\\n\",\"returnf\\'{int(value/1_000)}k\\'#f\\'{value/1_000:.1f}k\\'-->ifiwantadecimalnumber\\\\n\",\"returnstr(value)\\\\n\",\"\\\\n\",\"\\\\n\",\"withsns.axes_style(\\'white\\'):\\\\n\",\"sns.set_theme(style=\\'dark\\')\\\\n\",\"fig,ax=plt.subplots(figsize=(15,9))\\\\n\",\"df_2.set_index(\\'repo_name\\').plot(kind=\\'bar\\',stacked=True,ax=ax,width=0.8,edgecolor=\\'none\\',color=colors)#edgecolor=\\'none\\'\\\\n\",\"\\\\n\",\"ax.set_title(\\'Numberofcharactersinconcatenatedsourcecodefiles\\',fontdict={\\'fontsize\\':14})\\\\n\",\"ax.set_xlabel(\\'repositoryname\\')\\\\n\",\"ax.set_ylabel(\\'charactercount\\')\\\\n\",\"ax.yaxis.set_major_formatter(FuncFormatter(format_yaxis))\\\\n\",\"ax.set_xticklabels([])\\\\n\",\"plt.legend(loc=2,fontsize=10,facecolor=\\'white\\')\\\\n\",\"plt.grid(visible=False)\\\\n\",\"plt.show()\\\\n\",\"\\\\n\",\"sns.reset_defaults()\\\\n\",\"\\\\n\"]}],\"metadata\":{\"kernelspec\":{\"display_name\":\".venv\",\"language\":\"python\",\"name\":\"python3\"},\"language_info\":{\"codemirror_mode\":{\"name\":\"ipython\",\"version\":3},\"file_extension\":\".py\",\"mimetype\":\"text/x-python\",\"name\":\"python\",\"nbconvert_exporter\":\"python\",\"pygments_lexer\":\"ipython3\",\"version\":\"3.12.3\"}},\"nbformat\":4,\"nbformat_minor\":5}'"
      ]
     },
     "execution_count": 79,
     "metadata": {},
     "output_type": "execute_result"
    }
   ],
   "source": [
    "test_str.replace('\\n', '').replace(' ','')"
   ]
  },
  {
   "cell_type": "code",
   "execution_count": 50,
   "id": "f46ab9d8",
   "metadata": {},
   "outputs": [
    {
     "data": {
      "text/plain": [
       "str"
      ]
     },
     "execution_count": 50,
     "metadata": {},
     "output_type": "execute_result"
    }
   ],
   "source": [
    "type(data)"
   ]
  },
  {
   "cell_type": "code",
   "execution_count": 75,
   "id": "5d968cff",
   "metadata": {},
   "outputs": [],
   "source": [
    "with open(\"../testi.ipynb\", 'r', errors='ignore') as f:\n",
    "   test_string =  f.read()"
   ]
  },
  {
   "cell_type": "code",
   "execution_count": 80,
   "id": "e8a9a443",
   "metadata": {},
   "outputs": [
    {
     "data": {
      "text/plain": [
       "'{\"cells\":[{\"cell_type\":\"code\",\"execution_count\":26,\"id\":\"f2b3243e\",\"metadata\":{},\"outputs\":[],\"source\":[\"importpandasaspd\\\\n\",\"importjson\\\\n\",\"importnumpyasnp\\\\n\",\"importmatplotlib.pyplotasplt\\\\n\",\"frommatplotlib.tickerimportFuncFormatter\\\\n\",\"importseabornassns\"]},{\"cell_type\":\"code\",\"execution_count\":27,\"id\":\"876e7005\",\"metadata\":{},\"outputs\":[],\"source\":[\"df=pd.read_json(\\'../data/df_repos_counts.json\\')\"]},{\"cell_type\":\"code\",\"execution_count\":28,\"id\":\"182ae03d\",\"metadata\":{},\"outputs\":[{\"data\":{\"text/html\":[\"<div>\\\\n\",\"<stylescoped>\\\\n\",\".dataframetbodytrth:only-of-type{\\\\n\",\"vertical-align:middle;\\\\n\",\"}\\\\n\",\"\\\\n\",\".dataframetbodytrth{\\\\n\",\"vertical-align:top;\\\\n\",\"}\\\\n\",\"\\\\n\",\".dataframetheadth{\\\\n\",\"text-align:right;\\\\n\",\"}\\\\n\",\"</style>\\\\n\",\"<tableborder=\\\\\"1\\\\\"class=\\\\\"dataframe\\\\\">\\\\n\",\"<thead>\\\\n\",\"<trstyle=\\\\\"text-align:right;\\\\\">\\\\n\",\"<th></th>\\\\n\",\"<th>repo_owner</th>\\\\n\",\"<th>repo_name</th>\\\\n\",\"<th>source_code_comments</th>\\\\n\",\"<th>source_code</th>\\\\n\",\"<th>source_code_cleaned_comments</th>\\\\n\",\"<th>source_code_cleaned</th>\\\\n\",\"<th>comments</th>\\\\n\",\"<th>formatting</th>\\\\n\",\"<th>sum</th>\\\\n\",\"</tr>\\\\n\",\"</thead>\\\\n\",\"<tbody>\\\\n\",\"<tr>\\\\n\",\"<th>0</th>\\\\n\",\"<td>XX-net</td>\\\\n\",\"<td>XX-Net</td>\\\\n\",\"<td>4182221</td>\\\\n\",\"<td>2522904</td>\\\\n\",\"<td>1598844</td>\\\\n\",\"<td>787791</td>\\\\n\",\"<td>1659317</td>\\\\n\",\"<td>1735113</td>\\\\n\",\"<td>4182221</td>\\\\n\",\"</tr>\\\\n\",\"<tr>\\\\n\",\"<th>1</th>\\\\n\",\"<td>Kaggle</td>\\\\n\",\"<td>kaggle-api</td>\\\\n\",\"<td>1879996</td>\\\\n\",\"<td>1516108</td>\\\\n\",\"<td>1254333</td>\\\\n\",\"<td>1000092</td>\\\\n\",\"<td>363888</td>\\\\n\",\"<td>516016</td>\\\\n\",\"<td>1879996</td>\\\\n\",\"</tr>\\\\n\",\"<tr>\\\\n\",\"<th>2</th>\\\\n\",\"<td>Miksus</td>\\\\n\",\"<td>rocketry</td>\\\\n\",\"<td>739076</td>\\\\n\",\"<td>644444</td>\\\\n\",\"<td>458697</td>\\\\n\",\"<td>371387</td>\\\\n\",\"<td>94632</td>\\\\n\",\"<td>273057</td>\\\\n\",\"<td>739076</td>\\\\n\",\"</tr>\\\\n\",\"<tr>\\\\n\",\"<th>3</th>\\\\n\",\"<td>oobabooga</td>\\\\n\",\"<td>text-generation-webui</td>\\\\n\",\"<td>851893</td>\\\\n\",\"<td>757318</td>\\\\n\",\"<td>520868</td>\\\\n\",\"<td>471137</td>\\\\n\",\"<td>94575</td>\\\\n\",\"<td>286181</td>\\\\n\",\"<td>851893</td>\\\\n\",\"</tr>\\\\n\",\"<tr>\\\\n\",\"<th>4</th>\\\\n\",\"<td>pywinauto</td>\\\\n\",\"<td>pywinauto</td>\\\\n\",\"<td>2150291</td>\\\\n\",\"<td>424626</td>\\\\n\",\"<td>1153603</td>\\\\n\",\"<td>244099</td>\\\\n\",\"<td>1725665</td>\\\\n\",\"<td>180527</td>\\\\n\",\"<td>2150291</td>\\\\n\",\"</tr>\\\\n\",\"<tr>\\\\n\",\"<th>5</th>\\\\n\",\"<td>exo-explore</td>\\\\n\",\"<td>exo</td>\\\\n\",\"<td>519575</td>\\\\n\",\"<td>475271</td>\\\\n\",\"<td>312663</td>\\\\n\",\"<td>294162</td>\\\\n\",\"<td>44304</td>\\\\n\",\"<td>181109</td>\\\\n\",\"<td>519575</td>\\\\n\",\"</tr>\\\\n\",\"<tr>\\\\n\",\"<th>6</th>\\\\n\",\"<td>Lcry</td>\\\\n\",\"<td>a-sheep-assistant</td>\\\\n\",\"<td>0</td>\\\\n\",\"<td>0</td>\\\\n\",\"<td>0</td>\\\\n\",\"<td>0</td>\\\\n\",\"<td>0</td>\\\\n\",\"<td>0</td>\\\\n\",\"<td>0</td>\\\\n\",\"</tr>\\\\n\",\"<tr>\\\\n\",\"<th>7</th>\\\\n\",\"<td>akamaster</td>\\\\n\",\"<td>pytorch_resnet_cifar10</td>\\\\n\",\"<td>15743</td>\\\\n\",\"<td>13798</td>\\\\n\",\"<td>11046</td>\\\\n\",\"<td>9892</td>\\\\n\",\"<td>1945</td>\\\\n\",\"<td>3906</td>\\\\n\",\"<td>15743</td>\\\\n\",\"</tr>\\\\n\",\"<tr>\\\\n\",\"<th>8</th>\\\\n\",\"<td>google</td>\\\\n\",\"<td>yapf</td>\\\\n\",\"<td>801866</td>\\\\n\",\"<td>354691</td>\\\\n\",\"<td>455325</td>\\\\n\",\"<td>235228</td>\\\\n\",\"<td>447175</td>\\\\n\",\"<td>119463</td>\\\\n\",\"<td>801866</td>\\\\n\",\"</tr>\\\\n\",\"<tr>\\\\n\",\"<th>9</th>\\\\n\",\"<td>eriklindernoren</td>\\\\n\",\"<td>ML-From-Scratch</td>\\\\n\",\"<td>251089</td>\\\\n\",\"<td>190656</td>\\\\n\",\"<td>125080</td>\\\\n\",\"<td>68407</td>\\\\n\",\"<td>60433</td>\\\\n\",\"<td>122249</td>\\\\n\",\"<td>251089</td>\\\\n\",\"</tr>\\\\n\",\"</tbody>\\\\n\",\"</table>\\\\n\",\"</div>\"],\"text/plain\":[\"repo_ownerrepo_namesource_code_commentssource_code\\\\\\\\\\\\n\",\"0XX-netXX-Net41822212522904\\\\n\",\"1Kagglekaggle-api18799961516108\\\\n\",\"2Miksusrocketry739076644444\\\\n\",\"3oobaboogatext-generation-webui851893757318\\\\n\",\"4pywinautopywinauto2150291424626\\\\n\",\"5exo-exploreexo519575475271\\\\n\",\"6Lcrya-sheep-assistant00\\\\n\",\"7akamasterpytorch_resnet_cifar101574313798\\\\n\",\"8googleyapf801866354691\\\\n\",\"9eriklindernorenML-From-Scratch251089190656\\\\n\",\"\\\\n\",\"source_code_cleaned_commentssource_code_cleanedcommentsformatting\\\\\\\\\\\\n\",\"0159884478779116593171735113\\\\n\",\"112543331000092363888516016\\\\n\",\"245869737138794632273057\\\\n\",\"352086847113794575286181\\\\n\",\"411536032440991725665180527\\\\n\",\"531266329416244304181109\\\\n\",\"60000\\\\n\",\"711046989219453906\\\\n\",\"8455325235228447175119463\\\\n\",\"91250806840760433122249\\\\n\",\"\\\\n\",\"sum\\\\n\",\"04182221\\\\n\",\"11879996\\\\n\",\"2739076\\\\n\",\"3851893\\\\n\",\"42150291\\\\n\",\"5519575\\\\n\",\"60\\\\n\",\"715743\\\\n\",\"8801866\\\\n\",\"9251089\"]},\"execution_count\":28,\"metadata\":{},\"output_type\":\"execute_result\"}],\"source\":[\"df[\\'comments\\']=df[\\'source_code_comments\\']-df[\\'source_code\\']\\\\n\",\"df[\\'formatting\\']=df[\\'source_code\\']-df[\\'source_code_cleaned\\']#characterswhichwerderemovedtogetcleancodewithcomments\\\\n\",\"df[\\'sum\\']=df[\\'comments\\']+df[\\'formatting\\']+df[\\'source_code_cleaned\\']\\\\n\",\"\\\\n\",\"df.head(10)\"]},{\"cell_type\":\"code\",\"execution_count\":33,\"id\":\"fe8aea36\",\"metadata\":{},\"outputs\":[{\"data\":{\"image/png\":\"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\",\"text/plain\":[\"<Figuresize1500x900with1Axes>\"]},\"metadata\":{},\"output_type\":\"display_data\"}],\"source\":[\"colors=[\\'#4793AF\\',\\'#FFC470\\',\\'#DD5746\\']\\\\n\",\"\\\\n\",\"defformat_yaxis(value,_):#(generatedwithMicrosoftCopilot)\\\\n\",\"ifvalue>=1_000_000:\\\\n\",\"returnf\\'{int(value/1_000_000)}M\\'#f\\'{value/1_000_000:.1f}M\\'-->ifiwantadecimalnumber\\\\n\",\"elifvalue>=1_000:\\\\n\",\"returnf\\'{int(value/1_000)}k\\'#f\\'{value/1_000:.1f}k\\'-->ifiwantadecimalnumber\\\\n\",\"returnstr(value)\\\\n\",\"\\\\n\",\"\\\\n\",\"withsns.axes_style(\\'white\\'):\\\\n\",\"sns.set_theme(style=\\'dark\\')\\\\n\",\"fig,ax=plt.subplots(figsize=(15,9))\\\\n\",\"df_2.set_index(\\'repo_name\\').plot(kind=\\'bar\\',stacked=True,ax=ax,width=0.8,edgecolor=\\'none\\',color=colors)#edgecolor=\\'none\\'\\\\n\",\"\\\\n\",\"ax.set_title(\\'Numberofcharactersinconcatenatedsourcecodefiles\\',fontdict={\\'fontsize\\':14})\\\\n\",\"ax.set_xlabel(\\'repositoryname\\')\\\\n\",\"ax.set_ylabel(\\'charactercount\\')\\\\n\",\"ax.yaxis.set_major_formatter(FuncFormatter(format_yaxis))\\\\n\",\"ax.set_xticklabels([])\\\\n\",\"plt.legend(loc=2,fontsize=10,facecolor=\\'white\\')\\\\n\",\"plt.grid(visible=False)\\\\n\",\"plt.show()\\\\n\",\"\\\\n\",\"sns.reset_defaults()\\\\n\",\"\\\\n\"]}],\"metadata\":{\"kernelspec\":{\"display_name\":\".venv\",\"language\":\"python\",\"name\":\"python3\"},\"language_info\":{\"codemirror_mode\":{\"name\":\"ipython\",\"version\":3},\"file_extension\":\".py\",\"mimetype\":\"text/x-python\",\"name\":\"python\",\"nbconvert_exporter\":\"python\",\"pygments_lexer\":\"ipython3\",\"version\":\"3.12.3\"}},\"nbformat\":4,\"nbformat_minor\":5}'"
      ]
     },
     "execution_count": 80,
     "metadata": {},
     "output_type": "execute_result"
    }
   ],
   "source": [
    "test_string.replace('\\n', '').replace(' ','')"
   ]
  },
  {
   "cell_type": "code",
   "execution_count": 45,
   "id": "e924dc68",
   "metadata": {},
   "outputs": [],
   "source": [
    "import nbformat\n",
    "\n",
    "# Load notebook\n",
    "with open(\"../testi.ipynb\") as f:\n",
    "    notebook = nbformat.read(f, as_version=4)\n",
    "    test = notebook\n",
    "\n",
    "\n",
    "\n",
    "# Remove image outputs\n",
    "for cell in notebook.cells:\n",
    "    if cell.cell_type == \"code\":\n",
    "        cell.outputs = [out for out in cell.outputs if \"image/png\" not in out.get(\"data\", {})]\n",
    "\n",
    "# Save modified notebook\n",
    "# with open(\"modified_example.ipynb\", \"w\") as f:\n",
    "#     nbformat.write(notebook, f)\n"
   ]
  }
 ],
 "metadata": {
  "kernelspec": {
   "display_name": ".venv",
   "language": "python",
   "name": "python3"
  },
  "language_info": {
   "codemirror_mode": {
    "name": "ipython",
    "version": 3
   },
   "file_extension": ".py",
   "mimetype": "text/x-python",
   "name": "python",
   "nbconvert_exporter": "python",
   "pygments_lexer": "ipython3",
   "version": "3.12.3"
  }
 },
 "nbformat": 4,
 "nbformat_minor": 5
}
