{
 "cells": [
  {
   "cell_type": "code",
   "execution_count": 1,
   "metadata": {},
   "outputs": [],
   "source": [
    "import pandas as pd\n",
    "import json\n",
    "from pathlib import Path"
   ]
  },
  {
   "cell_type": "code",
   "execution_count": 2,
   "metadata": {},
   "outputs": [],
   "source": [
    "def load_json(path):\n",
    "    with open(path, 'r') as file:\n",
    "        loaded_data = json.load(file)\n",
    "    \n",
    "    data = loaded_data['items']\n",
    "\n",
    "    return data"
   ]
  },
  {
   "cell_type": "markdown",
   "metadata": {},
   "source": [
    "### get column names from test json"
   ]
  },
  {
   "cell_type": "code",
   "execution_count": 3,
   "metadata": {},
   "outputs": [],
   "source": [
    "data = load_json(path='../data/helper/test_multiple_repos.json')\n",
    "# get keys of loaded_data as list\n",
    "keys = list(data[0].keys())"
   ]
  },
  {
   "cell_type": "markdown",
   "metadata": {},
   "source": [
    "### get paths"
   ]
  },
  {
   "cell_type": "code",
   "execution_count": 4,
   "metadata": {},
   "outputs": [],
   "source": [
    "directory_path = Path(\"../data/raw_data\")\n",
    "all_files = [file.name for file in directory_path.iterdir() if file.is_file()]"
   ]
  },
  {
   "cell_type": "code",
   "execution_count": 5,
   "metadata": {},
   "outputs": [
    {
     "data": {
      "text/plain": [
       "'22_multiple_github_repos_page_2025-04-11_14-14-43.json'"
      ]
     },
     "execution_count": 5,
     "metadata": {},
     "output_type": "execute_result"
    }
   ],
   "source": [
    "all_files[0]"
   ]
  },
  {
   "cell_type": "markdown",
   "metadata": {},
   "source": [
    "### open all jsons and load repo metadata into dataframe"
   ]
  },
  {
   "cell_type": "code",
   "execution_count": 6,
   "metadata": {},
   "outputs": [],
   "source": [
    "# create empty df with keys of loaded_data as columns\n",
    "df_raw = pd.DataFrame(columns=keys)"
   ]
  },
  {
   "cell_type": "code",
   "execution_count": 7,
   "metadata": {},
   "outputs": [
    {
     "name": "stderr",
     "output_type": "stream",
     "text": [
      "/tmp/ipykernel_54140/143648634.py:8: FutureWarning: The behavior of DataFrame concatenation with empty or all-NA entries is deprecated. In a future version, this will no longer exclude empty or all-NA columns when determining the result dtypes. To retain the old behavior, exclude the relevant entries before the concat operation.\n",
      "  df_raw = pd.concat([df_raw, df_tmp], ignore_index=True)\n"
     ]
    }
   ],
   "source": [
    "for file in all_files:\n",
    "    data = load_json(path=f'../data/raw_data/{file}')\n",
    "    #  iterate through subdictionary in data and concatenate the content of the subdictionary to df_repos\n",
    "    for repo in data:\n",
    "        # create tmp df_repo for each repo\n",
    "        df_tmp = pd.DataFrame(data=[repo], columns=keys)\n",
    "        # concatenate df_repos with df_repo\n",
    "        df_raw = pd.concat([df_raw, df_tmp], ignore_index=True)"
   ]
  },
  {
   "cell_type": "code",
   "execution_count": 8,
   "metadata": {},
   "outputs": [
    {
     "name": "stdout",
     "output_type": "stream",
     "text": [
      "<class 'pandas.core.frame.DataFrame'>\n",
      "RangeIndex: 1050 entries, 0 to 1049\n",
      "Data columns (total 81 columns):\n",
      " #   Column                       Non-Null Count  Dtype  \n",
      "---  ------                       --------------  -----  \n",
      " 0   id                           1050 non-null   object \n",
      " 1   node_id                      1050 non-null   object \n",
      " 2   name                         1050 non-null   object \n",
      " 3   full_name                    1050 non-null   object \n",
      " 4   private                      1050 non-null   object \n",
      " 5   owner                        1050 non-null   object \n",
      " 6   html_url                     1050 non-null   object \n",
      " 7   description                  1038 non-null   object \n",
      " 8   fork                         1050 non-null   object \n",
      " 9   url                          1050 non-null   object \n",
      " 10  forks_url                    1050 non-null   object \n",
      " 11  keys_url                     1050 non-null   object \n",
      " 12  collaborators_url            1050 non-null   object \n",
      " 13  teams_url                    1050 non-null   object \n",
      " 14  hooks_url                    1050 non-null   object \n",
      " 15  issue_events_url             1050 non-null   object \n",
      " 16  events_url                   1050 non-null   object \n",
      " 17  assignees_url                1050 non-null   object \n",
      " 18  branches_url                 1050 non-null   object \n",
      " 19  tags_url                     1050 non-null   object \n",
      " 20  blobs_url                    1050 non-null   object \n",
      " 21  git_tags_url                 1050 non-null   object \n",
      " 22  git_refs_url                 1050 non-null   object \n",
      " 23  trees_url                    1050 non-null   object \n",
      " 24  statuses_url                 1050 non-null   object \n",
      " 25  languages_url                1050 non-null   object \n",
      " 26  stargazers_url               1050 non-null   object \n",
      " 27  contributors_url             1050 non-null   object \n",
      " 28  subscribers_url              1050 non-null   object \n",
      " 29  subscription_url             1050 non-null   object \n",
      " 30  commits_url                  1050 non-null   object \n",
      " 31  git_commits_url              1050 non-null   object \n",
      " 32  comments_url                 1050 non-null   object \n",
      " 33  issue_comment_url            1050 non-null   object \n",
      " 34  contents_url                 1050 non-null   object \n",
      " 35  compare_url                  1050 non-null   object \n",
      " 36  merges_url                   1050 non-null   object \n",
      " 37  archive_url                  1050 non-null   object \n",
      " 38  downloads_url                1050 non-null   object \n",
      " 39  issues_url                   1050 non-null   object \n",
      " 40  pulls_url                    1050 non-null   object \n",
      " 41  milestones_url               1050 non-null   object \n",
      " 42  notifications_url            1050 non-null   object \n",
      " 43  labels_url                   1050 non-null   object \n",
      " 44  releases_url                 1050 non-null   object \n",
      " 45  deployments_url              1050 non-null   object \n",
      " 46  created_at                   1050 non-null   object \n",
      " 47  updated_at                   1050 non-null   object \n",
      " 48  pushed_at                    1050 non-null   object \n",
      " 49  git_url                      1050 non-null   object \n",
      " 50  ssh_url                      1050 non-null   object \n",
      " 51  clone_url                    1050 non-null   object \n",
      " 52  svn_url                      1050 non-null   object \n",
      " 53  homepage                     982 non-null    object \n",
      " 54  size                         1050 non-null   object \n",
      " 55  stargazers_count             1050 non-null   object \n",
      " 56  watchers_count               1050 non-null   object \n",
      " 57  language                     1050 non-null   object \n",
      " 58  has_issues                   1050 non-null   object \n",
      " 59  has_projects                 1050 non-null   object \n",
      " 60  has_downloads                1050 non-null   object \n",
      " 61  has_wiki                     1050 non-null   object \n",
      " 62  has_pages                    1050 non-null   object \n",
      " 63  has_discussions              1050 non-null   object \n",
      " 64  forks_count                  1050 non-null   object \n",
      " 65  mirror_url                   0 non-null      object \n",
      " 66  archived                     1050 non-null   object \n",
      " 67  disabled                     1050 non-null   object \n",
      " 68  open_issues_count            1050 non-null   object \n",
      " 69  license                      993 non-null    object \n",
      " 70  allow_forking                1050 non-null   object \n",
      " 71  is_template                  1050 non-null   object \n",
      " 72  web_commit_signoff_required  1050 non-null   object \n",
      " 73  topics                       1050 non-null   object \n",
      " 74  visibility                   1050 non-null   object \n",
      " 75  forks                        1050 non-null   object \n",
      " 76  open_issues                  1050 non-null   object \n",
      " 77  watchers                     1050 non-null   object \n",
      " 78  default_branch               1050 non-null   object \n",
      " 79  permissions                  1050 non-null   object \n",
      " 80  score                        1050 non-null   float64\n",
      "dtypes: float64(1), object(80)\n",
      "memory usage: 664.6+ KB\n"
     ]
    }
   ],
   "source": [
    "df_raw.info()"
   ]
  },
  {
   "cell_type": "markdown",
   "metadata": {},
   "source": [
    "### clean df_repos and remove unnecessary columns"
   ]
  },
  {
   "cell_type": "code",
   "execution_count": 9,
   "metadata": {},
   "outputs": [],
   "source": [
    "# columns which are requiered for preprocessing and fruther steps\n",
    "columns = [\n",
    "    'id', \n",
    "    'name', \n",
    "    'full_name', \n",
    "    'html_url', \n",
    "    'description', \n",
    "    'url', \n",
    "    'labels_url', \n",
    "    'created_at', \n",
    "    'updated_at', \n",
    "    'pushed_at', \n",
    "    'size', \n",
    "    'stargazers_count', \n",
    "    'watchers_count', \n",
    "    'language', \n",
    "    'has_issues', \n",
    "    'has_projects', \n",
    "    'has_downloads', \n",
    "    'has_wiki', \n",
    "    'has_pages', \n",
    "    'has_discussions', \n",
    "    'forks_count', \n",
    "    'open_issues_count', \n",
    "    'license', \n",
    "    'allow_forking', \n",
    "    'topics', \n",
    "    'visibility', \n",
    "    'forks', \n",
    "    'open_issues', \n",
    "    'watchers', \n",
    "    'default_branch', \n",
    "    'score'\n",
    "]"
   ]
  },
  {
   "cell_type": "code",
   "execution_count": 10,
   "metadata": {},
   "outputs": [],
   "source": [
    "df_repos = df_raw"
   ]
  },
  {
   "cell_type": "code",
   "execution_count": 11,
   "metadata": {},
   "outputs": [],
   "source": [
    "for k in keys:\n",
    "    if k in columns:\n",
    "        continue\n",
    "    else:\n",
    "        df_repos = df_repos.drop([k], axis=1)"
   ]
  },
  {
   "cell_type": "code",
   "execution_count": 12,
   "metadata": {},
   "outputs": [
    {
     "name": "stdout",
     "output_type": "stream",
     "text": [
      "<class 'pandas.core.frame.DataFrame'>\n",
      "RangeIndex: 1050 entries, 0 to 1049\n",
      "Data columns (total 31 columns):\n",
      " #   Column             Non-Null Count  Dtype  \n",
      "---  ------             --------------  -----  \n",
      " 0   id                 1050 non-null   object \n",
      " 1   name               1050 non-null   object \n",
      " 2   full_name          1050 non-null   object \n",
      " 3   html_url           1050 non-null   object \n",
      " 4   description        1038 non-null   object \n",
      " 5   url                1050 non-null   object \n",
      " 6   labels_url         1050 non-null   object \n",
      " 7   created_at         1050 non-null   object \n",
      " 8   updated_at         1050 non-null   object \n",
      " 9   pushed_at          1050 non-null   object \n",
      " 10  size               1050 non-null   object \n",
      " 11  stargazers_count   1050 non-null   object \n",
      " 12  watchers_count     1050 non-null   object \n",
      " 13  language           1050 non-null   object \n",
      " 14  has_issues         1050 non-null   object \n",
      " 15  has_projects       1050 non-null   object \n",
      " 16  has_downloads      1050 non-null   object \n",
      " 17  has_wiki           1050 non-null   object \n",
      " 18  has_pages          1050 non-null   object \n",
      " 19  has_discussions    1050 non-null   object \n",
      " 20  forks_count        1050 non-null   object \n",
      " 21  open_issues_count  1050 non-null   object \n",
      " 22  license            993 non-null    object \n",
      " 23  allow_forking      1050 non-null   object \n",
      " 24  topics             1050 non-null   object \n",
      " 25  visibility         1050 non-null   object \n",
      " 26  forks              1050 non-null   object \n",
      " 27  open_issues        1050 non-null   object \n",
      " 28  watchers           1050 non-null   object \n",
      " 29  default_branch     1050 non-null   object \n",
      " 30  score              1050 non-null   float64\n",
      "dtypes: float64(1), object(30)\n",
      "memory usage: 254.4+ KB\n"
     ]
    }
   ],
   "source": [
    "df_repos.info()"
   ]
  },
  {
   "cell_type": "code",
   "execution_count": 13,
   "metadata": {},
   "outputs": [
    {
     "data": {
      "text/html": [
       "<div>\n",
       "<style scoped>\n",
       "    .dataframe tbody tr th:only-of-type {\n",
       "        vertical-align: middle;\n",
       "    }\n",
       "\n",
       "    .dataframe tbody tr th {\n",
       "        vertical-align: top;\n",
       "    }\n",
       "\n",
       "    .dataframe thead th {\n",
       "        text-align: right;\n",
       "    }\n",
       "</style>\n",
       "<table border=\"1\" class=\"dataframe\">\n",
       "  <thead>\n",
       "    <tr style=\"text-align: right;\">\n",
       "      <th></th>\n",
       "      <th>id</th>\n",
       "      <th>name</th>\n",
       "      <th>full_name</th>\n",
       "      <th>html_url</th>\n",
       "      <th>description</th>\n",
       "      <th>url</th>\n",
       "      <th>labels_url</th>\n",
       "      <th>created_at</th>\n",
       "      <th>updated_at</th>\n",
       "      <th>pushed_at</th>\n",
       "      <th>...</th>\n",
       "      <th>open_issues_count</th>\n",
       "      <th>license</th>\n",
       "      <th>allow_forking</th>\n",
       "      <th>topics</th>\n",
       "      <th>visibility</th>\n",
       "      <th>forks</th>\n",
       "      <th>open_issues</th>\n",
       "      <th>watchers</th>\n",
       "      <th>default_branch</th>\n",
       "      <th>score</th>\n",
       "    </tr>\n",
       "  </thead>\n",
       "  <tbody>\n",
       "    <tr>\n",
       "      <th>0</th>\n",
       "      <td>266613704</td>\n",
       "      <td>practical-python</td>\n",
       "      <td>dabeaz-course/practical-python</td>\n",
       "      <td>https://github.com/dabeaz-course/practical-python</td>\n",
       "      <td>Practical Python Programming (course by @dabeaz)</td>\n",
       "      <td>https://api.github.com/repos/dabeaz-course/pra...</td>\n",
       "      <td>https://api.github.com/repos/dabeaz-course/pra...</td>\n",
       "      <td>2020-05-24T19:50:08Z</td>\n",
       "      <td>2025-04-10T20:38:51Z</td>\n",
       "      <td>2024-08-10T03:38:37Z</td>\n",
       "      <td>...</td>\n",
       "      <td>16</td>\n",
       "      <td>{'key': 'cc-by-sa-4.0', 'name': 'Creative Comm...</td>\n",
       "      <td>True</td>\n",
       "      <td>[python, pythontutorial, tutorial]</td>\n",
       "      <td>public</td>\n",
       "      <td>6748</td>\n",
       "      <td>16</td>\n",
       "      <td>10155</td>\n",
       "      <td>master</td>\n",
       "      <td>1.0</td>\n",
       "    </tr>\n",
       "  </tbody>\n",
       "</table>\n",
       "<p>1 rows × 31 columns</p>\n",
       "</div>"
      ],
      "text/plain": [
       "          id              name                       full_name  \\\n",
       "0  266613704  practical-python  dabeaz-course/practical-python   \n",
       "\n",
       "                                            html_url  \\\n",
       "0  https://github.com/dabeaz-course/practical-python   \n",
       "\n",
       "                                        description  \\\n",
       "0  Practical Python Programming (course by @dabeaz)   \n",
       "\n",
       "                                                 url  \\\n",
       "0  https://api.github.com/repos/dabeaz-course/pra...   \n",
       "\n",
       "                                          labels_url            created_at  \\\n",
       "0  https://api.github.com/repos/dabeaz-course/pra...  2020-05-24T19:50:08Z   \n",
       "\n",
       "             updated_at             pushed_at  ... open_issues_count  \\\n",
       "0  2025-04-10T20:38:51Z  2024-08-10T03:38:37Z  ...                16   \n",
       "\n",
       "                                             license allow_forking  \\\n",
       "0  {'key': 'cc-by-sa-4.0', 'name': 'Creative Comm...          True   \n",
       "\n",
       "                               topics visibility forks open_issues watchers  \\\n",
       "0  [python, pythontutorial, tutorial]     public  6748          16    10155   \n",
       "\n",
       "  default_branch score  \n",
       "0         master   1.0  \n",
       "\n",
       "[1 rows x 31 columns]"
      ]
     },
     "execution_count": 13,
     "metadata": {},
     "output_type": "execute_result"
    }
   ],
   "source": [
    "df_repos.head(1)"
   ]
  },
  {
   "cell_type": "markdown",
   "metadata": {},
   "source": [
    "### save df_repos in json file"
   ]
  },
  {
   "cell_type": "code",
   "execution_count": 14,
   "metadata": {},
   "outputs": [],
   "source": [
    "tmp_json = df_repos.to_json(orient='records', lines=False, force_ascii=False)"
   ]
  },
  {
   "cell_type": "code",
   "execution_count": 15,
   "metadata": {},
   "outputs": [],
   "source": [
    "with open('../data/helper/df_repos_metadata_stars_range_0_300k'\n",
    "'.json', 'w') as file:\n",
    "    file.write(tmp_json)"
   ]
  },
  {
   "cell_type": "markdown",
   "metadata": {},
   "source": [
    "### load json data for further analysis (test)"
   ]
  },
  {
   "cell_type": "code",
   "execution_count": 18,
   "metadata": {},
   "outputs": [],
   "source": [
    "with open('../data/helper/df_repos_metadata_stars_range_0_300k.json', 'r') as file:\n",
    "    loaded_data = json.load(file)"
   ]
  },
  {
   "cell_type": "code",
   "execution_count": 19,
   "metadata": {},
   "outputs": [],
   "source": [
    "test_df = pd.DataFrame(data=loaded_data)"
   ]
  },
  {
   "cell_type": "code",
   "execution_count": 20,
   "metadata": {},
   "outputs": [
    {
     "data": {
      "text/html": [
       "<div>\n",
       "<style scoped>\n",
       "    .dataframe tbody tr th:only-of-type {\n",
       "        vertical-align: middle;\n",
       "    }\n",
       "\n",
       "    .dataframe tbody tr th {\n",
       "        vertical-align: top;\n",
       "    }\n",
       "\n",
       "    .dataframe thead th {\n",
       "        text-align: right;\n",
       "    }\n",
       "</style>\n",
       "<table border=\"1\" class=\"dataframe\">\n",
       "  <thead>\n",
       "    <tr style=\"text-align: right;\">\n",
       "      <th></th>\n",
       "      <th>id</th>\n",
       "      <th>name</th>\n",
       "      <th>full_name</th>\n",
       "      <th>html_url</th>\n",
       "      <th>description</th>\n",
       "      <th>url</th>\n",
       "      <th>labels_url</th>\n",
       "      <th>created_at</th>\n",
       "      <th>updated_at</th>\n",
       "      <th>pushed_at</th>\n",
       "      <th>...</th>\n",
       "      <th>open_issues_count</th>\n",
       "      <th>license</th>\n",
       "      <th>allow_forking</th>\n",
       "      <th>topics</th>\n",
       "      <th>visibility</th>\n",
       "      <th>forks</th>\n",
       "      <th>open_issues</th>\n",
       "      <th>watchers</th>\n",
       "      <th>default_branch</th>\n",
       "      <th>score</th>\n",
       "    </tr>\n",
       "  </thead>\n",
       "  <tbody>\n",
       "    <tr>\n",
       "      <th>0</th>\n",
       "      <td>266613704</td>\n",
       "      <td>practical-python</td>\n",
       "      <td>dabeaz-course/practical-python</td>\n",
       "      <td>https://github.com/dabeaz-course/practical-python</td>\n",
       "      <td>Practical Python Programming (course by @dabeaz)</td>\n",
       "      <td>https://api.github.com/repos/dabeaz-course/pra...</td>\n",
       "      <td>https://api.github.com/repos/dabeaz-course/pra...</td>\n",
       "      <td>2020-05-24T19:50:08Z</td>\n",
       "      <td>2025-04-10T20:38:51Z</td>\n",
       "      <td>2024-08-10T03:38:37Z</td>\n",
       "      <td>...</td>\n",
       "      <td>16</td>\n",
       "      <td>{'key': 'cc-by-sa-4.0', 'name': 'Creative Comm...</td>\n",
       "      <td>True</td>\n",
       "      <td>[python, pythontutorial, tutorial]</td>\n",
       "      <td>public</td>\n",
       "      <td>6748</td>\n",
       "      <td>16</td>\n",
       "      <td>10155</td>\n",
       "      <td>master</td>\n",
       "      <td>1.0</td>\n",
       "    </tr>\n",
       "  </tbody>\n",
       "</table>\n",
       "<p>1 rows × 31 columns</p>\n",
       "</div>"
      ],
      "text/plain": [
       "          id              name                       full_name  \\\n",
       "0  266613704  practical-python  dabeaz-course/practical-python   \n",
       "\n",
       "                                            html_url  \\\n",
       "0  https://github.com/dabeaz-course/practical-python   \n",
       "\n",
       "                                        description  \\\n",
       "0  Practical Python Programming (course by @dabeaz)   \n",
       "\n",
       "                                                 url  \\\n",
       "0  https://api.github.com/repos/dabeaz-course/pra...   \n",
       "\n",
       "                                          labels_url            created_at  \\\n",
       "0  https://api.github.com/repos/dabeaz-course/pra...  2020-05-24T19:50:08Z   \n",
       "\n",
       "             updated_at             pushed_at  ...  open_issues_count  \\\n",
       "0  2025-04-10T20:38:51Z  2024-08-10T03:38:37Z  ...                 16   \n",
       "\n",
       "                                             license  allow_forking  \\\n",
       "0  {'key': 'cc-by-sa-4.0', 'name': 'Creative Comm...           True   \n",
       "\n",
       "                               topics  visibility  forks  open_issues  \\\n",
       "0  [python, pythontutorial, tutorial]      public   6748           16   \n",
       "\n",
       "   watchers  default_branch  score  \n",
       "0     10155          master    1.0  \n",
       "\n",
       "[1 rows x 31 columns]"
      ]
     },
     "execution_count": 20,
     "metadata": {},
     "output_type": "execute_result"
    }
   ],
   "source": [
    "test_df.head(1)"
   ]
  }
 ],
 "metadata": {
  "kernelspec": {
   "display_name": ".venv",
   "language": "python",
   "name": "python3"
  },
  "language_info": {
   "codemirror_mode": {
    "name": "ipython",
    "version": 3
   },
   "file_extension": ".py",
   "mimetype": "text/x-python",
   "name": "python",
   "nbconvert_exporter": "python",
   "pygments_lexer": "ipython3",
   "version": "3.12.3"
  }
 },
 "nbformat": 4,
 "nbformat_minor": 2
}
