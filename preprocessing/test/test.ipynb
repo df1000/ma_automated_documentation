{
 "cells": [
  {
   "cell_type": "code",
   "execution_count": 2,
   "id": "32278477",
   "metadata": {},
   "outputs": [],
   "source": [
    "import os"
   ]
  },
  {
   "cell_type": "code",
   "execution_count": 6,
   "id": "1d3a5aa7",
   "metadata": {},
   "outputs": [],
   "source": [
    "repo_path_unzip = '../tokenization/'"
   ]
  },
  {
   "cell_type": "code",
   "execution_count": 17,
   "id": "27e95beb",
   "metadata": {},
   "outputs": [],
   "source": [
    "check_readme = False"
   ]
  },
  {
   "cell_type": "code",
   "execution_count": null,
   "id": "41d9c7cd",
   "metadata": {},
   "outputs": [],
   "source": []
  },
  {
   "cell_type": "code",
   "execution_count": 26,
   "id": "9e37a60a",
   "metadata": {},
   "outputs": [
    {
     "name": "stdout",
     "output_type": "stream",
     "text": [
      "../tokenization/readme.md\n"
     ]
    },
    {
     "data": {
      "text/plain": [
       "{'readme': 'richtig'}"
      ]
     },
     "execution_count": 26,
     "metadata": {},
     "output_type": "execute_result"
    }
   ],
   "source": [
    "check_readme = False\n",
    "\n",
    "tmp_json = {\n",
    "    'readme': None\n",
    "}\n",
    "\n",
    "for root, dirs, files in os.walk(repo_path_unzip, topdown=True):\n",
    "    \n",
    "    for file in files:\n",
    "        file_path = os.path.join(root, file)\n",
    "        if check_readme is False and file.lower() in ('readme.md', 'readme.txt', 'readme'):\n",
    "            print(file_path)\n",
    "            with open(file_path, 'r') as f:\n",
    "                loaded_data = f.read()\n",
    "            \n",
    "            tmp_json['readme'] = loaded_data\n",
    "            check_readme = True\n",
    "\n",
    "tmp_json"
   ]
  },
  {
   "cell_type": "code",
   "execution_count": 20,
   "id": "6cd51a09",
   "metadata": {},
   "outputs": [
    {
     "data": {
      "text/plain": [
       "{'readme': ''}"
      ]
     },
     "execution_count": 20,
     "metadata": {},
     "output_type": "execute_result"
    }
   ],
   "source": [
    "tmp_json"
   ]
  }
 ],
 "metadata": {
  "kernelspec": {
   "display_name": ".venv",
   "language": "python",
   "name": "python3"
  },
  "language_info": {
   "codemirror_mode": {
    "name": "ipython",
    "version": 3
   },
   "file_extension": ".py",
   "mimetype": "text/x-python",
   "name": "python",
   "nbconvert_exporter": "python",
   "pygments_lexer": "ipython3",
   "version": "3.12.3"
  }
 },
 "nbformat": 4,
 "nbformat_minor": 5
}
